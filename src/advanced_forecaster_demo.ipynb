{
 "cells": [
  {
   "cell_type": "code",
   "execution_count": 1,
   "id": "2d0818d6",
   "metadata": {},
   "outputs": [
    {
     "name": "stderr",
     "output_type": "stream",
     "text": [
      "/local/home/dpaleka/miniconda3/envs/consistency/lib/python3.11/site-packages/tqdm/auto.py:21: TqdmWarning: IProgress not found. Please update jupyter and ipywidgets. See https://ipywidgets.readthedocs.io/en/stable/user_install.html\n",
      "  from .autonotebook import tqdm as notebook_tqdm\n",
      "/local/home/dpaleka/miniconda3/envs/consistency/lib/python3.11/site-packages/transformers/utils/hub.py:124: FutureWarning: Using `TRANSFORMERS_CACHE` is deprecated and will be removed in v5 of Transformers. Use `HF_HOME` instead.\n",
      "  warnings.warn(\n",
      "None of PyTorch, TensorFlow >= 2.0, or Flax have been found. Models won't be available and only tokenizers, configuration and file/data utilities can be used.\n"
     ]
    }
   ],
   "source": [
    "import sys\n",
    "from common.path_utils import get_src_path, get_data_path\n",
    "sys.path.append(str(get_src_path()))\n",
    "\n",
    "\n",
    "from common.datatypes import ForecastingQuestion_stripped, ForecastingQuestion\n",
    "import json\n",
    "\n",
    "# llm_forecasting imports\n",
    "from forecasters.llm_forecasting.prompts.prompts import PROMPT_DICT\n",
    "from forecasters.llm_forecasting.utils.time_utils import get_todays_date, subtract_days_from_date\n",
    "from forecasters.llm_forecasting import ranking, summarize, ensemble\n",
    "\n"
   ]
  },
  {
   "cell_type": "markdown",
   "id": "5ef6b36e",
   "metadata": {},
   "source": [
    "### Load Data"
   ]
  },
  {
   "cell_type": "code",
   "execution_count": 2,
   "id": "dc3bbc55",
   "metadata": {},
   "outputs": [],
   "source": [
    "data = []\n",
    "with open(get_data_path() / \"fq/real/questions_cleaned_formatted.jsonl\", \"r\") as file:\n",
    "    for line in file:\n",
    "        data.append(json.loads(line))"
   ]
  },
  {
   "cell_type": "code",
   "execution_count": 3,
   "id": "32dd0594",
   "metadata": {},
   "outputs": [],
   "source": [
    "sample_question = data[0]"
   ]
  },
  {
   "cell_type": "code",
   "execution_count": 4,
   "id": "f00a3bca",
   "metadata": {},
   "outputs": [],
   "source": [
    "fq = ForecastingQuestion(**sample_question)"
   ]
  },
  {
   "cell_type": "markdown",
   "id": "3f3f732a",
   "metadata": {},
   "source": [
    "### Retrieval"
   ]
  },
  {
   "cell_type": "code",
   "execution_count": 5,
   "id": "630fe7b4",
   "metadata": {},
   "outputs": [],
   "source": [
    "RETRIEVAL_CONFIG = {\n",
    "    \"NUM_SEARCH_QUERY_KEYWORDS\": 3,\n",
    "    \"MAX_WORDS_NEWSCATCHER\": 5,\n",
    "    \"MAX_WORDS_GNEWS\": 8,\n",
    "    \"SEARCH_QUERY_MODEL_NAME\": \"gpt-4-1106-preview\",\n",
    "    \"SEARCH_QUERY_TEMPERATURE\": 0.0,\n",
    "    \"SEARCH_QUERY_PROMPT_TEMPLATES\": [\n",
    "        PROMPT_DICT[\"search_query\"][\"0\"],\n",
    "        PROMPT_DICT[\"search_query\"][\"1\"],\n",
    "    ],\n",
    "    \"NUM_ARTICLES_PER_QUERY\": 5,\n",
    "    \"SUMMARIZATION_MODEL_NAME\": \"gpt-3.5-turbo-1106\",\n",
    "    \"SUMMARIZATION_TEMPERATURE\": 0.2,\n",
    "    \"SUMMARIZATION_PROMPT_TEMPLATE\": PROMPT_DICT[\"summarization\"][\"9\"],\n",
    "    \"NUM_SUMMARIES_THRESHOLD\": 10,\n",
    "    \"PRE_FILTER_WITH_EMBEDDING\": True,\n",
    "    \"PRE_FILTER_WITH_EMBEDDING_THRESHOLD\": 0.32,\n",
    "    \"RANKING_MODEL_NAME\": \"gpt-3.5-turbo-1106\",\n",
    "    \"RANKING_TEMPERATURE\": 0.0,\n",
    "    \"RANKING_PROMPT_TEMPLATE\": PROMPT_DICT[\"ranking\"][\"0\"],\n",
    "    \"RANKING_RELEVANCE_THRESHOLD\": 4,\n",
    "    \"RANKING_COSINE_SIMILARITY_THRESHOLD\": 0.5,\n",
    "    \"SORT_BY\": \"date\",\n",
    "    \"RANKING_METHOD\": \"llm-rating\",\n",
    "    \"RANKING_METHOD_LLM\": \"title_250_tokens\",\n",
    "    \"NUM_SUMMARIES_THRESHOLD\": 20,\n",
    "    \"EXTRACT_BACKGROUND_URLS\": True,\n",
    "}"
   ]
  },
  {
   "cell_type": "code",
   "execution_count": 6,
   "id": "e3a27162",
   "metadata": {},
   "outputs": [],
   "source": [
    "question = fq.title\n",
    "background_info = fq.metadata[\"background_info\"]\n",
    "resolution_criteria = fq.body # resolution criteria and other info is in |body|\n",
    "\n",
    "today_date = get_todays_date()\n",
    "# If open date is set in data structure, change beginning of retrieval to question open date.\n",
    "# Retrieve from [today's date - 1 month, today's date].\n",
    "retrieval_dates = (\n",
    "    subtract_days_from_date(today_date, 30),\n",
    "    today_date,\n",
    ")"
   ]
  },
  {
   "cell_type": "code",
   "execution_count": 7,
   "id": "6c7aa254",
   "metadata": {},
   "outputs": [
    {
     "name": "stdout",
     "output_type": "stream",
     "text": [
      "An error occurred while fetching the article: Article `download()` failed with Website protected with PerimeterX, url: None on URL https://news.google.com/rss/articles/CBMiU2h0dHBzOi8vd3d3Lm15c2FuYW50b25pby5jb20vYnVzaW5lc3MvYXJ0aWNsZS9zcGFjZXgtaHVtYW4tc3BhY2VmbGlnaHQtMTk0MzA2OTUucGhw0gEA?oc=5&hl=en-US&gl=US&ceid=US:en\n"
     ]
    }
   ],
   "source": [
    "(\n",
    "    ranked_articles,\n",
    "    all_articles,\n",
    "    search_queries_list_gnews,\n",
    "    search_queries_list_nc,\n",
    ") = await ranking.retrieve_summarize_and_rank_articles(\n",
    "    question,\n",
    "    background_info,\n",
    "    resolution_criteria,\n",
    "    retrieval_dates,\n",
    "    urls=[],\n",
    "    config=RETRIEVAL_CONFIG,\n",
    "    return_intermediates=True,\n",
    ")"
   ]
  },
  {
   "cell_type": "code",
   "execution_count": 10,
   "id": "15ef96b4",
   "metadata": {},
   "outputs": [
    {
     "name": "stdout",
     "output_type": "stream",
     "text": [
      "---\n",
      "ARTICLES\n",
      "[1] SpaceX making progress on Starship in-space refueling technologies (published on 2024-04-27)\n",
      "Summary: NASA says SpaceX is on track to demonstrate in-space refueling of Starship next year, a critical technology for returning humans to the lunar surface. The next major milestone is a demonstration planned for 2025 where two Starships will dock in orbit, with one transferring propellants to the other. Propellant transfer technology is essential to SpaceX’s plans for Starship missions beyond low Earth orbit, including the Human Landing System (HLS) version of Starship that will be used to land astronauts on the moon starting with the Artemis 3 mission, currently scheduled for no earlier than September 2026. Elon Musk has noted that if SpaceX \"gets lucky and things go according to plan\", a manned flight could launch in the 2024 window with a landing on Mars in 2025.\n",
      "\n",
      "[2] To the Stars: The Making of a Multiplanetary Species with SpaceX. (published on 2024-04-22)\n",
      "Summary: SpaceX is on a mission to make life multiplanetary, with a focus on Mars. Elon Musk outlined the company's commitment to building the necessary technologies for interplanetary exploration, including Falcon rockets, Dragon spacecraft, Starlink satellites, and the revolutionary Starship. The goal is to establish a civilization on Mars, with plans to send around a million people and several million tonnes of materials to the red planet. SpaceX aims to launch a manned flight to Mars in the 2024 window, with a potential landing in 2025. The company's aggressive timeline sets it apart from previous proposals for Mars exploration.\n",
      "\n",
      "[3] Starship Faces Performance Shortfall for Lunar Missions (published on 2024-04-20)\n",
      "Summary: The timeline for American astronauts to return to the Moon has been repeatedly pushed back, with the largest source of uncertainty being SpaceX’s Starship Human Landing System (HLS). Elon Musk recently disclosed a 50% underperformance issue with the current iteration of the vehicle, which could have grave implications for its ability to complete a lunar mission. However, SpaceX is already designing upgraded versions of Starship with increased payload capacity, which could potentially restore its intended capabilities. If successful, this could pave the way for SpaceX to land people on Mars before 2030, aligning with their ambitious plan for interplanetary travel.\n",
      "\n",
      "[4] Humans to Mars: What’s the holdup? – part II (published on 2024-04-17)\n",
      "Summary: SpaceX's plan to send people to Mars is ambitious, with a potential manned flight launching in the 2024 window and a landing on Mars in 2025. The system relies on heavily reusable launch boosters and in-situ fuel generation on Mars for return journeys. While the timeline is not set in stone, subsequent launch windows occur at a roughly 2-year cadence. This plan is notable for aggressively compressing the timeline compared to previous proposals. Given the ambitious nature of the plan and the potential for delays,  ...\n"
     ]
    }
   ],
   "source": [
    "all_summaries = summarize.concat_summaries(\n",
    "    ranked_articles[: RETRIEVAL_CONFIG[\"NUM_SUMMARIES_THRESHOLD\"]]\n",
    ")\n",
    "\n",
    "print(all_summaries[:3000], \"...\")"
   ]
  },
  {
   "cell_type": "markdown",
   "id": "89e4b793",
   "metadata": {},
   "source": [
    "### Reasoning"
   ]
  },
  {
   "cell_type": "code",
   "execution_count": 11,
   "id": "42e11b9c",
   "metadata": {},
   "outputs": [],
   "source": [
    "REASONING_CONFIG = {\n",
    "    \"BASE_REASONING_MODEL_NAMES\": [\"gpt-4-1106-preview\", \"gpt-4-1106-preview\"],\n",
    "    \"BASE_REASONING_TEMPERATURE\": 1.0,\n",
    "    \"BASE_REASONING_PROMPT_TEMPLATES\": [\n",
    "        [\n",
    "            PROMPT_DICT[\"binary\"][\"scratch_pad\"][\"1\"],\n",
    "            PROMPT_DICT[\"binary\"][\"scratch_pad\"][\"2\"],\n",
    "        ],\n",
    "        [\n",
    "            PROMPT_DICT[\"binary\"][\"scratch_pad\"][\"new_3\"],\n",
    "            PROMPT_DICT[\"binary\"][\"scratch_pad\"][\"new_6\"],\n",
    "        ],\n",
    "    ],\n",
    "    \"AGGREGATION_METHOD\": \"meta\",\n",
    "    \"AGGREGATION_PROMPT_TEMPLATE\": PROMPT_DICT[\"meta_reasoning\"][\"0\"],\n",
    "    \"AGGREGATION_TEMPERATURE\": 0.2,\n",
    "    \"AGGREGATION_MODEL_NAME\": \"gpt-4\",\n",
    "    \"AGGREGATION_WEIGTHTS\": None,\n",
    "}"
   ]
  },
  {
   "cell_type": "code",
   "execution_count": 12,
   "id": "55883aae",
   "metadata": {},
   "outputs": [],
   "source": [
    "close_date = \"N/A\"  # data doesn't have explicit close date, so set to N/A\n",
    "today_to_close_date = [today_date, close_date]\n",
    "\n",
    "ensemble_dict = await ensemble.meta_reason(\n",
    "    question=question,\n",
    "    background_info=background_info,\n",
    "    resolution_criteria=resolution_criteria,\n",
    "    today_to_close_date_range=today_to_close_date,\n",
    "    retrieved_info=all_summaries,\n",
    "    reasoning_prompt_templates=REASONING_CONFIG[\"BASE_REASONING_PROMPT_TEMPLATES\"],\n",
    "    base_model_names=REASONING_CONFIG[\"BASE_REASONING_MODEL_NAMES\"],\n",
    "    base_temperature=REASONING_CONFIG[\"BASE_REASONING_TEMPERATURE\"],\n",
    "    aggregation_method=REASONING_CONFIG[\"AGGREGATION_METHOD\"],\n",
    "    weights=REASONING_CONFIG[\"AGGREGATION_WEIGTHTS\"],\n",
    "    meta_model_name=REASONING_CONFIG[\"AGGREGATION_MODEL_NAME\"],\n",
    "    meta_prompt_template=REASONING_CONFIG[\"AGGREGATION_PROMPT_TEMPLATE\"],\n",
    "    meta_temperature=REASONING_CONFIG[\"AGGREGATION_TEMPERATURE\"],\n",
    ")"
   ]
  },
  {
   "cell_type": "code",
   "execution_count": 13,
   "id": "9c5611e4",
   "metadata": {},
   "outputs": [
    {
     "name": "stdout",
     "output_type": "stream",
     "text": [
      "REASONING\n",
      " =================\n",
      "1. Reasons why the answer might be no:\n",
      "- Technical Challenges: SpaceX is currently facing a 50% performance shortfall with the Starship meant for lunar missions. This could potentially delay Mars missions if the issue is not resolved in a timely manner (Article 3).\n",
      "- Testing and Development Delays: The aggressive timeline depends on successful tests and rapid development of technologies like in-space refueling. Any delays in these areas could push back the manned Mars mission (Article 1).\n",
      "- Launch Window Constraints: With launch windows to Mars occurring roughly every two years, any significant delay could miss a critical window, thereby pushing the mission beyond 2029 (Article 4).\n",
      "- Regulatory and Safety Concerns: Human space missions are subject to rigorous safety standards and approvals. Obtaining the necessary clearance may take longer than anticipated (Implied from all articles).\n",
      "- Budget and Funding: The cost and funding of such ambitious space missions can be substantial, and any financial setbacks or budget cuts could impact SpaceX's ability to meet its Mars timeline (Articles 5 and 6).\n",
      "\n",
      "2. Reasons why the answer might be yes:\n",
      "- SpaceX's Track Record: The company has made significant progress with its Starship spacecraft, conducting test flights and planning future missions, showing their ability to meet ambitious goals (Article 7).\n",
      "- Commitment to Timelines: Elon Musk and SpaceX have a history of setting and striving aggressively towards ambitious timelines. Musk's stated goal for a Mars landing by 2025 shows a strong commitment to the timeline (Articles 2 and 6).\n",
      "- Rapid Development and Innovation: SpaceX is actively addressing issues such as the Starship's performance shortfall and is known for its capability to quickly iterate on design and technology (Article 3).\n",
      "- Musk's Influence and Resources: Elon Musk's influence and access to resources can drive substantial progress in SpaceX's Mars mission objectives (Article 7).\n",
      "\n",
      "3. Aggregate considerations:\n",
      "SpaceX has demonstrated a strong commitment to its Mars goals and has made tangible progress towards technologies that are essential for the mission. However, the hurdles of technical challenges and the ambitious nature of the timeline increase the uncertainty of meeting the 2030 deadline. Considering these factors, there is a real possibility for SpaceX to land people on Mars before 2030, but there is also a significant possibility for delays. The mention of an underperformance issue with Starship, which could push back moon-landing plans, indicates how challenges can influence timelines.\n",
      "\n",
      "4. Final answer:\n",
      "*0.45*\n",
      "PROBABILITY\n",
      " =================\n",
      "0.45\n"
     ]
    }
   ],
   "source": [
    "print(\"REASONING\\n\", \"=================\")\n",
    "print(ensemble_dict[\"meta_reasoning\"])\n",
    "\n",
    "print(\"PROBABILITY\\n\", \"=================\")\n",
    "print(ensemble_dict[\"meta_prediction\"])"
   ]
  },
  {
   "cell_type": "markdown",
   "id": "67e80818",
   "metadata": {},
   "source": [
    "### Testing \"Advanced Forecaster\""
   ]
  },
  {
   "cell_type": "code",
   "execution_count": 14,
   "id": "1f5c70a9",
   "metadata": {},
   "outputs": [],
   "source": [
    "from forecasters.advanced_forecaster import AdvancedForecaster\n",
    "af = AdvancedForecaster()"
   ]
  },
  {
   "cell_type": "code",
   "execution_count": 15,
   "id": "e31f942e",
   "metadata": {},
   "outputs": [
    {
     "name": "stdout",
     "output_type": "stream",
     "text": [
      "An error occurred while fetching the article: Article `download()` failed with Website protected with PerimeterX, url: None on URL https://news.google.com/rss/articles/CBMiU2h0dHBzOi8vd3d3Lm15c2FuYW50b25pby5jb20vYnVzaW5lc3MvYXJ0aWNsZS9zcGFjZXgtaHVtYW4tc3BhY2VmbGlnaHQtMTk0MzA2OTUucGhw0gEA?oc=5&hl=en-US&gl=US&ceid=US:en\n"
     ]
    }
   ],
   "source": [
    "final_prob = await af.call_async(sentence=fq)"
   ]
  },
  {
   "cell_type": "code",
   "execution_count": 16,
   "id": "fb8b7c7c",
   "metadata": {},
   "outputs": [
    {
     "name": "stdout",
     "output_type": "stream",
     "text": [
      "Final LLM probability 0.6\n"
     ]
    }
   ],
   "source": [
    "print(\"Final LLM probability\", final_prob)"
   ]
  }
 ],
 "metadata": {
  "kernelspec": {
   "display_name": "Python 3 (ipykernel)",
   "language": "python",
   "name": "python3"
  },
  "language_info": {
   "codemirror_mode": {
    "name": "ipython",
    "version": 3
   },
   "file_extension": ".py",
   "mimetype": "text/x-python",
   "name": "python",
   "nbconvert_exporter": "python",
   "pygments_lexer": "ipython3",
   "version": "3.11.0"
  }
 },
 "nbformat": 4,
 "nbformat_minor": 5
}
