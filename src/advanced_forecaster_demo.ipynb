{
 "cells": [
  {
   "cell_type": "code",
   "execution_count": 16,
   "id": "2d0818d6",
   "metadata": {},
   "outputs": [],
   "source": [
    "import sys\n",
    "from common.path_utils import get_src_path, get_data_path\n",
    "sys.path.append(str(get_src_path()))\n",
    "sys.path.append(str(get_src_path() / \"forecasters/llm_forecasting\"))\n",
    "\n",
    "from common.datatypes import ForecastingQuestion_stripped, ForecastingQuestion\n",
    "import json\n",
    "\n",
    "# llm_forecasting imports\n",
    "from config.constants import PROMPT_DICT\n",
    "import ranking\n",
    "import summarize\n",
    "import ensemble"
   ]
  },
  {
   "cell_type": "markdown",
   "id": "5ef6b36e",
   "metadata": {},
   "source": [
    "### Load Data"
   ]
  },
  {
   "cell_type": "code",
   "execution_count": 17,
   "id": "dc3bbc55",
   "metadata": {},
   "outputs": [],
   "source": [
    "data = []\n",
    "with open(get_data_path() / \"fq/real/questions_cleaned_formatted.jsonl\", \"r\") as file:\n",
    "    for line in file:\n",
    "        data.append(json.loads(line))\n",
    "\n"
   ]
  },
  {
   "cell_type": "code",
   "execution_count": 3,
   "id": "32dd0594",
   "metadata": {},
   "outputs": [],
   "source": [
    "sample_question = data[0]"
   ]
  },
  {
   "cell_type": "code",
   "execution_count": 4,
   "id": "f00a3bca",
   "metadata": {},
   "outputs": [],
   "source": [
    "fq = ForecastingQuestion(**sample_question)"
   ]
  },
  {
   "cell_type": "markdown",
   "id": "3f3f732a",
   "metadata": {},
   "source": [
    "### Retrieval"
   ]
  },
  {
   "cell_type": "code",
   "execution_count": 5,
   "id": "630fe7b4",
   "metadata": {},
   "outputs": [],
   "source": [
    "RETRIEVAL_CONFIG = {\n",
    "    \"NUM_SEARCH_QUERY_KEYWORDS\": 3,\n",
    "    \"MAX_WORDS_NEWSCATCHER\": 5,\n",
    "    \"MAX_WORDS_GNEWS\": 8,\n",
    "    \"SEARCH_QUERY_MODEL_NAME\": \"gpt-4-1106-preview\",\n",
    "    \"SEARCH_QUERY_TEMPERATURE\": 0.0,\n",
    "    \"SEARCH_QUERY_PROMPT_TEMPLATES\": [\n",
    "        PROMPT_DICT[\"search_query\"][\"0\"],\n",
    "        PROMPT_DICT[\"search_query\"][\"1\"],\n",
    "    ],\n",
    "    \"NUM_ARTICLES_PER_QUERY\": 5,\n",
    "    \"SUMMARIZATION_MODEL_NAME\": \"gpt-3.5-turbo-1106\",\n",
    "    \"SUMMARIZATION_TEMPERATURE\": 0.2,\n",
    "    \"SUMMARIZATION_PROMPT_TEMPLATE\": PROMPT_DICT[\"summarization\"][\"9\"],\n",
    "    \"NUM_SUMMARIES_THRESHOLD\": 10,\n",
    "    \"PRE_FILTER_WITH_EMBEDDING\": True,\n",
    "    \"PRE_FILTER_WITH_EMBEDDING_THRESHOLD\": 0.32,\n",
    "    \"RANKING_MODEL_NAME\": \"gpt-3.5-turbo-1106\",\n",
    "    \"RANKING_TEMPERATURE\": 0.0,\n",
    "    \"RANKING_PROMPT_TEMPLATE\": PROMPT_DICT[\"ranking\"][\"0\"],\n",
    "    \"RANKING_RELEVANCE_THRESHOLD\": 4,\n",
    "    \"RANKING_COSINE_SIMILARITY_THRESHOLD\": 0.5,\n",
    "    \"SORT_BY\": \"date\",\n",
    "    \"RANKING_METHOD\": \"llm-rating\",\n",
    "    \"RANKING_METHOD_LLM\": \"title_250_tokens\",\n",
    "    \"NUM_SUMMARIES_THRESHOLD\": 20,\n",
    "    \"EXTRACT_BACKGROUND_URLS\": True,\n",
    "}"
   ]
  },
  {
   "cell_type": "code",
   "execution_count": 6,
   "id": "e3a27162",
   "metadata": {},
   "outputs": [],
   "source": [
    "question = fq.title\n",
    "background_info = fq.metadata[\"background_info\"]\n",
    "resolution_criteria = fq.body\n",
    "retrieval_dates = (\"2024-03-01\", \"2024-05-04\") # artificially set for now"
   ]
  },
  {
   "cell_type": "code",
   "execution_count": 7,
   "id": "6c7aa254",
   "metadata": {},
   "outputs": [
    {
     "name": "stderr",
     "output_type": "stream",
     "text": [
      "INFO:ranking:Finding 3 search query keywords via LLM...\n"
     ]
    },
    {
     "name": "stderr",
     "output_type": "stream",
     "text": [
      "INFO:httpx:HTTP Request: POST https://api.openai.com/v1/chat/completions \"HTTP/1.1 200 OK\"\n",
      "INFO:httpx:HTTP Request: POST https://api.openai.com/v1/chat/completions \"HTTP/1.1 200 OK\"\n",
      "INFO:httpx:HTTP Request: POST https://api.openai.com/v1/chat/completions \"HTTP/1.1 200 OK\"\n",
      "INFO:httpx:HTTP Request: POST https://api.openai.com/v1/chat/completions \"HTTP/1.1 200 OK\"\n",
      "INFO:ranking:Search queries for NC: ['Will SpaceX land people on Mars before 2030?', 'SpaceX Mars mission progress', 'SpaceX Mars mission challenges', 'Elon Musk Mars timeline update', 'SpaceX Mars timeline update']\n",
      "INFO:ranking:Search queries for GNews: ['Will SpaceX land people on Mars before 2030?', 'Elon Musk statement on Mars landing', 'SpaceX Mars mission progress 2024', 'Challenges facing SpaceX Mars landing', 'SpaceX Interplanetary Transport System updates', 'SpaceX Mars mission timeline update']\n",
      "INFO:information_retrieval:Retrieved 0 articles for Will SpaceX land people on Mars before 2030? via Newscatcher.\n",
      "INFO:information_retrieval:Retrieved 5 articles for SpaceX Mars mission progress via Newscatcher.\n",
      "INFO:information_retrieval:Retrieved 5 articles for SpaceX Mars mission challenges via Newscatcher.\n",
      "INFO:information_retrieval:Retrieved 5 articles for Elon Musk Mars timeline update via Newscatcher.\n",
      "INFO:information_retrieval:Retrieved 5 articles for SpaceX Mars timeline update via Newscatcher.\n",
      "INFO:information_retrieval:Retrieved 5 articles for Will SpaceX land people on Mars before 2030? via GNews.\n",
      "INFO:information_retrieval:Retrieved 5 articles for Elon Musk statement on Mars landing via GNews.\n",
      "INFO:information_retrieval:Retrieved 5 articles for SpaceX Mars mission progress 2024 via GNews.\n",
      "INFO:information_retrieval:Retrieved 5 articles for Challenges facing SpaceX Mars landing via GNews.\n",
      "INFO:information_retrieval:Retrieved 5 articles for SpaceX Interplanetary Transport System updates via GNews.\n",
      "INFO:information_retrieval:Retrieved 5 articles for SpaceX Mars mission timeline update via GNews.\n",
      "INFO:information_retrieval:Retrieved full article text for https://news.google.com/rss/articles/CBMiWmh0dHBzOi8vc3BhY2VuZXdzLmNvbS9qYXBhbmVzZS1hc3Ryb25hdXRzLXRvLWxhbmQtb24tbW9vbi1hcy1wYXJ0LW9mLW5ldy1uYXNhLXBhcnRuZXJzaGlwL9IBAA?oc=5&hl=en-US&gl=US&ceid=US:en\n",
      "INFO:information_retrieval:Retrieved full article text for https://news.google.com/rss/articles/CBMiN2h0dHBzOi8vcGh5cy5vcmcvbmV3cy8yMDI0LTAzLXNwYWNleC1leWVzLXN0YXJzaGlwLmh0bWzSAQA?oc=5&hl=en-US&gl=US&ceid=US:en\n",
      "INFO:information_retrieval:Retrieved full article text for https://news.google.com/rss/articles/CBMiQmh0dHBzOi8vaW50ZXJlc3RpbmdlbmdpbmVlcmluZy5jb20vc2NpZW5jZS9odW1hbnMtbWFycy1uYXNhLXNwYWNleNIBAA?oc=5&hl=en-US&gl=US&ceid=US:en\n",
      "INFO:information_retrieval:Retrieved full article text for https://news.google.com/rss/articles/CBMiSGh0dHBzOi8vd3d3Lndhc2hpbmd0b25wb3N0LmNvbS90ZWNobm9sb2d5LzIwMjQvMDUvMDIvY2hpbmEtbW9vbi1taXNzaW9uL9IBAA?oc=5&hl=en-US&gl=US&ceid=US:en\n",
      "INFO:information_retrieval:Retrieved full article text for https://news.google.com/rss/articles/CBMic2h0dHBzOi8vd3d3LmFsamF6ZWVyYS5jb20vbmV3cy8yMDI0LzMvMTQvZGVzcGl0ZS1wcm9ibGVtcy1zcGFjZXgtaGFpbHMtcHJvZ3Jlc3MtYWZ0ZXItdGhpcmQtdGVzdC1vZi1zdGFyc2hpcC1yb2NrZXTSAXdodHRwczovL3d3dy5hbGphemVlcmEuY29tL2FtcC9uZXdzLzIwMjQvMy8xNC9kZXNwaXRlLXByb2JsZW1zLXNwYWNleC1oYWlscy1wcm9ncmVzcy1hZnRlci10aGlyZC10ZXN0LW9mLXN0YXJzaGlwLXJvY2tldA?oc=5&hl=en-US&gl=US&ceid=US:en\n",
      "INFO:information_retrieval:Retrieved full article text for https://news.google.com/rss/articles/CBMiS2h0dHBzOi8vd3d3LnNwYWNlLmNvbS9zcGFjZXgtc3RhcnNoaXAtNTAwLWZlZXQtdGFsbC1tYXJzLW1pc3Npb25zLWVsb24tbXVza9IBAA?oc=5&hl=en-US&gl=US&ceid=US:en\n",
      "INFO:information_retrieval:Retrieved full article text for https://news.google.com/rss/articles/CBMilQFodHRwczovL3d3dy5mb3JiZXMuY29tL3NpdGVzL3JvYmVydGhhcnQvMjAyNC8wMy8xOC9lbG9uLW11c2stc2F5cy1mdXR1cmUtc3BhY2V4LXN0YXJzaGlwLXdpbGwtdHJhdmVsLXRvLW90aGVyLXN0YXItc3lzdGVtcy1hZnRlci1yb2NrZXRzLWxhdGVzdC10ZXN0L9IBAA?oc=5&hl=en-US&gl=US&ceid=US:en\n",
      "INFO:information_retrieval:Retrieved full article text for https://news.google.com/rss/articles/CBMidGh0dHBzOi8vd3d3LnNjaWVudGlmaWNhbWVyaWNhbi5jb20vYXJ0aWNsZS9zcGFjZXhzLXN0YXJzaGlwLWNvdWxkLXNhdmUtbmFzYXMtYmVsZWFndWVyZWQtbWFycy1zYW1wbGUtcmV0dXJuLW1pc3Npb24v0gEA?oc=5&hl=en-US&gl=US&ceid=US:en\n",
      "INFO:information_retrieval:Retrieved full article text for https://news.google.com/rss/articles/CBMiSmh0dHBzOi8vd3d3LmNubi5jb20vMjAyNC8wMy8xNC93b3JsZC9zdGFyc2hpcC1sYXVuY2gtc3BhY2V4LXNjbi9pbmRleC5odG1s0gFDaHR0cHM6Ly9hbXAuY25uLmNvbS9jbm4vMjAyNC8wMy8xNC93b3JsZC9zdGFyc2hpcC1sYXVuY2gtc3BhY2V4LXNjbg?oc=5&hl=en-US&gl=US&ceid=US:en\n",
      "INFO:information_retrieval:Retrieved full article text for https://news.google.com/rss/articles/CBMiYGh0dHBzOi8vd3d3LmFtZXJpY2FzcGFjZS5jb20vMjAyNC8wNC8yMC9zdGFyc2hpcC1mYWNlcy1wZXJmb3JtYW5jZS1zaG9ydGZhbGwtZm9yLWx1bmFyLW1pc3Npb25zL9IBAA?oc=5&hl=en-US&gl=US&ceid=US:en\n",
      "INFO:information_retrieval:Retrieved full article text for https://news.google.com/rss/articles/CBMirAFodHRwczovL3d3dy5uYXNhLmdvdi9kaXJlY3RvcmF0ZXMvZXNkbWQvYXJ0ZW1pcy1jYW1wYWlnbi1kZXZlbG9wbWVudC1kaXZpc2lvbi9odW1hbi1sYW5kaW5nLXN5c3RlbS1wcm9ncmFtL25hc2EtYXJ0ZW1pcy1taXNzaW9uLXByb2dyZXNzZXMtd2l0aC1zcGFjZXgtc3RhcnNoaXAtdGVzdC1mbGlnaHQv0gEA?oc=5&hl=en-US&gl=US&ceid=US:en\n",
      "INFO:information_retrieval:Retrieved full article text for https://news.google.com/rss/articles/CBMiWWh0dHBzOi8vc3BhY2VuZXdzLmNvbS9zcGFjZXgtbWFraW5nLXByb2dyZXNzLW9uLXN0YXJzaGlwLWluLXNwYWNlLXJlZnVlbGluZy10ZWNobm9sb2dpZXMv0gEA?oc=5&hl=en-US&gl=US&ceid=US:en\n",
      "INFO:information_retrieval:Retrieved full article text for https://news.google.com/rss/articles/CBMiO2h0dHBzOi8vd3d3Lm5hc2FzcGFjZWZsaWdodC5jb20vMjAyNC8wMy9pc3Mtcm91bmR1cC0wMzAzMjQv0gEA?oc=5&hl=en-US&gl=US&ceid=US:en\n",
      "INFO:information_retrieval:Retrieved full article text for https://news.google.com/rss/articles/CBMiaWh0dHBzOi8vc3BhY2VuZXdzLmNvbS9tc3ItcHJvYmxlbXMtaWxsdXN0cmF0aXZlLW9mLWNoYWxsZW5nZXMtZm9yLW5hc2EtZmxhZ3NoaXAtbWlzc2lvbnMtYXVkaXQtY29uY2x1ZGVzL9IBAA?oc=5&hl=en-US&gl=US&ceid=US:en\n",
      "INFO:information_retrieval:Retrieved full article text for https://news.google.com/rss/articles/CBMiWWh0dHBzOi8vbXluZXdzMTMuY29tL2ZsL29ybGFuZG8vbmV3cy8yMDI0LzAzLzEzL2Rlc3RpbmF0aW9uLW1hcnMtc3R1ZGVudC1kZXNpZ24tY2hhbGxlbmdl0gEA?oc=5&hl=en-US&gl=US&ceid=US:en\n",
      "INFO:information_retrieval:Retrieved full article text for https://news.google.com/rss/articles/CBMiWmh0dHBzOi8vd3d3LmNic25ld3MuY29tL3ZpZGVvL25hc2EtYXJ0ZW1pcy1taXNzaW9uLWNoYWxsZW5nZXMtNjAtbWludXRlcy12aWRlby0yMDI0LTAzLTAzL9IBAA?oc=5&hl=en-US&gl=US&ceid=US:en\n",
      "INFO:information_retrieval:Retrieved full article text for https://news.google.com/rss/articles/CBMiQmh0dHBzOi8vd3d3Lmh1bWFubWFycy5uZXQvMjAyNC8wNC9zcGFjZXgtc3RhcnNoaXAtdXBkYXRlLTIwMjQuaHRtbNIBAA?oc=5&hl=en-US&gl=US&ceid=US:en\n",
      "INFO:information_retrieval:Retrieved full article text for https://news.google.com/rss/articles/CBMiRGh0dHBzOi8vd3d3LnNwYWNlLmNvbS9zcGFjZXgtc3RhcnNoaXAtZ28taW50ZXJzdGVsbGFyLWVsb24tbXVzay1zYXlz0gEA?oc=5&hl=en-US&gl=US&ceid=US:en\n",
      "INFO:information_retrieval:Retrieved full article text for https://news.google.com/rss/articles/CBMiVmh0dHBzOi8vdWsubW92aWVzLnlhaG9vLmNvbS9maW5hbmNlL25ld3MvaGVyZXMtZWxvbi1tdXNrcy1pbXByb3ZlZC1wbGFuLTA0NTYwMDM1Ni5odG1s0gEA?oc=5&hl=en-US&gl=US&ceid=US:en\n",
      "INFO:information_retrieval:Retrieved full article text for https://news.google.com/rss/articles/CBMiRGh0dHBzOi8vd3d3LmV4dHJlbWV0ZWNoLmNvbS9leHRyZW1lLzMyNjg3MC1zcGFjZXgtc3RhcnNoaXAtZXhwbGFpbmVk0gEA?oc=5&hl=en-US&gl=US&ceid=US:en\n",
      "INFO:information_retrieval:Retrieved full article text for https://news.google.com/rss/articles/CBMiemh0dHBzOi8vdW5pdmVyc2VtYWdhemluZS5jb20vZW4vd2l0bmVzc2luZy10aGUtc3BhY2UtcmV2b2x1dGlvbi13aGF0LXN0YXJzaGlwLWlzLWFuZC13aGF0LXRvLWV4cGVjdC1mcm9tLWl0cy1maXJzdC1mbGlnaHQv0gEA?oc=5&hl=en-US&gl=US&ceid=US:en\n",
      "INFO:information_retrieval:Retrieved full article text for https://news.google.com/rss/articles/CBMiKGh0dHBzOi8vd3d3Lm5hc2EuZ292L21pc3Npb24vYXJ0ZW1pcy1paS_SAQA?oc=5&hl=en-US&gl=US&ceid=US:en\n",
      "INFO:information_retrieval:Retrieved full article text for https://news.google.com/rss/articles/CBMioAFodHRwczovL3d3dy5mbG9yaWRhdG9kYXkuY29tL3N0b3J5L3RlY2gvc2NpZW5jZS9zcGFjZS8yMDI0LzAzLzAzL3NwYWNleC1saXZlLXVwZGF0ZXMtbmFzYS1jcmV3LTgtYXN0cm9uYXV0LWxhdW5jaC1mcm9tLWtlbm5lZHktc3BhY2UtY2VudGVyLWZsb3JpZGEvNzI4MzM4NTkwMDcv0gEA?oc=5&hl=en-US&gl=US&ceid=US:en\n",
      "INFO:information_retrieval:Retrieved full article text for https://news.google.com/rss/articles/CBMilQFodHRwczovL3NwYWNlZmxpZ2h0bm93LmNvbS8yMDI0LzAzLzIwL2xpdmUtY292ZXJhZ2Utc3BhY2V4LW5hc2EtdG8tbGF1bmNoLWZhbGNvbi05LXJvY2tldC1kcmFnb24tc3BhY2VjcmFmdC1mcm9tLWNhcGUtY2FuYXZlcmFsLXRvLXRoZS1zcGFjZS1zdGF0aW9uL9IBAA?oc=5&hl=en-US&gl=US&ceid=US:en\n",
      "INFO:information_retrieval:Retrieved full article text for https://news.google.com/rss/articles/CBMibGh0dHBzOi8vbmV3cy5zYXRuZXdzLmNvbS8yMDI0LzAzLzAyL3VwZGF0ZS0yLXNjcnViYmVkLXNwYWNleHMtbGF1bmNoLW9mLW5hc2FzLWFzdHJvbmF1dHMtZHVlLXRvLWJhZC13ZWF0aGVyL9IBAA?oc=5&hl=en-US&gl=US&ceid=US:en\n",
      "INFO:ranking:Filtering 35 articles with embedding model.\n",
      "INFO:httpx:HTTP Request: POST https://api.openai.com/v1/embeddings \"HTTP/1.1 200 OK\"\n",
      "INFO:httpx:HTTP Request: POST https://api.openai.com/v1/embeddings \"HTTP/1.1 200 OK\"\n",
      "INFO:ranking:Get 35 cosine similarities for 35 articles.\n",
      "INFO:ranking:Using 0.32 as the cosine similarity threshold.\n",
      "INFO:ranking:33 articles survived the embedding filtering.\n",
      "INFO:httpx:HTTP Request: POST https://api.openai.com/v1/chat/completions \"HTTP/1.1 200 OK\"\n",
      "INFO:httpx:HTTP Request: POST https://api.openai.com/v1/chat/completions \"HTTP/1.1 200 OK\"\n",
      "INFO:httpx:HTTP Request: POST https://api.openai.com/v1/chat/completions \"HTTP/1.1 200 OK\"\n",
      "INFO:httpx:HTTP Request: POST https://api.openai.com/v1/chat/completions \"HTTP/1.1 200 OK\"\n",
      "INFO:httpx:HTTP Request: POST https://api.openai.com/v1/chat/completions \"HTTP/1.1 200 OK\"\n",
      "INFO:httpx:HTTP Request: POST https://api.openai.com/v1/chat/completions \"HTTP/1.1 200 OK\"\n",
      "INFO:httpx:HTTP Request: POST https://api.openai.com/v1/chat/completions \"HTTP/1.1 200 OK\"\n",
      "INFO:httpx:HTTP Request: POST https://api.openai.com/v1/chat/completions \"HTTP/1.1 200 OK\"\n",
      "INFO:httpx:HTTP Request: POST https://api.openai.com/v1/chat/completions \"HTTP/1.1 200 OK\"\n",
      "INFO:httpx:HTTP Request: POST https://api.openai.com/v1/chat/completions \"HTTP/1.1 200 OK\"\n",
      "INFO:httpx:HTTP Request: POST https://api.openai.com/v1/chat/completions \"HTTP/1.1 200 OK\"\n",
      "INFO:httpx:HTTP Request: POST https://api.openai.com/v1/chat/completions \"HTTP/1.1 200 OK\"\n",
      "INFO:httpx:HTTP Request: POST https://api.openai.com/v1/chat/completions \"HTTP/1.1 200 OK\"\n",
      "INFO:httpx:HTTP Request: POST https://api.openai.com/v1/chat/completions \"HTTP/1.1 200 OK\"\n",
      "INFO:httpx:HTTP Request: POST https://api.openai.com/v1/chat/completions \"HTTP/1.1 200 OK\"\n",
      "INFO:httpx:HTTP Request: POST https://api.openai.com/v1/chat/completions \"HTTP/1.1 200 OK\"\n",
      "INFO:httpx:HTTP Request: POST https://api.openai.com/v1/chat/completions \"HTTP/1.1 200 OK\"\n",
      "INFO:httpx:HTTP Request: POST https://api.openai.com/v1/chat/completions \"HTTP/1.1 200 OK\"\n",
      "INFO:httpx:HTTP Request: POST https://api.openai.com/v1/chat/completions \"HTTP/1.1 200 OK\"\n",
      "INFO:httpx:HTTP Request: POST https://api.openai.com/v1/chat/completions \"HTTP/1.1 200 OK\"\n",
      "INFO:httpx:HTTP Request: POST https://api.openai.com/v1/chat/completions \"HTTP/1.1 200 OK\"\n",
      "INFO:httpx:HTTP Request: POST https://api.openai.com/v1/chat/completions \"HTTP/1.1 200 OK\"\n",
      "INFO:httpx:HTTP Request: POST https://api.openai.com/v1/chat/completions \"HTTP/1.1 200 OK\"\n",
      "INFO:httpx:HTTP Request: POST https://api.openai.com/v1/chat/completions \"HTTP/1.1 200 OK\"\n",
      "INFO:httpx:HTTP Request: POST https://api.openai.com/v1/chat/completions \"HTTP/1.1 200 OK\"\n",
      "INFO:httpx:HTTP Request: POST https://api.openai.com/v1/chat/completions \"HTTP/1.1 200 OK\"\n",
      "INFO:httpx:HTTP Request: POST https://api.openai.com/v1/chat/completions \"HTTP/1.1 200 OK\"\n",
      "INFO:httpx:HTTP Request: POST https://api.openai.com/v1/chat/completions \"HTTP/1.1 200 OK\"\n",
      "INFO:httpx:HTTP Request: POST https://api.openai.com/v1/chat/completions \"HTTP/1.1 200 OK\"\n",
      "INFO:httpx:HTTP Request: POST https://api.openai.com/v1/chat/completions \"HTTP/1.1 200 OK\"\n",
      "INFO:httpx:HTTP Request: POST https://api.openai.com/v1/chat/completions \"HTTP/1.1 200 OK\"\n",
      "INFO:httpx:HTTP Request: POST https://api.openai.com/v1/chat/completions \"HTTP/1.1 200 OK\"\n",
      "INFO:httpx:HTTP Request: POST https://api.openai.com/v1/chat/completions \"HTTP/1.1 200 OK\"\n",
      "INFO:ranking:Article SpaceX Starship will be 500 feet tall to prepare for Mars missions, Elon Musk says (video) gets rating: 2.0\n",
      "INFO:ranking:Article To the Stars: The Making of a Multiplanetary Species with SpaceX. gets rating: 4.0\n",
      "INFO:ranking:Article Elon Musk speaks about the 'urgent' needed to extend human civilisation beyond Earth to Mars gets rating: 3.0\n",
      "INFO:ranking:Article Blast Off and Splashdown on a Private Space Mission in a SpaceX Crew Dragon Capsule gets rating: 2.0\n",
      "INFO:ranking:Article The Mars Sample Return mission has a shaky future, and NASA is calling on private companies for backup gets rating: 2.0\n",
      "INFO:ranking:Article NASA's Mars Sample Return mission has a shaky future gets rating: 2.0\n",
      "INFO:ranking:Article Why NASA's Mars Sample Return mission has a shaky future gets rating: 2.0\n",
      "INFO:ranking:Article The Mars Sample Return mission has a shaky future. NASA is calling on private companies for backup gets rating: 2.0\n",
      "INFO:ranking:Article Elon Musk Makes Surprise Appearance At Prime Video's SXSW ‘Fallout' Experience gets rating: 2.0\n",
      "INFO:ranking:Article Elon Musk Unleashes Wave of Updates on SpaceX's Starship Project gets rating: 2.0\n",
      "INFO:ranking:Article SpaceX's Special Starship Cargon Lander Capacity Revealed By NASA Ahead Of Fourth Starship Test gets rating: 2.0\n",
      "INFO:ranking:Article Japanese astronauts to land on moon as part of new NASA partnership gets rating: 1.0\n",
      "INFO:ranking:Article SpaceX eyes March 14 for next Starship test launch gets rating: 3.0\n",
      "INFO:ranking:Article Charting the course: NASA's long road to the Red Planet gets rating: 4.0\n",
      "INFO:ranking:Article China launches world-first mission to retrieve samples from far side of moon gets rating: 1.0\n",
      "INFO:ranking:Article Despite problems, SpaceX hails progress after third test of Starship rocket gets rating: 3.0\n",
      "INFO:ranking:Article SpaceX's giant Starship will be 500 feet tall for Mars missions, Elon Musk says (video) gets rating: 4.0\n",
      "INFO:ranking:Article Elon Musk Says Future SpaceX Starship ‘Will Travel To Other Star Systems’ After Rocket’s Latest Test gets rating: 3.0\n",
      "INFO:ranking:Article SpaceX’s Starship Could Save NASA’s Beleaguered Mars Sample Return Mission gets rating: 2.0\n",
      "INFO:ranking:Article SpaceX’s Starship hits key milestones in test flight but is lost now gets rating: 3.0\n",
      "INFO:ranking:Article Starship Faces Performance Shortfall for Lunar Missions gets rating: 4.0\n",
      "INFO:ranking:Article NASA Artemis Mission Progresses with SpaceX Starship Test Flight gets rating: 4.0\n",
      "INFO:ranking:Article SpaceX making progress on Starship in-space refueling technologies gets rating: 5.0\n",
      "INFO:ranking:Article 20, Axiom Mission 3, and Progress MS gets rating: 1.0\n",
      "INFO:ranking:Article MSR problems illustrative of challenges for NASA flagship missions, audit concludes gets rating: 2.0\n",
      "INFO:ranking:Article Brevard County students participate in Destination Mars design challenge gets rating: 2.0\n",
      "INFO:ranking:Article SpaceX's Starship will go interstellar someday, Elon Musk says gets rating: 3.0\n",
      "INFO:ranking:Article Elon Musk presented a new-and-improved plan to colonize Mars with a giant reusable spaceship — here are the highlights gets rating: 5.0\n",
      "INFO:ranking:Article SpaceX Starship, Explained: What You Need to Know About Elon Musk's Biggest Project of Them All gets rating: 3.0\n",
      "INFO:ranking:Article what Starship is and what to expect from its first flight gets rating: 2.0\n",
      "INFO:ranking:Article Artemis II gets rating: 2.0\n",
      "INFO:ranking:Article Crew-8 launch recap: NASA, SpaceX send astronauts en route to International Space Station gets rating: 2.0\n",
      "INFO:ranking:Article UPDATE 2: Scrubbed SpaceX’s launch of NASA’s astronauts due to bad weather – SatNews gets rating: 1.0\n",
      "INFO:ranking:Finished ranking the articles!\n",
      "INFO:ranking:Summarizing the top 20 articles.\n",
      "INFO:summarize:Async summarizing 7 short articles\n",
      "INFO:httpx:HTTP Request: POST https://api.openai.com/v1/chat/completions \"HTTP/1.1 200 OK\"\n",
      "INFO:httpx:HTTP Request: POST https://api.openai.com/v1/chat/completions \"HTTP/1.1 200 OK\"\n",
      "INFO:httpx:HTTP Request: POST https://api.openai.com/v1/chat/completions \"HTTP/1.1 200 OK\"\n",
      "INFO:httpx:HTTP Request: POST https://api.openai.com/v1/chat/completions \"HTTP/1.1 200 OK\"\n",
      "INFO:httpx:HTTP Request: POST https://api.openai.com/v1/chat/completions \"HTTP/1.1 200 OK\"\n",
      "INFO:httpx:HTTP Request: POST https://api.openai.com/v1/chat/completions \"HTTP/1.1 200 OK\"\n",
      "INFO:httpx:HTTP Request: POST https://api.openai.com/v1/chat/completions \"HTTP/1.1 200 OK\"\n",
      "INFO:ranking:Finished summarizing the 7 articles!\n"
     ]
    }
   ],
   "source": [
    "(\n",
    "    ranked_articles,\n",
    "    all_articles,\n",
    "    search_queries_list_gnews,\n",
    "    search_queries_list_nc,\n",
    ") = await ranking.retrieve_summarize_and_rank_articles(\n",
    "    question,\n",
    "    background_info,\n",
    "    resolution_criteria,\n",
    "    retrieval_dates,\n",
    "    urls=[],\n",
    "    config=RETRIEVAL_CONFIG,\n",
    "    return_intermediates=True,\n",
    ")"
   ]
  },
  {
   "cell_type": "code",
   "execution_count": 8,
   "id": "15ef96b4",
   "metadata": {},
   "outputs": [],
   "source": [
    "all_summaries = summarize.concat_summaries(\n",
    "    ranked_articles[: RETRIEVAL_CONFIG[\"NUM_SUMMARIES_THRESHOLD\"]]\n",
    ")"
   ]
  },
  {
   "cell_type": "code",
   "execution_count": 9,
   "id": "d73dc1a3",
   "metadata": {},
   "outputs": [
    {
     "name": "stdout",
     "output_type": "stream",
     "text": [
      "---\n",
      "ARTICLES\n",
      "[1] SpaceX making progress on Starship in-space refueling technologies (published on 2024-04-27)\n",
      "Summary: NASA says SpaceX is on track to demonstrate in-space refueling of Starship next year, a critical technology for returning humans to the lunar surface. SpaceX achieved one step towards refueling of Starship with a demonstration on the latest Starship test flight March 14. The next major milestone is a demonstration planned for 2025 where two Starships will dock in orbit, with one transferring propellants to the other. Propellant transfer technology is essential to SpaceX’s plans for Starship missions beyond low Earth orbit, including the Human Landing System (HLS) version of Starship that will be used to land astronauts on the moon starting with the Artemis 3 mission, currently scheduled for no earlier than September 2026. Elon Musk, chief executive of SpaceX, posted on social media April 26, responding to another post about Kshatriya’s presentation. “Full & rapid reusability of booster & ship and orbital refilling of ship are the 2 fundamental technologies we aim to solve by the end of next year.”\n",
      "\n",
      "[2] To the Stars: The Making of a Multiplanetary Species with SpaceX. (published on 2024-04-22)\n",
      "Summary: SpaceX is on a mission to make life multiplanetary, with a focus on Mars. Elon Musk has outlined the company's commitment to building the necessary technologies, including the Falcon rockets, Dragon spacecraft, Starlink satellites, and the revolutionary Starship. The goal is to establish a civilization on Mars, with plans to send around a million people and several million tonnes of materials to the red planet. SpaceX's timeline for a manned flight to Mars is set for the 2024 window, with a potential landing in 2025. This ambitious plan is notable for aggressively compressing the timeline for human exploration of Mars.\n",
      "\n",
      "[3] Starship Faces Performance Shortfall for Lunar Missions (published on 2024-04-20)\n",
      "Summary: The lunar exploration community eagerly awaits American astronauts' return to the Moon, originally planned for 2024 but now delayed to at least September 2026 due to issues with SpaceX's Starship Human Landing System (HLS). Despite concerns, NASA chose Starship for its cost-effectiveness and performance. However, recent revelations of a 50% underperformance in payload capacity have raised doubts about Starship's ability to complete a lunar mission. SpaceX is already working on upgraded versions of Starship, but the current design's limitations may impact NASA's Artemis program. The success or failure of the Human Landing System program will determine whether SpaceX can land people on Mars before 2030.\n",
      "\n",
      "[4] SpaceX's giant Starship will be 500 feet tall for Mars missions, Elon Musk says (video) (published on 2024-04-13)\n",
      "Summary: SpaceX's Starship, the largest rocket in the world, will grow to 500 feet, with each launch costing roughly $3 million. Elon Musk aims to orbit Earth and refuel Starship's tanks, essential for the Art ...\n"
     ]
    }
   ],
   "source": [
    "print(all_summaries[:3000], \"...\")"
   ]
  },
  {
   "cell_type": "markdown",
   "id": "89e4b793",
   "metadata": {},
   "source": [
    "### Reasoning"
   ]
  },
  {
   "cell_type": "code",
   "execution_count": 10,
   "id": "42e11b9c",
   "metadata": {},
   "outputs": [],
   "source": [
    "REASONING_CONFIG = {\n",
    "    \"BASE_REASONING_MODEL_NAMES\": [\"gpt-4-1106-preview\", \"gpt-4-1106-preview\"],\n",
    "    \"BASE_REASONING_TEMPERATURE\": 1.0,\n",
    "    \"BASE_REASONING_PROMPT_TEMPLATES\": [\n",
    "        [\n",
    "            PROMPT_DICT[\"binary\"][\"scratch_pad\"][\"1\"],\n",
    "            PROMPT_DICT[\"binary\"][\"scratch_pad\"][\"2\"],\n",
    "        ],\n",
    "        [\n",
    "            PROMPT_DICT[\"binary\"][\"scratch_pad\"][\"new_3\"],\n",
    "            PROMPT_DICT[\"binary\"][\"scratch_pad\"][\"new_6\"],\n",
    "        ],\n",
    "    ],\n",
    "    \"ALIGNMENT_MODEL_NAME\": \"gpt-3.5-turbo-1106\",\n",
    "    \"ALIGNMENT_TEMPERATURE\": 0,\n",
    "    \"ALIGNMENT_PROMPT\": PROMPT_DICT[\"alignment\"][\"0\"],\n",
    "    \"AGGREGATION_METHOD\": \"meta\",\n",
    "    \"AGGREGATION_PROMPT_TEMPLATE\": PROMPT_DICT[\"meta_reasoning\"][\"0\"],\n",
    "    \"AGGREGATION_TEMPERATURE\": 0.2,\n",
    "    \"AGGREGATION_MODEL_NAME\": \"gpt-4\",\n",
    "    \"AGGREGATION_WEIGTHTS\": None,\n",
    "}"
   ]
  },
  {
   "cell_type": "code",
   "execution_count": 11,
   "id": "55883aae",
   "metadata": {},
   "outputs": [
    {
     "name": "stderr",
     "output_type": "stream",
     "text": [
      "INFO:httpx:HTTP Request: POST https://api.openai.com/v1/chat/completions \"HTTP/1.1 200 OK\"\n",
      "INFO:httpx:HTTP Request: POST https://api.openai.com/v1/chat/completions \"HTTP/1.1 200 OK\"\n",
      "INFO:model_eval:Finished 2 base reasonings generated by gpt-4-1106-preview\n",
      "INFO:httpx:HTTP Request: POST https://api.openai.com/v1/chat/completions \"HTTP/1.1 200 OK\"\n",
      "INFO:httpx:HTTP Request: POST https://api.openai.com/v1/chat/completions \"HTTP/1.1 200 OK\"\n",
      "INFO:model_eval:Finished 2 base reasonings generated by gpt-4-1106-preview\n",
      "INFO:httpx:HTTP Request: POST https://api.openai.com/v1/chat/completions \"HTTP/1.1 200 OK\"\n"
     ]
    }
   ],
   "source": [
    "today_to_close_date = [retrieval_dates[1], \"N/A\"]\n",
    "ensemble_dict = await ensemble.meta_reason(\n",
    "    question=question,\n",
    "    background_info=background_info,\n",
    "    resolution_criteria=resolution_criteria,\n",
    "    today_to_close_date_range=today_to_close_date,\n",
    "    retrieved_info=all_summaries,\n",
    "    reasoning_prompt_templates=REASONING_CONFIG[\"BASE_REASONING_PROMPT_TEMPLATES\"],\n",
    "    base_model_names=REASONING_CONFIG[\"BASE_REASONING_MODEL_NAMES\"],\n",
    "    base_temperature=REASONING_CONFIG[\"BASE_REASONING_TEMPERATURE\"],\n",
    "    aggregation_method=REASONING_CONFIG[\"AGGREGATION_METHOD\"],\n",
    "    answer_type=\"probability\",\n",
    "    weights=REASONING_CONFIG[\"AGGREGATION_WEIGTHTS\"],\n",
    "    meta_model_name=REASONING_CONFIG[\"AGGREGATION_MODEL_NAME\"],\n",
    "    meta_prompt_template=REASONING_CONFIG[\"AGGREGATION_PROMPT_TEMPLATE\"],\n",
    "    meta_temperature=REASONING_CONFIG[\"AGGREGATION_TEMPERATURE\"],\n",
    ")"
   ]
  },
  {
   "cell_type": "code",
   "execution_count": 12,
   "id": "9c5611e4",
   "metadata": {},
   "outputs": [
    {
     "name": "stdout",
     "output_type": "stream",
     "text": [
      "1. Provide reasons why the answer might be no.\n",
      "- Technical Challenges: The development of technologies necessary for a Mars mission, such as in-space refueling and a spacecraft capable of landing and taking off from Mars, is complex and still in progress. Unforeseen technical issues could arise, causing delays.\n",
      "- Regulatory and Safety Hurdles: A manned mission to Mars would need to meet stringent safety standards and gain approval from regulatory bodies, which could take longer than anticipated.\n",
      "- Financial Constraints: The cost of a manned Mars mission is substantial. While SpaceX has been successful in securing funding so far, unexpected costs or a decrease in investment could lead to financial constraints and delays.\n",
      "- Performance Shortfall: The recent revelation of a 50% underperformance in Starship's payload capacity for lunar missions raises doubts about its ability to complete a Mars mission.\n",
      "\n",
      "2. Provide reasons why the answer might be yes.\n",
      "- Track Record: SpaceX has a history of achieving ambitious goals, such as the development of reusable rocket technology, which suggests they could also succeed in sending humans to Mars.\n",
      "- Progress and Commitment: SpaceX has made significant progress in developing the necessary technologies for a Mars mission and has demonstrated a strong commitment to this goal.\n",
      "- Technological Advancements: Rapid advancements in space technology could help overcome technical challenges and expedite the mission.\n",
      "\n",
      "3. Aggregate your considerations.\n",
      "While SpaceX has made significant strides in developing the necessary technologies for a Mars mission, there are still considerable challenges to overcome. The recent underperformance of Starship's payload capacity for lunar missions is a cause for concern, and the development of in-space refueling technology is still in progress. Regulatory and safety approvals could also cause delays. However, given SpaceX's track record and commitment to the mission, it is possible that they could overcome these challenges and achieve a manned Mars landing before 2030.\n",
      "\n",
      "4. Output your prediction (a number between 0 and 1) with an asterisk at the beginning and end of the decimal.\n",
      "*0.5*\n"
     ]
    }
   ],
   "source": [
    "print(ensemble_dict[\"meta_reasoning\"])"
   ]
  },
  {
   "cell_type": "markdown",
   "id": "67e80818",
   "metadata": {},
   "source": [
    "### Testing \"Advanced Forecaster\""
   ]
  },
  {
   "cell_type": "code",
   "execution_count": 13,
   "id": "1f5c70a9",
   "metadata": {},
   "outputs": [
    {
     "name": "stderr",
     "output_type": "stream",
     "text": [
      "/local/home/dpaleka/miniconda3/envs/consistency2/lib/python3.11/site-packages/transformers/utils/hub.py:124: FutureWarning: Using `TRANSFORMERS_CACHE` is deprecated and will be removed in v5 of Transformers. Use `HF_HOME` instead.\n",
      "  warnings.warn(\n"
     ]
    }
   ],
   "source": [
    "from forecasters.advanced_forecaster import AdvancedForecaster\n",
    "af = AdvancedForecaster()\n",
    "\n"
   ]
  },
  {
   "cell_type": "code",
   "execution_count": 14,
   "id": "e31f942e",
   "metadata": {},
   "outputs": [
    {
     "name": "stderr",
     "output_type": "stream",
     "text": [
      "INFO:ranking:Finding 3 search query keywords via LLM...\n",
      "INFO:httpx:HTTP Request: POST https://api.openai.com/v1/chat/completions \"HTTP/1.1 200 OK\"\n",
      "INFO:httpx:HTTP Request: POST https://api.openai.com/v1/chat/completions \"HTTP/1.1 200 OK\"\n",
      "INFO:httpx:HTTP Request: POST https://api.openai.com/v1/chat/completions \"HTTP/1.1 200 OK\"\n",
      "INFO:httpx:HTTP Request: POST https://api.openai.com/v1/chat/completions \"HTTP/1.1 200 OK\"\n",
      "INFO:ranking:Search queries for NC: ['SpaceX funding partnerships', 'SpaceX Interplanetary Transport System development', 'Will SpaceX land people on Mars before 2030?', 'SpaceX Mars mission progress', 'Elon Musk Mars 2030 update', 'Elon Musk Mars timeline update']\n",
      "INFO:ranking:Search queries for GNews: ['SpaceX funding regulatory challenges Mars', 'Will SpaceX land people on Mars before 2030?', 'Elon Musk statement on Mars landing', 'Elon Musk update Mars mission timeline', 'SpaceX Mars mission progress 2024', 'Challenges advancements SpaceX Mars 2030']\n",
      "INFO:information_retrieval:Retrieved 5 articles for SpaceX funding partnerships via Newscatcher.\n",
      "INFO:information_retrieval:Retrieved 5 articles for SpaceX Interplanetary Transport System development via Newscatcher.\n",
      "INFO:information_retrieval:Retrieved 0 articles for Will SpaceX land people on Mars before 2030? via Newscatcher.\n",
      "INFO:information_retrieval:Retrieved 5 articles for SpaceX Mars mission progress via Newscatcher.\n",
      "INFO:information_retrieval:Retrieved 5 articles for Elon Musk Mars 2030 update via Newscatcher.\n",
      "INFO:information_retrieval:Retrieved 5 articles for Elon Musk Mars timeline update via Newscatcher.\n",
      "INFO:information_retrieval:Retrieved 1 articles for SpaceX funding regulatory challenges Mars via GNews.\n",
      "INFO:information_retrieval:Retrieved 5 articles for Will SpaceX land people on Mars before 2030? via GNews.\n",
      "INFO:information_retrieval:Retrieved 5 articles for Elon Musk statement on Mars landing via GNews.\n",
      "INFO:information_retrieval:Retrieved 5 articles for Elon Musk update Mars mission timeline via GNews.\n",
      "INFO:information_retrieval:Retrieved 5 articles for SpaceX Mars mission progress 2024 via GNews.\n",
      "INFO:information_retrieval:Retrieved 1 articles for Challenges advancements SpaceX Mars 2030 via GNews.\n",
      "INFO:information_retrieval:Retrieved full article text for https://news.google.com/rss/articles/CBMiU2h0dHBzOi8vc3BhY2VuZXdzLmNvbS9tYXJzLXNhbXBsZS1yZXR1cm4tc2NpZW5jZS1jb250aW51ZXMtYW1pZC1idWRnZXQtdW5jZXJ0YWludHkv0gEA?oc=5&hl=en-US&gl=US&ceid=US:en\n",
      "INFO:information_retrieval:Retrieved full article text for https://news.google.com/rss/articles/CBMiWmh0dHBzOi8vc3BhY2VuZXdzLmNvbS9qYXBhbmVzZS1hc3Ryb25hdXRzLXRvLWxhbmQtb24tbW9vbi1hcy1wYXJ0LW9mLW5ldy1uYXNhLXBhcnRuZXJzaGlwL9IBAA?oc=5&hl=en-US&gl=US&ceid=US:en\n",
      "INFO:information_retrieval:Retrieved full article text for https://news.google.com/rss/articles/CBMiN2h0dHBzOi8vcGh5cy5vcmcvbmV3cy8yMDI0LTAzLXNwYWNleC1leWVzLXN0YXJzaGlwLmh0bWzSAQA?oc=5&hl=en-US&gl=US&ceid=US:en\n",
      "INFO:information_retrieval:Retrieved full article text for https://news.google.com/rss/articles/CBMiQmh0dHBzOi8vaW50ZXJlc3RpbmdlbmdpbmVlcmluZy5jb20vc2NpZW5jZS9odW1hbnMtbWFycy1uYXNhLXNwYWNleNIBAA?oc=5&hl=en-US&gl=US&ceid=US:en\n",
      "INFO:information_retrieval:Retrieved full article text for https://news.google.com/rss/articles/CBMiSGh0dHBzOi8vd3d3Lndhc2hpbmd0b25wb3N0LmNvbS90ZWNobm9sb2d5LzIwMjQvMDUvMDIvY2hpbmEtbW9vbi1taXNzaW9uL9IBAA?oc=5&hl=en-US&gl=US&ceid=US:en\n",
      "INFO:information_retrieval:Retrieved full article text for https://news.google.com/rss/articles/CBMic2h0dHBzOi8vd3d3LmFsamF6ZWVyYS5jb20vbmV3cy8yMDI0LzMvMTQvZGVzcGl0ZS1wcm9ibGVtcy1zcGFjZXgtaGFpbHMtcHJvZ3Jlc3MtYWZ0ZXItdGhpcmQtdGVzdC1vZi1zdGFyc2hpcC1yb2NrZXTSAXdodHRwczovL3d3dy5hbGphemVlcmEuY29tL2FtcC9uZXdzLzIwMjQvMy8xNC9kZXNwaXRlLXByb2JsZW1zLXNwYWNleC1oYWlscy1wcm9ncmVzcy1hZnRlci10aGlyZC10ZXN0LW9mLXN0YXJzaGlwLXJvY2tldA?oc=5&hl=en-US&gl=US&ceid=US:en\n",
      "INFO:information_retrieval:Retrieved full article text for https://news.google.com/rss/articles/CBMiS2h0dHBzOi8vd3d3LnNwYWNlLmNvbS9zcGFjZXgtc3RhcnNoaXAtNTAwLWZlZXQtdGFsbC1tYXJzLW1pc3Npb25zLWVsb24tbXVza9IBAA?oc=5&hl=en-US&gl=US&ceid=US:en\n",
      "INFO:information_retrieval:Retrieved full article text for https://news.google.com/rss/articles/CBMilQFodHRwczovL3d3dy5mb3JiZXMuY29tL3NpdGVzL3JvYmVydGhhcnQvMjAyNC8wMy8xOC9lbG9uLW11c2stc2F5cy1mdXR1cmUtc3BhY2V4LXN0YXJzaGlwLXdpbGwtdHJhdmVsLXRvLW90aGVyLXN0YXItc3lzdGVtcy1hZnRlci1yb2NrZXRzLWxhdGVzdC10ZXN0L9IBAA?oc=5&hl=en-US&gl=US&ceid=US:en\n",
      "INFO:information_retrieval:Retrieved full article text for https://news.google.com/rss/articles/CBMidGh0dHBzOi8vd3d3LnNjaWVudGlmaWNhbWVyaWNhbi5jb20vYXJ0aWNsZS9zcGFjZXhzLXN0YXJzaGlwLWNvdWxkLXNhdmUtbmFzYXMtYmVsZWFndWVyZWQtbWFycy1zYW1wbGUtcmV0dXJuLW1pc3Npb24v0gEA?oc=5&hl=en-US&gl=US&ceid=US:en\n",
      "INFO:information_retrieval:Retrieved full article text for https://news.google.com/rss/articles/CBMiSmh0dHBzOi8vd3d3LmNubi5jb20vMjAyNC8wMy8xNC93b3JsZC9zdGFyc2hpcC1sYXVuY2gtc3BhY2V4LXNjbi9pbmRleC5odG1s0gFDaHR0cHM6Ly9hbXAuY25uLmNvbS9jbm4vMjAyNC8wMy8xNC93b3JsZC9zdGFyc2hpcC1sYXVuY2gtc3BhY2V4LXNjbg?oc=5&hl=en-US&gl=US&ceid=US:en\n",
      "INFO:information_retrieval:Retrieved full article text for https://news.google.com/rss/articles/CBMiYGh0dHBzOi8vd3d3LmFtZXJpY2FzcGFjZS5jb20vMjAyNC8wNC8yMC9zdGFyc2hpcC1mYWNlcy1wZXJmb3JtYW5jZS1zaG9ydGZhbGwtZm9yLWx1bmFyLW1pc3Npb25zL9IBAA?oc=5&hl=en-US&gl=US&ceid=US:en\n",
      "INFO:information_retrieval:Retrieved full article text for https://news.google.com/rss/articles/CBMidGh0dHBzOi8vc3BhY2VmbGlnaHRub3cuY29tLzIwMjQvMDQvMTYvbmFzYS1yZXF1ZXN0cy1wcm9wb3NhbHMtdG8tcmVkdWNlLWNvc3QtdGltZWxpbmUtb2YtbWFycy1zYW1wbGUtcmV0dXJuLW1pc3Npb24v0gEA?oc=5&hl=en-US&gl=US&ceid=US:en\n",
      "INFO:information_retrieval:Retrieved full article text for https://news.google.com/rss/articles/CBMiZWh0dHBzOi8va3NsbmV3c3JhZGlvLmNvbS8yMDg3NzU0L2plZmYtY2FwbGFucy1taW51dGUtb2YtbmV3cy1pbGwtc2l0LW91dC1vbi10aGUtbmV4dC1taXNzaW9uLXRvLW1hcnMv0gEA?oc=5&hl=en-US&gl=US&ceid=US:en\n",
      "INFO:information_retrieval:Retrieved full article text for https://news.google.com/rss/articles/CBMiOGh0dHBzOi8vbWFzaGFibGUuY29tL2FydGljbGUvc3BhY2V4LXN0YXJzaGlwLWxhdW5jaC1kYXRl0gEA?oc=5&hl=en-US&gl=US&ceid=US:en\n",
      "INFO:information_retrieval:Retrieved full article text for https://news.google.com/rss/articles/CBMiN2h0dHBzOi8vd3d3LnNwYWNlLmNvbS9zcGFjZXgtc3RhcnNoaXAtbGF1bmNoLXBsYW5zLTIwMjTSAQA?oc=5&hl=en-US&gl=US&ceid=US:en\n",
      "INFO:information_retrieval:Retrieved full article text for https://news.google.com/rss/articles/CBMirAFodHRwczovL3d3dy5uYXNhLmdvdi9kaXJlY3RvcmF0ZXMvZXNkbWQvYXJ0ZW1pcy1jYW1wYWlnbi1kZXZlbG9wbWVudC1kaXZpc2lvbi9odW1hbi1sYW5kaW5nLXN5c3RlbS1wcm9ncmFtL25hc2EtYXJ0ZW1pcy1taXNzaW9uLXByb2dyZXNzZXMtd2l0aC1zcGFjZXgtc3RhcnNoaXAtdGVzdC1mbGlnaHQv0gEA?oc=5&hl=en-US&gl=US&ceid=US:en\n",
      "INFO:information_retrieval:Retrieved full article text for https://news.google.com/rss/articles/CBMiWWh0dHBzOi8vc3BhY2VuZXdzLmNvbS9zcGFjZXgtbWFraW5nLXByb2dyZXNzLW9uLXN0YXJzaGlwLWluLXNwYWNlLXJlZnVlbGluZy10ZWNobm9sb2dpZXMv0gEA?oc=5&hl=en-US&gl=US&ceid=US:en\n",
      "INFO:information_retrieval:Retrieved full article text for https://news.google.com/rss/articles/CBMiO2h0dHBzOi8vd3d3Lm5hc2FzcGFjZWZsaWdodC5jb20vMjAyNC8wMy9pc3Mtcm91bmR1cC0wMzAzMjQv0gEA?oc=5&hl=en-US&gl=US&ceid=US:en\n",
      "INFO:ranking:Filtering 35 articles with embedding model.\n",
      "INFO:httpx:HTTP Request: POST https://api.openai.com/v1/embeddings \"HTTP/1.1 200 OK\"\n",
      "INFO:httpx:HTTP Request: POST https://api.openai.com/v1/embeddings \"HTTP/1.1 200 OK\"\n",
      "INFO:ranking:Get 35 cosine similarities for 35 articles.\n",
      "INFO:ranking:Using 0.32 as the cosine similarity threshold.\n",
      "INFO:ranking:32 articles survived the embedding filtering.\n",
      "INFO:httpx:HTTP Request: POST https://api.openai.com/v1/chat/completions \"HTTP/1.1 200 OK\"\n",
      "INFO:httpx:HTTP Request: POST https://api.openai.com/v1/chat/completions \"HTTP/1.1 200 OK\"\n",
      "INFO:httpx:HTTP Request: POST https://api.openai.com/v1/chat/completions \"HTTP/1.1 200 OK\"\n",
      "INFO:httpx:HTTP Request: POST https://api.openai.com/v1/chat/completions \"HTTP/1.1 200 OK\"\n",
      "INFO:httpx:HTTP Request: POST https://api.openai.com/v1/chat/completions \"HTTP/1.1 200 OK\"\n",
      "INFO:httpx:HTTP Request: POST https://api.openai.com/v1/chat/completions \"HTTP/1.1 200 OK\"\n",
      "INFO:httpx:HTTP Request: POST https://api.openai.com/v1/chat/completions \"HTTP/1.1 200 OK\"\n",
      "INFO:httpx:HTTP Request: POST https://api.openai.com/v1/chat/completions \"HTTP/1.1 200 OK\"\n",
      "INFO:httpx:HTTP Request: POST https://api.openai.com/v1/chat/completions \"HTTP/1.1 200 OK\"\n",
      "INFO:httpx:HTTP Request: POST https://api.openai.com/v1/chat/completions \"HTTP/1.1 200 OK\"\n",
      "INFO:httpx:HTTP Request: POST https://api.openai.com/v1/chat/completions \"HTTP/1.1 200 OK\"\n",
      "INFO:httpx:HTTP Request: POST https://api.openai.com/v1/chat/completions \"HTTP/1.1 200 OK\"\n",
      "INFO:httpx:HTTP Request: POST https://api.openai.com/v1/chat/completions \"HTTP/1.1 200 OK\"\n",
      "INFO:httpx:HTTP Request: POST https://api.openai.com/v1/chat/completions \"HTTP/1.1 200 OK\"\n",
      "INFO:httpx:HTTP Request: POST https://api.openai.com/v1/chat/completions \"HTTP/1.1 200 OK\"\n",
      "INFO:httpx:HTTP Request: POST https://api.openai.com/v1/chat/completions \"HTTP/1.1 200 OK\"\n",
      "INFO:httpx:HTTP Request: POST https://api.openai.com/v1/chat/completions \"HTTP/1.1 200 OK\"\n",
      "INFO:httpx:HTTP Request: POST https://api.openai.com/v1/chat/completions \"HTTP/1.1 200 OK\"\n",
      "INFO:httpx:HTTP Request: POST https://api.openai.com/v1/chat/completions \"HTTP/1.1 200 OK\"\n",
      "INFO:httpx:HTTP Request: POST https://api.openai.com/v1/chat/completions \"HTTP/1.1 200 OK\"\n",
      "INFO:httpx:HTTP Request: POST https://api.openai.com/v1/chat/completions \"HTTP/1.1 200 OK\"\n",
      "INFO:httpx:HTTP Request: POST https://api.openai.com/v1/chat/completions \"HTTP/1.1 200 OK\"\n",
      "INFO:httpx:HTTP Request: POST https://api.openai.com/v1/chat/completions \"HTTP/1.1 200 OK\"\n",
      "INFO:httpx:HTTP Request: POST https://api.openai.com/v1/chat/completions \"HTTP/1.1 200 OK\"\n",
      "INFO:httpx:HTTP Request: POST https://api.openai.com/v1/chat/completions \"HTTP/1.1 200 OK\"\n",
      "INFO:httpx:HTTP Request: POST https://api.openai.com/v1/chat/completions \"HTTP/1.1 200 OK\"\n",
      "INFO:httpx:HTTP Request: POST https://api.openai.com/v1/chat/completions \"HTTP/1.1 200 OK\"\n",
      "INFO:httpx:HTTP Request: POST https://api.openai.com/v1/chat/completions \"HTTP/1.1 200 OK\"\n",
      "INFO:httpx:HTTP Request: POST https://api.openai.com/v1/chat/completions \"HTTP/1.1 200 OK\"\n",
      "INFO:httpx:HTTP Request: POST https://api.openai.com/v1/chat/completions \"HTTP/1.1 200 OK\"\n",
      "INFO:httpx:HTTP Request: POST https://api.openai.com/v1/chat/completions \"HTTP/1.1 200 OK\"\n",
      "INFO:httpx:HTTP Request: POST https://api.openai.com/v1/chat/completions \"HTTP/1.1 200 OK\"\n",
      "INFO:ranking:Article SpaceX's high-flying Starlink still searching for stable financial orbit gets rating: 1.0\n",
      "INFO:ranking:Article This new fund lets you invest in private tech startups like SpaceX and OpenAI gets rating: 2.0\n",
      "INFO:ranking:Article US risks losing space and military tech dominance without commercial sector support, Space Force commander warns gets rating: 4.0\n",
      "INFO:ranking:Article Can Indian space startups wow Musk with indigenous tech? gets rating: 2.0\n",
      "INFO:ranking:Article SpaceX loses Starship on reentry over Indian Ocean gets rating: 2.0\n",
      "INFO:ranking:Article SpaceX Starship will be 500 feet tall to prepare for Mars missions, Elon Musk says (video) gets rating: 4.0\n",
      "INFO:ranking:Article To the Stars: The Making of a Multiplanetary Species with SpaceX. gets rating: 4.0\n",
      "INFO:ranking:Article Elon Musk speaks about the 'urgent' needed to extend human civilisation beyond Earth to Mars gets rating: 3.0\n",
      "INFO:ranking:Article Blast Off and Splashdown on a Private Space Mission in a SpaceX Crew Dragon Capsule gets rating: 2.0\n",
      "INFO:ranking:Article Elon Musk Reveals First Neuralink Patient Using 'Telepathy' To Play Chess In A Live Stream gets rating: 1.0\n",
      "INFO:ranking:Article NASA seeks to reign in costs of Mars Sample Return mission gets rating: 3.0\n",
      "INFO:ranking:Article NASA Mars sample return program is expensive and will take too long gets rating: 2.0\n",
      "INFO:ranking:Article Intuitive Machines Wins NASA Award To Develop Moon Buggies gets rating: 2.0\n",
      "INFO:ranking:Article Elon Musk Makes Surprise Appearance At Prime Video's SXSW ‘Fallout' Experience gets rating: 2.0\n",
      "INFO:ranking:Article Elon Musk Unleashes Wave of Updates on SpaceX's Starship Project gets rating: 2.0\n",
      "INFO:ranking:Article Mars Sample Return science continues amid budget uncertainty gets rating: 2.0\n",
      "INFO:ranking:Article Japanese astronauts to land on moon as part of new NASA partnership gets rating: 2.0\n",
      "INFO:ranking:Article SpaceX eyes March 14 for next Starship test launch gets rating: 3.0\n",
      "INFO:ranking:Article Charting the course: NASA's long road to the Red Planet gets rating: 2.0\n",
      "INFO:ranking:Article China launches world-first mission to retrieve samples from far side of moon gets rating: 1.0\n",
      "INFO:ranking:Article Despite problems, SpaceX hails progress after third test of Starship rocket gets rating: 4.0\n",
      "INFO:ranking:Article SpaceX's giant Starship will be 500 feet tall for Mars missions, Elon Musk says (video) gets rating: 4.0\n",
      "INFO:ranking:Article Elon Musk Says Future SpaceX Starship ‘Will Travel To Other Star Systems’ After Rocket’s Latest Test gets rating: 5.0\n",
      "INFO:ranking:Article SpaceX’s Starship Could Save NASA’s Beleaguered Mars Sample Return Mission gets rating: 2.0\n",
      "INFO:ranking:Article SpaceX’s Starship hits key milestones in test flight but is lost now gets rating: 2.0\n",
      "INFO:ranking:Article Starship Faces Performance Shortfall for Lunar Missions gets rating: 4.0\n",
      "INFO:ranking:Article Jeff Caplan won't be on the next mission to Mars gets rating: 2.0\n",
      "INFO:ranking:Article Get ready: SpaceX Starship will try to fly again soon gets rating: 4.0\n",
      "INFO:ranking:Article Get ready: SpaceX's Starships are coming gets rating: 3.0\n",
      "INFO:ranking:Article NASA Artemis Mission Progresses with SpaceX Starship Test Flight gets rating: 4.0\n",
      "INFO:ranking:Article SpaceX making progress on Starship in-space refueling technologies gets rating: 5.0\n",
      "INFO:ranking:Article 20, Axiom Mission 3, and Progress MS gets rating: 1.0\n",
      "INFO:ranking:Finished ranking the articles!\n",
      "INFO:ranking:Summarizing the top 20 articles.\n",
      "INFO:summarize:Async summarizing 10 short articles\n",
      "INFO:httpx:HTTP Request: POST https://api.openai.com/v1/chat/completions \"HTTP/1.1 200 OK\"\n",
      "INFO:httpx:HTTP Request: POST https://api.openai.com/v1/chat/completions \"HTTP/1.1 200 OK\"\n",
      "INFO:httpx:HTTP Request: POST https://api.openai.com/v1/chat/completions \"HTTP/1.1 200 OK\"\n",
      "INFO:httpx:HTTP Request: POST https://api.openai.com/v1/chat/completions \"HTTP/1.1 200 OK\"\n",
      "INFO:httpx:HTTP Request: POST https://api.openai.com/v1/chat/completions \"HTTP/1.1 200 OK\"\n",
      "INFO:httpx:HTTP Request: POST https://api.openai.com/v1/chat/completions \"HTTP/1.1 200 OK\"\n",
      "INFO:httpx:HTTP Request: POST https://api.openai.com/v1/chat/completions \"HTTP/1.1 200 OK\"\n",
      "INFO:httpx:HTTP Request: POST https://api.openai.com/v1/chat/completions \"HTTP/1.1 200 OK\"\n",
      "INFO:httpx:HTTP Request: POST https://api.openai.com/v1/chat/completions \"HTTP/1.1 200 OK\"\n",
      "INFO:httpx:HTTP Request: POST https://api.openai.com/v1/chat/completions \"HTTP/1.1 200 OK\"\n",
      "INFO:ranking:Finished summarizing the 10 articles!\n",
      "INFO:httpx:HTTP Request: POST https://api.openai.com/v1/chat/completions \"HTTP/1.1 200 OK\"\n",
      "INFO:httpx:HTTP Request: POST https://api.openai.com/v1/chat/completions \"HTTP/1.1 200 OK\"\n",
      "INFO:model_eval:Finished 2 base reasonings generated by gpt-4-1106-preview\n",
      "INFO:httpx:HTTP Request: POST https://api.openai.com/v1/chat/completions \"HTTP/1.1 200 OK\"\n",
      "INFO:httpx:HTTP Request: POST https://api.openai.com/v1/chat/completions \"HTTP/1.1 200 OK\"\n",
      "INFO:model_eval:Finished 2 base reasonings generated by gpt-4-1106-preview\n",
      "INFO:httpx:HTTP Request: POST https://api.openai.com/v1/chat/completions \"HTTP/1.1 200 OK\"\n"
     ]
    }
   ],
   "source": [
    "res = await af.call_async(sentence=fq)"
   ]
  },
  {
   "cell_type": "code",
   "execution_count": 15,
   "id": "9e9cb521",
   "metadata": {},
   "outputs": [
    {
     "data": {
      "text/plain": [
       "0.45"
      ]
     },
     "execution_count": 15,
     "metadata": {},
     "output_type": "execute_result"
    }
   ],
   "source": [
    "res"
   ]
  }
 ],
 "metadata": {
  "kernelspec": {
   "display_name": "Python 3 (ipykernel)",
   "language": "python",
   "name": "python3"
  },
  "language_info": {
   "codemirror_mode": {
    "name": "ipython",
    "version": 3
   },
   "file_extension": ".py",
   "mimetype": "text/x-python",
   "name": "python",
   "nbconvert_exporter": "python",
   "pygments_lexer": "ipython3",
   "version": "3.11.9"
  }
 },
 "nbformat": 4,
 "nbformat_minor": 5
}
