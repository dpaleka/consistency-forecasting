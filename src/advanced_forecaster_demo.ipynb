{
 "cells": [
  {
   "cell_type": "code",
   "execution_count": 1,
   "id": "2d0818d6",
   "metadata": {},
   "outputs": [
    {
     "name": "stderr",
     "output_type": "stream",
     "text": [
      "/opt/homebrew/anaconda3/envs/env_cons_2/lib/python3.11/site-packages/tqdm/auto.py:21: TqdmWarning: IProgress not found. Please update jupyter and ipywidgets. See https://ipywidgets.readthedocs.io/en/stable/user_install.html\n",
      "  from .autonotebook import tqdm as notebook_tqdm\n"
     ]
    }
   ],
   "source": [
    "import sys\n",
    "from common.path_utils import get_src_path, get_data_path\n",
    "sys.path.append(str(get_src_path()))\n",
    "sys.path.append(str(get_src_path() / \"forecasters/llm_forecasting\"))\n",
    "\n",
    "from common.datatypes import ForecastingQuestion_stripped, ForecastingQuestion\n",
    "import json\n",
    "\n",
    "# llm_forecasting imports\n",
    "from prompts.prompts import PROMPT_DICT\n",
    "from utils.time_utils import get_todays_date, subtract_days_from_date\n",
    "import ranking\n",
    "import summarize\n",
    "import ensemble"
   ]
  },
  {
   "cell_type": "markdown",
   "id": "5ef6b36e",
   "metadata": {},
   "source": [
    "### Load Data"
   ]
  },
  {
   "cell_type": "code",
   "execution_count": 2,
   "id": "dc3bbc55",
   "metadata": {},
   "outputs": [],
   "source": [
    "data = []\n",
    "with open(get_data_path() / \"fq/real/questions_cleaned_formatted.jsonl\", \"r\") as file:\n",
    "    for line in file:\n",
    "        data.append(json.loads(line))"
   ]
  },
  {
   "cell_type": "code",
   "execution_count": 3,
   "id": "32dd0594",
   "metadata": {},
   "outputs": [],
   "source": [
    "sample_question = data[0]"
   ]
  },
  {
   "cell_type": "code",
   "execution_count": 4,
   "id": "f00a3bca",
   "metadata": {},
   "outputs": [],
   "source": [
    "fq = ForecastingQuestion(**sample_question)"
   ]
  },
  {
   "cell_type": "markdown",
   "id": "3f3f732a",
   "metadata": {},
   "source": [
    "### Retrieval"
   ]
  },
  {
   "cell_type": "code",
   "execution_count": 5,
   "id": "630fe7b4",
   "metadata": {},
   "outputs": [],
   "source": [
    "RETRIEVAL_CONFIG = {\n",
    "    \"NUM_SEARCH_QUERY_KEYWORDS\": 3,\n",
    "    \"MAX_WORDS_NEWSCATCHER\": 5,\n",
    "    \"MAX_WORDS_GNEWS\": 8,\n",
    "    \"SEARCH_QUERY_MODEL_NAME\": \"gpt-4-1106-preview\",\n",
    "    \"SEARCH_QUERY_TEMPERATURE\": 0.0,\n",
    "    \"SEARCH_QUERY_PROMPT_TEMPLATES\": [\n",
    "        PROMPT_DICT[\"search_query\"][\"0\"],\n",
    "        PROMPT_DICT[\"search_query\"][\"1\"],\n",
    "    ],\n",
    "    \"NUM_ARTICLES_PER_QUERY\": 5,\n",
    "    \"SUMMARIZATION_MODEL_NAME\": \"gpt-3.5-turbo-1106\",\n",
    "    \"SUMMARIZATION_TEMPERATURE\": 0.2,\n",
    "    \"SUMMARIZATION_PROMPT_TEMPLATE\": PROMPT_DICT[\"summarization\"][\"9\"],\n",
    "    \"NUM_SUMMARIES_THRESHOLD\": 10,\n",
    "    \"PRE_FILTER_WITH_EMBEDDING\": True,\n",
    "    \"PRE_FILTER_WITH_EMBEDDING_THRESHOLD\": 0.32,\n",
    "    \"RANKING_MODEL_NAME\": \"gpt-3.5-turbo-1106\",\n",
    "    \"RANKING_TEMPERATURE\": 0.0,\n",
    "    \"RANKING_PROMPT_TEMPLATE\": PROMPT_DICT[\"ranking\"][\"0\"],\n",
    "    \"RANKING_RELEVANCE_THRESHOLD\": 4,\n",
    "    \"RANKING_COSINE_SIMILARITY_THRESHOLD\": 0.5,\n",
    "    \"SORT_BY\": \"date\",\n",
    "    \"RANKING_METHOD\": \"llm-rating\",\n",
    "    \"RANKING_METHOD_LLM\": \"title_250_tokens\",\n",
    "    \"NUM_SUMMARIES_THRESHOLD\": 20,\n",
    "    \"EXTRACT_BACKGROUND_URLS\": True,\n",
    "}"
   ]
  },
  {
   "cell_type": "code",
   "execution_count": 6,
   "id": "e3a27162",
   "metadata": {},
   "outputs": [],
   "source": [
    "question = fq.title\n",
    "background_info = fq.metadata[\"background_info\"]\n",
    "resolution_criteria = fq.body # resolution criteria and other info is in |body|\n",
    "\n",
    "today_date = get_todays_date()\n",
    "# If open date is set in data structure, change beginning of retrieval to question open date.\n",
    "# Retrieve from [today's date - 1 month, today's date].\n",
    "retrieval_dates = (\n",
    "    subtract_days_from_date(today_date, 30),\n",
    "    today_date,\n",
    ")"
   ]
  },
  {
   "cell_type": "code",
   "execution_count": 7,
   "id": "6c7aa254",
   "metadata": {},
   "outputs": [
    {
     "name": "stderr",
     "output_type": "stream",
     "text": [
      "05/07/2024 01:38:32 AM - Finding 3 search query keywords via LLM...\n",
      "05/07/2024 01:38:36 AM - HTTP Request: POST https://api.openai.com/v1/chat/completions \"HTTP/1.1 200 OK\"\n",
      "05/07/2024 01:38:37 AM - HTTP Request: POST https://api.openai.com/v1/chat/completions \"HTTP/1.1 200 OK\"\n",
      "05/07/2024 01:38:38 AM - HTTP Request: POST https://api.openai.com/v1/chat/completions \"HTTP/1.1 200 OK\"\n",
      "05/07/2024 01:38:39 AM - HTTP Request: POST https://api.openai.com/v1/chat/completions \"HTTP/1.1 200 OK\"\n",
      "05/07/2024 01:38:39 AM - Search queries for NC: ['SpaceX Interplanetary Transport System tests', 'Elon Musk Mars timeline update', 'Elon Musk Mars 2030 update', 'SpaceX Mars mission progress', 'SpaceX technological advancements', 'Will SpaceX land people on Mars before 2030?']\n",
      "05/07/2024 01:38:39 AM - Search queries for GNews: ['SpaceX funding regulatory challenges 2024', 'Elon Musk update Mars landing timeline', 'SpaceX Mars mission progress 2024', 'Will SpaceX land people on Mars before 2030?', 'SpaceX Interplanetary Transport System development', 'Elon Musk statement Mars 2024']\n",
      "05/07/2024 01:38:39 AM - Retrieved 3 articles for SpaceX Interplanetary Transport System tests via Newscatcher.\n",
      "05/07/2024 01:38:40 AM - Retrieved 5 articles for Elon Musk Mars timeline update via Newscatcher.\n",
      "05/07/2024 01:38:40 AM - Retrieved 5 articles for Elon Musk Mars 2030 update via Newscatcher.\n",
      "05/07/2024 01:38:41 AM - Retrieved 5 articles for SpaceX Mars mission progress via Newscatcher.\n",
      "05/07/2024 01:38:41 AM - Retrieved 5 articles for SpaceX technological advancements via Newscatcher.\n",
      "05/07/2024 01:38:42 AM - Retrieved 0 articles for Will SpaceX land people on Mars before 2030? via Newscatcher.\n",
      "05/07/2024 01:38:43 AM - Retrieved 2 articles for SpaceX funding regulatory challenges 2024 via GNews.\n",
      "05/07/2024 01:38:45 AM - Retrieved 5 articles for Elon Musk update Mars landing timeline via GNews.\n",
      "05/07/2024 01:38:46 AM - Retrieved 5 articles for SpaceX Mars mission progress 2024 via GNews.\n",
      "05/07/2024 01:38:48 AM - Retrieved 5 articles for Will SpaceX land people on Mars before 2030? via GNews.\n",
      "05/07/2024 01:38:49 AM - Retrieved 3 articles for SpaceX Interplanetary Transport System development via GNews.\n",
      "05/07/2024 01:38:50 AM - Retrieved 5 articles for Elon Musk statement Mars 2024 via GNews.\n",
      "05/07/2024 01:38:51 AM - Retrieved full article text for https://news.google.com/rss/articles/CBMiWmh0dHBzOi8vd3d3LnRoZWd1YXJkaWFuLmNvbS91cy1uZXdzLzIwMjQvYXByLzEwL2xhYm9yLWJvYXJkLWxhd3llci1zcGFjZS14LWFtYXpvbi1wcmVzc3VyZdIBWmh0dHBzOi8vYW1wLnRoZWd1YXJkaWFuLmNvbS91cy1uZXdzLzIwMjQvYXByLzEwL2xhYm9yLWJvYXJkLWxhd3llci1zcGFjZS14LWFtYXpvbi1wcmVzc3VyZQ?oc=5&hl=en-US&gl=US&ceid=US:en\n",
      "05/07/2024 01:38:54 AM - Retrieved full article text for https://news.google.com/rss/articles/CBMiUWh0dHBzOi8vd3d3LmZvcmJlcy5jb20vdWsvYWR2aXNvci9pbnZlc3RpbmcvMjAyNC8wNC8yMy9pbnZlc3RtZW50LW1hcmtldC11cGRhdGVzL9IBAA?oc=5&hl=en-US&gl=US&ceid=US:en\n",
      "05/07/2024 01:38:55 AM - Retrieved full article text for https://news.google.com/rss/articles/CBMidGh0dHBzOi8vc3BhY2VmbGlnaHRub3cuY29tLzIwMjQvMDQvMTYvbmFzYS1yZXF1ZXN0cy1wcm9wb3NhbHMtdG8tcmVkdWNlLWNvc3QtdGltZWxpbmUtb2YtbWFycy1zYW1wbGUtcmV0dXJuLW1pc3Npb24v0gEA?oc=5&hl=en-US&gl=US&ceid=US:en\n",
      "05/07/2024 01:38:56 AM - Retrieved full article text for https://news.google.com/rss/articles/CBMiQmh0dHBzOi8vd3d3Lmh1bWFubWFycy5uZXQvMjAyNC8wNC9zcGFjZXgtc3RhcnNoaXAtdXBkYXRlLTIwMjQuaHRtbNIBAA?oc=5&hl=en-US&gl=US&ceid=US:en\n",
      "05/07/2024 01:38:57 AM - Retrieved full article text for https://news.google.com/rss/articles/CBMiRWh0dHBzOi8vd3d3LnNwYWNlLmNvbS9zcGFjZXgtZmFsY29uLTktMjB0aC1sYXVuY2gtc3RhcmxpbmstZ3JvdXAtNi00OdIBAA?oc=5&hl=en-US&gl=US&ceid=US:en\n",
      "05/07/2024 01:38:59 AM - Retrieved full article text for https://news.google.com/rss/articles/CBMiQGh0dHBzOi8vaW50ZXJlc3RpbmdlbmdpbmVlcmluZy5jb20vc2NpZW5jZS9odW1hbnMtdG8tbWFycy1zcGFjZXjSAQA?oc=5&hl=en-US&gl=US&ceid=US:en\n",
      "05/07/2024 01:39:00 AM - get_html_2XX_only(): bad status code 403 on URL: https://news.google.com/rss/articles/CBMibGh0dHBzOi8vd3d3LmlidGltZXMuY28udWsvc3BhY2V4LW1hcnMtcGxhbnMtMTAwMC1zcGFjZXNoaXBzLWRlbGl2ZXItZmlyc3QtY29sb25pc3RzLXdpdGhpbi03LTkteWVhcnMtMTcyNDMyN9IBAA?oc=5&hl=en-US&gl=US&ceid=US:en, html: Forbidden\n",
      "05/07/2024 01:39:00 AM - Retrieved full article text for https://news.google.com/rss/articles/CBMibGh0dHBzOi8vd3d3LmlidGltZXMuY28udWsvc3BhY2V4LW1hcnMtcGxhbnMtMTAwMC1zcGFjZXNoaXBzLWRlbGl2ZXItZmlyc3QtY29sb25pc3RzLXdpdGhpbi03LTkteWVhcnMtMTcyNDMyN9IBAA?oc=5&hl=en-US&gl=US&ceid=US:en\n"
     ]
    },
    {
     "name": "stdout",
     "output_type": "stream",
     "text": [
      "An error occurred while fetching the article: Article `download()` failed with Status code 403 for url None on URL https://news.google.com/rss/articles/CBMibGh0dHBzOi8vd3d3LmlidGltZXMuY28udWsvc3BhY2V4LW1hcnMtcGxhbnMtMTAwMC1zcGFjZXNoaXBzLWRlbGl2ZXItZmlyc3QtY29sb25pc3RzLXdpdGhpbi03LTkteWVhcnMtMTcyNDMyN9IBAA?oc=5&hl=en-US&gl=US&ceid=US:en\n"
     ]
    },
    {
     "name": "stderr",
     "output_type": "stream",
     "text": [
      "05/07/2024 01:39:01 AM - Retrieved full article text for https://news.google.com/rss/articles/CBMiS2h0dHBzOi8vd3d3LnNwYWNlLmNvbS9zcGFjZXgtc3RhcnNoaXAtNTAwLWZlZXQtdGFsbC1tYXJzLW1pc3Npb25zLWVsb24tbXVza9IBAA?oc=5&hl=en-US&gl=US&ceid=US:en\n",
      "05/07/2024 01:39:01 AM - Retrieved full article text for https://news.google.com/rss/articles/CBMiWWh0dHBzOi8vc3BhY2VuZXdzLmNvbS9zcGFjZXgtbWFraW5nLXByb2dyZXNzLW9uLXN0YXJzaGlwLWluLXNwYWNlLXJlZnVlbGluZy10ZWNobm9sb2dpZXMv0gEA?oc=5&hl=en-US&gl=US&ceid=US:en\n",
      "05/07/2024 01:39:02 AM - Retrieved full article text for https://news.google.com/rss/articles/CBMiWWh0dHBzOi8vd3d3Lm5hc2EuZ292L2NlbnRlcnMtYW5kLWZhY2lsaXRpZXMvbWFyc2hhbGwvdGhlLW1hcnNoYWxsLXN0YXItZm9yLWFwcmlsLTE3LTIwMjQv0gEA?oc=5&hl=en-US&gl=US&ceid=US:en\n",
      "05/07/2024 01:39:03 AM - get_html_2XX_only(): bad status code 403 on URL: https://news.google.com/rss/articles/CBMiU2h0dHBzOi8vd3d3Lm15c2FuYW50b25pby5jb20vYnVzaW5lc3MvYXJ0aWNsZS9zcGFjZXgtaHVtYW4tc3BhY2VmbGlnaHQtMTk0MzA2OTUucGhw0gEA?oc=5&hl=en-US&gl=US&ceid=US:en, html: <!DOCTYPE html>\n",
      "<html lang=\"en\">\n",
      "<head>\n",
      "    <meta charset=\"utf-8\">\n",
      "    <meta name=\"viewport\" content=\"width=device-width, initial-scale=1\">\n",
      "    <meta name=\"description\" content=\"px-captcha\">\n",
      "    <titl\n",
      "05/07/2024 01:39:03 AM - Retrieved full article text for https://news.google.com/rss/articles/CBMiU2h0dHBzOi8vd3d3Lm15c2FuYW50b25pby5jb20vYnVzaW5lc3MvYXJ0aWNsZS9zcGFjZXgtaHVtYW4tc3BhY2VmbGlnaHQtMTk0MzA2OTUucGhw0gEA?oc=5&hl=en-US&gl=US&ceid=US:en\n"
     ]
    },
    {
     "name": "stdout",
     "output_type": "stream",
     "text": [
      "An error occurred while fetching the article: Article `download()` failed with Website protected with PerimeterX, url: None on URL https://news.google.com/rss/articles/CBMiU2h0dHBzOi8vd3d3Lm15c2FuYW50b25pby5jb20vYnVzaW5lc3MvYXJ0aWNsZS9zcGFjZXgtaHVtYW4tc3BhY2VmbGlnaHQtMTk0MzA2OTUucGhw0gEA?oc=5&hl=en-US&gl=US&ceid=US:en\n"
     ]
    },
    {
     "name": "stderr",
     "output_type": "stream",
     "text": [
      "05/07/2024 01:39:03 AM - Retrieved full article text for https://news.google.com/rss/articles/CBMiPmh0dHBzOi8vb2JzZXJ2ZXIuY29tLzIwMjQvMDQvc3BhY2UtbWlzc2lvbnMtdG8td2F0Y2gtbWF5LTIwMjQv0gEA?oc=5&hl=en-US&gl=US&ceid=US:en\n",
      "05/07/2024 01:39:04 AM - Retrieved full article text for https://news.google.com/rss/articles/CBMiWmh0dHBzOi8vc3BhY2VuZXdzLmNvbS9qYXBhbmVzZS1hc3Ryb25hdXRzLXRvLWxhbmQtb24tbW9vbi1hcy1wYXJ0LW9mLW5ldy1uYXNhLXBhcnRuZXJzaGlwL9IBAA?oc=5&hl=en-US&gl=US&ceid=US:en\n",
      "05/07/2024 01:39:04 AM - Retrieved full article text for https://news.google.com/rss/articles/CBMiSGh0dHBzOi8vd3d3Lndhc2hpbmd0b25wb3N0LmNvbS90ZWNobm9sb2d5LzIwMjQvMDUvMDIvY2hpbmEtbW9vbi1taXNzaW9uL9IBAA?oc=5&hl=en-US&gl=US&ceid=US:en\n",
      "05/07/2024 01:39:06 AM - Retrieved full article text for https://news.google.com/rss/articles/CBMiOWh0dHBzOi8vd3d3LnNwYWNlLmNvbS9jaGluZXNlLXByZWVtaW5lbmNlLW1vb24tbWFycy1vcC1lZNIBAA?oc=5&hl=en-US&gl=US&ceid=US:en\n",
      "05/07/2024 01:39:06 AM - Retrieved full article text for https://news.google.com/rss/articles/CBMiJ2h0dHBzOi8vc3BhY2VuZXdzLmNvbS9uYXNhcy1uby10by1tYXJzL9IBAA?oc=5&hl=en-US&gl=US&ceid=US:en\n",
      "/opt/homebrew/anaconda3/envs/env_cons_2/lib/python3.11/site-packages/newspaper/extractors/metadata_extractor.py:55: FutureWarning: The behavior of this method will change in future versions. Use specific 'len(elem)' or 'elem is not None' test instead.\n",
      "  if not s or len(s) < 2:\n",
      "05/07/2024 01:39:07 AM - Retrieved full article text for https://news.google.com/rss/articles/CBMia2h0dHBzOi8vd3d3LmRhaWx5bWFpbC5jby51ay9zY2llbmNldGVjaC9hcnRpY2xlLTEzMzc4NTkxL0NoaW5hLXNlbmRpbmctcHJvYmUtc2FtcGxlcy1leHBsb3JlZC1mYXItTW9vbi5odG1s0gFvaHR0cHM6Ly93d3cuZGFpbHltYWlsLmNvLnVrL3NjaWVuY2V0ZWNoL2FydGljbGUtMTMzNzg1OTEvYW1wL0NoaW5hLXNlbmRpbmctcHJvYmUtc2FtcGxlcy1leHBsb3JlZC1mYXItTW9vbi5odG1s?oc=5&hl=en-US&gl=US&ceid=US:en\n",
      "05/07/2024 01:39:08 AM - Retrieved full article text for https://news.google.com/rss/articles/CBMiVmh0dHBzOi8vdWsubW92aWVzLnlhaG9vLmNvbS9maW5hbmNlL25ld3MvaGVyZXMtZWxvbi1tdXNrcy1pbXByb3ZlZC1wbGFuLTA0NTYwMDM1Ni5odG1s0gEA?oc=5&hl=en-US&gl=US&ceid=US:en\n",
      "05/07/2024 01:39:10 AM - Retrieved full article text for https://news.google.com/rss/articles/CBMiR2h0dHBzOi8vYW1hYy51cy9uZXdzbGluZS9zb2NpZXR5L3Bpdm90YWwteWVhci1mb3ItYW1lcmljYW4tc3BhY2VmbGlnaHQv0gEA?oc=5&hl=en-US&gl=US&ceid=US:en\n",
      "05/07/2024 01:39:12 AM - Retrieved full article text for https://news.google.com/rss/articles/CBMicmh0dHBzOi8vYXJzdGVjaG5pY2EuY29tL3NwYWNlLzIwMjQvMDQvZWxvbi1tdXNrLWp1c3QtZ2F2ZS1hbm90aGVyLW1hcnMtc3BlZWNoLXRoaXMtdGltZS10aGUtdmlzaW9uLXNlZW1zLXRhbmdpYmxlL9IBAA?oc=5&hl=en-US&gl=US&ceid=US:en\n",
      "05/07/2024 01:39:12 AM - Retrieved full article text for https://news.google.com/rss/articles/CBMidGh0dHBzOi8vd3d3LnNjaWVudGlmaWNhbWVyaWNhbi5jb20vYXJ0aWNsZS9zcGFjZXhzLXN0YXJzaGlwLWNvdWxkLXNhdmUtbmFzYXMtYmVsZWFndWVyZWQtbWFycy1zYW1wbGUtcmV0dXJuLW1pc3Npb24v0gEA?oc=5&hl=en-US&gl=US&ceid=US:en\n",
      "05/07/2024 01:39:14 AM - Retrieved full article text for https://news.google.com/rss/articles/CBMiKmh0dHBzOi8vd3d3LmF6ZXJuZXdzLmF6L3JlZ2lvbi8yMjQzODkuaHRtbNIBAA?oc=5&hl=en-US&gl=US&ceid=US:en\n",
      "05/07/2024 01:39:14 AM - Filtering 39 articles with embedding model.\n",
      "05/07/2024 01:39:14 AM - HTTP Request: POST https://api.openai.com/v1/embeddings \"HTTP/1.1 200 OK\"\n",
      "05/07/2024 01:39:15 AM - HTTP Request: POST https://api.openai.com/v1/embeddings \"HTTP/1.1 200 OK\"\n",
      "05/07/2024 01:39:15 AM - Get 39 cosine similarities for 39 articles.\n",
      "05/07/2024 01:39:15 AM - Using 0.32 as the cosine similarity threshold.\n",
      "05/07/2024 01:39:15 AM - 30 articles survived the embedding filtering.\n",
      "05/07/2024 01:39:16 AM - HTTP Request: POST https://api.openai.com/v1/chat/completions \"HTTP/1.1 200 OK\"\n",
      "05/07/2024 01:39:16 AM - HTTP Request: POST https://api.openai.com/v1/chat/completions \"HTTP/1.1 200 OK\"\n",
      "05/07/2024 01:39:16 AM - HTTP Request: POST https://api.openai.com/v1/chat/completions \"HTTP/1.1 200 OK\"\n",
      "05/07/2024 01:39:16 AM - HTTP Request: POST https://api.openai.com/v1/chat/completions \"HTTP/1.1 200 OK\"\n",
      "05/07/2024 01:39:16 AM - HTTP Request: POST https://api.openai.com/v1/chat/completions \"HTTP/1.1 200 OK\"\n",
      "05/07/2024 01:39:16 AM - HTTP Request: POST https://api.openai.com/v1/chat/completions \"HTTP/1.1 200 OK\"\n",
      "05/07/2024 01:39:16 AM - HTTP Request: POST https://api.openai.com/v1/chat/completions \"HTTP/1.1 200 OK\"\n",
      "05/07/2024 01:39:16 AM - HTTP Request: POST https://api.openai.com/v1/chat/completions \"HTTP/1.1 200 OK\"\n",
      "05/07/2024 01:39:16 AM - HTTP Request: POST https://api.openai.com/v1/chat/completions \"HTTP/1.1 200 OK\"\n",
      "05/07/2024 01:39:16 AM - HTTP Request: POST https://api.openai.com/v1/chat/completions \"HTTP/1.1 200 OK\"\n",
      "05/07/2024 01:39:16 AM - HTTP Request: POST https://api.openai.com/v1/chat/completions \"HTTP/1.1 200 OK\"\n",
      "05/07/2024 01:39:16 AM - HTTP Request: POST https://api.openai.com/v1/chat/completions \"HTTP/1.1 200 OK\"\n",
      "05/07/2024 01:39:16 AM - HTTP Request: POST https://api.openai.com/v1/chat/completions \"HTTP/1.1 200 OK\"\n",
      "05/07/2024 01:39:17 AM - HTTP Request: POST https://api.openai.com/v1/chat/completions \"HTTP/1.1 200 OK\"\n",
      "05/07/2024 01:39:17 AM - HTTP Request: POST https://api.openai.com/v1/chat/completions \"HTTP/1.1 200 OK\"\n",
      "05/07/2024 01:39:17 AM - HTTP Request: POST https://api.openai.com/v1/chat/completions \"HTTP/1.1 200 OK\"\n",
      "05/07/2024 01:39:17 AM - HTTP Request: POST https://api.openai.com/v1/chat/completions \"HTTP/1.1 200 OK\"\n",
      "05/07/2024 01:39:17 AM - HTTP Request: POST https://api.openai.com/v1/chat/completions \"HTTP/1.1 200 OK\"\n",
      "05/07/2024 01:39:17 AM - HTTP Request: POST https://api.openai.com/v1/chat/completions \"HTTP/1.1 200 OK\"\n",
      "05/07/2024 01:39:17 AM - HTTP Request: POST https://api.openai.com/v1/chat/completions \"HTTP/1.1 200 OK\"\n",
      "05/07/2024 01:39:17 AM - HTTP Request: POST https://api.openai.com/v1/chat/completions \"HTTP/1.1 200 OK\"\n",
      "05/07/2024 01:39:17 AM - HTTP Request: POST https://api.openai.com/v1/chat/completions \"HTTP/1.1 200 OK\"\n",
      "05/07/2024 01:39:17 AM - HTTP Request: POST https://api.openai.com/v1/chat/completions \"HTTP/1.1 200 OK\"\n",
      "05/07/2024 01:39:17 AM - HTTP Request: POST https://api.openai.com/v1/chat/completions \"HTTP/1.1 200 OK\"\n",
      "05/07/2024 01:39:17 AM - HTTP Request: POST https://api.openai.com/v1/chat/completions \"HTTP/1.1 200 OK\"\n",
      "05/07/2024 01:39:17 AM - HTTP Request: POST https://api.openai.com/v1/chat/completions \"HTTP/1.1 200 OK\"\n",
      "05/07/2024 01:39:17 AM - HTTP Request: POST https://api.openai.com/v1/chat/completions \"HTTP/1.1 200 OK\"\n",
      "05/07/2024 01:39:17 AM - HTTP Request: POST https://api.openai.com/v1/chat/completions \"HTTP/1.1 200 OK\"\n",
      "05/07/2024 01:39:17 AM - HTTP Request: POST https://api.openai.com/v1/chat/completions \"HTTP/1.1 200 OK\"\n",
      "05/07/2024 01:39:36 AM - HTTP Request: POST https://api.openai.com/v1/chat/completions \"HTTP/1.1 200 OK\"\n",
      "05/07/2024 01:39:36 AM - Article SpaceX Unveils Groundbreaking Extravehicular Activity (EVA) Suit as Polaris Dawn Nears gets rating: 3.0\n",
      "05/07/2024 01:39:36 AM - Article Elon Musk Unleashes Wave of Updates on SpaceX's Starship Project gets rating: 2.0\n",
      "05/07/2024 01:39:36 AM - Article SpaceX Just Unveiled the High-Tech Space Suits for the Polaris Dawn Mission gets rating: 2.0\n",
      "05/07/2024 01:39:36 AM - Article SpaceX has added a 'human spaceflight' portion to its web site gets rating: 5.0\n",
      "05/07/2024 01:39:36 AM - Article NASA seeks to reign in costs of Mars Sample Return mission gets rating: 4.0\n",
      "05/07/2024 01:39:36 AM - Article NASA Mars sample return program is expensive and will take too long gets rating: 2.0\n",
      "05/07/2024 01:39:36 AM - Article Lunar missions exciting time for space gets rating: 1.0\n",
      "05/07/2024 01:39:36 AM - Article To the Stars: The Making of a Multiplanetary Species with SpaceX. gets rating: 4.0\n",
      "05/07/2024 01:39:36 AM - Article SpaceX Starship will be 500 feet tall to prepare for Mars missions, Elon Musk says (video) gets rating: 3.0\n",
      "05/07/2024 01:39:36 AM - Article SpaceX Gears Up for Starship Flight Test 4 with Unprecedented Upgrades and Preparations gets rating: 5.0\n",
      "05/07/2024 01:39:36 AM - Article Blast Off and Splashdown on a Private Space Mission in a SpaceX Crew Dragon Capsule gets rating: 2.0\n",
      "05/07/2024 01:39:36 AM - Article Elon Musk speaks about the 'urgent' needed to extend human civilisation beyond Earth to Mars gets rating: 5.0\n",
      "05/07/2024 01:39:36 AM - Article Tesla and SpaceX Collaborate on Next-Generation Electric Roadster gets rating: 1.0\n",
      "05/07/2024 01:39:36 AM - Article SpaceX's Ambitious Leap: Virtual Launch Towers at Sea Set to Transform Space Exploration gets rating: 2.0\n",
      "05/07/2024 01:39:36 AM - Article SpaceX launches Starlink satellites on record 20th reflight of a Falcon 9 rocket first stage gets rating: 2.0\n",
      "05/07/2024 01:39:36 AM - Article Humans to Mars: What’s the holdup? – part II gets rating: 2.0\n",
      "05/07/2024 01:39:36 AM - Article SpaceX's giant Starship will be 500 feet tall for Mars missions, Elon Musk says (video) gets rating: 3.0\n",
      "05/07/2024 01:39:36 AM - Article SpaceX making progress on Starship in-space refueling technologies gets rating: 5.0\n",
      "05/07/2024 01:39:36 AM - Article The Marshall Star for April 17, 2024 gets rating: 1.0\n",
      "05/07/2024 01:39:36 AM - Article Space Missions to Watch in May: China Explores the Dark Side of the Moon, Boeing Starliner, and More gets rating: 2.0\n",
      "05/07/2024 01:39:36 AM - Article Japanese astronauts to land on moon as part of new NASA partnership gets rating: 2.0\n",
      "05/07/2024 01:39:36 AM - Article China launches world-first mission to retrieve samples from far side of moon gets rating: 1.0\n",
      "05/07/2024 01:39:36 AM - Article Are we prepared for Chinese preeminence on the moon and Mars? (op-ed) gets rating: 2.0\n",
      "05/07/2024 01:39:36 AM - Article NASA’s no to Mars gets rating: 3.0\n",
      "05/07/2024 01:39:36 AM - Article China sending probe to get samples from less-explored... gets rating: 1.0\n",
      "05/07/2024 01:39:36 AM - Article Elon Musk presented a new-and-improved plan to colonize Mars with a giant reusable spaceship — here are the highlights gets rating: 3.0\n",
      "05/07/2024 01:39:36 AM - Article Pivotal Year for American Spaceflight gets rating: 5.0\n",
      "05/07/2024 01:39:36 AM - Article Elon Musk just gave another Mars speech—this time the vision seems tangible gets rating: 3.0\n",
      "05/07/2024 01:39:36 AM - Article SpaceX’s Starship Could Save NASA’s Beleaguered Mars Sample Return Mission gets rating: 2.0\n",
      "05/07/2024 01:39:36 AM - Article Elon Musk to send a million people to Mars gets rating: 4.0\n",
      "05/07/2024 01:39:36 AM - Finished ranking the articles!\n",
      "05/07/2024 01:39:36 AM - Summarizing the top 20 articles.\n",
      "05/07/2024 01:39:36 AM - Async summarizing 8 short articles\n",
      "05/07/2024 01:39:38 AM - HTTP Request: POST https://api.openai.com/v1/chat/completions \"HTTP/1.1 200 OK\"\n",
      "05/07/2024 01:39:38 AM - HTTP Request: POST https://api.openai.com/v1/chat/completions \"HTTP/1.1 200 OK\"\n",
      "05/07/2024 01:39:38 AM - HTTP Request: POST https://api.openai.com/v1/chat/completions \"HTTP/1.1 200 OK\"\n",
      "05/07/2024 01:39:39 AM - HTTP Request: POST https://api.openai.com/v1/chat/completions \"HTTP/1.1 200 OK\"\n",
      "05/07/2024 01:39:39 AM - HTTP Request: POST https://api.openai.com/v1/chat/completions \"HTTP/1.1 200 OK\"\n",
      "05/07/2024 01:39:39 AM - HTTP Request: POST https://api.openai.com/v1/chat/completions \"HTTP/1.1 200 OK\"\n",
      "05/07/2024 01:39:39 AM - HTTP Request: POST https://api.openai.com/v1/chat/completions \"HTTP/1.1 200 OK\"\n",
      "05/07/2024 01:39:40 AM - HTTP Request: POST https://api.openai.com/v1/chat/completions \"HTTP/1.1 200 OK\"\n",
      "05/07/2024 01:39:40 AM - Finished summarizing the 8 articles!\n"
     ]
    }
   ],
   "source": [
    "(\n",
    "    ranked_articles,\n",
    "    all_articles,\n",
    "    search_queries_list_gnews,\n",
    "    search_queries_list_nc,\n",
    ") = await ranking.retrieve_summarize_and_rank_articles(\n",
    "    question,\n",
    "    background_info,\n",
    "    resolution_criteria,\n",
    "    retrieval_dates,\n",
    "    urls=[],\n",
    "    config=RETRIEVAL_CONFIG,\n",
    "    return_intermediates=True,\n",
    ")"
   ]
  },
  {
   "cell_type": "code",
   "execution_count": 8,
   "id": "15ef96b4",
   "metadata": {},
   "outputs": [
    {
     "name": "stdout",
     "output_type": "stream",
     "text": [
      "---\n",
      "ARTICLES\n",
      "[1] SpaceX has added a 'human spaceflight' portion to its web site (published on 2024-05-06)\n",
      "Summary: SpaceX has added human spaceflight offerings to its website, including missions to Earth orbit, the International Space Station (ISS), lunar orbit, and Mars. The company's Starship upper stage is one of the vehicles listed for these missions. Pricing information is not available, but interested customers can inquire via email. Missions to Earth orbit will begin later this year, with seats and research opportunities available in late 2024. Ten-day commercial missions to the ISS will be available in 2025. Trips to lunar orbit and Mars do not have listed timelines. SpaceX's ambitious plan suggests the possibility of landing people on Mars before 2030.\n",
      "\n",
      "[2] SpaceX Gears Up for Starship Flight Test 4 with Unprecedented Upgrades and Preparations (published on 2024-05-04)\n",
      "Summary: SpaceX is gearing up for the highly anticipated fourth flight test of its Starship spacecraft at Boca Chica, Texas. The site has been a hive of activity, with engineers and technicians working tirelessly to ensure every component functions seamlessly. The innovative updates and rigorous testing regimens could redefine space travel, setting new standards for safety, efficiency, and technological integration. The upcoming flight test is crucial for validating the design changes and new technologies integrated into the spacecraft and its support systems. If successful, this could pave the way for SpaceX to land people on Mars before 2030, as outlined in their detailed plan for interplanetary travel.\n",
      "\n",
      "[3] SpaceX making progress on Starship in-space refueling technologies (published on 2024-04-27)\n",
      "Summary: NASA says SpaceX is on track to demonstrate in-space refueling of Starship next year, a critical technology for returning humans to the lunar surface. The next major milestone is a demonstration planned for 2025 where two Starships will dock in orbit, with one transferring propellants to the other. Propellant transfer technology is essential to SpaceX’s plans for Starship missions beyond low Earth orbit, including the Human Landing System (HLS) version of Starship that will be used to land astronauts on the moon starting with the Artemis 3 mission, currently scheduled for no earlier than September 2026. Elon Musk, chief executive of SpaceX, posted on social media that \"Full & rapid reusability of booster & ship and orbital refilling of ship are the 2 fundamental technologies we aim to solve by the end of next year.\"\n",
      "\n",
      "[4] To the Stars: The Making of a Multiplanetary Species with SpaceX. (published on 2024-04-22)\n",
      "Summary: SpaceX is on a mission to make life multiplanetary, with a focus on Mars. Elon Musk, the Chief Engineer, outlined the company's commitment to building the necessary technologies for interplanetary exploration. The plan includes the development of the Starship, a spacecraft designed for rapid reusability and capable of carrying large payloads to orbit  ...\n"
     ]
    }
   ],
   "source": [
    "all_summaries = summarize.concat_summaries(\n",
    "    ranked_articles[: RETRIEVAL_CONFIG[\"NUM_SUMMARIES_THRESHOLD\"]]\n",
    ")\n",
    "\n",
    "print(all_summaries[:3000], \"...\")"
   ]
  },
  {
   "cell_type": "markdown",
   "id": "89e4b793",
   "metadata": {},
   "source": [
    "### Reasoning"
   ]
  },
  {
   "cell_type": "code",
   "execution_count": 9,
   "id": "42e11b9c",
   "metadata": {},
   "outputs": [],
   "source": [
    "REASONING_CONFIG = {\n",
    "    \"BASE_REASONING_MODEL_NAMES\": [\"gpt-4-1106-preview\", \"gpt-4-1106-preview\"],\n",
    "    \"BASE_REASONING_TEMPERATURE\": 1.0,\n",
    "    \"BASE_REASONING_PROMPT_TEMPLATES\": [\n",
    "        [\n",
    "            PROMPT_DICT[\"binary\"][\"scratch_pad\"][\"1\"],\n",
    "            PROMPT_DICT[\"binary\"][\"scratch_pad\"][\"2\"],\n",
    "        ],\n",
    "        [\n",
    "            PROMPT_DICT[\"binary\"][\"scratch_pad\"][\"new_3\"],\n",
    "            PROMPT_DICT[\"binary\"][\"scratch_pad\"][\"new_6\"],\n",
    "        ],\n",
    "    ],\n",
    "    \"AGGREGATION_METHOD\": \"meta\",\n",
    "    \"AGGREGATION_PROMPT_TEMPLATE\": PROMPT_DICT[\"meta_reasoning\"][\"0\"],\n",
    "    \"AGGREGATION_TEMPERATURE\": 0.2,\n",
    "    \"AGGREGATION_MODEL_NAME\": \"gpt-4\",\n",
    "    \"AGGREGATION_WEIGTHTS\": None,\n",
    "}"
   ]
  },
  {
   "cell_type": "code",
   "execution_count": 10,
   "id": "55883aae",
   "metadata": {},
   "outputs": [
    {
     "name": "stderr",
     "output_type": "stream",
     "text": [
      "05/07/2024 01:39:58 AM - HTTP Request: POST https://api.openai.com/v1/chat/completions \"HTTP/1.1 200 OK\"\n",
      "05/07/2024 01:40:05 AM - HTTP Request: POST https://api.openai.com/v1/chat/completions \"HTTP/1.1 200 OK\"\n",
      "05/07/2024 01:40:05 AM - Finished 2 base reasonings generated by gpt-4-1106-preview\n",
      "05/07/2024 01:40:32 AM - HTTP Request: POST https://api.openai.com/v1/chat/completions \"HTTP/1.1 200 OK\"\n",
      "05/07/2024 01:40:39 AM - HTTP Request: POST https://api.openai.com/v1/chat/completions \"HTTP/1.1 200 OK\"\n",
      "05/07/2024 01:40:39 AM - Finished 2 base reasonings generated by gpt-4-1106-preview\n",
      "05/07/2024 01:41:03 AM - HTTP Request: POST https://api.openai.com/v1/chat/completions \"HTTP/1.1 200 OK\"\n"
     ]
    }
   ],
   "source": [
    "close_date = \"N/A\"  # data doesn't have explicit close date, so set to N/A\n",
    "today_to_close_date = [today_date, close_date]\n",
    "\n",
    "ensemble_dict = await ensemble.meta_reason(\n",
    "    question=question,\n",
    "    background_info=background_info,\n",
    "    resolution_criteria=resolution_criteria,\n",
    "    today_to_close_date_range=today_to_close_date,\n",
    "    retrieved_info=all_summaries,\n",
    "    reasoning_prompt_templates=REASONING_CONFIG[\"BASE_REASONING_PROMPT_TEMPLATES\"],\n",
    "    base_model_names=REASONING_CONFIG[\"BASE_REASONING_MODEL_NAMES\"],\n",
    "    base_temperature=REASONING_CONFIG[\"BASE_REASONING_TEMPERATURE\"],\n",
    "    aggregation_method=REASONING_CONFIG[\"AGGREGATION_METHOD\"],\n",
    "    weights=REASONING_CONFIG[\"AGGREGATION_WEIGTHTS\"],\n",
    "    meta_model_name=REASONING_CONFIG[\"AGGREGATION_MODEL_NAME\"],\n",
    "    meta_prompt_template=REASONING_CONFIG[\"AGGREGATION_PROMPT_TEMPLATE\"],\n",
    "    meta_temperature=REASONING_CONFIG[\"AGGREGATION_TEMPERATURE\"],\n",
    ")"
   ]
  },
  {
   "cell_type": "code",
   "execution_count": 11,
   "id": "9c5611e4",
   "metadata": {},
   "outputs": [
    {
     "name": "stdout",
     "output_type": "stream",
     "text": [
      "REASONING\n",
      " =================\n",
      "1. Provide reasons why the answer might be no.\n",
      "- Technological Challenges: The mission to Mars is fraught with numerous technical hurdles, including the development of a reliable interplanetary transport system, mastering in-space refueling, and ensuring the safe landing of a crewed spacecraft on Mars. These challenges could potentially delay the mission.\n",
      "- Regulatory and Safety Concerns: Given the high-risk nature of the mission, regulatory bodies might impose stringent safety requirements, which could lead to delays.\n",
      "- Financial Constraints: The Mars mission is a costly endeavor. Despite SpaceX's successful track record in securing funding, the financial requirements for this mission could exceed the company's budget or investor appetite.\n",
      "- Unforeseen Complications: Space missions are often subject to unexpected setbacks, such as technical failures or logistical issues, which could significantly delay the timeline.\n",
      "\n",
      "2. Provide reasons why the answer might be yes.\n",
      "- Progress on Key Technologies: SpaceX has made significant strides in the development of the Starship spacecraft and is on track to demonstrate in-space refueling by 2025. These advancements could pave the way for a successful Mars mission.\n",
      "- Aggressive Timelines: SpaceX is known for its ambitious timelines and has consistently pushed the boundaries of space technology. This drive could potentially accelerate the mission's progress.\n",
      "- Elon Musk's Commitment: Elon Musk's unwavering commitment to making life multiplanetary and his track record of achieving challenging milestones could be a driving force behind the mission's success.\n",
      "\n",
      "3. Aggregate your considerations.\n",
      "While SpaceX has made significant progress in the development of key technologies and has a strong commitment to achieving its goal, the technical, regulatory, and financial challenges associated with the mission cannot be overlooked. The company's ambitious timeline must be balanced against the potential for unforeseen complications and delays. \n",
      "\n",
      "4. Output your prediction (a number between 0 and 1) with an asterisk at the beginning and end of the decimal.\n",
      "Considering the progress made by SpaceX and the potential challenges, I estimate the probability of SpaceX landing people on Mars before 2030 to be:\n",
      "\n",
      "*0.45*\n",
      "PROBABILITY\n",
      " =================\n",
      "0.45\n"
     ]
    }
   ],
   "source": [
    "print(\"REASONING\\n\", \"=================\")\n",
    "print(ensemble_dict[\"meta_reasoning\"])\n",
    "\n",
    "print(\"PROBABILITY\\n\", \"=================\")\n",
    "print(ensemble_dict[\"meta_prediction\"])"
   ]
  },
  {
   "cell_type": "markdown",
   "id": "67e80818",
   "metadata": {},
   "source": [
    "### Testing \"Advanced Forecaster\""
   ]
  },
  {
   "cell_type": "code",
   "execution_count": 15,
   "id": "1f5c70a9",
   "metadata": {},
   "outputs": [],
   "source": [
    "from forecasters.advanced_forecaster import AdvancedForecaster\n",
    "af = AdvancedForecaster()"
   ]
  },
  {
   "cell_type": "code",
   "execution_count": 16,
   "id": "e31f942e",
   "metadata": {},
   "outputs": [
    {
     "name": "stderr",
     "output_type": "stream",
     "text": [
      "05/07/2024 01:43:21 AM - Finding 3 search query keywords via LLM...\n",
      "05/07/2024 01:43:26 AM - HTTP Request: POST https://api.openai.com/v1/chat/completions \"HTTP/1.1 200 OK\"\n",
      "05/07/2024 01:43:27 AM - HTTP Request: POST https://api.openai.com/v1/chat/completions \"HTTP/1.1 200 OK\"\n",
      "05/07/2024 01:43:27 AM - HTTP Request: POST https://api.openai.com/v1/chat/completions \"HTTP/1.1 200 OK\"\n",
      "05/07/2024 01:43:31 AM - HTTP Request: POST https://api.openai.com/v1/chat/completions \"HTTP/1.1 200 OK\"\n",
      "05/07/2024 01:43:31 AM - Search queries for NC: ['SpaceX Mars mission update', 'SpaceX Mars mission progress', 'SpaceX Mars timeline update', 'Will SpaceX land people on Mars before 2030?', 'Elon Musk Mars timeline', 'SpaceX Mars mission challenges', 'SpaceX Interplanetary Transport progress']\n",
      "05/07/2024 01:43:31 AM - Search queries for GNews: ['Elon Musk update Mars landing timeline', 'SpaceX Mars mission progress 2024', 'Will SpaceX land people on Mars before 2030?', 'SpaceX Interplanetary Transport System development', 'SpaceX mission timeline updates', 'Elon Musk statement Mars 2024']\n",
      "05/07/2024 01:43:31 AM - Retrieved 5 articles for SpaceX Mars mission update via Newscatcher.\n",
      "05/07/2024 01:43:31 AM - Retrieved 5 articles for SpaceX Mars mission progress via Newscatcher.\n",
      "05/07/2024 01:43:32 AM - Retrieved 5 articles for SpaceX Mars timeline update via Newscatcher.\n",
      "05/07/2024 01:43:32 AM - Retrieved 0 articles for Will SpaceX land people on Mars before 2030? via Newscatcher.\n",
      "05/07/2024 01:43:33 AM - Retrieved 5 articles for Elon Musk Mars timeline via Newscatcher.\n",
      "05/07/2024 01:43:33 AM - Retrieved 5 articles for SpaceX Mars mission challenges via Newscatcher.\n",
      "05/07/2024 01:43:33 AM - Retrieved 1 articles for SpaceX Interplanetary Transport progress via Newscatcher.\n",
      "05/07/2024 01:43:35 AM - Retrieved 5 articles for Elon Musk update Mars landing timeline via GNews.\n",
      "05/07/2024 01:43:36 AM - Retrieved 5 articles for SpaceX Mars mission progress 2024 via GNews.\n",
      "05/07/2024 01:43:37 AM - Retrieved 5 articles for Will SpaceX land people on Mars before 2030? via GNews.\n",
      "05/07/2024 01:43:39 AM - Retrieved 3 articles for SpaceX Interplanetary Transport System development via GNews.\n",
      "05/07/2024 01:43:40 AM - Retrieved 5 articles for SpaceX mission timeline updates via GNews.\n",
      "05/07/2024 01:43:41 AM - Retrieved 5 articles for Elon Musk statement Mars 2024 via GNews.\n",
      "05/07/2024 01:43:43 AM - Retrieved full article text for https://news.google.com/rss/articles/CBMidGh0dHBzOi8vc3BhY2VmbGlnaHRub3cuY29tLzIwMjQvMDQvMTYvbmFzYS1yZXF1ZXN0cy1wcm9wb3NhbHMtdG8tcmVkdWNlLWNvc3QtdGltZWxpbmUtb2YtbWFycy1zYW1wbGUtcmV0dXJuLW1pc3Npb24v0gEA?oc=5&hl=en-US&gl=US&ceid=US:en\n",
      "05/07/2024 01:43:44 AM - Retrieved full article text for https://news.google.com/rss/articles/CBMiQmh0dHBzOi8vd3d3Lmh1bWFubWFycy5uZXQvMjAyNC8wNC9zcGFjZXgtc3RhcnNoaXAtdXBkYXRlLTIwMjQuaHRtbNIBAA?oc=5&hl=en-US&gl=US&ceid=US:en\n",
      "05/07/2024 01:43:44 AM - Retrieved full article text for https://news.google.com/rss/articles/CBMiRWh0dHBzOi8vd3d3LnNwYWNlLmNvbS9zcGFjZXgtZmFsY29uLTktMjB0aC1sYXVuY2gtc3RhcmxpbmstZ3JvdXAtNi00OdIBAA?oc=5&hl=en-US&gl=US&ceid=US:en\n",
      "05/07/2024 01:43:46 AM - Retrieved full article text for https://news.google.com/rss/articles/CBMiQGh0dHBzOi8vaW50ZXJlc3RpbmdlbmdpbmVlcmluZy5jb20vc2NpZW5jZS9odW1hbnMtdG8tbWFycy1zcGFjZXjSAQA?oc=5&hl=en-US&gl=US&ceid=US:en\n",
      "05/07/2024 01:43:47 AM - get_html_2XX_only(): bad status code 403 on URL: https://news.google.com/rss/articles/CBMibGh0dHBzOi8vd3d3LmlidGltZXMuY28udWsvc3BhY2V4LW1hcnMtcGxhbnMtMTAwMC1zcGFjZXNoaXBzLWRlbGl2ZXItZmlyc3QtY29sb25pc3RzLXdpdGhpbi03LTkteWVhcnMtMTcyNDMyN9IBAA?oc=5&hl=en-US&gl=US&ceid=US:en, html: Forbidden\n",
      "05/07/2024 01:43:47 AM - Retrieved full article text for https://news.google.com/rss/articles/CBMibGh0dHBzOi8vd3d3LmlidGltZXMuY28udWsvc3BhY2V4LW1hcnMtcGxhbnMtMTAwMC1zcGFjZXNoaXBzLWRlbGl2ZXItZmlyc3QtY29sb25pc3RzLXdpdGhpbi03LTkteWVhcnMtMTcyNDMyN9IBAA?oc=5&hl=en-US&gl=US&ceid=US:en\n"
     ]
    },
    {
     "name": "stdout",
     "output_type": "stream",
     "text": [
      "An error occurred while fetching the article: Article `download()` failed with Status code 403 for url None on URL https://news.google.com/rss/articles/CBMibGh0dHBzOi8vd3d3LmlidGltZXMuY28udWsvc3BhY2V4LW1hcnMtcGxhbnMtMTAwMC1zcGFjZXNoaXBzLWRlbGl2ZXItZmlyc3QtY29sb25pc3RzLXdpdGhpbi03LTkteWVhcnMtMTcyNDMyN9IBAA?oc=5&hl=en-US&gl=US&ceid=US:en\n"
     ]
    },
    {
     "name": "stderr",
     "output_type": "stream",
     "text": [
      "05/07/2024 01:43:48 AM - Retrieved full article text for https://news.google.com/rss/articles/CBMiS2h0dHBzOi8vd3d3LnNwYWNlLmNvbS9zcGFjZXgtc3RhcnNoaXAtNTAwLWZlZXQtdGFsbC1tYXJzLW1pc3Npb25zLWVsb24tbXVza9IBAA?oc=5&hl=en-US&gl=US&ceid=US:en\n",
      "05/07/2024 01:43:48 AM - Retrieved full article text for https://news.google.com/rss/articles/CBMiWWh0dHBzOi8vc3BhY2VuZXdzLmNvbS9zcGFjZXgtbWFraW5nLXByb2dyZXNzLW9uLXN0YXJzaGlwLWluLXNwYWNlLXJlZnVlbGluZy10ZWNobm9sb2dpZXMv0gEA?oc=5&hl=en-US&gl=US&ceid=US:en\n",
      "05/07/2024 01:43:49 AM - Retrieved full article text for https://news.google.com/rss/articles/CBMiWWh0dHBzOi8vd3d3Lm5hc2EuZ292L2NlbnRlcnMtYW5kLWZhY2lsaXRpZXMvbWFyc2hhbGwvdGhlLW1hcnNoYWxsLXN0YXItZm9yLWFwcmlsLTE3LTIwMjQv0gEA?oc=5&hl=en-US&gl=US&ceid=US:en\n",
      "05/07/2024 01:43:50 AM - get_html_2XX_only(): bad status code 403 on URL: https://news.google.com/rss/articles/CBMiU2h0dHBzOi8vd3d3Lm15c2FuYW50b25pby5jb20vYnVzaW5lc3MvYXJ0aWNsZS9zcGFjZXgtaHVtYW4tc3BhY2VmbGlnaHQtMTk0MzA2OTUucGhw0gEA?oc=5&hl=en-US&gl=US&ceid=US:en, html: <!DOCTYPE html>\n",
      "<html lang=\"en\">\n",
      "<head>\n",
      "    <meta charset=\"utf-8\">\n",
      "    <meta name=\"viewport\" content=\"width=device-width, initial-scale=1\">\n",
      "    <meta name=\"description\" content=\"px-captcha\">\n",
      "    <titl\n",
      "05/07/2024 01:43:50 AM - Retrieved full article text for https://news.google.com/rss/articles/CBMiU2h0dHBzOi8vd3d3Lm15c2FuYW50b25pby5jb20vYnVzaW5lc3MvYXJ0aWNsZS9zcGFjZXgtaHVtYW4tc3BhY2VmbGlnaHQtMTk0MzA2OTUucGhw0gEA?oc=5&hl=en-US&gl=US&ceid=US:en\n"
     ]
    },
    {
     "name": "stdout",
     "output_type": "stream",
     "text": [
      "An error occurred while fetching the article: Article `download()` failed with Website protected with PerimeterX, url: None on URL https://news.google.com/rss/articles/CBMiU2h0dHBzOi8vd3d3Lm15c2FuYW50b25pby5jb20vYnVzaW5lc3MvYXJ0aWNsZS9zcGFjZXgtaHVtYW4tc3BhY2VmbGlnaHQtMTk0MzA2OTUucGhw0gEA?oc=5&hl=en-US&gl=US&ceid=US:en\n"
     ]
    },
    {
     "name": "stderr",
     "output_type": "stream",
     "text": [
      "05/07/2024 01:43:50 AM - Retrieved full article text for https://news.google.com/rss/articles/CBMiPmh0dHBzOi8vb2JzZXJ2ZXIuY29tLzIwMjQvMDQvc3BhY2UtbWlzc2lvbnMtdG8td2F0Y2gtbWF5LTIwMjQv0gEA?oc=5&hl=en-US&gl=US&ceid=US:en\n",
      "05/07/2024 01:43:51 AM - Retrieved full article text for https://news.google.com/rss/articles/CBMiWmh0dHBzOi8vc3BhY2VuZXdzLmNvbS9qYXBhbmVzZS1hc3Ryb25hdXRzLXRvLWxhbmQtb24tbW9vbi1hcy1wYXJ0LW9mLW5ldy1uYXNhLXBhcnRuZXJzaGlwL9IBAA?oc=5&hl=en-US&gl=US&ceid=US:en\n",
      "05/07/2024 01:43:52 AM - Retrieved full article text for https://news.google.com/rss/articles/CBMiSGh0dHBzOi8vd3d3Lndhc2hpbmd0b25wb3N0LmNvbS90ZWNobm9sb2d5LzIwMjQvMDUvMDIvY2hpbmEtbW9vbi1taXNzaW9uL9IBAA?oc=5&hl=en-US&gl=US&ceid=US:en\n",
      "05/07/2024 01:43:55 AM - Retrieved full article text for https://news.google.com/rss/articles/CBMiOWh0dHBzOi8vd3d3LnNwYWNlLmNvbS9jaGluZXNlLXByZWVtaW5lbmNlLW1vb24tbWFycy1vcC1lZNIBAA?oc=5&hl=en-US&gl=US&ceid=US:en\n",
      "05/07/2024 01:43:56 AM - Retrieved full article text for https://news.google.com/rss/articles/CBMiJ2h0dHBzOi8vc3BhY2VuZXdzLmNvbS9uYXNhcy1uby10by1tYXJzL9IBAA?oc=5&hl=en-US&gl=US&ceid=US:en\n",
      "05/07/2024 01:43:57 AM - Retrieved full article text for https://news.google.com/rss/articles/CBMia2h0dHBzOi8vd3d3LmRhaWx5bWFpbC5jby51ay9zY2llbmNldGVjaC9hcnRpY2xlLTEzMzc4NTkxL0NoaW5hLXNlbmRpbmctcHJvYmUtc2FtcGxlcy1leHBsb3JlZC1mYXItTW9vbi5odG1s0gFvaHR0cHM6Ly93d3cuZGFpbHltYWlsLmNvLnVrL3NjaWVuY2V0ZWNoL2FydGljbGUtMTMzNzg1OTEvYW1wL0NoaW5hLXNlbmRpbmctcHJvYmUtc2FtcGxlcy1leHBsb3JlZC1mYXItTW9vbi5odG1s?oc=5&hl=en-US&gl=US&ceid=US:en\n",
      "05/07/2024 01:43:58 AM - Retrieved full article text for https://news.google.com/rss/articles/CBMiVmh0dHBzOi8vdWsubW92aWVzLnlhaG9vLmNvbS9maW5hbmNlL25ld3MvaGVyZXMtZWxvbi1tdXNrcy1pbXByb3ZlZC1wbGFuLTA0NTYwMDM1Ni5odG1s0gEA?oc=5&hl=en-US&gl=US&ceid=US:en\n",
      "05/07/2024 01:44:01 AM - Retrieved full article text for https://news.google.com/rss/articles/CBMiR2h0dHBzOi8vYW1hYy51cy9uZXdzbGluZS9zb2NpZXR5L3Bpdm90YWwteWVhci1mb3ItYW1lcmljYW4tc3BhY2VmbGlnaHQv0gEA?oc=5&hl=en-US&gl=US&ceid=US:en\n",
      "05/07/2024 01:44:02 AM - Retrieved full article text for https://news.google.com/rss/articles/CBMirQFodHRwczovL3d3dy5uZXdzLWpvdXJuYWxvbmxpbmUuY29tL3N0b3J5L3RlY2gvc2NpZW5jZS9zcGFjZS8yMDI0LzA1LzA2L3NwYWNleC1sYXVuY2gtZGF5LWhlcmVzLWluZm9ybWF0aW9uLW9uLXRvZGF5cy1zdGFybGluay1sYXVuY2gtZnJvbS1jYXBlLWNhbmF2ZXJhbC1mbG9yaWRhLzczNTc4Njg0MDA3L9IBAA?oc=5&hl=en-US&gl=US&ceid=US:en\n",
      "05/07/2024 01:44:02 AM - Retrieved full article text for https://news.google.com/rss/articles/CBMipwFodHRwczovL3d3dy5mbG9yaWRhdG9kYXkuY29tL3N0b3J5L3RlY2gvc2NpZW5jZS9zcGFjZS8yMDI0LzA1LzA2L3NwYWNleC1sYXVuY2gtZGF5LWhlcmVzLWluZm9ybWF0aW9uLW9uLXRvZGF5cy1zdGFybGluay1sYXVuY2gtZnJvbS1jYXBlLWNhbmF2ZXJhbC1mbG9yaWRhLzczNTc4Njg0MDA3L9IBAA?oc=5&hl=en-US&gl=US&ceid=US:en\n",
      "05/07/2024 01:44:04 AM - Retrieved full article text for https://news.google.com/rss/articles/CBMiSGh0dHBzOi8vd3d3LnNwYWNlLmNvbS9uZXdzL2xpdmUvaW50ZXJuYXRpb25hbC1zcGFjZS1zdGF0aW9uLWxpdmUtdXBkYXRlc9IBAA?oc=5&hl=en-US&gl=US&ceid=US:en\n",
      "05/07/2024 01:44:05 AM - Retrieved full article text for https://news.google.com/rss/articles/CBMiSGh0dHBzOi8vcGF5bG9hZHNwYWNlLmNvbS9wYXlsb2FkLXJlc2VhcmNoLWNoaW5hcy0yMDI0LXNwYWNlLWRheS11cGRhdGVzL9IBAA?oc=5&hl=en-US&gl=US&ceid=US:en\n",
      "05/07/2024 01:44:06 AM - Retrieved full article text for https://news.google.com/rss/articles/CBMingFodHRwczovL3NwYWNlZmxpZ2h0bm93LmNvbS8yMDI0LzA0LzI3L2xpdmUtY292ZXJhZ2Utc3BhY2V4LXRvLWxhdW5jaC1ldXJvcGVhbi1jb21taXNzaW9ucy1nYWxpbGVvLXNhdGVsbGl0ZXMtb24tZmFsY29uLTktcm9ja2V0LWZyb20tdGhlLWtlbm5lZHktc3BhY2UtY2VudGVyL9IBAA?oc=5&hl=en-US&gl=US&ceid=US:en\n",
      "05/07/2024 01:44:07 AM - Retrieved full article text for https://news.google.com/rss/articles/CBMicmh0dHBzOi8vYXJzdGVjaG5pY2EuY29tL3NwYWNlLzIwMjQvMDQvZWxvbi1tdXNrLWp1c3QtZ2F2ZS1hbm90aGVyLW1hcnMtc3BlZWNoLXRoaXMtdGltZS10aGUtdmlzaW9uLXNlZW1zLXRhbmdpYmxlL9IBAA?oc=5&hl=en-US&gl=US&ceid=US:en\n",
      "05/07/2024 01:44:08 AM - Retrieved full article text for https://news.google.com/rss/articles/CBMidGh0dHBzOi8vd3d3LnNjaWVudGlmaWNhbWVyaWNhbi5jb20vYXJ0aWNsZS9zcGFjZXhzLXN0YXJzaGlwLWNvdWxkLXNhdmUtbmFzYXMtYmVsZWFndWVyZWQtbWFycy1zYW1wbGUtcmV0dXJuLW1pc3Npb24v0gEA?oc=5&hl=en-US&gl=US&ceid=US:en\n",
      "05/07/2024 01:44:09 AM - Retrieved full article text for https://news.google.com/rss/articles/CBMiKmh0dHBzOi8vd3d3LmF6ZXJuZXdzLmF6L3JlZ2lvbi8yMjQzODkuaHRtbNIBAA?oc=5&hl=en-US&gl=US&ceid=US:en\n",
      "05/07/2024 01:44:09 AM - Filtering 38 articles with embedding model.\n",
      "05/07/2024 01:44:09 AM - HTTP Request: POST https://api.openai.com/v1/embeddings \"HTTP/1.1 200 OK\"\n",
      "05/07/2024 01:44:11 AM - HTTP Request: POST https://api.openai.com/v1/embeddings \"HTTP/1.1 200 OK\"\n",
      "05/07/2024 01:44:11 AM - Get 38 cosine similarities for 38 articles.\n",
      "05/07/2024 01:44:11 AM - Using 0.32 as the cosine similarity threshold.\n",
      "05/07/2024 01:44:11 AM - 37 articles survived the embedding filtering.\n",
      "05/07/2024 01:44:12 AM - HTTP Request: POST https://api.openai.com/v1/chat/completions \"HTTP/1.1 200 OK\"\n",
      "05/07/2024 01:44:12 AM - HTTP Request: POST https://api.openai.com/v1/chat/completions \"HTTP/1.1 200 OK\"\n",
      "05/07/2024 01:44:12 AM - HTTP Request: POST https://api.openai.com/v1/chat/completions \"HTTP/1.1 200 OK\"\n",
      "05/07/2024 01:44:12 AM - HTTP Request: POST https://api.openai.com/v1/chat/completions \"HTTP/1.1 200 OK\"\n",
      "05/07/2024 01:44:12 AM - HTTP Request: POST https://api.openai.com/v1/chat/completions \"HTTP/1.1 200 OK\"\n",
      "05/07/2024 01:44:12 AM - HTTP Request: POST https://api.openai.com/v1/chat/completions \"HTTP/1.1 200 OK\"\n",
      "05/07/2024 01:44:12 AM - HTTP Request: POST https://api.openai.com/v1/chat/completions \"HTTP/1.1 200 OK\"\n",
      "05/07/2024 01:44:12 AM - HTTP Request: POST https://api.openai.com/v1/chat/completions \"HTTP/1.1 200 OK\"\n",
      "05/07/2024 01:44:12 AM - HTTP Request: POST https://api.openai.com/v1/chat/completions \"HTTP/1.1 200 OK\"\n",
      "05/07/2024 01:44:12 AM - HTTP Request: POST https://api.openai.com/v1/chat/completions \"HTTP/1.1 200 OK\"\n",
      "05/07/2024 01:44:12 AM - HTTP Request: POST https://api.openai.com/v1/chat/completions \"HTTP/1.1 200 OK\"\n",
      "05/07/2024 01:44:12 AM - HTTP Request: POST https://api.openai.com/v1/chat/completions \"HTTP/1.1 200 OK\"\n",
      "05/07/2024 01:44:12 AM - HTTP Request: POST https://api.openai.com/v1/chat/completions \"HTTP/1.1 200 OK\"\n",
      "05/07/2024 01:44:12 AM - HTTP Request: POST https://api.openai.com/v1/chat/completions \"HTTP/1.1 200 OK\"\n",
      "05/07/2024 01:44:12 AM - HTTP Request: POST https://api.openai.com/v1/chat/completions \"HTTP/1.1 200 OK\"\n",
      "05/07/2024 01:44:12 AM - HTTP Request: POST https://api.openai.com/v1/chat/completions \"HTTP/1.1 200 OK\"\n",
      "05/07/2024 01:44:12 AM - HTTP Request: POST https://api.openai.com/v1/chat/completions \"HTTP/1.1 200 OK\"\n",
      "05/07/2024 01:44:12 AM - HTTP Request: POST https://api.openai.com/v1/chat/completions \"HTTP/1.1 200 OK\"\n",
      "05/07/2024 01:44:12 AM - HTTP Request: POST https://api.openai.com/v1/chat/completions \"HTTP/1.1 200 OK\"\n",
      "05/07/2024 01:44:12 AM - HTTP Request: POST https://api.openai.com/v1/chat/completions \"HTTP/1.1 200 OK\"\n",
      "05/07/2024 01:44:12 AM - HTTP Request: POST https://api.openai.com/v1/chat/completions \"HTTP/1.1 200 OK\"\n",
      "05/07/2024 01:44:12 AM - HTTP Request: POST https://api.openai.com/v1/chat/completions \"HTTP/1.1 200 OK\"\n",
      "05/07/2024 01:44:12 AM - HTTP Request: POST https://api.openai.com/v1/chat/completions \"HTTP/1.1 200 OK\"\n",
      "05/07/2024 01:44:12 AM - HTTP Request: POST https://api.openai.com/v1/chat/completions \"HTTP/1.1 200 OK\"\n",
      "05/07/2024 01:44:12 AM - HTTP Request: POST https://api.openai.com/v1/chat/completions \"HTTP/1.1 200 OK\"\n",
      "05/07/2024 01:44:12 AM - HTTP Request: POST https://api.openai.com/v1/chat/completions \"HTTP/1.1 200 OK\"\n",
      "05/07/2024 01:44:12 AM - HTTP Request: POST https://api.openai.com/v1/chat/completions \"HTTP/1.1 200 OK\"\n",
      "05/07/2024 01:44:12 AM - HTTP Request: POST https://api.openai.com/v1/chat/completions \"HTTP/1.1 200 OK\"\n",
      "05/07/2024 01:44:13 AM - HTTP Request: POST https://api.openai.com/v1/chat/completions \"HTTP/1.1 200 OK\"\n",
      "05/07/2024 01:44:13 AM - HTTP Request: POST https://api.openai.com/v1/chat/completions \"HTTP/1.1 200 OK\"\n",
      "05/07/2024 01:44:13 AM - HTTP Request: POST https://api.openai.com/v1/chat/completions \"HTTP/1.1 200 OK\"\n",
      "05/07/2024 01:44:13 AM - HTTP Request: POST https://api.openai.com/v1/chat/completions \"HTTP/1.1 200 OK\"\n",
      "05/07/2024 01:44:13 AM - HTTP Request: POST https://api.openai.com/v1/chat/completions \"HTTP/1.1 200 OK\"\n",
      "05/07/2024 01:44:13 AM - HTTP Request: POST https://api.openai.com/v1/chat/completions \"HTTP/1.1 200 OK\"\n",
      "05/07/2024 01:44:13 AM - HTTP Request: POST https://api.openai.com/v1/chat/completions \"HTTP/1.1 200 OK\"\n",
      "05/07/2024 01:44:13 AM - HTTP Request: POST https://api.openai.com/v1/chat/completions \"HTTP/1.1 200 OK\"\n",
      "05/07/2024 01:44:14 AM - HTTP Request: POST https://api.openai.com/v1/chat/completions \"HTTP/1.1 200 OK\"\n",
      "05/07/2024 01:44:14 AM - Article SpaceX Gears Up for Starship Flight Test 4 with Unprecedented Upgrades and Preparations gets rating: 3.0\n",
      "05/07/2024 01:44:14 AM - Article SpaceX Starship in Florida: Musk envisions 2 'Mechazilla' launch towers at Cape Canaveral gets rating: 4.0\n",
      "05/07/2024 01:44:14 AM - Article To the Stars: The Making of a Multiplanetary Species with SpaceX. gets rating: 4.0\n",
      "05/07/2024 01:44:14 AM - Article SpaceX Starship will be 500 feet tall to prepare for Mars missions, Elon Musk says (video) gets rating: 4.0\n",
      "05/07/2024 01:44:14 AM - Article Blast Off and Splashdown on a Private Space Mission in a SpaceX Crew Dragon Capsule gets rating: 2.0\n",
      "05/07/2024 01:44:14 AM - Article Elon Musk speaks about the 'urgent' needed to extend human civilisation beyond Earth to Mars gets rating: 3.0\n",
      "05/07/2024 01:44:14 AM - Article Elon Musk Unleashes Wave of Updates on SpaceX's Starship Project gets rating: 3.0\n",
      "05/07/2024 01:44:14 AM - Article The Mars Sample Return mission has a shaky future, and NASA is calling on private companies for backup gets rating: 2.0\n",
      "05/07/2024 01:44:14 AM - Article The Mars Sample Return mission has a shaky future. NASA is calling on private companies for backup gets rating: 1.0\n",
      "05/07/2024 01:44:14 AM - Article SpaceX's Special Starship Cargon Lander Capacity Revealed By NASA Ahead Of Fourth Starship Test gets rating: 2.0\n",
      "05/07/2024 01:44:14 AM - Article SpaceX has added a 'human spaceflight' portion to its web site gets rating: 3.0\n",
      "05/07/2024 01:44:14 AM - Article SpaceX Mars Plans for 1,000 Spaceships to Deliver First Colonists Within 7 to 9 Years gets rating: 5.0\n",
      "05/07/2024 01:44:14 AM - Article Elon Musk Offers a Chilling Prediction on AI's Smarts gets rating: 2.0\n",
      "05/07/2024 01:44:14 AM - Article NASA Administrator Bill Nelson says U.S. is in a space race to the moon with China gets rating: 2.0\n",
      "05/07/2024 01:44:14 AM - Article NASA's chief is worried about China getting back to the moon first. Here's why gets rating: 2.0\n",
      "05/07/2024 01:44:14 AM - Article SpaceX Unveils Groundbreaking Extravehicular Activity (EVA) Suit as Polaris Dawn Nears gets rating: 2.0\n",
      "05/07/2024 01:44:14 AM - Article NASA seeks help from private companies for expensive Mars Sample Return mission gets rating: 2.0\n",
      "05/07/2024 01:44:14 AM - Article The Mars Sample Return mission has a shaky future gets rating: 2.0\n",
      "05/07/2024 01:44:14 AM - Article Does the Rise of AI Explain the Great Silence in the Universe? gets rating: 2.0\n",
      "05/07/2024 01:44:14 AM - Article SpaceX launches Starlink satellites on record 20th reflight of a Falcon 9 rocket first stage gets rating: 4.0\n",
      "05/07/2024 01:44:14 AM - Article Humans to Mars: What’s the holdup? – part II gets rating: 3.0\n",
      "05/07/2024 01:44:14 AM - Article SpaceX's giant Starship will be 500 feet tall for Mars missions, Elon Musk says (video) gets rating: 4.0\n",
      "05/07/2024 01:44:14 AM - Article SpaceX making progress on Starship in-space refueling technologies gets rating: 5.0\n",
      "05/07/2024 01:44:14 AM - Article The Marshall Star for April 17, 2024 gets rating: 1.0\n",
      "05/07/2024 01:44:14 AM - Article Space Missions to Watch in May: China Explores the Dark Side of the Moon, Boeing Starliner, and More gets rating: 2.0\n",
      "05/07/2024 01:44:14 AM - Article Japanese astronauts to land on moon as part of new NASA partnership gets rating: 1.0\n",
      "05/07/2024 01:44:14 AM - Article China launches world-first mission to retrieve samples from far side of moon gets rating: 1.0\n",
      "05/07/2024 01:44:14 AM - Article Are we prepared for Chinese preeminence on the moon and Mars? (op-ed) gets rating: 2.0\n",
      "05/07/2024 01:44:14 AM - Article NASA’s no to Mars gets rating: 2.0\n",
      "05/07/2024 01:44:14 AM - Article China sending probe to get samples from less-explored... gets rating: 1.0\n",
      "05/07/2024 01:44:14 AM - Article Elon Musk presented a new-and-improved plan to colonize Mars with a giant reusable spaceship — here are the highlights gets rating: 5.0\n",
      "05/07/2024 01:44:14 AM - Article Pivotal Year for American Spaceflight gets rating: 5.0\n",
      "05/07/2024 01:44:14 AM - Article SpaceX launch recap: Starlink mission lifts off Monday before Starliner scrub at Cape Canaveral gets rating: 1.0\n",
      "05/07/2024 01:44:14 AM - Article Payload Research: China’s 2024 Space Day Updates gets rating: 2.0\n",
      "05/07/2024 01:44:14 AM - Article Elon Musk just gave another Mars speech—this time the vision seems tangible gets rating: 4.0\n",
      "05/07/2024 01:44:14 AM - Article SpaceX’s Starship Could Save NASA’s Beleaguered Mars Sample Return Mission gets rating: 2.0\n",
      "05/07/2024 01:44:14 AM - Article Elon Musk to send a million people to Mars gets rating: 4.0\n",
      "05/07/2024 01:44:14 AM - Finished ranking the articles!\n",
      "05/07/2024 01:44:14 AM - Summarizing the top 20 articles.\n",
      "05/07/2024 01:44:14 AM - Async summarizing 11 short articles\n",
      "05/07/2024 01:44:16 AM - HTTP Request: POST https://api.openai.com/v1/chat/completions \"HTTP/1.1 200 OK\"\n",
      "05/07/2024 01:44:16 AM - HTTP Request: POST https://api.openai.com/v1/chat/completions \"HTTP/1.1 200 OK\"\n",
      "05/07/2024 01:44:16 AM - HTTP Request: POST https://api.openai.com/v1/chat/completions \"HTTP/1.1 200 OK\"\n",
      "05/07/2024 01:44:16 AM - HTTP Request: POST https://api.openai.com/v1/chat/completions \"HTTP/1.1 200 OK\"\n",
      "05/07/2024 01:44:16 AM - HTTP Request: POST https://api.openai.com/v1/chat/completions \"HTTP/1.1 200 OK\"\n",
      "05/07/2024 01:44:17 AM - HTTP Request: POST https://api.openai.com/v1/chat/completions \"HTTP/1.1 200 OK\"\n",
      "05/07/2024 01:44:17 AM - HTTP Request: POST https://api.openai.com/v1/chat/completions \"HTTP/1.1 200 OK\"\n",
      "05/07/2024 01:44:17 AM - HTTP Request: POST https://api.openai.com/v1/chat/completions \"HTTP/1.1 200 OK\"\n",
      "05/07/2024 01:44:17 AM - HTTP Request: POST https://api.openai.com/v1/chat/completions \"HTTP/1.1 200 OK\"\n",
      "05/07/2024 01:44:17 AM - HTTP Request: POST https://api.openai.com/v1/chat/completions \"HTTP/1.1 200 OK\"\n",
      "05/07/2024 01:44:18 AM - HTTP Request: POST https://api.openai.com/v1/chat/completions \"HTTP/1.1 200 OK\"\n",
      "05/07/2024 01:44:18 AM - Finished summarizing the 11 articles!\n",
      "05/07/2024 01:44:38 AM - HTTP Request: POST https://api.openai.com/v1/chat/completions \"HTTP/1.1 200 OK\"\n",
      "05/07/2024 01:44:39 AM - HTTP Request: POST https://api.openai.com/v1/chat/completions \"HTTP/1.1 200 OK\"\n",
      "05/07/2024 01:44:39 AM - Finished 2 base reasonings generated by gpt-4-1106-preview\n",
      "05/07/2024 01:45:08 AM - HTTP Request: POST https://api.openai.com/v1/chat/completions \"HTTP/1.1 200 OK\"\n",
      "05/07/2024 01:45:12 AM - HTTP Request: POST https://api.openai.com/v1/chat/completions \"HTTP/1.1 200 OK\"\n",
      "05/07/2024 01:45:12 AM - Finished 2 base reasonings generated by gpt-4-1106-preview\n",
      "05/07/2024 01:45:39 AM - HTTP Request: POST https://api.openai.com/v1/chat/completions \"HTTP/1.1 200 OK\"\n"
     ]
    }
   ],
   "source": [
    "final_prob = await af.call_async(sentence=fq)"
   ]
  },
  {
   "cell_type": "code",
   "execution_count": 17,
   "id": "fb8b7c7c",
   "metadata": {},
   "outputs": [
    {
     "name": "stdout",
     "output_type": "stream",
     "text": [
      "Final LLM probability 0.45\n"
     ]
    }
   ],
   "source": [
    "print(\"Final LLM probability\", final_prob)"
   ]
  }
 ],
 "metadata": {
  "kernelspec": {
   "display_name": "Python 3 (ipykernel)",
   "language": "python",
   "name": "python3"
  },
  "language_info": {
   "codemirror_mode": {
    "name": "ipython",
    "version": 3
   },
   "file_extension": ".py",
   "mimetype": "text/x-python",
   "name": "python",
   "nbconvert_exporter": "python",
   "pygments_lexer": "ipython3",
   "version": "3.11.9"
  }
 },
 "nbformat": 4,
 "nbformat_minor": 5
}
