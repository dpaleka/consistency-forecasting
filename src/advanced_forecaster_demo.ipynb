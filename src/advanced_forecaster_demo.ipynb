{
 "cells": [
  {
   "cell_type": "code",
   "execution_count": 1,
   "id": "2d0818d6",
   "metadata": {},
   "outputs": [
    {
     "name": "stderr",
     "output_type": "stream",
     "text": [
      "/local/home/dpaleka/miniconda3/envs/consistency/lib/python3.11/site-packages/tqdm/auto.py:21: TqdmWarning: IProgress not found. Please update jupyter and ipywidgets. See https://ipywidgets.readthedocs.io/en/stable/user_install.html\n",
      "  from .autonotebook import tqdm as notebook_tqdm\n",
      "/local/home/dpaleka/miniconda3/envs/consistency/lib/python3.11/site-packages/transformers/utils/hub.py:124: FutureWarning: Using `TRANSFORMERS_CACHE` is deprecated and will be removed in v5 of Transformers. Use `HF_HOME` instead.\n",
      "  warnings.warn(\n",
      "None of PyTorch, TensorFlow >= 2.0, or Flax have been found. Models won't be available and only tokenizers, configuration and file/data utilities can be used.\n"
     ]
    },
    {
     "name": "stdout",
     "output_type": "stream",
     "text": [
      "LOCAL_CACHE: None\n"
     ]
    }
   ],
   "source": [
    "import sys\n",
    "from common.path_utils import get_src_path, get_data_path\n",
    "sys.path.append(str(get_src_path()))\n",
    "\n",
    "\n",
    "from common.datatypes import ForecastingQuestion_stripped, ForecastingQuestion\n",
    "import json\n",
    "\n",
    "# llm_forecasting imports\n",
    "from forecasters.llm_forecasting.prompts.prompts import PROMPT_DICT\n",
    "from forecasters.llm_forecasting.utils.time_utils import get_todays_date, subtract_days_from_date\n",
    "from forecasters.llm_forecasting import ranking, summarize, ensemble\n",
    "\n"
   ]
  },
  {
   "cell_type": "markdown",
   "id": "5ef6b36e",
   "metadata": {},
   "source": [
    "### Load Data"
   ]
  },
  {
   "cell_type": "code",
   "execution_count": 2,
   "id": "dc3bbc55",
   "metadata": {},
   "outputs": [],
   "source": [
    "data = []\n",
    "with open(get_data_path() / \"fq/real/questions_cleaned_formatted.jsonl\", \"r\") as file:\n",
    "    for line in file:\n",
    "        data.append(json.loads(line))"
   ]
  },
  {
   "cell_type": "code",
   "execution_count": 4,
   "id": "32dd0594",
   "metadata": {},
   "outputs": [
    {
     "name": "stdout",
     "output_type": "stream",
     "text": [
      "Will SpaceX land people on Mars before 2030?\n"
     ]
    }
   ],
   "source": [
    "sample_question = data[0]\n",
    "print(sample_question['title'])\n"
   ]
  },
  {
   "cell_type": "code",
   "execution_count": 5,
   "id": "f00a3bca",
   "metadata": {},
   "outputs": [],
   "source": [
    "fq = ForecastingQuestion(**sample_question)"
   ]
  },
  {
   "cell_type": "markdown",
   "id": "67e80818",
   "metadata": {},
   "source": [
    "### Testing \"Advanced Forecaster\""
   ]
  },
  {
   "cell_type": "code",
   "execution_count": 6,
   "id": "1f5c70a9",
   "metadata": {},
   "outputs": [
    {
     "name": "stdout",
     "output_type": "stream",
     "text": [
      "Loading AdvancedForecaster...\n",
      "Overriding retrieval_config: MAX_WORDS_NEWSCATCHER=5\n",
      "Overriding retrieval_config: MAX_WORDS_GNEWS=8\n",
      "Overriding reasoning_config: BASE_REASONING_MODEL_NAMES:=['gpt-3.5-turbo-1106', 'gpt-3.5-turbo-1106']\n"
     ]
    }
   ],
   "source": [
    "from forecasters.advanced_forecaster import AdvancedForecaster\n",
    "af = AdvancedForecaster(MAX_WORDS_NEWSCATCHER=5, MAX_WORDS_GNEWS=8, BASE_REASONING_MODEL_NAMES=[\"gpt-3.5-turbo-1106\", \"gpt-3.5-turbo-1106\"])"
   ]
  },
  {
   "cell_type": "code",
   "execution_count": 9,
   "id": "e31f942e",
   "metadata": {},
   "outputs": [
    {
     "name": "stdout",
     "output_type": "stream",
     "text": [
      "An error occurred while fetching the article: Article `download()` failed with Website protected with PerimeterX, url: None on URL https://news.google.com/rss/articles/CBMiU2h0dHBzOi8vd3d3Lm15c2FuYW50b25pby5jb20vYnVzaW5lc3MvYXJ0aWNsZS9zcGFjZXgtaHVtYW4tc3BhY2VmbGlnaHQtMTk0MzA2OTUucGhw0gEA?oc=5&hl=en-US&gl=US&ceid=US:en\n"
     ]
    }
   ],
   "source": [
    "final_prob = await af.call_async(sentence=fq)"
   ]
  },
  {
   "cell_type": "code",
   "execution_count": 8,
   "id": "fb8b7c7c",
   "metadata": {},
   "outputs": [
    {
     "name": "stdout",
     "output_type": "stream",
     "text": [
      "Final LLM probability 0.55\n"
     ]
    }
   ],
   "source": [
    "print(\"Final LLM probability\", final_prob)"
   ]
  },
  {
   "cell_type": "markdown",
   "id": "6c0bb7d7",
   "metadata": {},
   "source": [
    "Now we test the two procedures that make up AdvancedForecaster: retrieval and reasoning.\n"
   ]
  },
  {
   "cell_type": "markdown",
   "id": "3f3f732a",
   "metadata": {},
   "source": [
    "### Retrieval"
   ]
  },
  {
   "cell_type": "code",
   "execution_count": null,
   "id": "630fe7b4",
   "metadata": {},
   "outputs": [],
   "source": [
    "RETRIEVAL_CONFIG = {\n",
    "    \"NUM_SEARCH_QUERY_KEYWORDS\": 3,\n",
    "    \"MAX_WORDS_NEWSCATCHER\": 5,\n",
    "    \"MAX_WORDS_GNEWS\": 8,\n",
    "    \"SEARCH_QUERY_MODEL_NAME\": \"gpt-4-1106-preview\",\n",
    "    \"SEARCH_QUERY_TEMPERATURE\": 0.0,\n",
    "    \"SEARCH_QUERY_PROMPT_TEMPLATES\": [\n",
    "        PROMPT_DICT[\"search_query\"][\"0\"],\n",
    "        PROMPT_DICT[\"search_query\"][\"1\"],\n",
    "    ],\n",
    "    \"NUM_ARTICLES_PER_QUERY\": 5,\n",
    "    \"SUMMARIZATION_MODEL_NAME\": \"gpt-3.5-turbo-1106\",\n",
    "    \"SUMMARIZATION_TEMPERATURE\": 0.2,\n",
    "    \"SUMMARIZATION_PROMPT_TEMPLATE\": PROMPT_DICT[\"summarization\"][\"9\"],\n",
    "    \"NUM_SUMMARIES_THRESHOLD\": 10,\n",
    "    \"PRE_FILTER_WITH_EMBEDDING\": True,\n",
    "    \"PRE_FILTER_WITH_EMBEDDING_THRESHOLD\": 0.32,\n",
    "    \"RANKING_MODEL_NAME\": \"gpt-3.5-turbo-1106\",\n",
    "    \"RANKING_TEMPERATURE\": 0.0,\n",
    "    \"RANKING_PROMPT_TEMPLATE\": PROMPT_DICT[\"ranking\"][\"0\"],\n",
    "    \"RANKING_RELEVANCE_THRESHOLD\": 4,\n",
    "    \"RANKING_COSINE_SIMILARITY_THRESHOLD\": 0.5,\n",
    "    \"SORT_BY\": \"date\",\n",
    "    \"RANKING_METHOD\": \"llm-rating\",\n",
    "    \"RANKING_METHOD_LLM\": \"title_250_tokens\",\n",
    "    \"NUM_SUMMARIES_THRESHOLD\": 20,\n",
    "    \"EXTRACT_BACKGROUND_URLS\": True,\n",
    "}"
   ]
  },
  {
   "cell_type": "code",
   "execution_count": null,
   "id": "e3a27162",
   "metadata": {},
   "outputs": [],
   "source": [
    "question = fq.title\n",
    "background_info = fq.metadata[\"background_info\"]\n",
    "resolution_criteria = fq.body # resolution criteria and other info is in |body|\n",
    "\n",
    "today_date = get_todays_date()\n",
    "# If open date is set in data structure, change beginning of retrieval to question open date.\n",
    "# Retrieve from [today's date - 1 month, today's date].\n",
    "retrieval_dates = (\n",
    "    subtract_days_from_date(today_date, 30),\n",
    "    today_date,\n",
    ")"
   ]
  },
  {
   "cell_type": "code",
   "execution_count": null,
   "id": "6c7aa254",
   "metadata": {},
   "outputs": [],
   "source": [
    "(\n",
    "    ranked_articles,\n",
    "    all_articles,\n",
    "    search_queries_list_gnews,\n",
    "    search_queries_list_nc,\n",
    ") = await ranking.retrieve_summarize_and_rank_articles(\n",
    "    question,\n",
    "    background_info,\n",
    "    resolution_criteria,\n",
    "    retrieval_dates,\n",
    "    urls=[],\n",
    "    config=RETRIEVAL_CONFIG,\n",
    "    return_intermediates=True,\n",
    ")"
   ]
  },
  {
   "cell_type": "code",
   "execution_count": null,
   "id": "15ef96b4",
   "metadata": {},
   "outputs": [
    {
     "name": "stdout",
     "output_type": "stream",
     "text": [
      "---\n",
      "ARTICLES\n",
      "[1] SpaceX Gears Up for Starship Flight Test 4 with Unprecedented Upgrades and Preparations (published on 2024-05-04)\n",
      "Summary: SpaceX is gearing up for the highly anticipated fourth flight test of its Starship spacecraft at Boca Chica, Texas. The site has been a hive of activity as engineers and technicians work tirelessly to ensure every component functions seamlessly. The preparations include innovative updates and rigorous testing regimens that could redefine space travel. The site has seen rapid construction and infrastructure modification essential for supporting the Starship behemoth. SpaceX has also been integrating new ground support equipment, including advanced tank systems and fueling mechanisms. The company's long-term goals for Starship include Mars colonization and playing a pivotal role in NASA's Artemis missions to the Moon. With continued successful development, testing, and collaboration, Starship stands on the precipice of revolutionizing space travel.\n",
      "\n",
      "[2] SpaceX making progress on Starship in-space refueling technologies (published on 2024-04-27)\n",
      "Summary: NASA says SpaceX is on track to demonstrate in-space refueling of Starship next year, a critical technology for returning humans to the lunar surface. The next major milestone is a demonstration planned for 2025 where two Starships will dock in orbit, with one transferring propellants to the other. Propellant transfer technology is essential to SpaceX’s plans for Starship missions beyond low Earth orbit, including the Human Landing System (HLS) version of Starship that will be used to land astronauts on the moon starting with the Artemis 3 mission, currently scheduled for no earlier than September 2026. Elon Musk has noted that if SpaceX \"gets lucky and things go according to plan\", a manned flight could launch in the 2024 window with a landing on Mars in 2025.\n",
      "\n",
      "[3] To the Stars: The Making of a Multiplanetary Species with SpaceX. (published on 2024-04-22)\n",
      "Summary: SpaceX is on a mission to make life multiplanetary, with Elon Musk outlining the company's commitment to building the necessary technologies for interplanetary exploration. The company's arsenal of technologies, including Falcon rockets, Dragon spacecraft, Starlink satellites, and the Starship, are all part of this vision. Musk also discussed the mechanics of traveling to Mars and the infrastructure needed to establish a civilization on the red planet. This endeavor is a human adventure, inviting everyone to be part of something greater. While the timeline for landing people on Mars has not been set in stone, SpaceX's plan is notable for aggressively compressing the timeline for interplanetary travel.\n",
      "\n",
      "[4] NASA seeks faster, cheaper way to return Mars samples to Earth (published on 2024-04-17)\n",
      "Summary: NASA is seeking proposals from other agencies to take over the Mars Sample Return mission due to budget and time constraints. The $11 billion project is too expensive and the 2040 return date is too far ...\n"
     ]
    }
   ],
   "source": [
    "all_summaries = summarize.concat_summaries(\n",
    "    ranked_articles[: RETRIEVAL_CONFIG[\"NUM_SUMMARIES_THRESHOLD\"]]\n",
    ")\n",
    "\n",
    "print(all_summaries[:3000], \"...\")"
   ]
  },
  {
   "cell_type": "markdown",
   "id": "89e4b793",
   "metadata": {},
   "source": [
    "### Reasoning"
   ]
  },
  {
   "cell_type": "code",
   "execution_count": null,
   "id": "42e11b9c",
   "metadata": {},
   "outputs": [],
   "source": [
    "REASONING_CONFIG = {\n",
    "    \"BASE_REASONING_MODEL_NAMES\": [\"gpt-4-1106-preview\", \"gpt-4-1106-preview\"],\n",
    "    \"BASE_REASONING_TEMPERATURE\": 1.0,\n",
    "    \"BASE_REASONING_PROMPT_TEMPLATES\": [\n",
    "        [\n",
    "            PROMPT_DICT[\"binary\"][\"scratch_pad\"][\"1\"],\n",
    "            PROMPT_DICT[\"binary\"][\"scratch_pad\"][\"2\"],\n",
    "        ],\n",
    "        [\n",
    "            PROMPT_DICT[\"binary\"][\"scratch_pad\"][\"new_3\"],\n",
    "            PROMPT_DICT[\"binary\"][\"scratch_pad\"][\"new_6\"],\n",
    "        ],\n",
    "    ],\n",
    "    \"AGGREGATION_METHOD\": \"meta\",\n",
    "    \"AGGREGATION_PROMPT_TEMPLATE\": PROMPT_DICT[\"meta_reasoning\"][\"0\"],\n",
    "    \"AGGREGATION_TEMPERATURE\": 0.2,\n",
    "    \"AGGREGATION_MODEL_NAME\": \"gpt-4\",\n",
    "    \"AGGREGATION_WEIGTHTS\": None,\n",
    "}"
   ]
  },
  {
   "cell_type": "code",
   "execution_count": null,
   "id": "55883aae",
   "metadata": {},
   "outputs": [],
   "source": [
    "close_date = \"N/A\"  # data doesn't have explicit close date, so set to N/A\n",
    "today_to_close_date = [today_date, close_date]\n",
    "\n",
    "ensemble_dict = await ensemble.meta_reason(\n",
    "    question=question,\n",
    "    background_info=background_info,\n",
    "    resolution_criteria=resolution_criteria,\n",
    "    today_to_close_date_range=today_to_close_date,\n",
    "    retrieved_info=all_summaries,\n",
    "    reasoning_prompt_templates=REASONING_CONFIG[\"BASE_REASONING_PROMPT_TEMPLATES\"],\n",
    "    base_model_names=REASONING_CONFIG[\"BASE_REASONING_MODEL_NAMES\"],\n",
    "    base_temperature=REASONING_CONFIG[\"BASE_REASONING_TEMPERATURE\"],\n",
    "    aggregation_method=REASONING_CONFIG[\"AGGREGATION_METHOD\"],\n",
    "    weights=REASONING_CONFIG[\"AGGREGATION_WEIGTHTS\"],\n",
    "    meta_model_name=REASONING_CONFIG[\"AGGREGATION_MODEL_NAME\"],\n",
    "    meta_prompt_template=REASONING_CONFIG[\"AGGREGATION_PROMPT_TEMPLATE\"],\n",
    "    meta_temperature=REASONING_CONFIG[\"AGGREGATION_TEMPERATURE\"],\n",
    ")"
   ]
  },
  {
   "cell_type": "code",
   "execution_count": null,
   "id": "9c5611e4",
   "metadata": {},
   "outputs": [
    {
     "name": "stdout",
     "output_type": "stream",
     "text": [
      "REASONING\n",
      " =================\n",
      "1. Reasons why the answer might be no:\n",
      "   - **Technological Challenges**: The complexity of landing humans on Mars is immense. Despite SpaceX's progress with Starship, unforeseen technical hurdles could arise that delay the timeline.\n",
      "   - **Safety and Testing**: Ensuring the safety of astronauts is paramount. This requires extensive testing and possibly redesigning components based on test outcomes, which could prolong the timeline.\n",
      "   - **Regulatory and Funding Constraints**: SpaceX's plans are subject to rigorous regulatory scrutiny and funding hurdles. Delays in regulatory approvals or funding could push the timeline beyond 2030.\n",
      "   - **Historical Delays**: Historically, space missions often face delays due to their complexity. Given the ambitious nature of SpaceX's plan, it's possible that the timeline could be pushed back.\n",
      "\n",
      "2. Reasons why the answer might be yes:\n",
      "   - **Proven Track Record**: SpaceX has demonstrated its capability to deliver on its goals, providing a solid foundation for their goal to land humans on Mars.\n",
      "   - **Intensive Development and Testing**: SpaceX's rapid pace of development and iterative approach may help solve technical challenges quicker.\n",
      "   - **Commitment and Vision**: Elon Musk's commitment to making life multiplanetary could drive the project's momentum, attract investment, and marshal resources to meet the ambitious goal of landing humans on Mars before 2030.\n",
      "\n",
      "3. Aggregated considerations:\n",
      "Considering the information provided about ongoing progress with Starship development and testing, SpaceX's proven track record, and Elon Musk's commitment, there is a significant chance that SpaceX could land humans on Mars before 2030. However, the extent of technical challenges, safety concerns, regulatory hurdles, and potential funding issues must be weighed heavily as they represent substantial obstacles that could cause delays past the target date. Therefore, while there's a decent probability of success, caution is warranted given the ambitious nature of the goal.\n",
      "\n",
      "4. Final Prediction:\n",
      "Given the mixed evidence and considerations, the final estimated probability should be moderate, accounting for the unpredictable nature of space exploration and SpaceX's history of overcoming significant challenges.\n",
      "*0.45*\n",
      "PROBABILITY\n",
      " =================\n",
      "0.45\n"
     ]
    }
   ],
   "source": [
    "print(\"REASONING\\n\", \"=================\")\n",
    "print(ensemble_dict[\"meta_reasoning\"])\n",
    "\n",
    "print(\"PROBABILITY\\n\", \"=================\")\n",
    "print(ensemble_dict[\"meta_prediction\"])"
   ]
  },
  {
   "cell_type": "code",
   "execution_count": null,
   "id": "d21387e0",
   "metadata": {},
   "outputs": [],
   "source": []
  }
 ],
 "metadata": {
  "kernelspec": {
   "display_name": "Python 3 (ipykernel)",
   "language": "python",
   "name": "python3"
  },
  "language_info": {
   "codemirror_mode": {
    "name": "ipython",
    "version": 3
   },
   "file_extension": ".py",
   "mimetype": "text/x-python",
   "name": "python",
   "nbconvert_exporter": "python",
   "pygments_lexer": "ipython3",
   "version": "3.10.13"
  }
 },
 "nbformat": 4,
 "nbformat_minor": 5
}
