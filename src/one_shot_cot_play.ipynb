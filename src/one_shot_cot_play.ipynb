{
 "cells": [
  {
   "cell_type": "code",
   "execution_count": 1,
   "id": "2d016892-17b1-46b9-b58a-49f803d685da",
   "metadata": {},
   "outputs": [],
   "source": [
    "\"\"\"          ***\n",
    "                        Checking consistency\n",
    "                        neg: P = 1 - not_P: 0.30 + 0.70 = 1 is true | NO violation \n",
    "                        andor: P = P_or_Q + P_and_Q - Q | 0.30 = 0.39 + 0.11 0.20 is true: NO violation\n",
    "                        and: max(P + Q - 1, 0) <= P_and_Q <= min(P, Q) | max(0.30 + 0.20 - 1, 0) <= 0.11 <= min(0.30, 0.20) is true: NO violation\n",
    "                        or: max(P, Q) <= P_or_Q <= min(1, P + Q) | max(0.30, 0.20) <= 0.39 <= min(1, 0.30 + 0.20) is true: NO violation\n",
    "                        but: P = P_or_Q - Q_and_not_P | 0.30 = 0.39 - 0.09 is true: NO violation \n",
    "                        cond: P = P_and_Q / Q_given_P | 0.30 = 0.11 / 0.37 is true: NO violation\n",
    "                        para: P = para_P | 0.30 = 0.30 is true: NO violation\n",
    "                        ***\n",
    "\n",
    "\n",
    "                        \n",
    "                        Revised estimates\n",
    "                        P: 0.30\n",
    "                        not_P: 0.70\n",
    "                        Q: 0.20\n",
    "                        P_or_Q: 0.39\n",
    "                        P_and_Q: 0.11\n",
    "                        Q_and_not_P: 0.09\n",
    "                        Q_given_P: 0.37\n",
    "                        para_P: 0.30\n",
    "\n",
    "\n",
    "\n",
    "\n",
    "\n",
    "                                                    ***\n",
    "                            Checking consistency\n",
    "                            neg: P = 1 - not_P: 0.30 + 0.55 = 1 is false | YES violation\n",
    "                            andor: P = P_or_Q + P_and_Q - Q | 0.30 = 0.45 + 0.11 0.20 is false: YES violation\n",
    "                            and: max(P + Q - 1, 0) <= P_and_Q <= min(P, Q) | max(0.30 + 0.20 - 1, 0) <= 0.11 <= min(0.30, 0.20) is true: NO violation\n",
    "                            or: max(P, Q) <= P_or_Q <= min(1, P + Q) | max(0.30, 0.20) <= 0.45 <= min(1, 0.30 + 0.20) is true: NO violation\n",
    "                            but: P = P_or_Q - Q_and_not_P | 0.45 = 0.39 - 0.09 is False: YES violation\n",
    "                            cond: P = P_and_Q / Q_given_P | 0.30 = 0.11 / 0.69 is false: YES violation\n",
    "                            para: P = para_P | 0.30 = 0.45 is false: YES violation\n",
    "                            ***\n",
    "                            Revised estimates\n",
    "                            P: 0.30\n",
    "                            not_P: 0.70\n",
    "                            Q: 0.20\n",
    "                            P_or_Q: 0.39\n",
    "                            P_and_Q: 0.11\n",
    "                            Q_and_not_P: 0.09\n",
    "                            Q_given_P: 0.37\n",
    "                            para_P: 0.30\n",
    "\"\"\"\n",
    "\n",
    "\n",
    "\n",
    "        \"\"\"\n",
    "            Output your answer in the following way.\\n\n",
    "            For each question label output the corresponding probability rounded to two decimal places.\\n\n",
    "            \"P\": 0.42\\n\n",
    "            \"Q\": 0.23\\n\n",
    "            \"Q_given_P\": 0.14\\n\n",
    "            \"not_P\": 0.58\\n\n",
    "            \"P_and_Q\" = 0.21\\n\n",
    "            ...\\n\n",
    "            And so on and so forth. Note there can be more or less labels than the example I provided.\\n\n",
    "            After that, I will again ask you to verify that the probabilities you provided are consistent with the rules I give you. I want you to explicitly go through each rule and evaluate whether your response is consistent with that. If it is not, then you should correct that mistake. Note that changing the probability of one label may affect the consistency of other, so you need to be sure that the probabilities you give are consistent across all of the rules.\\n\\n\n",
    "            Exxample 1:\\n\n",
    "            rule: neg: P = 1 - not_P : P = 0.42, not_P = 0.58 | 0.42 + 0.58 = 1 is true : NO violation\\n\\n\n",
    "            Example 2:\\n\n",
    "            rule: neg: P = 1 - not_P : P = 0.11, not_P = 0.34 | 0.11 + 0.34 = 1 is false : YES violation\\n\\n\n",
    "            In this case, the consistency check fails. Therefore, you should correct either P, not_P, or both such that it passes.\\n\n",
    "            Note that your correction needs to ENSURE that it still passes other consistency checks too.\\n\\n\n",
    "            At the end, I want you to output a final line with your prediction just for P again separated by ***.\\n\\n\n",
    "            Example:\\n\n",
    "            #Checks you do\\n\n",
    "            ***\\n\n",
    "            0.42\\n\\n\n",
    "            Therefore your output should be of the following structure:\\n\n",
    "            - Outputs of your probability estimates for each question\n",
    "            - ***\n",
    "            - Your evaluation of each consistency metric of whether it fulfills the consistency criteria.  Clearly state your reasoning for why it does or does not.\n",
    "            - ***\n",
    "            - Outputs of probability estimates given your evaluation of the consistency of your previous estimates.  If there are no consistency violations, you may simply repeat your previous response.  If there are, the new probabilities should obey ALL the consistency measurements (keeping in mind that chanding one probability might have to change another to ensure other consistency rules are also obeyed)\n",
    "            - ***\n",
    "        \"\"\"\n"
   ]
  },
  {
   "cell_type": "code",
   "execution_count": null,
   "id": "b6eb3054-8781-47c9-95ca-86af65c248ab",
   "metadata": {},
   "outputs": [],
   "source": []
  },
  {
   "cell_type": "code",
   "execution_count": null,
   "id": "a58b4d7d-d484-451b-a190-c974263f80dd",
   "metadata": {},
   "outputs": [],
   "source": []
  },
  {
   "cell_type": "code",
   "execution_count": null,
   "id": "4e87457d-8b9e-46a1-ac7f-25b028cad1de",
   "metadata": {},
   "outputs": [],
   "source": []
  },
  {
   "cell_type": "code",
   "execution_count": null,
   "id": "b2f6c5cd-e01c-427c-a8f1-2f15da51dd5c",
   "metadata": {},
   "outputs": [],
   "source": [
    "\"\"\"\n",
    "class ForecastingQuestion(BaseModel):\n",
    "    id: UUID = Field(default_factory=uuid4)\n",
    "    title: str\n",
    "    body: str\n",
    "    resolution_date: datetime\n",
    "    question_type: str\n",
    "    data_source: Optional[str] = None\n",
    "    url: Optional[str] = None\n",
    "    metadata: Optional[dict] = None\n",
    "    resolution: Optional[bool] = None\n",
    "\n",
    "\"\"\"\n",
    "\n",
    "\n",
    "\"\"\"\n",
    "async def generate_questions_from_question(\n",
    "    source_question,\n",
    "    model,\n",
    "    num_questions,\n",
    "    source_body=None,\n",
    "    resolve_by=None,\n",
    "    similar=None,\n",
    "):\n",
    "\n",
    "simliar only for paraphase and consequence (can vary by altering the date)\n",
    "\n",
    "\"\"\""
   ]
  },
  {
   "cell_type": "code",
   "execution_count": null,
   "id": "93789511-1fc8-4385-b76a-c50b19c4f969",
   "metadata": {},
   "outputs": [],
   "source": [
    "\n",
    "\"\"\"\n",
    "from static_checks.Checker import (\n",
    "    AndChecker,\n",
    "    OrChecker,\n",
    "    ConsequenceChecker,\n",
    "    ParaphraseChecker,\n",
    "    CondCondChecker,\n",
    "    # Add any other checkers you want to import here\n",
    ")\n",
    "\n",
    "\"\"\""
   ]
  },
  {
   "cell_type": "code",
   "execution_count": null,
   "id": "c77c93ab-850f-4055-a90c-d86e2f2f1e25",
   "metadata": {},
   "outputs": [],
   "source": [
    "\n",
    "\"\"\"\n",
    "## list of questions that just have title\n",
    "new_questions = asyncio.run(\n",
    "    generate_questions_from_question(\n",
    "        TEST_1.title,\n",
    "        \"gpt-4o\",\n",
    "        3,\n",
    "        source_body=TEST_1.body,\n",
    "        resolve_by=TEST_1.resolution_date,\n",
    "        similar=None,\n",
    "    )\n",
    ")\n",
    "\n",
    "print(\"XXXXXX\")\n",
    "for i in new_questions:\n",
    "    print(i)\n",
    "quit()\n",
    "\n",
    "\"\"\""
   ]
  },
  {
   "cell_type": "code",
   "execution_count": null,
   "id": "745c8d33-41ad-4d31-97b6-8e2979b97272",
   "metadata": {},
   "outputs": [],
   "source": []
  },
  {
   "cell_type": "code",
   "execution_count": null,
   "id": "ea90c26d-abd0-4332-b26f-fa74371ffdf6",
   "metadata": {},
   "outputs": [],
   "source": []
  },
  {
   "cell_type": "code",
   "execution_count": null,
   "id": "6b986995-bc14-4ddd-b831-ee16abbc3560",
   "metadata": {},
   "outputs": [],
   "source": []
  },
  {
   "cell_type": "code",
   "execution_count": 1,
   "id": "385b7244-f936-4dbe-8d8b-731bc63c7e15",
   "metadata": {},
   "outputs": [
    {
     "name": "stderr",
     "output_type": "stream",
     "text": [
      "/opt/anaconda3/envs/consistency-forecast/lib/python3.11/site-packages/tqdm/auto.py:21: TqdmWarning: IProgress not found. Please update jupyter and ipywidgets. See https://ipywidgets.readthedocs.io/en/stable/user_install.html\n",
      "  from .autonotebook import tqdm as notebook_tqdm\n"
     ]
    },
    {
     "name": "stdout",
     "output_type": "stream",
     "text": [
      "LOCAL_CACHE: None\n",
      "max_concurrent_queries set for global semaphore: 20\n",
      "Resetting global semaphore, max concurrent queries: 20\n",
      "\n",
      "\u001b[1m NO_CACHE \u001b[0m\n",
      "\n",
      "\n",
      "\u001b[1m NO_CACHE \u001b[0m\n",
      "\n",
      "\n",
      "\u001b[1m NO_CACHE \u001b[0m\n",
      "\n",
      "\n",
      "\u001b[1m NO_CACHE \u001b[0m\n",
      "\n",
      "The setting for WRITE_VERIFICATION in fq_body_generator.py: True\n"
     ]
    },
    {
     "name": "stderr",
     "output_type": "stream",
     "text": [
      "/opt/anaconda3/envs/consistency-forecast/lib/python3.11/site-packages/pydantic/_internal/_model_construction.py:53: UserWarning: `check_question_type` overrides an existing Pydantic `@field_validator` decorator\n",
      "  warnings.warn(f'`{k}` overrides an existing Pydantic `{existing.decorator_info.decorator_repr}` decorator')\n"
     ]
    }
   ],
   "source": [
    "%load_ext autoreload\n",
    "%autoreload 2\n",
    "from forecasters.PromptedToConsForecaster import PromptedToCons_Forecaster\n",
    "from common.datatypes import ForecastingQuestion, Prob_cot\n",
    "TEST_1 = {\n",
    "    \"id\": \"5da935a3-7ffa-4e28-8c1a-5952c89a9a42\",\n",
    "    \"title\": \"Will USA top the Olympic Medal Table at Paris 2024?\",\n",
    "    \"body\": \"This question will resolve positively if the United States Olympic Team are the (unique) highest ranked team at the 2024 Paris Olympics. It will resolve ambiguously if the Paris Olympics do not take place before 2027. It will resolve negatively if any team achieves a higher or equal ranking to the US team.\\n\\nThe medal table is calculated by taking all the medals won by each participating country and ordering by:\\n\\n1. Number of Gold Medals\\n2. (Where 1 is tied) Number of Silver Medals\\n3. (Where 2 is tied) Number of Bronze Medals\",\n",
    "    \"resolution_date\": \"2024-12-31 00:00:00\",\n",
    "    \"question_type\": \"binary\",\n",
    "    \"data_source\": \"metaculus\",\n",
    "    \"url\": \"https://www.metaculus.com/questions/7664\",\n",
    "    \"metadata\": {\n",
    "        \"topics\": [],\n",
    "        \"api_url\": \"https://www.metaculus.com/api2/questions/7664\",\n",
    "        \"market_prob\": 0.82,\n",
    "        \"resolve_time\": \"2024-08-10T23:00:00Z\",\n",
    "        \"close_time\": \"2024-07-25T23:00:00Z\",\n",
    "        \"effected_close_time\": None,\n",
    "        \"background_info\": \"The 2024 Olympic games is a sporting competition which takes place every four years. It involves a range of different events across multiple sports.\\n\\nAt the Olympic Games, Gold, Silver and Bronze medals are awarded to 1st, 2nd and 3rd place in each event. (In some events two Bronze medals are awarded mostly combat sports).\\n\\nThe US team is one of the most successful teams in recent Olympics, topping the medal table in 2020, 2016, 2012, 2004, 2000. Will they repeat that in 2024?\\n\\n*Related questions*\\n\\n* [How many medals will Team USA win in Paris 2024?](https://www.metaculus.com/questions/7665/total-medals-won-by-the-usa-at-paris-2024/)\\n* [Will France come in the Top 5 at Paris 2024?](https://www.metaculus.com/questions/7669/france-home-game-advantage/\",\n",
    "    },\n",
    "    \"resolution\": None,\n",
    "}\n",
    "TEST_1 = ForecastingQuestion(**TEST_1)\n",
    "\n",
    "TEST_2 = {\n",
    "    \"id\": \"7a492441-3505-4c98-add6-7fc67a963637\",\n",
    "    \"title\": \"Will Robert F. Kennedy Jr. suspend his 2024 presidential campaign before September 24, 2024?\",\n",
    "    \"body\": \"This question resolves as Yes if before September 24, 2024, Robert F. Kennedy Jr. or his campaign officially announces that he has suspended, terminated, or otherwise ended his 2024 campaign for the office of President of the United States.\",\n",
    "    \"resolution_date\": \"2024-09-23 00:00:00\",\n",
    "    \"question_type\": \"binary\",\n",
    "    \"data_source\": \"metaculus\",\n",
    "    \"url\": \"https://www.metaculus.com/questions/26100\",\n",
    "    \"metadata\": {\n",
    "        \"topics\": [],\n",
    "        \"api_url\": \"https://www.metaculus.com/api2/questions/26100\",\n",
    "        \"market_prob\": 0.206,\n",
    "        \"resolve_time\": \"2024-09-24T14:30:00Z\",\n",
    "        \"close_time\": \"2024-07-13T14:30:00Z\",\n",
    "        \"effected_close_time\": None,\n",
    "        \"background_info\": \"[The 2024 United States presidential election](https://en.wikipedia.org/wiki/2024_United_States_presidential_election?useskin=vector) is scheduled to be held on Tuesday, November 5, 2024.\\n\\nAs of July 10 2024, incumbent Democratic president Joe Biden is seeking re-election and is the [presumptive nominee of his party.](https://apnews.com/article/biden-presumptive-nominee-election-president-democrat-63b66006d4bc45354343228e323e3baa) April five-candidate [polls](https://www.realclearpolling.com/polls/president/general/2024/trump-vs-biden-vs-kennedy-vs-west-vs-stein) have found him winning about 40% of the national popular vote.\\n\\nRepublican former president Donald Trump is seeking election to a second, non-consecutive term, and is the [presumptive nominee of his party.](https://www.politico.com/news/2024/03/12/donald-trump-clinches-republican-presidential-nomination-00146675) April five-candidate [polls](https://www.realclearpolling.com/polls/president/general/2024/trump-vs-biden-vs-kennedy-vs-west-vs-stein) have found him winning about 42% of the national popular vote.\\n\\nAttorney and political activist [Robert F. Kennedy Jr.](https://en.wikipedia.org/wiki/Robert_F._Kennedy_Jr.?useskin=vector) sought the Democratic nomination in the 2024 cycle, but in October 2023, switched to [running as an independent](https://apnews.com/article/rfk-jr-presidential-campaign-independent-2024-30d940109c4956de9c81f332ec418463) candidate. In March 2024, [Kennedy named his running mate](https://apnews.com/article/rfk-bobby-kennedy-vp-running-mate-6be6d7e04ba7d9e74190b8c01a1bf075), attorney Nicole Shanahan. Recent five-candidate [polls](https://www.realclearpolling.com/polls/president/general/2024/trump-vs-biden-vs-kennedy-vs-west-vs-stein) have found Kennedy winning about 9.5% of the national popular vote, an unusually high figure for a third-party or independent candidate. Kennedy has also reportedly raised, together with outside groups, [over $98 million](https://www.opensecrets.org/2024-presidential-race) in support of his presidential run, an unusually high figure for a third-party or independent candidate.  \\n\\nGiven Kennedy's unusually high polling and fundraising figures, he may be in a position to significantly influence the outcome of an otherwise close election, particularly if he were to drop out of the race and encourage his supporters to lend their support to one of the major party candidates.\",\n",
    "    },\n",
    "    \"resolution\": None,\n",
    "}\n",
    "TEST_2 = ForecastingQuestion(**TEST_2)\n",
    "\n",
    "TEST_3 = {\n",
    "    \"id\": \"c196006b-8e35-4c5b-a0d8-a577d0aa4ce2\",\n",
    "    \"title\": \"Will exactly 3 Starship launches reach low-Earth orbit by Sept 30, 2024?\",\n",
    "    \"body\": \"This question will resolve as the number of SpaceX Starship launches that reach low-Earth orbit, defined as achieving an altitude of at least 160 kilometers (approximately 100 miles) above the Earth's surface, by Sept 30, 2024.\\n\\nThe resolution will be based on official mission reports from SpaceX, and may also consider data or reporting from aerospace monitoring organizations or authorities, as well as other credible sources such as international media outlets.\",\n",
    "    \"resolution_date\": \"2024-09-30 00:00:00\",\n",
    "    \"question_type\": \"binary\",\n",
    "    \"data_source\": \"metaculus\",\n",
    "    \"url\": \"https://www.metaculus.com/questions/25705\",\n",
    "    \"metadata\": {\n",
    "        \"topics\": [],\n",
    "        \"api_url\": \"https://www.metaculus.com/api2/questions/25705\",\n",
    "        \"market_prob\": 0.5,\n",
    "        \"resolve_time\": \"2024-09-30T00:00:00Z\",\n",
    "        \"close_time\": \"2024-07-02T00:00:00Z\",\n",
    "        \"effected_close_time\": None,\n",
    "        \"background_info\": \"SpaceX's Starship is at the forefront of the next generation of spacecrafts, designed with the ambitious goals of enabling human life on other planets, starting with Mars, and significantly reducing the cost of access to space. The fully reusable transportation system is envisioned to carry both crew and cargo to Earth orbit, the Moon, Mars, and beyond. Since its inception, the Starship program has been marked by rapid development and prototyping.\\n\\nIn 2024, SpaceX has continued its intensive testing and development schedule, aiming to perfect the Starship's capabilities for orbital flight, satellite deployment, and eventual deep space missions. As SpaceX gears up for future crewed missions, including NASA's Artemis program to return humans to the Moon and eventually to Mars, the ability of Starship to reach and operate in low-Earth orbit (LEO) is a critical step. Achieving LEO is essential not only for satellite deployments but also as a proving ground for the technologies and operational procedures that will enable longer-duration spaceflights.\\n\\nOn March 14, 2024, SpaceX's Integrated Test Flight 3 (IFT-3) saw Starship 28 briefly reach low-Earth orbit by achieving an altitude of 234 km before breaking up in the atmosphere upon re-entry.\\n\\nIn the days prior to IFT-3, SpaceX CEO Elon Musk tweeted \\\"Hopefully, at least 6 more flights this year\\\".\",\n",
    "    },\n",
    "    \"resolution\": None,\n",
    "}\n",
    "TEST_3 = ForecastingQuestion(**TEST_3)\n",
    "\n"
   ]
  },
  {
   "cell_type": "code",
   "execution_count": 2,
   "id": "97f1acec-3199-4d9b-a904-7878be2de012",
   "metadata": {},
   "outputs": [
    {
     "name": "stdout",
     "output_type": "stream",
     "text": [
      "{\"title\":\"Will exactly 3 Starship launches reach low-Earth orbit by Sept 30, 2024?\",\"body\":\"This question will resolve as the number of SpaceX Starship launches that reach low-Earth orbit, defined as achieving an altitude of at least 160 kilometers (approximately 100 miles) above the Earth's surface, by Sept 30, 2024.\\n\\nThe resolution will be based on official mission reports from SpaceX, and may also consider data or reporting from aerospace monitoring organizations or authorities, as well as other credible sources such as international media outlets.\"}\n"
     ]
    }
   ],
   "source": [
    "print(TEST_3)"
   ]
  },
  {
   "cell_type": "code",
   "execution_count": 49,
   "id": "409f98ca-302f-4bd3-9071-9d9011ec1827",
   "metadata": {},
   "outputs": [
    {
     "name": "stdout",
     "output_type": "stream",
     "text": [
      "The autoreload extension is already loaded. To reload it, use:\n",
      "  %reload_ext autoreload\n"
     ]
    }
   ],
   "source": [
    "\n",
    "%load_ext autoreload\n",
    "%autoreload 2\n",
    "from forecasters.PromptedToConsForecaster import PromptedToCons_Forecaster\n",
    "from common.datatypes import ForecastingQuestion, Prob_cot"
   ]
  },
  {
   "cell_type": "code",
   "execution_count": 51,
   "id": "2fd9156a-7734-46cd-84f5-d049b0b1f3ea",
   "metadata": {},
   "outputs": [],
   "source": [
    "test_cons_forecast = PromptedToCons_Forecaster()"
   ]
  },
  {
   "cell_type": "code",
   "execution_count": 53,
   "id": "cff79cce-b49d-4c35-82ba-eeda2537cd79",
   "metadata": {},
   "outputs": [
    {
     "name": "stdout",
     "output_type": "stream",
     "text": [
      "Loading questions from /Users/ashen/Desktop/consistency-forecasting/src/data/fq/real/questions_cleaned_formatted.jsonl...\n",
      "Loaded 456 questions.\n",
      "{'model': 'gpt-4o-mini-2024-07-18', 'response_model': <class 'common.datatypes.RelevanceResult'>, 'temperature': 0.5} Approx num tokens: 833\n",
      "---\n",
      "[ForecastingQuestion(id=UUID('c196006b-8e35-4c5b-a0d8-a577d0aa4ce2'), title='Will exactly 3 Starship launches reach low-Earth orbit by Sept 30, 2024?', body=\"This question will resolve as the number of SpaceX Starship launches that reach low-Earth orbit, defined as achieving an altitude of at least 160 kilometers (approximately 100 miles) above the Earth's surface, by Sept 30, 2024.\\n\\nThe resolution will be based on official mission reports from SpaceX, and may also consider data or reporting from aerospace monitoring organizations or authorities, as well as other credible sources such as international media outlets.\", resolution_date=datetime.datetime(2024, 9, 30, 0, 0), question_type='binary', data_source='metaculus', url='https://www.metaculus.com/questions/25705', metadata={'topics': [], 'api_url': 'https://www.metaculus.com/api2/questions/25705', 'market_prob': 0.5, 'resolve_time': '2024-09-30T00:00:00Z', 'close_time': '2024-07-02T00:00:00Z', 'effected_close_time': None, 'background_info': 'SpaceX\\'s Starship is at the forefront of the next generation of spacecrafts, designed with the ambitious goals of enabling human life on other planets, starting with Mars, and significantly reducing the cost of access to space. The fully reusable transportation system is envisioned to carry both crew and cargo to Earth orbit, the Moon, Mars, and beyond. Since its inception, the Starship program has been marked by rapid development and prototyping.\\n\\nIn 2024, SpaceX has continued its intensive testing and development schedule, aiming to perfect the Starship\\'s capabilities for orbital flight, satellite deployment, and eventual deep space missions. As SpaceX gears up for future crewed missions, including NASA\\'s Artemis program to return humans to the Moon and eventually to Mars, the ability of Starship to reach and operate in low-Earth orbit (LEO) is a critical step. Achieving LEO is essential not only for satellite deployments but also as a proving ground for the technologies and operational procedures that will enable longer-duration spaceflights.\\n\\nOn March 14, 2024, SpaceX\\'s Integrated Test Flight 3 (IFT-3) saw Starship 28 briefly reach low-Earth orbit by achieving an altitude of 234 km before breaking up in the atmosphere upon re-entry.\\n\\nIn the days prior to IFT-3, SpaceX CEO Elon Musk tweeted \"Hopefully, at least 6 more flights this year\".'}, resolution=None), ForecastingQuestion(id=UUID('ebbdbe1e-94c7-4f4c-ac96-793698ea5725'), title='Will there be a major famine in North Korea before 2025?', body='Resolution Criteria\\nThis question will resolve as Yes in the event that before January 1, 2025, credible reports indicate that North Korea has suffered from a famine beginning no earlier than January 1, 2020 that has likely resulted in at least 250,000 deaths. The question will resolve as No if this does not occur', resolution_date=datetime.datetime(2024, 12, 31, 0, 0), question_type='binary', data_source='metaculus', url='https://www.metaculus.com/questions/7468', metadata={'topics': [], 'background_info': 'North Korea is a country in East Asia, constituting the northern part of the Korean Peninsula.\\nAccording to Article 1 of the state constitution, North Korea is an \"independent socialist state.\" It holds elections, though they have been described by independent observers as sham elections, as North Korea is a totalitarian dictatorship, with an elaborate cult of personality around the Kim dynasty: Il-sung, Jong-il, and current leader Jong-un. The Workers\\' Party of Korea, led by a member of the ruling family, is the dominant party and leads the Democratic Front for the Reunification of Korea, of which all political officers are required to be members.\\nAccording to Article 3 of the constitution, Juche is the official ideology of North Korea. The means of production are owned by the state through state-run enterprises and collectivized farms. Most services—such as healthcare, education, housing and food production—are subsidized or state-funded. From 1994 to 1998, North Korea suffered a famine that resulted in the deaths of 240,000 to 3.5 million people, and the population continues to suffer malnutrition.\\nAs of 2021, in the aftermath of the global COVID-19 pandemic, as well as crop failures, North Korea is facing a \\'tense\\' food shortage, and there are fears that many people in the country may be at risk of starvation.\\n'}, resolution=None)]\n",
      "reasons=['Both questions involve significant global events that could be influenced by technological advancements and geopolitical factors.', \"SpaceX's success with Starship launches might be seen as a sign of technological progress, which could indirectly affect international relations and humanitarian efforts, including those related to North Korea.\", 'The outcome of space missions and humanitarian crises can both be affected by government policies and international cooperation, making them tangentially related.'] conclusion='While the logical combination is not directly related, there are broader implications and contexts in which both events might interact, making it worth considering their combination.' score=5.0\n",
      "---\n",
      "{'model': 'gpt-4o-mini-2024-07-18', 'response_model': <class 'common.datatypes.RelevanceResult'>, 'temperature': 0.5} Approx num tokens: 777\n",
      "---\n",
      "[ForecastingQuestion(id=UUID('c196006b-8e35-4c5b-a0d8-a577d0aa4ce2'), title='Will exactly 3 Starship launches reach low-Earth orbit by Sept 30, 2024?', body=\"This question will resolve as the number of SpaceX Starship launches that reach low-Earth orbit, defined as achieving an altitude of at least 160 kilometers (approximately 100 miles) above the Earth's surface, by Sept 30, 2024.\\n\\nThe resolution will be based on official mission reports from SpaceX, and may also consider data or reporting from aerospace monitoring organizations or authorities, as well as other credible sources such as international media outlets.\", resolution_date=datetime.datetime(2024, 9, 30, 0, 0), question_type='binary', data_source='metaculus', url='https://www.metaculus.com/questions/25705', metadata={'topics': [], 'api_url': 'https://www.metaculus.com/api2/questions/25705', 'market_prob': 0.5, 'resolve_time': '2024-09-30T00:00:00Z', 'close_time': '2024-07-02T00:00:00Z', 'effected_close_time': None, 'background_info': 'SpaceX\\'s Starship is at the forefront of the next generation of spacecrafts, designed with the ambitious goals of enabling human life on other planets, starting with Mars, and significantly reducing the cost of access to space. The fully reusable transportation system is envisioned to carry both crew and cargo to Earth orbit, the Moon, Mars, and beyond. Since its inception, the Starship program has been marked by rapid development and prototyping.\\n\\nIn 2024, SpaceX has continued its intensive testing and development schedule, aiming to perfect the Starship\\'s capabilities for orbital flight, satellite deployment, and eventual deep space missions. As SpaceX gears up for future crewed missions, including NASA\\'s Artemis program to return humans to the Moon and eventually to Mars, the ability of Starship to reach and operate in low-Earth orbit (LEO) is a critical step. Achieving LEO is essential not only for satellite deployments but also as a proving ground for the technologies and operational procedures that will enable longer-duration spaceflights.\\n\\nOn March 14, 2024, SpaceX\\'s Integrated Test Flight 3 (IFT-3) saw Starship 28 briefly reach low-Earth orbit by achieving an altitude of 234 km before breaking up in the atmosphere upon re-entry.\\n\\nIn the days prior to IFT-3, SpaceX CEO Elon Musk tweeted \"Hopefully, at least 6 more flights this year\".'}, resolution=None), ForecastingQuestion(id=UUID('b2426492-b0ff-4a18-b6dd-8219abc608f1'), title='Will we detect an exoplanet atmosphere with >5% oxygen atmosphere before 2030?', body='Resolution Criteria\\nThis question will resolve as Yes if any exoplanet with >5% O2 atmosphere is found before January 1, 2030', resolution_date=datetime.datetime(2029, 12, 31, 0, 0, tzinfo=TzInfo(UTC)), question_type='binary', data_source='metaculus', url='https://www.metaculus.com/questions/1568', metadata={'topics': [], 'background_info': 'Despite Kepler’s recent end of mission the search for exoplanets continues. While their orbits and properties vary, ranging from double our Moon’s mass to thirty times Jupiter’s, their atmospheres’ compositions are harder to detect.\\nAs of this writing this means we have mostly data from exoplanets we detected by transition and occlusion methods, but also other kind of exoplanets. However we only found what is in their air, not how much or its ratio in the atmosphere. What we did detect of their atmospheres was often hydrogen, sodium, water vapour, carbon monoxide and dioxide, methane, and even oxygen, depending on the respective exoplanet.\\nSadly, the presence of O2 isn’t the smoking gun for extraterrestrial life some media like to report it for. There are atmospheric and geological processes that produce detectable—or even massive—amounts of oxygen, keeping the mere presence of O2 from being a robust biomarker. On the flip side, too much oxygen is also possible, and may prevent or hamper the development of life.\\nSo far we lack a method that would determine the composition percentages of exoplanet atmospheres, but that doesn’t mean someone clever won’t come up with a way. And once we do, finding an atmosphere with a sizeable fraction of O2 might very well be a good indicator for extraterrestrial life.\\n'}, resolution=None)]\n",
      "reasons=['Both questions relate to advancements in space exploration and technology, making them relevant to stakeholders in the aerospace industry.', 'The success of Starship launches could influence funding and interest in exoplanet research, as successful space missions often stimulate scientific inquiry and investment.', 'Both questions involve significant technological and scientific milestones that could be interconnected in terms of funding, research priorities, and public interest.'] conclusion='The logical combination of these questions is worth considering due to their potential interrelation in the context of space exploration and scientific advancement.' score=7.0\n",
      "---\n",
      "{'model': 'gpt-4o-mini-2024-07-18', 'response_model': <class 'common.datatypes.RelevanceResult'>, 'temperature': 0.5} Approx num tokens: 1070\n",
      "---\n",
      "[ForecastingQuestion(id=UUID('c196006b-8e35-4c5b-a0d8-a577d0aa4ce2'), title='Will exactly 3 Starship launches reach low-Earth orbit by Sept 30, 2024?', body=\"This question will resolve as the number of SpaceX Starship launches that reach low-Earth orbit, defined as achieving an altitude of at least 160 kilometers (approximately 100 miles) above the Earth's surface, by Sept 30, 2024.\\n\\nThe resolution will be based on official mission reports from SpaceX, and may also consider data or reporting from aerospace monitoring organizations or authorities, as well as other credible sources such as international media outlets.\", resolution_date=datetime.datetime(2024, 9, 30, 0, 0), question_type='binary', data_source='metaculus', url='https://www.metaculus.com/questions/25705', metadata={'topics': [], 'api_url': 'https://www.metaculus.com/api2/questions/25705', 'market_prob': 0.5, 'resolve_time': '2024-09-30T00:00:00Z', 'close_time': '2024-07-02T00:00:00Z', 'effected_close_time': None, 'background_info': 'SpaceX\\'s Starship is at the forefront of the next generation of spacecrafts, designed with the ambitious goals of enabling human life on other planets, starting with Mars, and significantly reducing the cost of access to space. The fully reusable transportation system is envisioned to carry both crew and cargo to Earth orbit, the Moon, Mars, and beyond. Since its inception, the Starship program has been marked by rapid development and prototyping.\\n\\nIn 2024, SpaceX has continued its intensive testing and development schedule, aiming to perfect the Starship\\'s capabilities for orbital flight, satellite deployment, and eventual deep space missions. As SpaceX gears up for future crewed missions, including NASA\\'s Artemis program to return humans to the Moon and eventually to Mars, the ability of Starship to reach and operate in low-Earth orbit (LEO) is a critical step. Achieving LEO is essential not only for satellite deployments but also as a proving ground for the technologies and operational procedures that will enable longer-duration spaceflights.\\n\\nOn March 14, 2024, SpaceX\\'s Integrated Test Flight 3 (IFT-3) saw Starship 28 briefly reach low-Earth orbit by achieving an altitude of 234 km before breaking up in the atmosphere upon re-entry.\\n\\nIn the days prior to IFT-3, SpaceX CEO Elon Musk tweeted \"Hopefully, at least 6 more flights this year\".'}, resolution=None), ForecastingQuestion(id=UUID('1d720d42-ae4a-4569-be76-1919bb11cce9'), title='Will there be at least 2˚C of global warming by 2100?', body=\"Resolution Criteria\\nThis question will resolve positively if, by January 1, 2100, there has been a period of at least 5 consecutive years in which the average global temperature in each year was at least 2.0 ˚C greater than the average global temperature in 1880.\\n(Note that 1880 isn't exactly pre-industrial, but earlier data is highly unreliable, and there should really not have been much warming by then.)\\nData for resolution shall come from NASA, if possible. Note that the data in the link is normalised relative to the 1951-1980 baseline, on which 1880 stands at -0.2. Therefore, the critical value to look for with this specific NASA dataset will be 1.8 ˚C. It is likely, though, that the link will no longer be active in a few decades, so a different dataset may have to be used anyway.\\nThe last possible set of 5 years to satisfy the requirement would be 2095-2099, so the last possible resolution date would be around mid-2100, in order to make sure that there are no uncertainties regarding the 2099 climate data\\n\", resolution_date=datetime.datetime(2100, 12, 31, 0, 0, tzinfo=TzInfo(UTC)), question_type='binary', data_source='metaculus', url='https://www.metaculus.com/questions/585', metadata={'topics': [], 'background_info': 'At the Paris climate accord, world leaders promised to keep the global temperature increase this century (relative to pre-industrial levels) \"well below 2 ˚C\" and if possible below 1.5 ˚C. Many experts are skeptical about this goal being feasible, stating that even if all Paris targets are met, global warming may reach levels up to 3 ˚C above pre-industrial levels. Furthermore, with the coming departure of the United States from the agreement, the meeting of global targets may be in jeopardy.'}, resolution=None)]\n",
      "reasons=['Both questions relate to technological advancements and their potential impact on climate change, which may interest those studying the intersection of space exploration and environmental issues.', 'The outcome of Starship launches could influence public and governmental support for space technology, which may have implications for climate change initiatives and policies.', 'Individuals interested in forecasting the future of technology might find it relevant to consider how advancements in space travel could correlate with long-term environmental changes.'] conclusion='The logical combination of these questions is worth considering, as there are relevant connections between space exploration and climate change.' score=7.0\n",
      "---\n",
      "{'model': 'gpt-4o-mini-2024-07-18', 'response_model': <class 'common.datatypes.RelevanceResult'>, 'temperature': 0.5} Approx num tokens: 1136\n",
      "---\n",
      "[ForecastingQuestion(id=UUID('c196006b-8e35-4c5b-a0d8-a577d0aa4ce2'), title='Will exactly 3 Starship launches reach low-Earth orbit by Sept 30, 2024?', body=\"This question will resolve as the number of SpaceX Starship launches that reach low-Earth orbit, defined as achieving an altitude of at least 160 kilometers (approximately 100 miles) above the Earth's surface, by Sept 30, 2024.\\n\\nThe resolution will be based on official mission reports from SpaceX, and may also consider data or reporting from aerospace monitoring organizations or authorities, as well as other credible sources such as international media outlets.\", resolution_date=datetime.datetime(2024, 9, 30, 0, 0), question_type='binary', data_source='metaculus', url='https://www.metaculus.com/questions/25705', metadata={'topics': [], 'api_url': 'https://www.metaculus.com/api2/questions/25705', 'market_prob': 0.5, 'resolve_time': '2024-09-30T00:00:00Z', 'close_time': '2024-07-02T00:00:00Z', 'effected_close_time': None, 'background_info': 'SpaceX\\'s Starship is at the forefront of the next generation of spacecrafts, designed with the ambitious goals of enabling human life on other planets, starting with Mars, and significantly reducing the cost of access to space. The fully reusable transportation system is envisioned to carry both crew and cargo to Earth orbit, the Moon, Mars, and beyond. Since its inception, the Starship program has been marked by rapid development and prototyping.\\n\\nIn 2024, SpaceX has continued its intensive testing and development schedule, aiming to perfect the Starship\\'s capabilities for orbital flight, satellite deployment, and eventual deep space missions. As SpaceX gears up for future crewed missions, including NASA\\'s Artemis program to return humans to the Moon and eventually to Mars, the ability of Starship to reach and operate in low-Earth orbit (LEO) is a critical step. Achieving LEO is essential not only for satellite deployments but also as a proving ground for the technologies and operational procedures that will enable longer-duration spaceflights.\\n\\nOn March 14, 2024, SpaceX\\'s Integrated Test Flight 3 (IFT-3) saw Starship 28 briefly reach low-Earth orbit by achieving an altitude of 234 km before breaking up in the atmosphere upon re-entry.\\n\\nIn the days prior to IFT-3, SpaceX CEO Elon Musk tweeted \"Hopefully, at least 6 more flights this year\".'}, resolution=None), ForecastingQuestion(id=UUID('8d489275-a0e4-4912-8af9-19d1781af30f'), title=\"Will armed conflicts between the United States and the People's Republic of China lead to at least 100 deaths before 2050?\", body=\"Resolution Criteria\\nThis question will resolve as Yes if, at any time between January 1, 2021 to January 1, 2050, either of the following occur:\\nThere are at least three credible government sources reporting at least one exchange of weapon fire between the national military forces or law enforcement personnel of the United States and the People's Republic of China causing a total of at least 100 deaths.\\nThere are at least three credible news reports that at least one exchange of weapon fire between the national military forces or law enforcement personnel of the United States and the People's Republic of China causing a total of at least 100 deaths.\\nThese 100 deaths do not have to occur in the same conflict or the same year; it is sufficient for multiple separate events to reach a total of 100 deaths in this period.\\nThis question will resolves as No otherwise.\\nIn the context of this question, an armed conflict will be defined as a dispute that concerns a government and/or territory where the use of armed force between two parties, of which at least one is the government of a state, results in an exchange of weapon fire or detonations\\n\", resolution_date=datetime.datetime(2049, 12, 31, 0, 0, tzinfo=TzInfo(UTC)), question_type='binary', data_source='metaculus', url='https://www.metaculus.com/questions/8051', metadata={'topics': [], 'background_info': 'A previous Metaculus question asked about a great power war and whether the US and others would intervene in a conflict over Taiwan. Some scholars have warned about a Thucydides Trap that could lead to a war between the US and China, over Taiwan, the South China Sea, or some other issue.'}, resolution=None)]\n",
      "reasons=[\"The success of SpaceX's Starship launches could influence geopolitical dynamics, including tensions between the US and China, potentially affecting military strategies and conflicts.\", 'Technological advancements in space exploration may have implications for national security, which could be relevant in the context of US-China relations.', 'Both questions relate to significant events that could shape the future of international relations and technological progress, making their combination relevant for forecasting.'] conclusion='It makes sense to consider the logical combination of these questions due to their potential interrelatedness in the context of technology and geopolitics.' score=7.0\n",
      "---\n",
      "{'model': 'gpt-4o-mini-2024-07-18', 'response_model': <class 'common.datatypes.RelevanceResult'>, 'temperature': 0.5} Approx num tokens: 1850\n",
      "---\n",
      "[ForecastingQuestion(id=UUID('c196006b-8e35-4c5b-a0d8-a577d0aa4ce2'), title='Will exactly 3 Starship launches reach low-Earth orbit by Sept 30, 2024?', body=\"This question will resolve as the number of SpaceX Starship launches that reach low-Earth orbit, defined as achieving an altitude of at least 160 kilometers (approximately 100 miles) above the Earth's surface, by Sept 30, 2024.\\n\\nThe resolution will be based on official mission reports from SpaceX, and may also consider data or reporting from aerospace monitoring organizations or authorities, as well as other credible sources such as international media outlets.\", resolution_date=datetime.datetime(2024, 9, 30, 0, 0), question_type='binary', data_source='metaculus', url='https://www.metaculus.com/questions/25705', metadata={'topics': [], 'api_url': 'https://www.metaculus.com/api2/questions/25705', 'market_prob': 0.5, 'resolve_time': '2024-09-30T00:00:00Z', 'close_time': '2024-07-02T00:00:00Z', 'effected_close_time': None, 'background_info': 'SpaceX\\'s Starship is at the forefront of the next generation of spacecrafts, designed with the ambitious goals of enabling human life on other planets, starting with Mars, and significantly reducing the cost of access to space. The fully reusable transportation system is envisioned to carry both crew and cargo to Earth orbit, the Moon, Mars, and beyond. Since its inception, the Starship program has been marked by rapid development and prototyping.\\n\\nIn 2024, SpaceX has continued its intensive testing and development schedule, aiming to perfect the Starship\\'s capabilities for orbital flight, satellite deployment, and eventual deep space missions. As SpaceX gears up for future crewed missions, including NASA\\'s Artemis program to return humans to the Moon and eventually to Mars, the ability of Starship to reach and operate in low-Earth orbit (LEO) is a critical step. Achieving LEO is essential not only for satellite deployments but also as a proving ground for the technologies and operational procedures that will enable longer-duration spaceflights.\\n\\nOn March 14, 2024, SpaceX\\'s Integrated Test Flight 3 (IFT-3) saw Starship 28 briefly reach low-Earth orbit by achieving an altitude of 234 km before breaking up in the atmosphere upon re-entry.\\n\\nIn the days prior to IFT-3, SpaceX CEO Elon Musk tweeted \"Hopefully, at least 6 more flights this year\".'}, resolution=None), ForecastingQuestion(id=UUID('74359646-1ed2-48cb-915c-7f867cddfe39'), title='Before 2025, will at least two public health agencies claim that China deliberately misreported COVID-19 infections?', body=\"Resolution Criteria\\nThe COVID-19 outbreak in China has been rife with allegations of misrepresentation by Chinese government officials. These began at the local level, where officials in Hubei province potentially under-reported the magnitude of the outbreak in early January to Chinese central government authorities. A public health worker famously released a video around January 26 claiming that at that time, at least 90,000 cases had occurred--at the time the Chinese government was reporting fewer than 2000 infections. Since then, the insufficiently-inclusive strategy of counting only persons with laboratory-confirmed cases of COVID-19 depressed the counts of probable cases. And the patterns of growth in the official counts follow an unexpected distribution, implying the counts may be generated by a model which doesn't accurately represent the dynamics of the disease's spread through the population.\\nThis latter allegation is perhaps the most important and severe, as it means that estimations of epidemiological characteristics based on Chinese data may lead to public health interventions which do not reflect the reality of the viral spread. For example, if the R_0 (the average number of people an infected person will pass the virus along to) is underestimated, it may lead to insufficiently aggressive strategies for reducing the propagation of the virus across the globe. However, overestimating it could lead to overly-aggressive quarantining strategies, hobbling international commerce. Getting a proper assessment of the epidemiological dynamics is critical to devising the appropriate public health response.\\nWill at least two public health agencies publicly accuse the Chinese government of deliberately misrepresenting the number of COVID-19 infections before 2025?\\nThis question will resolve as Yes if, before January 1, 2025, at least two of the public health agencies listed below claim that it is more likely than not that the Chinese government deliberately lied about, fabricated, or misrepresented case or death numbers. If an agency claims that the numbers were flawed, but does not go as far as to suggest deliberate lying or misrepresentation, this will not count. For the purpose of this question, we consider only statements by the following public health agencies:\\nCenters for Disease Control and Prevention (including the Epidemic Intelligence Service)\\nThe European Centre for Disease Prevention and Control (including the Health Threat Unit)\\nWorld Health Organization\\nThe Chinese Center for Disease Control and Prevention\\nThe Centre for Health Protection\\nRobert Koch Institute\\nThe National Institute of Infectious Diseases\\nPublic Health England\\nThe National Centre for Infectious Diseases\\nCenters for Disease Control and Prevention Korea\\nThe Public Health Agency of Canada\\nIn case multiple subdivisions of any of the above agencies make assessments that China more likely than not lied about case or death numbers, these will only count as single accusation made by a single agency.\\nThe relevant assessments will count if they are judged by Metaculus to broadly state that it is more likely than not that the Chinese government deliberately did lie about, fabricate, or misrepresent case or death counts.\\nThis question has a short-fuse sister.\\n\", resolution_date=datetime.datetime(2024, 12, 31, 0, 0), question_type='binary', data_source='metaculus', url='https://www.metaculus.com/questions/3715', metadata={'topics': [], 'background_info': ''}, resolution=None)]\n",
      "reasons=[\"The number of successful Starship launches may influence international relations and perceptions of China's handling of COVID-19, leading to public health agencies making statements about misrepresentation.\", 'Technological advancements in space exploration, like successful Starship launches, can have geopolitical implications that might affect public health narratives and accusations.', 'The timing of these events could coincide, with increased scrutiny on China during significant technological milestones, potentially impacting how public health agencies communicate about the pandemic.'] conclusion='While the two questions seem unrelated at first glance, there may be geopolitical and public perception factors that connect them, making the logical combination worth considering.' score=6.0\n",
      "---\n",
      "{'model': 'gpt-4o-mini-2024-07-18', 'response_model': <class 'common.datatypes.RelevanceResult'>, 'temperature': 0.5} Approx num tokens: 815\n",
      "---\n",
      "[ForecastingQuestion(id=UUID('c196006b-8e35-4c5b-a0d8-a577d0aa4ce2'), title='Will exactly 3 Starship launches reach low-Earth orbit by Sept 30, 2024?', body=\"This question will resolve as the number of SpaceX Starship launches that reach low-Earth orbit, defined as achieving an altitude of at least 160 kilometers (approximately 100 miles) above the Earth's surface, by Sept 30, 2024.\\n\\nThe resolution will be based on official mission reports from SpaceX, and may also consider data or reporting from aerospace monitoring organizations or authorities, as well as other credible sources such as international media outlets.\", resolution_date=datetime.datetime(2024, 9, 30, 0, 0), question_type='binary', data_source='metaculus', url='https://www.metaculus.com/questions/25705', metadata={'topics': [], 'api_url': 'https://www.metaculus.com/api2/questions/25705', 'market_prob': 0.5, 'resolve_time': '2024-09-30T00:00:00Z', 'close_time': '2024-07-02T00:00:00Z', 'effected_close_time': None, 'background_info': 'SpaceX\\'s Starship is at the forefront of the next generation of spacecrafts, designed with the ambitious goals of enabling human life on other planets, starting with Mars, and significantly reducing the cost of access to space. The fully reusable transportation system is envisioned to carry both crew and cargo to Earth orbit, the Moon, Mars, and beyond. Since its inception, the Starship program has been marked by rapid development and prototyping.\\n\\nIn 2024, SpaceX has continued its intensive testing and development schedule, aiming to perfect the Starship\\'s capabilities for orbital flight, satellite deployment, and eventual deep space missions. As SpaceX gears up for future crewed missions, including NASA\\'s Artemis program to return humans to the Moon and eventually to Mars, the ability of Starship to reach and operate in low-Earth orbit (LEO) is a critical step. Achieving LEO is essential not only for satellite deployments but also as a proving ground for the technologies and operational procedures that will enable longer-duration spaceflights.\\n\\nOn March 14, 2024, SpaceX\\'s Integrated Test Flight 3 (IFT-3) saw Starship 28 briefly reach low-Earth orbit by achieving an altitude of 234 km before breaking up in the atmosphere upon re-entry.\\n\\nIn the days prior to IFT-3, SpaceX CEO Elon Musk tweeted \"Hopefully, at least 6 more flights this year\".'}, resolution=None), ForecastingQuestion(id=UUID('548f7e16-2b42-4132-a4eb-2516701ab496'), title='Will Stacey Abrams be elected president in or before the 2040 election?', body='Resolution Criteria\\nThis resolves positively if Stacey Abrams is elected president in or before 2040 and the result is not overturned prior to inauguration, whether or not she is actually inaugurated. This resolves negatively by any other outcome', resolution_date=datetime.datetime(2040, 12, 31, 0, 0, tzinfo=TzInfo(UTC)), question_type='binary', data_source='metaculus', url='https://www.metaculus.com/questions/3588', metadata={'topics': [], 'background_info': 'Stacey Abrams, failed 2018 Georgia gubernatorial candidate who has yet to concede that election as of January 31, 2020, thinks she will be elected president in the next 20 years. Do you agree?\\nSource: Stacey Abrams Thinks She’ll Be President By 2040'}, resolution=None)]\n",
      "reasons=['Both questions involve significant events in the realm of technology and politics, which could be influenced by each other; for instance, advancements in space technology could impact political agendas.', \"The outcome of the Starship launches might affect public perception of technological progress, which could play a role in elections and political campaigns, including Stacey Abrams' candidacy.\", 'Elections and technological milestones often influence public discourse and policy making, which could create a context where these two topics intersect.'] conclusion='It makes sense to consider the logical combination of these questions, as they may reflect interconnected trends in technology and politics.' score=5.0\n",
      "---\n",
      "{'model': 'gpt-4o-mini-2024-07-18', 'response_model': <class 'common.datatypes.RelevanceResult'>, 'temperature': 0.5} Approx num tokens: 1364\n",
      "---\n",
      "[ForecastingQuestion(id=UUID('c196006b-8e35-4c5b-a0d8-a577d0aa4ce2'), title='Will exactly 3 Starship launches reach low-Earth orbit by Sept 30, 2024?', body=\"This question will resolve as the number of SpaceX Starship launches that reach low-Earth orbit, defined as achieving an altitude of at least 160 kilometers (approximately 100 miles) above the Earth's surface, by Sept 30, 2024.\\n\\nThe resolution will be based on official mission reports from SpaceX, and may also consider data or reporting from aerospace monitoring organizations or authorities, as well as other credible sources such as international media outlets.\", resolution_date=datetime.datetime(2024, 9, 30, 0, 0), question_type='binary', data_source='metaculus', url='https://www.metaculus.com/questions/25705', metadata={'topics': [], 'api_url': 'https://www.metaculus.com/api2/questions/25705', 'market_prob': 0.5, 'resolve_time': '2024-09-30T00:00:00Z', 'close_time': '2024-07-02T00:00:00Z', 'effected_close_time': None, 'background_info': 'SpaceX\\'s Starship is at the forefront of the next generation of spacecrafts, designed with the ambitious goals of enabling human life on other planets, starting with Mars, and significantly reducing the cost of access to space. The fully reusable transportation system is envisioned to carry both crew and cargo to Earth orbit, the Moon, Mars, and beyond. Since its inception, the Starship program has been marked by rapid development and prototyping.\\n\\nIn 2024, SpaceX has continued its intensive testing and development schedule, aiming to perfect the Starship\\'s capabilities for orbital flight, satellite deployment, and eventual deep space missions. As SpaceX gears up for future crewed missions, including NASA\\'s Artemis program to return humans to the Moon and eventually to Mars, the ability of Starship to reach and operate in low-Earth orbit (LEO) is a critical step. Achieving LEO is essential not only for satellite deployments but also as a proving ground for the technologies and operational procedures that will enable longer-duration spaceflights.\\n\\nOn March 14, 2024, SpaceX\\'s Integrated Test Flight 3 (IFT-3) saw Starship 28 briefly reach low-Earth orbit by achieving an altitude of 234 km before breaking up in the atmosphere upon re-entry.\\n\\nIn the days prior to IFT-3, SpaceX CEO Elon Musk tweeted \"Hopefully, at least 6 more flights this year\".'}, resolution=None), ForecastingQuestion(id=UUID('8453ac79-dd8d-4f7e-8967-a7c7f8c198c9'), title='Will any OECD country achieve a 10% or greater reduction in the national rate of obesity for 3 consecutive years before 2030?', body=\"Resolution Criteria\\nAccording to the OECD's 2017 Obesity Update (PDF), more than one in two adults and nearly one in six children are overweight or obese in the OECD area. The obesity epidemic spread further in the five years leading up to 2017, although at a slower pace than before. Despite this, projections show a continuing increase of obesity in all OECD countries.\\nA nearly tenfold variation in obesity rates can be seen across OECD countries; as of 2016, in Japan the rate of obesity was just 4.2%, while in the US it was 40%. (See a graphic on this page for full OECD obesity rates).\\nThis question asks: Will any OECD country achieve a 10% or greater proportional reduction in the national rate of obesity, as compared to levels reported by the OECD for 2016, for three consecutive years before 1 January 2030?\\nResolution should cite a data release (from either the OECD itself or any of its 36 member states) that demonstrates that the national obesity rate of any OECD member country has fallen by 10% or more from 2016 levels for three consecutive years before 2030.\\nThis question refers to the percentage of the total adult population (aged 15 years and over) considered obese. Note that we're looking for a 10% proportional drop (e.g. if the initial percentage is 20%, we'd be looking for a fall to 18%; if it were 40%, we would be looking for a drop to 36%).\\nIn the event of a positive resolution, the question should close retroactively one day prior to the release of information that causes the positive resolution.\\nIf one year goes unreported for a country, the years on each side are still considered consecutive. If the gap is greater than one year, the years on each side are not considered consecutive.\\nChangelog:\\n2020-09-17: added requirement for consecutive years, to mitigate noisy data. See this thread.\\n\", resolution_date=datetime.datetime(2029, 12, 31, 0, 0, tzinfo=TzInfo(UTC)), question_type='binary', data_source='metaculus', url='https://www.metaculus.com/questions/3397', metadata={'topics': [], 'background_info': ''}, resolution=None)]\n",
      "reasons=['Both questions relate to technological and societal progress, which may have interdependencies. For example, advancements in space technology could lead to improved health monitoring and data collection methods that might influence obesity rates.', \"The success of SpaceX's Starship launches could signal a broader trend in innovation and investment in technology, which might also impact public health initiatives and funding aimed at reducing obesity rates.\", 'Policy decisions or public interest driven by space exploration might indirectly influence health policies or funding in OECD countries, leading to potential reductions in obesity.'] conclusion='While the logical combination of these questions is not immediately obvious, there are plausible connections through technological advancement and public policy that could warrant interest in their combined probabilities.' score=5.0\n",
      "---\n",
      "{'model': 'gpt-4o-mini-2024-07-18', 'response_model': <class 'common.datatypes.RelevanceResult'>, 'temperature': 0.5} Approx num tokens: 2063\n",
      "---\n",
      "[ForecastingQuestion(id=UUID('c196006b-8e35-4c5b-a0d8-a577d0aa4ce2'), title='Will exactly 3 Starship launches reach low-Earth orbit by Sept 30, 2024?', body=\"This question will resolve as the number of SpaceX Starship launches that reach low-Earth orbit, defined as achieving an altitude of at least 160 kilometers (approximately 100 miles) above the Earth's surface, by Sept 30, 2024.\\n\\nThe resolution will be based on official mission reports from SpaceX, and may also consider data or reporting from aerospace monitoring organizations or authorities, as well as other credible sources such as international media outlets.\", resolution_date=datetime.datetime(2024, 9, 30, 0, 0), question_type='binary', data_source='metaculus', url='https://www.metaculus.com/questions/25705', metadata={'topics': [], 'api_url': 'https://www.metaculus.com/api2/questions/25705', 'market_prob': 0.5, 'resolve_time': '2024-09-30T00:00:00Z', 'close_time': '2024-07-02T00:00:00Z', 'effected_close_time': None, 'background_info': 'SpaceX\\'s Starship is at the forefront of the next generation of spacecrafts, designed with the ambitious goals of enabling human life on other planets, starting with Mars, and significantly reducing the cost of access to space. The fully reusable transportation system is envisioned to carry both crew and cargo to Earth orbit, the Moon, Mars, and beyond. Since its inception, the Starship program has been marked by rapid development and prototyping.\\n\\nIn 2024, SpaceX has continued its intensive testing and development schedule, aiming to perfect the Starship\\'s capabilities for orbital flight, satellite deployment, and eventual deep space missions. As SpaceX gears up for future crewed missions, including NASA\\'s Artemis program to return humans to the Moon and eventually to Mars, the ability of Starship to reach and operate in low-Earth orbit (LEO) is a critical step. Achieving LEO is essential not only for satellite deployments but also as a proving ground for the technologies and operational procedures that will enable longer-duration spaceflights.\\n\\nOn March 14, 2024, SpaceX\\'s Integrated Test Flight 3 (IFT-3) saw Starship 28 briefly reach low-Earth orbit by achieving an altitude of 234 km before breaking up in the atmosphere upon re-entry.\\n\\nIn the days prior to IFT-3, SpaceX CEO Elon Musk tweeted \"Hopefully, at least 6 more flights this year\".'}, resolution=None), ForecastingQuestion(id=UUID('a233bea8-97cb-4acc-a792-d39607ab9380'), title='Will the human condition change fundamentally before 2100?', body='Resolution Criteria\\nNick Bostrom, philosopher and Founding Director of the Future of Humanity Institute at the University of Oxford, argues that only two events since the dawn of humanity have fundamentally changed the human condition: the Agricultural Revolution that took place approximately 10,000 years ago, and the Industrial Revolution which took place from roughly 1760-1840. Bostrom states the following:\\n\"So what kind of thing would count as a fundamental change in the human condition?\\n\"You could argue that if we look back over history, there has really only been two events that have fundamentally changed the human condition, the first being the Agricultural Revolution some 10,000 or 12,000 years ago in Mesopotamia, where we transitioned from being hunter-gatherers, small bands roaming around, to settling into cities, growing, domesticating crops and animals. With that you get social stratification, if there is a lot of grain, you could have a king or pharaoh who extracts the surplus, you can have standing armies, you can have war, you can have higher population densities, specialisation of labour, and from that point on, innovation grows much faster and population grows faster as well as a result.\\n\"The second fundamental change in the human condition, Industrial Revolution, where for the first time, you have the rate of economic and technological growth outstripping population growth, and so only when this happens can you have an increase in average income. Before that, there was technological growth and economic growth, but the economy grew 10%, the population grew 10%, everybody\\'s still in a Malthusian condition.\"\\nBostrom further argues that there are relatively few potential technologies that could have the same kind of impact, and that perhaps foremost among them is machine intelligence.\\nThe kind of discontinuity in the human condition seen as a result of the agricultural and industrial revolutions is substantial; human civilisation became markedly more complex, acquired fundamentally new abilities, and the human experience became radically different after each of these events.\\nThe question we ask here is: Before January 1 2100, will the human condition change fundamentally to at least roughly the same extent that it did after the agricultural and industrial revolutions?\\n\"The human condition,\" for the purposes of this question, is the general level of social complexity, economic productivity, and ability to manipulate physical reality humanity has achieved at the civilisational level.\\nThe discontinuity can be in either direction - though it seems improbable that Metaculus would continue to exist if humanity were to revert to a pre-industrial state.\\nEvents that may occur this century, but which do not appear to represent a discontinuity of approximately the same degree as the agricultural and industrial revolutions, include (among other things) the establishment of bases or settlements on other bodies in the solar system, the achievement of modest to moderate life extension (e.g. an additional 10 to 30 years of life) or a significant but not radical increase in economic productivity.\\nResolution\\nIf at any time after the date of 2025-01-01 both the community and Metaculus predictions are >= 98% or <= 2%, with 80% probability, the question resolves positively or negatively, respectively. With 20% probability, the question resolves according to a committee of 5 Metaculus admins, who will vote yes or no (not ambiguous), and will unmake their respective predictions so that they do not gain or lose points on the question.\\nNote that the admins will be voting on whether the qualifying event has already happened, not whether they believe it will happen; for example, if the probability goes to 99% because a super-powerful AI seems immininent within 10 years, but it has not actually happened yet, the committee should unanimously vote no.\\nIf the question has not resolved by January 1 2100, it resolves ambiguously.\\n', resolution_date=datetime.datetime(2099, 12, 31, 0, 0, tzinfo=TzInfo(UTC)), question_type='binary', data_source='metaculus', url='https://www.metaculus.com/questions/1646', metadata={'topics': [], 'background_info': ''}, resolution=None)]\n",
      "reasons=['The success of SpaceX Starship launches could influence technological advancements and societal changes, which may contribute to a fundamental change in the human condition.', 'If Starship launches lead to significant advancements in space exploration or technology, this could create conditions that facilitate a fundamental change in the human condition.', 'Both questions relate to the future of humanity and technological progress, making their logical combination relevant for discussions on the trajectory of human civilization.'] conclusion='It makes sense to consider the logical combination of these questions, as advancements in space technology could potentially influence or correlate with changes in the human condition.' score=7.0\n",
      "---\n",
      "{'model': 'gpt-4o-mini-2024-07-18', 'response_model': <class 'common.datatypes.RelevanceResult'>, 'temperature': 0.5} Approx num tokens: 885\n",
      "---\n",
      "[ForecastingQuestion(id=UUID('c196006b-8e35-4c5b-a0d8-a577d0aa4ce2'), title='Will exactly 3 Starship launches reach low-Earth orbit by Sept 30, 2024?', body=\"This question will resolve as the number of SpaceX Starship launches that reach low-Earth orbit, defined as achieving an altitude of at least 160 kilometers (approximately 100 miles) above the Earth's surface, by Sept 30, 2024.\\n\\nThe resolution will be based on official mission reports from SpaceX, and may also consider data or reporting from aerospace monitoring organizations or authorities, as well as other credible sources such as international media outlets.\", resolution_date=datetime.datetime(2024, 9, 30, 0, 0), question_type='binary', data_source='metaculus', url='https://www.metaculus.com/questions/25705', metadata={'topics': [], 'api_url': 'https://www.metaculus.com/api2/questions/25705', 'market_prob': 0.5, 'resolve_time': '2024-09-30T00:00:00Z', 'close_time': '2024-07-02T00:00:00Z', 'effected_close_time': None, 'background_info': 'SpaceX\\'s Starship is at the forefront of the next generation of spacecrafts, designed with the ambitious goals of enabling human life on other planets, starting with Mars, and significantly reducing the cost of access to space. The fully reusable transportation system is envisioned to carry both crew and cargo to Earth orbit, the Moon, Mars, and beyond. Since its inception, the Starship program has been marked by rapid development and prototyping.\\n\\nIn 2024, SpaceX has continued its intensive testing and development schedule, aiming to perfect the Starship\\'s capabilities for orbital flight, satellite deployment, and eventual deep space missions. As SpaceX gears up for future crewed missions, including NASA\\'s Artemis program to return humans to the Moon and eventually to Mars, the ability of Starship to reach and operate in low-Earth orbit (LEO) is a critical step. Achieving LEO is essential not only for satellite deployments but also as a proving ground for the technologies and operational procedures that will enable longer-duration spaceflights.\\n\\nOn March 14, 2024, SpaceX\\'s Integrated Test Flight 3 (IFT-3) saw Starship 28 briefly reach low-Earth orbit by achieving an altitude of 234 km before breaking up in the atmosphere upon re-entry.\\n\\nIn the days prior to IFT-3, SpaceX CEO Elon Musk tweeted \"Hopefully, at least 6 more flights this year\".'}, resolution=None), ForecastingQuestion(id=UUID('3234ce4d-eea4-4642-9cff-406c9b7ad853'), title='Will the existence and smoothness properties of the Navier-Stokes equations in three dimensions turn out to depend on the compactness of the universe over which they are defined?', body='Resolution Criteria\\nThis question resolves positively if before the resolution date of the question there are proofs of either both A and D or both B and C. It resolves negatively if there are proofs of either both A and B or both C and D. If neither event takes place before the resolution date of the question, the question resolves ambiguously\\n', resolution_date=datetime.datetime(2099, 12, 31, 0, 0, tzinfo=TzInfo(UTC)), question_type='binary', data_source='metaculus', url='https://www.metaculus.com/questions/8049', metadata={'topics': [], 'background_info': \"The Navier-Stokes existence and smoothness conjecture is an important open problem in fluid dynamics and the theory of partial differential equations. It's been designated as one of the Clay Institute's Millennium Prize Problems in 2000 and there is a 1 million dollar bounty available for either proving or disproving the conjecture. In the official introduction to the problem here, the Clay Institute splits the problem into four statements A, B, C and D; and the problem is considered to have been settled if any one of them is proven.\\nImportantly for this question, the statements A and C are about the Navier-Stokes equations defined on the noncompact space\\nℝ\\n3\\n, while B and D are about the equations defined on the compact torus\\n(ℝ/ℤ\\n)\\n3\\n.\"}, resolution=None)]\n",
      "reasons=['The Starship launches may contribute to advancements in computational fluid dynamics or aerospace engineering, which could indirectly influence research on the Navier-Stokes equations.', 'Both questions involve complex scientific and engineering concepts, and someone interested in one might be curious about the implications or interactions with the other.'] conclusion='While there are some potential connections through scientific research and advancements, the logical combination of these two questions seems quite tenuous and unlikely to be of significant interest to most forecasters.' score=3.0\n",
      "---\n",
      "{'model': 'gpt-4o-mini-2024-07-18', 'response_model': <class 'common.datatypes.RelevanceResult'>, 'temperature': 0.5} Approx num tokens: 1125\n",
      "---\n",
      "[ForecastingQuestion(id=UUID('c196006b-8e35-4c5b-a0d8-a577d0aa4ce2'), title='Will exactly 3 Starship launches reach low-Earth orbit by Sept 30, 2024?', body=\"This question will resolve as the number of SpaceX Starship launches that reach low-Earth orbit, defined as achieving an altitude of at least 160 kilometers (approximately 100 miles) above the Earth's surface, by Sept 30, 2024.\\n\\nThe resolution will be based on official mission reports from SpaceX, and may also consider data or reporting from aerospace monitoring organizations or authorities, as well as other credible sources such as international media outlets.\", resolution_date=datetime.datetime(2024, 9, 30, 0, 0), question_type='binary', data_source='metaculus', url='https://www.metaculus.com/questions/25705', metadata={'topics': [], 'api_url': 'https://www.metaculus.com/api2/questions/25705', 'market_prob': 0.5, 'resolve_time': '2024-09-30T00:00:00Z', 'close_time': '2024-07-02T00:00:00Z', 'effected_close_time': None, 'background_info': 'SpaceX\\'s Starship is at the forefront of the next generation of spacecrafts, designed with the ambitious goals of enabling human life on other planets, starting with Mars, and significantly reducing the cost of access to space. The fully reusable transportation system is envisioned to carry both crew and cargo to Earth orbit, the Moon, Mars, and beyond. Since its inception, the Starship program has been marked by rapid development and prototyping.\\n\\nIn 2024, SpaceX has continued its intensive testing and development schedule, aiming to perfect the Starship\\'s capabilities for orbital flight, satellite deployment, and eventual deep space missions. As SpaceX gears up for future crewed missions, including NASA\\'s Artemis program to return humans to the Moon and eventually to Mars, the ability of Starship to reach and operate in low-Earth orbit (LEO) is a critical step. Achieving LEO is essential not only for satellite deployments but also as a proving ground for the technologies and operational procedures that will enable longer-duration spaceflights.\\n\\nOn March 14, 2024, SpaceX\\'s Integrated Test Flight 3 (IFT-3) saw Starship 28 briefly reach low-Earth orbit by achieving an altitude of 234 km before breaking up in the atmosphere upon re-entry.\\n\\nIn the days prior to IFT-3, SpaceX CEO Elon Musk tweeted \"Hopefully, at least 6 more flights this year\".'}, resolution=None), ForecastingQuestion(id=UUID('2a7d30d9-7f8b-4220-82d0-4db8d5697643'), title=\"Will the identity of Bitcoin's founder, Satoshi Nakamoto, be revealed to the general public by 2025?\", body='Resolution Criteria\\nFew anonymous people--save maybe Banksy and Qanon--have generated as much press as \"Satoshi Nakamoto\", the maverick who developed bitcoin.\\nHaven\\'t heard of the man? Here\\'s an executive summary per The Economist:\\nON PAPER—or at least on the blockchain—Satoshi Nakamoto is one of the richest people on the planet.... But Mr Nakamoto, though actively involved with his brainchild in its early history, has been silent since 2011. An army of amateur detectives has been trying to work out who he really is, but there is frustratingly little to go on. While developing bitcoin he claimed to be male, in his late 30s and living in Japan, but even that information is suspect.\\nWill we ever find out his true identity? Speculation abounds. (See here and here and here.) As noted above, Nakamoto is estimated to have more than a million bitcoins, mined very early on. So he\\'d be worth well over $10Bn at current prices (as of launch), perhaps more. If he hasn\\'t lost his thumb drive.\\nQuestion resolves postive if Satoshi\\'s true, corroborated identity is revealed to the world at large by April 5, 2025, his birthday. (Or is it??)\\n', resolution_date=datetime.datetime(2025, 12, 31, 0, 0, tzinfo=TzInfo(UTC)), question_type='binary', data_source='metaculus', url='https://www.metaculus.com/questions/1517', metadata={'topics': [], 'background_info': ''}, resolution=None)]\n",
      "reasons=['Both questions involve significant technological and financial implications, which may attract interest from investors and tech enthusiasts alike.', \"The outcome of SpaceX's Starship launches could influence investor sentiment in the cryptocurrency market, especially if successful launches lead to increased public interest in space technology and innovation.\", \"Revealing Satoshi Nakamoto's identity could impact Bitcoin's price and market dynamics, which might be influenced by advancements in space technology and related investments.\"] conclusion='The logical combination of these questions is relevant as they both pertain to significant developments in technology and finance, which could potentially influence each other.' score=7.0\n",
      "---\n",
      "{'model': 'gpt-4o-mini-2024-07-18', 'response_model': <class 'static_checks.MiniInstantiator.Neg.OutputFormat_stripped'>, 'temperature': 0.5} Approx num tokens: 1098\n",
      "{'model': 'gpt-4o-mini-2024-07-18', 'response_model': <class 'static_checks.MiniInstantiator.Paraphrase.OutputFormat_stripped'>, 'temperature': 0.5} Approx num tokens: 435\n",
      "{'model': 'gpt-4o-mini-2024-07-18', 'response_model': <class 'static_checks.MiniInstantiator.And.OutputFormat_stripped'>, 'temperature': 0.5} Approx num tokens: 1261\n",
      "{'model': 'gpt-4o-mini-2024-07-18', 'response_model': <class 'static_checks.MiniInstantiator.Or.OutputFormat_stripped'>, 'temperature': 0.5} Approx num tokens: 1365\n",
      "{'model': 'gpt-4o-mini-2024-07-18', 'response_model': <class 'static_checks.MiniInstantiator.Neg.OutputFormat_stripped'>, 'temperature': 0.5} Approx num tokens: 1098\n",
      "{'model': 'gpt-4o-mini-2024-07-18', 'response_model': <class 'static_checks.MiniInstantiator.And.OutputFormat_stripped'>, 'temperature': 0.5} Approx num tokens: 1264\n",
      "{'model': 'gpt-4o-mini-2024-07-18', 'response_model': <class 'static_checks.MiniInstantiator.Or.OutputFormat_stripped'>, 'temperature': 0.5} Approx num tokens: 1365\n",
      "{'model': 'gpt-4o-mini-2024-07-18', 'response_model': <class 'static_checks.MiniInstantiator.Conditional.OutputFormat_stripped'>, 'temperature': 0.5} Approx num tokens: 1752\n",
      "{'model': 'gpt-4o-mini-2024-07-18', 'response_model': <class 'static_checks.MiniInstantiator.And.OutputFormat_stripped'>, 'temperature': 0.5} Approx num tokens: 1261\n"
     ]
    }
   ],
   "source": [
    "test_cons_forecast.prep_call(TEST_3)"
   ]
  },
  {
   "cell_type": "code",
   "execution_count": 54,
   "id": "00cd5570-e7da-42f3-bf7c-15ec01b737dd",
   "metadata": {},
   "outputs": [
    {
     "name": "stdout",
     "output_type": "stream",
     "text": [
      "{'model': 'gpt-4o-mini-2024-07-18', 'response_model': <class 'common.datatypes.Prob_cot'>, 'temperature': 0.5} Approx num tokens: 6246\n",
      "{'model': 'gpt-4o-mini-2024-07-18', 'response_model': <class 'common.datatypes.Prob_cot'>, 'temperature': 0.5} Approx num tokens: 6367\n",
      "{'model': 'gpt-4o-mini-2024-07-18', 'response_model': <class 'common.datatypes.Prob_cot'>, 'temperature': 0.5} Approx num tokens: 6484\n",
      "{'model': 'gpt-4o-mini-2024-07-18', 'response_model': <class 'common.datatypes.Prob_cot'>, 'temperature': 0.5} Approx num tokens: 6858\n",
      "{'model': 'gpt-4o-mini-2024-07-18', 'response_model': <class 'common.datatypes.Prob_cot'>, 'temperature': 0.5} Approx num tokens: 6937\n"
     ]
    }
   ],
   "source": [
    "prob = test_cons_forecast.call(test_cons_forecast.user_prompts, test_cons_forecast.examples, True)"
   ]
  },
  {
   "cell_type": "code",
   "execution_count": 55,
   "id": "f2d3d35a-b796-48f0-b2bd-399fe74ab305",
   "metadata": {},
   "outputs": [
    {
     "name": "stdout",
     "output_type": "stream",
     "text": [
      "0.5\n"
     ]
    }
   ],
   "source": [
    "print(prob)"
   ]
  },
  {
   "cell_type": "code",
   "execution_count": 56,
   "id": "9824bca4-3a96-4098-bba3-d74ba2175eb2",
   "metadata": {},
   "outputs": [
    {
     "data": {
      "text/plain": [
       "'RECEIVED\\n\\nP: Historically the united States has had a pretty strong showing in the olympics, winning by far the most gold medals.  However, in the past, other countries such as China have also been pretty competitive and even overtook the US in gold medals in 2008.  Overall I would say the probability is pretty high at 0.73\\nnot_P: Historically the united States has had a pretty strong showing in the olympics, winning by far the most gold medals.  However, in the past, other countries such as China have also been pretty competitive and even overtook the US in gold medals in 2008.  Overall I would say the probability is pretty low at 0.27\\npara_P: Historically the united States has had a pretty strong showing in the olympics, winning by far the most gold medals and most medals.  However, in the past, other countries such as China have also been pretty competitive and even overtook the US in gold medals in 2008.  Overall I would say the probability is pretty high at 0.73\\nQ: Recently there have been some geo-political tensions brewing between China and the US regarding technolody, Taiwan, and politics.  However, generally we live in a peaceful and interconnected world where people want to generally avoid war.  Accounting for these assumptions, I would guess 0.33\\nP_and_Q: I think that these two events (US topping the Paris olympics and a US - China armed conflict leading to 100 deaths) are mostly independent events.  Therefore we can intially guesss this as P * Q = 0.73 * 0.33 = 0.24.  However, perhaps there is some negative correlation with these events where if the US does not top the medal count, China could perceive the country as a little weaker and therefore more likely to provoke militarily.  Therefore we can make a small adjustment to 0.23\\nP_or_Q: We can calculate this as the probability that P + Q - P_and_Q, which is 0.83\\nQ_and_not_P: I think that these two events (US - China armed conflict leading to 100 deaths and the US not topping olmpics tables) are mostly independent events.  Therefore we can intially guesss this as Q * not_P = 0.33 * 0.27 = 0.09.  However, perhaps there is some positive correlation with these events where if the US does not top the medal count, China could perceive the country as a little weaker and therefore more likely to provoke militarily.  Therefore we can make a small adjustment to 0.10\\nQ_given_P: I think that these two events (US topping the Paris olympics and a US - China armed conflict leading to 100 deaths) are mostly independent events.  Therefore as a base case, we can guess Q_given_P is just Q = 0.33.  We can provide a slight adjustment downwards due to there being small negative correlation with these events at 0.32\\n\\nP: 0.73\\nnot_P: 0.27\\npara_P: 0.73\\nQ: 0.33\\nP_and_Q: 0.23\\nP_or_Q: 0.83\\nQ_and_not_P: 0.10\\nQ_given_P: 0.32\\n\\nneg: P = 1 - not_P, 0.73 = 1 - 0.27 is TRUE\\nandor: P = P_or_Q + P_and_Q - Q, 0.73 = 0.83 + 0.23 - 0.33 is TRUE\\nand: max(P + Q - 1, 0) <= P_and_Q <= min(P, Q), max(0.73, + 0.33 - 1, 0) <= 0.23 <= min(0.73, 0.33) is TRUE\\nor: max(P, Q) <= P_or_Q <= min(1, P + Q), max(0.73, 0.33) <= 0.83 <= min(1, 0.73 + 0.33) is TRUE\\nbut: P = P_or_Q - Q_and_not_P, 0.73 = 0.83 - 0.10 is TRUE\\ncond: P ≈ P_and_Q / Q_given_P, 0.73 ≈ 0.23 / 0.32 is TRUE\\npara: P = para_P, 0.73 = 0.73 is TRUE\\nALL consistency checks passed!\\n\\nP: 0.73\\nnot_P: 0.27\\npara_P: 0.73\\nQ: 0.33\\nP_and_Q: 0.23\\nP_or_Q: 0.83\\nQ_and_not_P: 0.10\\nQ_given_P: 0.32\\n\\n0.73\\n\\nGiven the current progress of SpaceX and their ambitious plans for Starship launches, I estimate a moderate probability of exactly 3 successful launches reaching low-Earth orbit by the specified date.\\n\\nConsidering the current trajectory and plans of SpaceX, I estimate a 50% chance that exactly 3 Starship launches will successfully reach low-Earth orbit by September 30, 2024.\\n\\nP = 0.5 implies not_P = 1 - P = 0.5. Since P and not_P are equal, para_P should also equal 0.5. For Q, I will assume a moderate probability of 0.4 for detecting an exoplanet atmosphere with >5% oxygen before 2030. Thus, P_and_Q = P * Q = 0.5 * 0.4 = 0.2. For P_or_Q, we can calculate it as P + Q - P_and_Q = 0.5 + 0.4 - 0.2 = 0.7. For Q_and_not_P, we will assume that if Q happens, not_P is likely to happen as well, so we estimate Q_and_not_P = Q * not_P = 0.4 * 0.5 = 0.2. For Q_given_P, since P is true, we can assume Q could be slightly more likely, so we estimate Q_given_P = Q = 0.4.\\n\\nAssuming a 50% chance for exactly 3 Starship launches reaching low-Earth orbit by September 30, 2024, and a 40% chance for detecting an exoplanet atmosphere with >5% oxygen before 2030.\\n\\nBased on the current trajectory and plans of SpaceX, I estimate a moderate probability of exactly 3 successful Starship launches reaching low-Earth orbit by the specified date.'"
      ]
     },
     "execution_count": 56,
     "metadata": {},
     "output_type": "execute_result"
    }
   ],
   "source": [
    "test_cons_forecast.result['chain_of_thought']"
   ]
  },
  {
   "cell_type": "code",
   "execution_count": null,
   "id": "5acc175f-f7e9-4cde-8648-604524c8b77d",
   "metadata": {},
   "outputs": [],
   "source": []
  },
  {
   "cell_type": "code",
   "execution_count": null,
   "id": "43e924b5-422c-44ff-b8e7-34c9cd137868",
   "metadata": {},
   "outputs": [],
   "source": []
  },
  {
   "cell_type": "markdown",
   "id": "1537efc8-67af-4867-8bf8-2cd9fa091772",
   "metadata": {},
   "source": [
    "## random garbage for testing"
   ]
  },
  {
   "cell_type": "code",
   "execution_count": 66,
   "id": "f0bc62bb-c231-4710-a5ce-87e463270553",
   "metadata": {},
   "outputs": [
    {
     "name": "stdout",
     "output_type": "stream",
     "text": [
      "1\n",
      "Loading questions from /Users/ashen/Desktop/consistency-forecasting/src/data/fq/real/questions_cleaned_formatted.jsonl...\n",
      "Loaded 456 questions.\n",
      "{'model': 'gpt-4o-mini-2024-07-18', 'response_model': <class 'common.datatypes.RelevanceResult'>, 'temperature': 0.5} Approx num tokens: 849\n",
      "---\n",
      "[ForecastingQuestion(id=UUID('5da935a3-7ffa-4e28-8c1a-5952c89a9a42'), title='Will USA top the Olympic Medal Table at Paris 2024?', body='This question will resolve positively if the United States Olympic Team are the (unique) highest ranked team at the 2024 Paris Olympics. It will resolve ambiguously if the Paris Olympics do not take place before 2027. It will resolve negatively if any team achieves a higher or equal ranking to the US team.\\n\\nThe medal table is calculated by taking all the medals won by each participating country and ordering by:\\n\\n1. Number of Gold Medals\\n2. (Where 1 is tied) Number of Silver Medals\\n3. (Where 2 is tied) Number of Bronze Medals', resolution_date=datetime.datetime(2024, 12, 31, 0, 0), question_type='binary', data_source='metaculus', url='https://www.metaculus.com/questions/7664', metadata={'topics': [], 'api_url': 'https://www.metaculus.com/api2/questions/7664', 'market_prob': 0.82, 'resolve_time': '2024-08-10T23:00:00Z', 'close_time': '2024-07-25T23:00:00Z', 'effected_close_time': None, 'background_info': 'The 2024 Olympic games is a sporting competition which takes place every four years. It involves a range of different events across multiple sports.\\n\\nAt the Olympic Games, Gold, Silver and Bronze medals are awarded to 1st, 2nd and 3rd place in each event. (In some events two Bronze medals are awarded mostly combat sports).\\n\\nThe US team is one of the most successful teams in recent Olympics, topping the medal table in 2020, 2016, 2012, 2004, 2000. Will they repeat that in 2024?\\n\\n*Related questions*\\n\\n* [How many medals will Team USA win in Paris 2024?](https://www.metaculus.com/questions/7665/total-medals-won-by-the-usa-at-paris-2024/)\\n* [Will France come in the Top 5 at Paris 2024?](https://www.metaculus.com/questions/7669/france-home-game-advantage/'}, resolution=None), ForecastingQuestion(id=UUID('ebbdbe1e-94c7-4f4c-ac96-793698ea5725'), title='Will there be a major famine in North Korea before 2025?', body='Resolution Criteria\\nThis question will resolve as Yes in the event that before January 1, 2025, credible reports indicate that North Korea has suffered from a famine beginning no earlier than January 1, 2020 that has likely resulted in at least 250,000 deaths. The question will resolve as No if this does not occur', resolution_date=datetime.datetime(2024, 12, 31, 0, 0), question_type='binary', data_source='metaculus', url='https://www.metaculus.com/questions/7468', metadata={'topics': [], 'background_info': 'North Korea is a country in East Asia, constituting the northern part of the Korean Peninsula.\\nAccording to Article 1 of the state constitution, North Korea is an \"independent socialist state.\" It holds elections, though they have been described by independent observers as sham elections, as North Korea is a totalitarian dictatorship, with an elaborate cult of personality around the Kim dynasty: Il-sung, Jong-il, and current leader Jong-un. The Workers\\' Party of Korea, led by a member of the ruling family, is the dominant party and leads the Democratic Front for the Reunification of Korea, of which all political officers are required to be members.\\nAccording to Article 3 of the constitution, Juche is the official ideology of North Korea. The means of production are owned by the state through state-run enterprises and collectivized farms. Most services—such as healthcare, education, housing and food production—are subsidized or state-funded. From 1994 to 1998, North Korea suffered a famine that resulted in the deaths of 240,000 to 3.5 million people, and the population continues to suffer malnutrition.\\nAs of 2021, in the aftermath of the global COVID-19 pandemic, as well as crop failures, North Korea is facing a \\'tense\\' food shortage, and there are fears that many people in the country may be at risk of starvation.\\n'}, resolution=None)]\n",
      "reasons=['The performance of the USA in the Olympics could be influenced by national morale and resources, which might be affected by global events like famines.', 'Media coverage of a major famine in North Korea could impact public interest and attention towards the Olympics, potentially affecting viewership and sponsorship.', \"There may be geopolitical implications where the US's performance in the Olympics and humanitarian concerns regarding North Korea could intersect, affecting public discourse.\"] conclusion='It makes sense to consider the logical combination of these questions due to potential interconnections between national performance in sports and global humanitarian issues.' score=6.0\n",
      "---\n",
      "{'model': 'gpt-4o-mini-2024-07-18', 'response_model': <class 'common.datatypes.RelevanceResult'>, 'temperature': 0.5} Approx num tokens: 793\n",
      "---\n",
      "[ForecastingQuestion(id=UUID('5da935a3-7ffa-4e28-8c1a-5952c89a9a42'), title='Will USA top the Olympic Medal Table at Paris 2024?', body='This question will resolve positively if the United States Olympic Team are the (unique) highest ranked team at the 2024 Paris Olympics. It will resolve ambiguously if the Paris Olympics do not take place before 2027. It will resolve negatively if any team achieves a higher or equal ranking to the US team.\\n\\nThe medal table is calculated by taking all the medals won by each participating country and ordering by:\\n\\n1. Number of Gold Medals\\n2. (Where 1 is tied) Number of Silver Medals\\n3. (Where 2 is tied) Number of Bronze Medals', resolution_date=datetime.datetime(2024, 12, 31, 0, 0), question_type='binary', data_source='metaculus', url='https://www.metaculus.com/questions/7664', metadata={'topics': [], 'api_url': 'https://www.metaculus.com/api2/questions/7664', 'market_prob': 0.82, 'resolve_time': '2024-08-10T23:00:00Z', 'close_time': '2024-07-25T23:00:00Z', 'effected_close_time': None, 'background_info': 'The 2024 Olympic games is a sporting competition which takes place every four years. It involves a range of different events across multiple sports.\\n\\nAt the Olympic Games, Gold, Silver and Bronze medals are awarded to 1st, 2nd and 3rd place in each event. (In some events two Bronze medals are awarded mostly combat sports).\\n\\nThe US team is one of the most successful teams in recent Olympics, topping the medal table in 2020, 2016, 2012, 2004, 2000. Will they repeat that in 2024?\\n\\n*Related questions*\\n\\n* [How many medals will Team USA win in Paris 2024?](https://www.metaculus.com/questions/7665/total-medals-won-by-the-usa-at-paris-2024/)\\n* [Will France come in the Top 5 at Paris 2024?](https://www.metaculus.com/questions/7669/france-home-game-advantage/'}, resolution=None), ForecastingQuestion(id=UUID('b2426492-b0ff-4a18-b6dd-8219abc608f1'), title='Will we detect an exoplanet atmosphere with >5% oxygen atmosphere before 2030?', body='Resolution Criteria\\nThis question will resolve as Yes if any exoplanet with >5% O2 atmosphere is found before January 1, 2030', resolution_date=datetime.datetime(2029, 12, 31, 0, 0, tzinfo=TzInfo(UTC)), question_type='binary', data_source='metaculus', url='https://www.metaculus.com/questions/1568', metadata={'topics': [], 'background_info': 'Despite Kepler’s recent end of mission the search for exoplanets continues. While their orbits and properties vary, ranging from double our Moon’s mass to thirty times Jupiter’s, their atmospheres’ compositions are harder to detect.\\nAs of this writing this means we have mostly data from exoplanets we detected by transition and occlusion methods, but also other kind of exoplanets. However we only found what is in their air, not how much or its ratio in the atmosphere. What we did detect of their atmospheres was often hydrogen, sodium, water vapour, carbon monoxide and dioxide, methane, and even oxygen, depending on the respective exoplanet.\\nSadly, the presence of O2 isn’t the smoking gun for extraterrestrial life some media like to report it for. There are atmospheric and geological processes that produce detectable—or even massive—amounts of oxygen, keeping the mere presence of O2 from being a robust biomarker. On the flip side, too much oxygen is also possible, and may prevent or hamper the development of life.\\nSo far we lack a method that would determine the composition percentages of exoplanet atmospheres, but that doesn’t mean someone clever won’t come up with a way. And once we do, finding an atmosphere with a sizeable fraction of O2 might very well be a good indicator for extraterrestrial life.\\n'}, resolution=None)]\n",
      "reasons=['Both questions involve significant achievements that can impact national pride and scientific progress, which may be of interest to the same audience.', \"The success of the USA in the Olympics could be seen as a reflection of the country's technological and scientific capabilities, potentially influencing public interest in scientific discoveries like exoplanet atmospheres.\", 'There may be a cultural or psychological connection between national achievements in sports and scientific advancements, prompting some to consider them together.'] conclusion='While the two questions are not directly related, there are broader themes of national achievement and progress that could link them in the minds of some forecasters.' score=4.0\n",
      "---\n",
      "{'model': 'gpt-4o-mini-2024-07-18', 'response_model': <class 'common.datatypes.RelevanceResult'>, 'temperature': 0.5} Approx num tokens: 1086\n",
      "---\n",
      "[ForecastingQuestion(id=UUID('5da935a3-7ffa-4e28-8c1a-5952c89a9a42'), title='Will USA top the Olympic Medal Table at Paris 2024?', body='This question will resolve positively if the United States Olympic Team are the (unique) highest ranked team at the 2024 Paris Olympics. It will resolve ambiguously if the Paris Olympics do not take place before 2027. It will resolve negatively if any team achieves a higher or equal ranking to the US team.\\n\\nThe medal table is calculated by taking all the medals won by each participating country and ordering by:\\n\\n1. Number of Gold Medals\\n2. (Where 1 is tied) Number of Silver Medals\\n3. (Where 2 is tied) Number of Bronze Medals', resolution_date=datetime.datetime(2024, 12, 31, 0, 0), question_type='binary', data_source='metaculus', url='https://www.metaculus.com/questions/7664', metadata={'topics': [], 'api_url': 'https://www.metaculus.com/api2/questions/7664', 'market_prob': 0.82, 'resolve_time': '2024-08-10T23:00:00Z', 'close_time': '2024-07-25T23:00:00Z', 'effected_close_time': None, 'background_info': 'The 2024 Olympic games is a sporting competition which takes place every four years. It involves a range of different events across multiple sports.\\n\\nAt the Olympic Games, Gold, Silver and Bronze medals are awarded to 1st, 2nd and 3rd place in each event. (In some events two Bronze medals are awarded mostly combat sports).\\n\\nThe US team is one of the most successful teams in recent Olympics, topping the medal table in 2020, 2016, 2012, 2004, 2000. Will they repeat that in 2024?\\n\\n*Related questions*\\n\\n* [How many medals will Team USA win in Paris 2024?](https://www.metaculus.com/questions/7665/total-medals-won-by-the-usa-at-paris-2024/)\\n* [Will France come in the Top 5 at Paris 2024?](https://www.metaculus.com/questions/7669/france-home-game-advantage/'}, resolution=None), ForecastingQuestion(id=UUID('1d720d42-ae4a-4569-be76-1919bb11cce9'), title='Will there be at least 2˚C of global warming by 2100?', body=\"Resolution Criteria\\nThis question will resolve positively if, by January 1, 2100, there has been a period of at least 5 consecutive years in which the average global temperature in each year was at least 2.0 ˚C greater than the average global temperature in 1880.\\n(Note that 1880 isn't exactly pre-industrial, but earlier data is highly unreliable, and there should really not have been much warming by then.)\\nData for resolution shall come from NASA, if possible. Note that the data in the link is normalised relative to the 1951-1980 baseline, on which 1880 stands at -0.2. Therefore, the critical value to look for with this specific NASA dataset will be 1.8 ˚C. It is likely, though, that the link will no longer be active in a few decades, so a different dataset may have to be used anyway.\\nThe last possible set of 5 years to satisfy the requirement would be 2095-2099, so the last possible resolution date would be around mid-2100, in order to make sure that there are no uncertainties regarding the 2099 climate data\\n\", resolution_date=datetime.datetime(2100, 12, 31, 0, 0, tzinfo=TzInfo(UTC)), question_type='binary', data_source='metaculus', url='https://www.metaculus.com/questions/585', metadata={'topics': [], 'background_info': 'At the Paris climate accord, world leaders promised to keep the global temperature increase this century (relative to pre-industrial levels) \"well below 2 ˚C\" and if possible below 1.5 ˚C. Many experts are skeptical about this goal being feasible, stating that even if all Paris targets are met, global warming may reach levels up to 3 ˚C above pre-industrial levels. Furthermore, with the coming departure of the United States from the agreement, the meeting of global targets may be in jeopardy.'}, resolution=None)]\n",
      "reasons=['The performance of the USA in the Olympics could be influenced by national morale, funding, and attention towards sports, which may be affected by climate change and its associated impacts on society.', \"Global warming could lead to changes in how the Olympics are organized or even if they are held at all, which would directly impact the USA's chances of topping the medal table.\", 'Interest in the broader implications of both questions, such as how national success in sports might influence public perception and policy regarding climate change.'] conclusion=\"There is a reasonable connection between the two questions, as both relate to the USA's performance on a global stage, albeit in different contexts.\" score=6.0\n",
      "---\n",
      "{'model': 'gpt-4o-mini-2024-07-18', 'response_model': <class 'common.datatypes.RelevanceResult'>, 'temperature': 0.5} Approx num tokens: 1152\n",
      "---\n",
      "[ForecastingQuestion(id=UUID('5da935a3-7ffa-4e28-8c1a-5952c89a9a42'), title='Will USA top the Olympic Medal Table at Paris 2024?', body='This question will resolve positively if the United States Olympic Team are the (unique) highest ranked team at the 2024 Paris Olympics. It will resolve ambiguously if the Paris Olympics do not take place before 2027. It will resolve negatively if any team achieves a higher or equal ranking to the US team.\\n\\nThe medal table is calculated by taking all the medals won by each participating country and ordering by:\\n\\n1. Number of Gold Medals\\n2. (Where 1 is tied) Number of Silver Medals\\n3. (Where 2 is tied) Number of Bronze Medals', resolution_date=datetime.datetime(2024, 12, 31, 0, 0), question_type='binary', data_source='metaculus', url='https://www.metaculus.com/questions/7664', metadata={'topics': [], 'api_url': 'https://www.metaculus.com/api2/questions/7664', 'market_prob': 0.82, 'resolve_time': '2024-08-10T23:00:00Z', 'close_time': '2024-07-25T23:00:00Z', 'effected_close_time': None, 'background_info': 'The 2024 Olympic games is a sporting competition which takes place every four years. It involves a range of different events across multiple sports.\\n\\nAt the Olympic Games, Gold, Silver and Bronze medals are awarded to 1st, 2nd and 3rd place in each event. (In some events two Bronze medals are awarded mostly combat sports).\\n\\nThe US team is one of the most successful teams in recent Olympics, topping the medal table in 2020, 2016, 2012, 2004, 2000. Will they repeat that in 2024?\\n\\n*Related questions*\\n\\n* [How many medals will Team USA win in Paris 2024?](https://www.metaculus.com/questions/7665/total-medals-won-by-the-usa-at-paris-2024/)\\n* [Will France come in the Top 5 at Paris 2024?](https://www.metaculus.com/questions/7669/france-home-game-advantage/'}, resolution=None), ForecastingQuestion(id=UUID('8d489275-a0e4-4912-8af9-19d1781af30f'), title=\"Will armed conflicts between the United States and the People's Republic of China lead to at least 100 deaths before 2050?\", body=\"Resolution Criteria\\nThis question will resolve as Yes if, at any time between January 1, 2021 to January 1, 2050, either of the following occur:\\nThere are at least three credible government sources reporting at least one exchange of weapon fire between the national military forces or law enforcement personnel of the United States and the People's Republic of China causing a total of at least 100 deaths.\\nThere are at least three credible news reports that at least one exchange of weapon fire between the national military forces or law enforcement personnel of the United States and the People's Republic of China causing a total of at least 100 deaths.\\nThese 100 deaths do not have to occur in the same conflict or the same year; it is sufficient for multiple separate events to reach a total of 100 deaths in this period.\\nThis question will resolves as No otherwise.\\nIn the context of this question, an armed conflict will be defined as a dispute that concerns a government and/or territory where the use of armed force between two parties, of which at least one is the government of a state, results in an exchange of weapon fire or detonations\\n\", resolution_date=datetime.datetime(2049, 12, 31, 0, 0, tzinfo=TzInfo(UTC)), question_type='binary', data_source='metaculus', url='https://www.metaculus.com/questions/8051', metadata={'topics': [], 'background_info': 'A previous Metaculus question asked about a great power war and whether the US and others would intervene in a conflict over Taiwan. Some scholars have warned about a Thucydides Trap that could lead to a war between the US and China, over Taiwan, the South China Sea, or some other issue.'}, resolution=None)]\n",
      "reasons=['The performance of the USA in the Olympics can be influenced by national morale and unity, which may be affected by geopolitical tensions or conflicts, such as those with China.', 'Increased military conflicts might divert national resources and attention away from sports and athletic training, potentially impacting Olympic outcomes.', \"Public sentiment and media focus on international relations can affect funding and support for Olympic athletes, which could indirectly influence the USA's performance in the medal table.\"] conclusion='The logical combination of these questions is relevant as geopolitical tensions could impact national performance in international events like the Olympics.' score=7.0\n",
      "---\n",
      "{'model': 'gpt-4o-mini-2024-07-18', 'response_model': <class 'common.datatypes.RelevanceResult'>, 'temperature': 0.5} Approx num tokens: 1866\n",
      "---\n",
      "[ForecastingQuestion(id=UUID('5da935a3-7ffa-4e28-8c1a-5952c89a9a42'), title='Will USA top the Olympic Medal Table at Paris 2024?', body='This question will resolve positively if the United States Olympic Team are the (unique) highest ranked team at the 2024 Paris Olympics. It will resolve ambiguously if the Paris Olympics do not take place before 2027. It will resolve negatively if any team achieves a higher or equal ranking to the US team.\\n\\nThe medal table is calculated by taking all the medals won by each participating country and ordering by:\\n\\n1. Number of Gold Medals\\n2. (Where 1 is tied) Number of Silver Medals\\n3. (Where 2 is tied) Number of Bronze Medals', resolution_date=datetime.datetime(2024, 12, 31, 0, 0), question_type='binary', data_source='metaculus', url='https://www.metaculus.com/questions/7664', metadata={'topics': [], 'api_url': 'https://www.metaculus.com/api2/questions/7664', 'market_prob': 0.82, 'resolve_time': '2024-08-10T23:00:00Z', 'close_time': '2024-07-25T23:00:00Z', 'effected_close_time': None, 'background_info': 'The 2024 Olympic games is a sporting competition which takes place every four years. It involves a range of different events across multiple sports.\\n\\nAt the Olympic Games, Gold, Silver and Bronze medals are awarded to 1st, 2nd and 3rd place in each event. (In some events two Bronze medals are awarded mostly combat sports).\\n\\nThe US team is one of the most successful teams in recent Olympics, topping the medal table in 2020, 2016, 2012, 2004, 2000. Will they repeat that in 2024?\\n\\n*Related questions*\\n\\n* [How many medals will Team USA win in Paris 2024?](https://www.metaculus.com/questions/7665/total-medals-won-by-the-usa-at-paris-2024/)\\n* [Will France come in the Top 5 at Paris 2024?](https://www.metaculus.com/questions/7669/france-home-game-advantage/'}, resolution=None), ForecastingQuestion(id=UUID('74359646-1ed2-48cb-915c-7f867cddfe39'), title='Before 2025, will at least two public health agencies claim that China deliberately misreported COVID-19 infections?', body=\"Resolution Criteria\\nThe COVID-19 outbreak in China has been rife with allegations of misrepresentation by Chinese government officials. These began at the local level, where officials in Hubei province potentially under-reported the magnitude of the outbreak in early January to Chinese central government authorities. A public health worker famously released a video around January 26 claiming that at that time, at least 90,000 cases had occurred--at the time the Chinese government was reporting fewer than 2000 infections. Since then, the insufficiently-inclusive strategy of counting only persons with laboratory-confirmed cases of COVID-19 depressed the counts of probable cases. And the patterns of growth in the official counts follow an unexpected distribution, implying the counts may be generated by a model which doesn't accurately represent the dynamics of the disease's spread through the population.\\nThis latter allegation is perhaps the most important and severe, as it means that estimations of epidemiological characteristics based on Chinese data may lead to public health interventions which do not reflect the reality of the viral spread. For example, if the R_0 (the average number of people an infected person will pass the virus along to) is underestimated, it may lead to insufficiently aggressive strategies for reducing the propagation of the virus across the globe. However, overestimating it could lead to overly-aggressive quarantining strategies, hobbling international commerce. Getting a proper assessment of the epidemiological dynamics is critical to devising the appropriate public health response.\\nWill at least two public health agencies publicly accuse the Chinese government of deliberately misrepresenting the number of COVID-19 infections before 2025?\\nThis question will resolve as Yes if, before January 1, 2025, at least two of the public health agencies listed below claim that it is more likely than not that the Chinese government deliberately lied about, fabricated, or misrepresented case or death numbers. If an agency claims that the numbers were flawed, but does not go as far as to suggest deliberate lying or misrepresentation, this will not count. For the purpose of this question, we consider only statements by the following public health agencies:\\nCenters for Disease Control and Prevention (including the Epidemic Intelligence Service)\\nThe European Centre for Disease Prevention and Control (including the Health Threat Unit)\\nWorld Health Organization\\nThe Chinese Center for Disease Control and Prevention\\nThe Centre for Health Protection\\nRobert Koch Institute\\nThe National Institute of Infectious Diseases\\nPublic Health England\\nThe National Centre for Infectious Diseases\\nCenters for Disease Control and Prevention Korea\\nThe Public Health Agency of Canada\\nIn case multiple subdivisions of any of the above agencies make assessments that China more likely than not lied about case or death numbers, these will only count as single accusation made by a single agency.\\nThe relevant assessments will count if they are judged by Metaculus to broadly state that it is more likely than not that the Chinese government deliberately did lie about, fabricate, or misrepresent case or death counts.\\nThis question has a short-fuse sister.\\n\", resolution_date=datetime.datetime(2024, 12, 31, 0, 0), question_type='binary', data_source='metaculus', url='https://www.metaculus.com/questions/3715', metadata={'topics': [], 'background_info': ''}, resolution=None)]\n",
      "reasons=[\"The performance of the USA in the Olympics could be influenced by international relations and public health perceptions, particularly regarding COVID-19. If public health agencies accuse China of misreporting COVID-19 data, it might affect the political climate and public sentiment, which could indirectly impact the athletes' performance and preparation.\", 'The Olympic Games are often seen as a reflection of national strength and unity, which can be affected by public health crises. If there are allegations against China regarding COVID-19, it could lead to heightened tensions that might influence the morale and performance of athletes from the USA and other countries.', 'There may be public interest in how geopolitical events and public health issues intersect, especially in the context of a major international event like the Olympics.'] conclusion='It makes sense to consider the logical combination of these questions as they both relate to significant events that could influence each other, particularly in terms of public perception and international relations.' score=7.0\n",
      "---\n",
      "{'model': 'gpt-4o-mini-2024-07-18', 'response_model': <class 'common.datatypes.RelevanceResult'>, 'temperature': 0.5} Approx num tokens: 831\n",
      "---\n",
      "[ForecastingQuestion(id=UUID('5da935a3-7ffa-4e28-8c1a-5952c89a9a42'), title='Will USA top the Olympic Medal Table at Paris 2024?', body='This question will resolve positively if the United States Olympic Team are the (unique) highest ranked team at the 2024 Paris Olympics. It will resolve ambiguously if the Paris Olympics do not take place before 2027. It will resolve negatively if any team achieves a higher or equal ranking to the US team.\\n\\nThe medal table is calculated by taking all the medals won by each participating country and ordering by:\\n\\n1. Number of Gold Medals\\n2. (Where 1 is tied) Number of Silver Medals\\n3. (Where 2 is tied) Number of Bronze Medals', resolution_date=datetime.datetime(2024, 12, 31, 0, 0), question_type='binary', data_source='metaculus', url='https://www.metaculus.com/questions/7664', metadata={'topics': [], 'api_url': 'https://www.metaculus.com/api2/questions/7664', 'market_prob': 0.82, 'resolve_time': '2024-08-10T23:00:00Z', 'close_time': '2024-07-25T23:00:00Z', 'effected_close_time': None, 'background_info': 'The 2024 Olympic games is a sporting competition which takes place every four years. It involves a range of different events across multiple sports.\\n\\nAt the Olympic Games, Gold, Silver and Bronze medals are awarded to 1st, 2nd and 3rd place in each event. (In some events two Bronze medals are awarded mostly combat sports).\\n\\nThe US team is one of the most successful teams in recent Olympics, topping the medal table in 2020, 2016, 2012, 2004, 2000. Will they repeat that in 2024?\\n\\n*Related questions*\\n\\n* [How many medals will Team USA win in Paris 2024?](https://www.metaculus.com/questions/7665/total-medals-won-by-the-usa-at-paris-2024/)\\n* [Will France come in the Top 5 at Paris 2024?](https://www.metaculus.com/questions/7669/france-home-game-advantage/'}, resolution=None), ForecastingQuestion(id=UUID('548f7e16-2b42-4132-a4eb-2516701ab496'), title='Will Stacey Abrams be elected president in or before the 2040 election?', body='Resolution Criteria\\nThis resolves positively if Stacey Abrams is elected president in or before 2040 and the result is not overturned prior to inauguration, whether or not she is actually inaugurated. This resolves negatively by any other outcome', resolution_date=datetime.datetime(2040, 12, 31, 0, 0, tzinfo=TzInfo(UTC)), question_type='binary', data_source='metaculus', url='https://www.metaculus.com/questions/3588', metadata={'topics': [], 'background_info': 'Stacey Abrams, failed 2018 Georgia gubernatorial candidate who has yet to concede that election as of January 31, 2020, thinks she will be elected president in the next 20 years. Do you agree?\\nSource: Stacey Abrams Thinks She’ll Be President By 2040'}, resolution=None)]\n",
      "reasons=['Both events are significant national occurrences that could attract public interest, but they are largely independent in nature.', 'The outcome of the Olympic medal table is primarily dependent on athletic performance, while the election of a president involves political dynamics, making their logical combination less relevant.', 'There may be a niche interest in comparing the success of a country in sports with its political leadership, but this is unlikely to yield meaningful insights.'] conclusion='The logical combination of these questions does not make much sense, as they are unrelated events with no apparent influence on each other.' score=2.0\n",
      "---\n",
      "{'model': 'gpt-4o-mini-2024-07-18', 'response_model': <class 'common.datatypes.RelevanceResult'>, 'temperature': 0.5} Approx num tokens: 1380\n",
      "---\n",
      "[ForecastingQuestion(id=UUID('5da935a3-7ffa-4e28-8c1a-5952c89a9a42'), title='Will USA top the Olympic Medal Table at Paris 2024?', body='This question will resolve positively if the United States Olympic Team are the (unique) highest ranked team at the 2024 Paris Olympics. It will resolve ambiguously if the Paris Olympics do not take place before 2027. It will resolve negatively if any team achieves a higher or equal ranking to the US team.\\n\\nThe medal table is calculated by taking all the medals won by each participating country and ordering by:\\n\\n1. Number of Gold Medals\\n2. (Where 1 is tied) Number of Silver Medals\\n3. (Where 2 is tied) Number of Bronze Medals', resolution_date=datetime.datetime(2024, 12, 31, 0, 0), question_type='binary', data_source='metaculus', url='https://www.metaculus.com/questions/7664', metadata={'topics': [], 'api_url': 'https://www.metaculus.com/api2/questions/7664', 'market_prob': 0.82, 'resolve_time': '2024-08-10T23:00:00Z', 'close_time': '2024-07-25T23:00:00Z', 'effected_close_time': None, 'background_info': 'The 2024 Olympic games is a sporting competition which takes place every four years. It involves a range of different events across multiple sports.\\n\\nAt the Olympic Games, Gold, Silver and Bronze medals are awarded to 1st, 2nd and 3rd place in each event. (In some events two Bronze medals are awarded mostly combat sports).\\n\\nThe US team is one of the most successful teams in recent Olympics, topping the medal table in 2020, 2016, 2012, 2004, 2000. Will they repeat that in 2024?\\n\\n*Related questions*\\n\\n* [How many medals will Team USA win in Paris 2024?](https://www.metaculus.com/questions/7665/total-medals-won-by-the-usa-at-paris-2024/)\\n* [Will France come in the Top 5 at Paris 2024?](https://www.metaculus.com/questions/7669/france-home-game-advantage/'}, resolution=None), ForecastingQuestion(id=UUID('8453ac79-dd8d-4f7e-8967-a7c7f8c198c9'), title='Will any OECD country achieve a 10% or greater reduction in the national rate of obesity for 3 consecutive years before 2030?', body=\"Resolution Criteria\\nAccording to the OECD's 2017 Obesity Update (PDF), more than one in two adults and nearly one in six children are overweight or obese in the OECD area. The obesity epidemic spread further in the five years leading up to 2017, although at a slower pace than before. Despite this, projections show a continuing increase of obesity in all OECD countries.\\nA nearly tenfold variation in obesity rates can be seen across OECD countries; as of 2016, in Japan the rate of obesity was just 4.2%, while in the US it was 40%. (See a graphic on this page for full OECD obesity rates).\\nThis question asks: Will any OECD country achieve a 10% or greater proportional reduction in the national rate of obesity, as compared to levels reported by the OECD for 2016, for three consecutive years before 1 January 2030?\\nResolution should cite a data release (from either the OECD itself or any of its 36 member states) that demonstrates that the national obesity rate of any OECD member country has fallen by 10% or more from 2016 levels for three consecutive years before 2030.\\nThis question refers to the percentage of the total adult population (aged 15 years and over) considered obese. Note that we're looking for a 10% proportional drop (e.g. if the initial percentage is 20%, we'd be looking for a fall to 18%; if it were 40%, we would be looking for a drop to 36%).\\nIn the event of a positive resolution, the question should close retroactively one day prior to the release of information that causes the positive resolution.\\nIf one year goes unreported for a country, the years on each side are still considered consecutive. If the gap is greater than one year, the years on each side are not considered consecutive.\\nChangelog:\\n2020-09-17: added requirement for consecutive years, to mitigate noisy data. See this thread.\\n\", resolution_date=datetime.datetime(2029, 12, 31, 0, 0, tzinfo=TzInfo(UTC)), question_type='binary', data_source='metaculus', url='https://www.metaculus.com/questions/3397', metadata={'topics': [], 'background_info': ''}, resolution=None)]\n",
      "reasons=['Success in the Olympic Games can influence national pride and public health initiatives, potentially affecting obesity rates.', 'Increased media attention and funding for sports during the Olympics may lead to heightened public awareness about health and fitness, influencing obesity reduction efforts.', 'Countries that perform well in sports often have strong health campaigns that could align with efforts to reduce obesity.'] conclusion='The logical combination of these questions is relevant, as the outcomes may influence each other through national policies and public sentiment.' score=7.0\n",
      "---\n",
      "{'model': 'gpt-4o-mini-2024-07-18', 'response_model': <class 'common.datatypes.RelevanceResult'>, 'temperature': 0.5} Approx num tokens: 2079\n",
      "---\n",
      "[ForecastingQuestion(id=UUID('5da935a3-7ffa-4e28-8c1a-5952c89a9a42'), title='Will USA top the Olympic Medal Table at Paris 2024?', body='This question will resolve positively if the United States Olympic Team are the (unique) highest ranked team at the 2024 Paris Olympics. It will resolve ambiguously if the Paris Olympics do not take place before 2027. It will resolve negatively if any team achieves a higher or equal ranking to the US team.\\n\\nThe medal table is calculated by taking all the medals won by each participating country and ordering by:\\n\\n1. Number of Gold Medals\\n2. (Where 1 is tied) Number of Silver Medals\\n3. (Where 2 is tied) Number of Bronze Medals', resolution_date=datetime.datetime(2024, 12, 31, 0, 0), question_type='binary', data_source='metaculus', url='https://www.metaculus.com/questions/7664', metadata={'topics': [], 'api_url': 'https://www.metaculus.com/api2/questions/7664', 'market_prob': 0.82, 'resolve_time': '2024-08-10T23:00:00Z', 'close_time': '2024-07-25T23:00:00Z', 'effected_close_time': None, 'background_info': 'The 2024 Olympic games is a sporting competition which takes place every four years. It involves a range of different events across multiple sports.\\n\\nAt the Olympic Games, Gold, Silver and Bronze medals are awarded to 1st, 2nd and 3rd place in each event. (In some events two Bronze medals are awarded mostly combat sports).\\n\\nThe US team is one of the most successful teams in recent Olympics, topping the medal table in 2020, 2016, 2012, 2004, 2000. Will they repeat that in 2024?\\n\\n*Related questions*\\n\\n* [How many medals will Team USA win in Paris 2024?](https://www.metaculus.com/questions/7665/total-medals-won-by-the-usa-at-paris-2024/)\\n* [Will France come in the Top 5 at Paris 2024?](https://www.metaculus.com/questions/7669/france-home-game-advantage/'}, resolution=None), ForecastingQuestion(id=UUID('a233bea8-97cb-4acc-a792-d39607ab9380'), title='Will the human condition change fundamentally before 2100?', body='Resolution Criteria\\nNick Bostrom, philosopher and Founding Director of the Future of Humanity Institute at the University of Oxford, argues that only two events since the dawn of humanity have fundamentally changed the human condition: the Agricultural Revolution that took place approximately 10,000 years ago, and the Industrial Revolution which took place from roughly 1760-1840. Bostrom states the following:\\n\"So what kind of thing would count as a fundamental change in the human condition?\\n\"You could argue that if we look back over history, there has really only been two events that have fundamentally changed the human condition, the first being the Agricultural Revolution some 10,000 or 12,000 years ago in Mesopotamia, where we transitioned from being hunter-gatherers, small bands roaming around, to settling into cities, growing, domesticating crops and animals. With that you get social stratification, if there is a lot of grain, you could have a king or pharaoh who extracts the surplus, you can have standing armies, you can have war, you can have higher population densities, specialisation of labour, and from that point on, innovation grows much faster and population grows faster as well as a result.\\n\"The second fundamental change in the human condition, Industrial Revolution, where for the first time, you have the rate of economic and technological growth outstripping population growth, and so only when this happens can you have an increase in average income. Before that, there was technological growth and economic growth, but the economy grew 10%, the population grew 10%, everybody\\'s still in a Malthusian condition.\"\\nBostrom further argues that there are relatively few potential technologies that could have the same kind of impact, and that perhaps foremost among them is machine intelligence.\\nThe kind of discontinuity in the human condition seen as a result of the agricultural and industrial revolutions is substantial; human civilisation became markedly more complex, acquired fundamentally new abilities, and the human experience became radically different after each of these events.\\nThe question we ask here is: Before January 1 2100, will the human condition change fundamentally to at least roughly the same extent that it did after the agricultural and industrial revolutions?\\n\"The human condition,\" for the purposes of this question, is the general level of social complexity, economic productivity, and ability to manipulate physical reality humanity has achieved at the civilisational level.\\nThe discontinuity can be in either direction - though it seems improbable that Metaculus would continue to exist if humanity were to revert to a pre-industrial state.\\nEvents that may occur this century, but which do not appear to represent a discontinuity of approximately the same degree as the agricultural and industrial revolutions, include (among other things) the establishment of bases or settlements on other bodies in the solar system, the achievement of modest to moderate life extension (e.g. an additional 10 to 30 years of life) or a significant but not radical increase in economic productivity.\\nResolution\\nIf at any time after the date of 2025-01-01 both the community and Metaculus predictions are >= 98% or <= 2%, with 80% probability, the question resolves positively or negatively, respectively. With 20% probability, the question resolves according to a committee of 5 Metaculus admins, who will vote yes or no (not ambiguous), and will unmake their respective predictions so that they do not gain or lose points on the question.\\nNote that the admins will be voting on whether the qualifying event has already happened, not whether they believe it will happen; for example, if the probability goes to 99% because a super-powerful AI seems immininent within 10 years, but it has not actually happened yet, the committee should unanimously vote no.\\nIf the question has not resolved by January 1 2100, it resolves ambiguously.\\n', resolution_date=datetime.datetime(2099, 12, 31, 0, 0, tzinfo=TzInfo(UTC)), question_type='binary', data_source='metaculus', url='https://www.metaculus.com/questions/1646', metadata={'topics': [], 'background_info': ''}, resolution=None)]\n",
      "reasons=['The performance of the USA in the Olympics might be influenced by socio-economic factors that could also affect the fundamental change in the human condition, such as advancements in technology and societal organization.', \"A significant change in the human condition could lead to increased investment in sports and athletic programs, potentially impacting the USA's performance at the Olympics.\", \"Cultural shifts resulting from fundamental changes in the human condition may affect public interest and support for the Olympic Games, which could influence the USA's medal tally.\"] conclusion='While there are some connections between the two questions, they are largely independent, and the logical combination might not yield significant insights.' score=5.0\n",
      "---\n",
      "{'model': 'gpt-4o-mini-2024-07-18', 'response_model': <class 'common.datatypes.RelevanceResult'>, 'temperature': 0.5} Approx num tokens: 901\n",
      "---\n",
      "[ForecastingQuestion(id=UUID('5da935a3-7ffa-4e28-8c1a-5952c89a9a42'), title='Will USA top the Olympic Medal Table at Paris 2024?', body='This question will resolve positively if the United States Olympic Team are the (unique) highest ranked team at the 2024 Paris Olympics. It will resolve ambiguously if the Paris Olympics do not take place before 2027. It will resolve negatively if any team achieves a higher or equal ranking to the US team.\\n\\nThe medal table is calculated by taking all the medals won by each participating country and ordering by:\\n\\n1. Number of Gold Medals\\n2. (Where 1 is tied) Number of Silver Medals\\n3. (Where 2 is tied) Number of Bronze Medals', resolution_date=datetime.datetime(2024, 12, 31, 0, 0), question_type='binary', data_source='metaculus', url='https://www.metaculus.com/questions/7664', metadata={'topics': [], 'api_url': 'https://www.metaculus.com/api2/questions/7664', 'market_prob': 0.82, 'resolve_time': '2024-08-10T23:00:00Z', 'close_time': '2024-07-25T23:00:00Z', 'effected_close_time': None, 'background_info': 'The 2024 Olympic games is a sporting competition which takes place every four years. It involves a range of different events across multiple sports.\\n\\nAt the Olympic Games, Gold, Silver and Bronze medals are awarded to 1st, 2nd and 3rd place in each event. (In some events two Bronze medals are awarded mostly combat sports).\\n\\nThe US team is one of the most successful teams in recent Olympics, topping the medal table in 2020, 2016, 2012, 2004, 2000. Will they repeat that in 2024?\\n\\n*Related questions*\\n\\n* [How many medals will Team USA win in Paris 2024?](https://www.metaculus.com/questions/7665/total-medals-won-by-the-usa-at-paris-2024/)\\n* [Will France come in the Top 5 at Paris 2024?](https://www.metaculus.com/questions/7669/france-home-game-advantage/'}, resolution=None), ForecastingQuestion(id=UUID('3234ce4d-eea4-4642-9cff-406c9b7ad853'), title='Will the existence and smoothness properties of the Navier-Stokes equations in three dimensions turn out to depend on the compactness of the universe over which they are defined?', body='Resolution Criteria\\nThis question resolves positively if before the resolution date of the question there are proofs of either both A and D or both B and C. It resolves negatively if there are proofs of either both A and B or both C and D. If neither event takes place before the resolution date of the question, the question resolves ambiguously\\n', resolution_date=datetime.datetime(2099, 12, 31, 0, 0, tzinfo=TzInfo(UTC)), question_type='binary', data_source='metaculus', url='https://www.metaculus.com/questions/8049', metadata={'topics': [], 'background_info': \"The Navier-Stokes existence and smoothness conjecture is an important open problem in fluid dynamics and the theory of partial differential equations. It's been designated as one of the Clay Institute's Millennium Prize Problems in 2000 and there is a 1 million dollar bounty available for either proving or disproving the conjecture. In the official introduction to the problem here, the Clay Institute splits the problem into four statements A, B, C and D; and the problem is considered to have been settled if any one of them is proven.\\nImportantly for this question, the statements A and C are about the Navier-Stokes equations defined on the noncompact space\\nℝ\\n3\\n, while B and D are about the equations defined on the compact torus\\n(ℝ/ℤ\\n)\\n3\\n.\"}, resolution=None)]\n",
      "reasons=['Both questions involve significant events occurring in 2024, which may attract interest from the same audience.', 'The outcome of the Olympic medal table could indirectly influence public interest and funding in scientific research, including the study of the Navier-Stokes equations.', 'Both questions reflect broader societal interests in sports and scientific advancements, potentially appealing to overlapping communities.'] conclusion='While the two questions are vastly different in nature, there may be some indirect connections in terms of public interest and societal focus during the same time period, making the logical combination somewhat interesting.' score=3.0\n",
      "---\n",
      "{'model': 'gpt-4o-mini-2024-07-18', 'response_model': <class 'common.datatypes.RelevanceResult'>, 'temperature': 0.5} Approx num tokens: 1141\n",
      "---\n",
      "[ForecastingQuestion(id=UUID('5da935a3-7ffa-4e28-8c1a-5952c89a9a42'), title='Will USA top the Olympic Medal Table at Paris 2024?', body='This question will resolve positively if the United States Olympic Team are the (unique) highest ranked team at the 2024 Paris Olympics. It will resolve ambiguously if the Paris Olympics do not take place before 2027. It will resolve negatively if any team achieves a higher or equal ranking to the US team.\\n\\nThe medal table is calculated by taking all the medals won by each participating country and ordering by:\\n\\n1. Number of Gold Medals\\n2. (Where 1 is tied) Number of Silver Medals\\n3. (Where 2 is tied) Number of Bronze Medals', resolution_date=datetime.datetime(2024, 12, 31, 0, 0), question_type='binary', data_source='metaculus', url='https://www.metaculus.com/questions/7664', metadata={'topics': [], 'api_url': 'https://www.metaculus.com/api2/questions/7664', 'market_prob': 0.82, 'resolve_time': '2024-08-10T23:00:00Z', 'close_time': '2024-07-25T23:00:00Z', 'effected_close_time': None, 'background_info': 'The 2024 Olympic games is a sporting competition which takes place every four years. It involves a range of different events across multiple sports.\\n\\nAt the Olympic Games, Gold, Silver and Bronze medals are awarded to 1st, 2nd and 3rd place in each event. (In some events two Bronze medals are awarded mostly combat sports).\\n\\nThe US team is one of the most successful teams in recent Olympics, topping the medal table in 2020, 2016, 2012, 2004, 2000. Will they repeat that in 2024?\\n\\n*Related questions*\\n\\n* [How many medals will Team USA win in Paris 2024?](https://www.metaculus.com/questions/7665/total-medals-won-by-the-usa-at-paris-2024/)\\n* [Will France come in the Top 5 at Paris 2024?](https://www.metaculus.com/questions/7669/france-home-game-advantage/'}, resolution=None), ForecastingQuestion(id=UUID('2a7d30d9-7f8b-4220-82d0-4db8d5697643'), title=\"Will the identity of Bitcoin's founder, Satoshi Nakamoto, be revealed to the general public by 2025?\", body='Resolution Criteria\\nFew anonymous people--save maybe Banksy and Qanon--have generated as much press as \"Satoshi Nakamoto\", the maverick who developed bitcoin.\\nHaven\\'t heard of the man? Here\\'s an executive summary per The Economist:\\nON PAPER—or at least on the blockchain—Satoshi Nakamoto is one of the richest people on the planet.... But Mr Nakamoto, though actively involved with his brainchild in its early history, has been silent since 2011. An army of amateur detectives has been trying to work out who he really is, but there is frustratingly little to go on. While developing bitcoin he claimed to be male, in his late 30s and living in Japan, but even that information is suspect.\\nWill we ever find out his true identity? Speculation abounds. (See here and here and here.) As noted above, Nakamoto is estimated to have more than a million bitcoins, mined very early on. So he\\'d be worth well over $10Bn at current prices (as of launch), perhaps more. If he hasn\\'t lost his thumb drive.\\nQuestion resolves postive if Satoshi\\'s true, corroborated identity is revealed to the world at large by April 5, 2025, his birthday. (Or is it??)\\n', resolution_date=datetime.datetime(2025, 12, 31, 0, 0, tzinfo=TzInfo(UTC)), question_type='binary', data_source='metaculus', url='https://www.metaculus.com/questions/1517', metadata={'topics': [], 'background_info': ''}, resolution=None)]\n",
      "reasons=[\"The performance of the USA in the Olympics could be influenced by economic factors, which may also be affected by the revelation of Satoshi Nakamoto's identity and the subsequent impact on cryptocurrency markets.\", 'Both events could be part of a broader narrative about American dominance in sports and technology, making the combination of these questions interesting for analysts and forecasters.', \"The public's interest in both the Olympics and Bitcoin's founder could stem from a desire to understand trends in national pride and technological innovation, which could be interrelated.\"] conclusion='While the two events are largely unrelated, there are some interesting angles regarding economic and cultural narratives that could make the combination of these questions relevant to certain audiences.' score=4.0\n",
      "---\n",
      "{'model': 'gpt-4o-mini-2024-07-18', 'response_model': <class 'static_checks.MiniInstantiator.Neg.OutputFormat_stripped'>, 'temperature': 0.5} Approx num tokens: 1114\n",
      "{'model': 'gpt-4o-mini-2024-07-18', 'response_model': <class 'static_checks.MiniInstantiator.Paraphrase.OutputFormat_stripped'>, 'temperature': 0.5} Approx num tokens: 451\n",
      "{'model': 'gpt-4o-mini-2024-07-18', 'response_model': <class 'static_checks.MiniInstantiator.And.OutputFormat_stripped'>, 'temperature': 0.5} Approx num tokens: 1636\n",
      "{'model': 'gpt-4o-mini-2024-07-18', 'response_model': <class 'static_checks.MiniInstantiator.Or.OutputFormat_stripped'>, 'temperature': 0.5} Approx num tokens: 1740\n",
      "{'model': 'gpt-4o-mini-2024-07-18', 'response_model': <class 'static_checks.MiniInstantiator.Neg.OutputFormat_stripped'>, 'temperature': 0.5} Approx num tokens: 1114\n",
      "{'model': 'gpt-4o-mini-2024-07-18', 'response_model': <class 'static_checks.MiniInstantiator.And.OutputFormat_stripped'>, 'temperature': 0.5} Approx num tokens: 1638\n",
      "{'model': 'gpt-4o-mini-2024-07-18', 'response_model': <class 'static_checks.MiniInstantiator.Or.OutputFormat_stripped'>, 'temperature': 0.5} Approx num tokens: 1740\n",
      "{'model': 'gpt-4o-mini-2024-07-18', 'response_model': <class 'static_checks.MiniInstantiator.Conditional.OutputFormat_stripped'>, 'temperature': 0.5} Approx num tokens: 2127\n",
      "{'model': 'gpt-4o-mini-2024-07-18', 'response_model': <class 'static_checks.MiniInstantiator.And.OutputFormat_stripped'>, 'temperature': 0.5} Approx num tokens: 1636\n"
     ]
    },
    {
     "data": {
      "text/plain": [
       "{'P': ForecastingQuestion(id=UUID('c0f19d62-8229-4bac-a0ef-a737f9e63d3c'), title='Will USA top the Olympic Medal Table at Paris 2024?', body='This question will resolve positively if the United States Olympic Team are the (unique) highest ranked team at the 2024 Paris Olympics. It will resolve ambiguously if the Paris Olympics do not take place before 2027. It will resolve negatively if any team achieves a higher or equal ranking to the US team.\\n\\nThe medal table is calculated by taking all the medals won by each participating country and ordering by:\\n\\n1. Number of Gold Medals\\n2. (Where 1 is tied) Number of Silver Medals\\n3. (Where 2 is tied) Number of Bronze Medals', resolution_date=datetime.datetime(2024, 12, 31, 0, 0, tzinfo=tzutc()), question_type='binary', data_source='synthetic_inst', url=None, metadata=None, resolution=None),\n",
       " 'not_P': ForecastingQuestion(id=UUID('55e2e903-5b4d-46a6-b07b-f153d1268908'), title='Will USA not top the Olympic Medal Table at Paris 2024?', body='This question will resolve positively if the United States Olympic Team are not the (unique) highest ranked team at the 2024 Paris Olympics. It will resolve ambiguously if the Paris Olympics do not take place before 2027. It will resolve negatively if any team achieves a higher or equal ranking to the US team.\\n\\nThe medal table is calculated by taking all the medals won by each participating country and ordering by:\\n\\n1. Number of Gold Medals\\n2. (Where 1 is tied) Number of Silver Medals\\n3. (Where 2 is tied) Number of Bronze Medals', resolution_date=datetime.datetime(2024, 12, 31, 0, 0, tzinfo=tzutc()), question_type='binary', data_source='synthetic_inst', url=None, metadata=None, resolution=None),\n",
       " 'para_P': ForecastingQuestion(id=UUID('f3bd5351-bd70-4137-bfd8-a69df6d00633'), title='Will the United States lead the Olympic Medal Count at the 2024 Paris Games?', body='This inquiry will be answered affirmatively if the United States Olympic Team stands as the (sole) top-ranked team at the Paris Olympics in 2024. The resolution will be uncertain if the Paris Olympics do not occur before 2027. It will be answered negatively if any other team matches or surpasses the ranking of the US team.\\n\\nThe medal standings are determined by tallying all the medals earned by each participating nation and ranking them based on:\\n\\n1. Total Gold Medals\\n2. (In case of ties at 1) Total Silver Medals\\n3. (In case of ties at 2) Total Bronze Medals.', resolution_date=datetime.datetime(2024, 12, 31, 0, 0, tzinfo=tzutc()), question_type='binary', data_source='synthetic_inst', url=None, metadata=None, resolution=None),\n",
       " 'Q': ForecastingQuestion(id=UUID('4c1eed2a-8260-4894-805e-3f7ba99540cc'), title=\"Will armed conflicts between the United States and the People's Republic of China lead to at least 100 deaths before 2050?\", body=\"Resolution Criteria\\nThis question will resolve as Yes if, at any time between January 1, 2021 to January 1, 2050, either of the following occur:\\nThere are at least three credible government sources reporting at least one exchange of weapon fire between the national military forces or law enforcement personnel of the United States and the People's Republic of China causing a total of at least 100 deaths.\\nThere are at least three credible news reports that at least one exchange of weapon fire between the national military forces or law enforcement personnel of the United States and the People's Republic of China causing a total of at least 100 deaths.\\nThese 100 deaths do not have to occur in the same conflict or the same year; it is sufficient for multiple separate events to reach a total of 100 deaths in this period.\\nThis question will resolves as No otherwise.\\nIn the context of this question, an armed conflict will be defined as a dispute that concerns a government and/or territory where the use of armed force between two parties, of which at least one is the government of a state, results in an exchange of weapon fire or detonations\\n\", resolution_date=datetime.datetime(2049, 12, 31, 0, 0, tzinfo=TzInfo(UTC)), question_type='binary', data_source='synthetic_inst', url=None, metadata=None, resolution=None),\n",
       " 'P_and_Q': ForecastingQuestion(id=UUID('46d2e6f3-16c7-42da-887e-6d030509fda5'), title=\"Will both of the following occur: (1) Will the USA top the Olympic Medal Table at Paris 2024? (2) Will armed conflicts between the United States and the People's Republic of China lead to at least 100 deaths before 2050?\", body=\"This question will resolve positively if both of the following conditions are met: (1) The United States Olympic Team is the (unique) highest ranked team at the 2024 Paris Olympics, which will resolve positively if the US team has the most gold medals, and in case of ties, the most silver and bronze medals. (2) At any time between January 1, 2021 to January 1, 2050, there are at least three credible government sources or news reports of an exchange of weapon fire between the national military forces or law enforcement personnel of the United States and the People's Republic of China causing a total of at least 100 deaths, which can occur across multiple events.\", resolution_date=datetime.datetime(2049, 12, 31, 0, 0, tzinfo=TzInfo(UTC)), question_type='binary', data_source='synthetic_inst', url=None, metadata=None, resolution=None),\n",
       " 'P_or_Q': ForecastingQuestion(id=UUID('9200cff7-3f7b-4e7c-9cca-dc6eb960cf2c'), title=\"Will either of the following occur: (a) Will the USA top the Olympic Medal Table at Paris 2024? (b) Will armed conflicts between the United States and the People's Republic of China lead to at least 100 deaths before 2050?\", body=\"This question will resolve positively if either of the following occurs: (1) The United States Olympic Team is the (unique) highest ranked team at the 2024 Paris Olympics, which will resolve ambiguously if the Paris Olympics do not take place before 2027, and will resolve negatively if any team achieves a higher or equal ranking to the US team. (2) At any time between January 1, 2021 to January 1, 2050, there are at least three credible government sources or news reports of at least one exchange of weapon fire between the national military forces or law enforcement personnel of the United States and the People's Republic of China causing a total of at least 100 deaths. These deaths do not have to occur in the same conflict or year; it is sufficient for multiple separate events to reach a total of 100 deaths in this period. The question will resolve as No if neither of these conditions is met.\", resolution_date=datetime.datetime(2049, 12, 31, 0, 0, tzinfo=TzInfo(UTC)), question_type='binary', data_source='synthetic_inst', url=None, metadata=None, resolution=False),\n",
       " 'Q_and_not_P': ForecastingQuestion(id=UUID('007be931-08a0-4551-8284-69efa15acf8e'), title=\"Will both of the following occur: (1) Armed conflicts between the United States and the People's Republic of China lead to at least 100 deaths before 2050, and (2) the United States not top the Olympic Medal Table at Paris 2024?\", body=\"Resolution Criteria\\nThis question will resolve as Yes if both of the following conditions are met:\\n1. At any time between January 1, 2021 to January 1, 2050, either of the following occurs regarding armed conflicts between the United States and the People's Republic of China:\\n   - There are at least three credible government sources reporting at least one exchange of weapon fire between the national military forces or law enforcement personnel of the United States and the People's Republic of China causing a total of at least 100 deaths.\\n   - There are at least three credible news reports that at least one exchange of weapon fire between the national military forces or law enforcement personnel of the United States and the People's Republic of China causing a total of at least 100 deaths.\\n   These 100 deaths do not have to occur in the same conflict or the same year; it is sufficient for multiple separate events to reach a total of 100 deaths in this period.\\n2. The United States Olympic Team is not the (unique) highest ranked team at the 2024 Paris Olympics. \\nThis question will resolve as No if either of the above conditions is not met.\", resolution_date=datetime.datetime(2049, 12, 31, 0, 0, tzinfo=TzInfo(UTC)), question_type='binary', data_source='synthetic_inst', url=None, metadata=None, resolution=None),\n",
       " 'Q_given_P': ForecastingQuestion(id=UUID('e7897608-d089-4b14-bb45-469c3f152123'), title=\"Given the USA tops the Olympic Medal Table at Paris 2024, will armed conflicts between the United States and the People's Republic of China lead to at least 100 deaths before 2050?\", body=\"This question will resolve positively if the United States Olympic Team are the (unique) highest ranked team at the 2024 Paris Olympics. It will resolve ambiguously if the Paris Olympics do not take place before 2027. It will resolve negatively if any team achieves a higher or equal ranking to the US team.\\n\\nIn addition, this question will resolve as Yes if, at any time between January 1, 2021 to January 1, 2050, either of the following occur:\\nThere are at least three credible government sources reporting at least one exchange of weapon fire between the national military forces or law enforcement personnel of the United States and the People's Republic of China causing a total of at least 100 deaths.\\nThere are at least three credible news reports that at least one exchange of weapon fire between the national military forces or law enforcement personnel of the United States and the People's Republic of China causing a total of at least 100 deaths.\\nThese 100 deaths do not have to occur in the same conflict or the same year; it is sufficient for multiple separate events to reach a total of 100 deaths in this period.\\nThis question will resolve as No otherwise.\\nIn the context of this question, an armed conflict will be defined as a dispute that concerns a government and/or territory where the use of armed force between two parties, of which at least one is the government of a state, results in an exchange of weapon fire or detonations.\", resolution_date=datetime.datetime(2049, 12, 31, 0, 0, tzinfo=TzInfo(UTC)), question_type='conditional_binary', data_source='synthetic_inst', url=None, metadata=None, resolution=None)}"
      ]
     },
     "execution_count": 66,
     "metadata": {},
     "output_type": "execute_result"
    }
   ],
   "source": [
    "\n",
    "test_for = PromptedToCons_Forecaster()\n",
    "#test_for.call(TEST_1)\n",
    "\n",
    "print('1')\n",
    "test_for.generate_all_questions(TEST_1)\n"
   ]
  },
  {
   "cell_type": "code",
   "execution_count": null,
   "id": "11489fcd-451a-4e04-9934-c76b08ebfe56",
   "metadata": {},
   "outputs": [],
   "source": []
  },
  {
   "cell_type": "code",
   "execution_count": 70,
   "id": "0ddacd1e-d0ec-4e55-b266-942fff47c0d5",
   "metadata": {},
   "outputs": [
    {
     "name": "stdout",
     "output_type": "stream",
     "text": [
      "{'P': ForecastingQuestion(id=UUID('c0f19d62-8229-4bac-a0ef-a737f9e63d3c'), title='Will USA top the Olympic Medal Table at Paris 2024?', body='This question will resolve positively if the United States Olympic Team are the (unique) highest ranked team at the 2024 Paris Olympics. It will resolve ambiguously if the Paris Olympics do not take place before 2027. It will resolve negatively if any team achieves a higher or equal ranking to the US team.\\n\\nThe medal table is calculated by taking all the medals won by each participating country and ordering by:\\n\\n1. Number of Gold Medals\\n2. (Where 1 is tied) Number of Silver Medals\\n3. (Where 2 is tied) Number of Bronze Medals', resolution_date=datetime.datetime(2024, 12, 31, 0, 0, tzinfo=tzutc()), question_type='binary', data_source='synthetic_inst', url=None, metadata=None, resolution=None), 'not_P': ForecastingQuestion(id=UUID('55e2e903-5b4d-46a6-b07b-f153d1268908'), title='Will USA not top the Olympic Medal Table at Paris 2024?', body='This question will resolve positively if the United States Olympic Team are not the (unique) highest ranked team at the 2024 Paris Olympics. It will resolve ambiguously if the Paris Olympics do not take place before 2027. It will resolve negatively if any team achieves a higher or equal ranking to the US team.\\n\\nThe medal table is calculated by taking all the medals won by each participating country and ordering by:\\n\\n1. Number of Gold Medals\\n2. (Where 1 is tied) Number of Silver Medals\\n3. (Where 2 is tied) Number of Bronze Medals', resolution_date=datetime.datetime(2024, 12, 31, 0, 0, tzinfo=tzutc()), question_type='binary', data_source='synthetic_inst', url=None, metadata=None, resolution=None), 'para_P': ForecastingQuestion(id=UUID('f3bd5351-bd70-4137-bfd8-a69df6d00633'), title='Will the United States lead the Olympic Medal Count at the 2024 Paris Games?', body='This inquiry will be answered affirmatively if the United States Olympic Team stands as the (sole) top-ranked team at the Paris Olympics in 2024. The resolution will be uncertain if the Paris Olympics do not occur before 2027. It will be answered negatively if any other team matches or surpasses the ranking of the US team.\\n\\nThe medal standings are determined by tallying all the medals earned by each participating nation and ranking them based on:\\n\\n1. Total Gold Medals\\n2. (In case of ties at 1) Total Silver Medals\\n3. (In case of ties at 2) Total Bronze Medals.', resolution_date=datetime.datetime(2024, 12, 31, 0, 0, tzinfo=tzutc()), question_type='binary', data_source='synthetic_inst', url=None, metadata=None, resolution=None), 'Q': ForecastingQuestion(id=UUID('4c1eed2a-8260-4894-805e-3f7ba99540cc'), title=\"Will armed conflicts between the United States and the People's Republic of China lead to at least 100 deaths before 2050?\", body=\"Resolution Criteria\\nThis question will resolve as Yes if, at any time between January 1, 2021 to January 1, 2050, either of the following occur:\\nThere are at least three credible government sources reporting at least one exchange of weapon fire between the national military forces or law enforcement personnel of the United States and the People's Republic of China causing a total of at least 100 deaths.\\nThere are at least three credible news reports that at least one exchange of weapon fire between the national military forces or law enforcement personnel of the United States and the People's Republic of China causing a total of at least 100 deaths.\\nThese 100 deaths do not have to occur in the same conflict or the same year; it is sufficient for multiple separate events to reach a total of 100 deaths in this period.\\nThis question will resolves as No otherwise.\\nIn the context of this question, an armed conflict will be defined as a dispute that concerns a government and/or territory where the use of armed force between two parties, of which at least one is the government of a state, results in an exchange of weapon fire or detonations\\n\", resolution_date=datetime.datetime(2049, 12, 31, 0, 0, tzinfo=TzInfo(UTC)), question_type='binary', data_source='synthetic_inst', url=None, metadata=None, resolution=None), 'P_and_Q': ForecastingQuestion(id=UUID('46d2e6f3-16c7-42da-887e-6d030509fda5'), title=\"Will both of the following occur: (1) Will the USA top the Olympic Medal Table at Paris 2024? (2) Will armed conflicts between the United States and the People's Republic of China lead to at least 100 deaths before 2050?\", body=\"This question will resolve positively if both of the following conditions are met: (1) The United States Olympic Team is the (unique) highest ranked team at the 2024 Paris Olympics, which will resolve positively if the US team has the most gold medals, and in case of ties, the most silver and bronze medals. (2) At any time between January 1, 2021 to January 1, 2050, there are at least three credible government sources or news reports of an exchange of weapon fire between the national military forces or law enforcement personnel of the United States and the People's Republic of China causing a total of at least 100 deaths, which can occur across multiple events.\", resolution_date=datetime.datetime(2049, 12, 31, 0, 0, tzinfo=TzInfo(UTC)), question_type='binary', data_source='synthetic_inst', url=None, metadata=None, resolution=None), 'P_or_Q': ForecastingQuestion(id=UUID('9200cff7-3f7b-4e7c-9cca-dc6eb960cf2c'), title=\"Will either of the following occur: (a) Will the USA top the Olympic Medal Table at Paris 2024? (b) Will armed conflicts between the United States and the People's Republic of China lead to at least 100 deaths before 2050?\", body=\"This question will resolve positively if either of the following occurs: (1) The United States Olympic Team is the (unique) highest ranked team at the 2024 Paris Olympics, which will resolve ambiguously if the Paris Olympics do not take place before 2027, and will resolve negatively if any team achieves a higher or equal ranking to the US team. (2) At any time between January 1, 2021 to January 1, 2050, there are at least three credible government sources or news reports of at least one exchange of weapon fire between the national military forces or law enforcement personnel of the United States and the People's Republic of China causing a total of at least 100 deaths. These deaths do not have to occur in the same conflict or year; it is sufficient for multiple separate events to reach a total of 100 deaths in this period. The question will resolve as No if neither of these conditions is met.\", resolution_date=datetime.datetime(2049, 12, 31, 0, 0, tzinfo=TzInfo(UTC)), question_type='binary', data_source='synthetic_inst', url=None, metadata=None, resolution=False), 'Q_and_not_P': ForecastingQuestion(id=UUID('007be931-08a0-4551-8284-69efa15acf8e'), title=\"Will both of the following occur: (1) Armed conflicts between the United States and the People's Republic of China lead to at least 100 deaths before 2050, and (2) the United States not top the Olympic Medal Table at Paris 2024?\", body=\"Resolution Criteria\\nThis question will resolve as Yes if both of the following conditions are met:\\n1. At any time between January 1, 2021 to January 1, 2050, either of the following occurs regarding armed conflicts between the United States and the People's Republic of China:\\n   - There are at least three credible government sources reporting at least one exchange of weapon fire between the national military forces or law enforcement personnel of the United States and the People's Republic of China causing a total of at least 100 deaths.\\n   - There are at least three credible news reports that at least one exchange of weapon fire between the national military forces or law enforcement personnel of the United States and the People's Republic of China causing a total of at least 100 deaths.\\n   These 100 deaths do not have to occur in the same conflict or the same year; it is sufficient for multiple separate events to reach a total of 100 deaths in this period.\\n2. The United States Olympic Team is not the (unique) highest ranked team at the 2024 Paris Olympics. \\nThis question will resolve as No if either of the above conditions is not met.\", resolution_date=datetime.datetime(2049, 12, 31, 0, 0, tzinfo=TzInfo(UTC)), question_type='binary', data_source='synthetic_inst', url=None, metadata=None, resolution=None), 'Q_given_P': ForecastingQuestion(id=UUID('e7897608-d089-4b14-bb45-469c3f152123'), title=\"Given the USA tops the Olympic Medal Table at Paris 2024, will armed conflicts between the United States and the People's Republic of China lead to at least 100 deaths before 2050?\", body=\"This question will resolve positively if the United States Olympic Team are the (unique) highest ranked team at the 2024 Paris Olympics. It will resolve ambiguously if the Paris Olympics do not take place before 2027. It will resolve negatively if any team achieves a higher or equal ranking to the US team.\\n\\nIn addition, this question will resolve as Yes if, at any time between January 1, 2021 to January 1, 2050, either of the following occur:\\nThere are at least three credible government sources reporting at least one exchange of weapon fire between the national military forces or law enforcement personnel of the United States and the People's Republic of China causing a total of at least 100 deaths.\\nThere are at least three credible news reports that at least one exchange of weapon fire between the national military forces or law enforcement personnel of the United States and the People's Republic of China causing a total of at least 100 deaths.\\nThese 100 deaths do not have to occur in the same conflict or the same year; it is sufficient for multiple separate events to reach a total of 100 deaths in this period.\\nThis question will resolve as No otherwise.\\nIn the context of this question, an armed conflict will be defined as a dispute that concerns a government and/or territory where the use of armed force between two parties, of which at least one is the government of a state, results in an exchange of weapon fire or detonations.\", resolution_date=datetime.datetime(2049, 12, 31, 0, 0, tzinfo=TzInfo(UTC)), question_type='conditional_binary', data_source='synthetic_inst', url=None, metadata=None, resolution=None)}\n"
     ]
    }
   ],
   "source": [
    "print(test_for.forecasting_questions)"
   ]
  },
  {
   "cell_type": "code",
   "execution_count": null,
   "id": "fb782b18-c6f1-41a5-b684-1ff3de9a83b8",
   "metadata": {},
   "outputs": [],
   "source": []
  },
  {
   "cell_type": "code",
   "execution_count": null,
   "id": "0322831a-4195-4df2-bd3d-9938c6633684",
   "metadata": {},
   "outputs": [],
   "source": []
  },
  {
   "cell_type": "code",
   "execution_count": null,
   "id": "6cc3f43d-3bef-46b6-a9fc-bff29024b161",
   "metadata": {},
   "outputs": [],
   "source": []
  },
  {
   "cell_type": "code",
   "execution_count": 26,
   "id": "7be430ad-320e-46f3-8b53-63638710391c",
   "metadata": {},
   "outputs": [],
   "source": [
    "from forecasters.cot_forecaster import CoT_multistep_Forecaster\n",
    "\n",
    "cot_f = CoT_multistep_Forecaster('this is a test', [])"
   ]
  },
  {
   "cell_type": "code",
   "execution_count": null,
   "id": "3cdb2982-127b-4424-b2a6-0654e4fde040",
   "metadata": {},
   "outputs": [],
   "source": [
    "cot_f.call(TEST_3)"
   ]
  },
  {
   "cell_type": "code",
   "execution_count": null,
   "id": "ef41264d-51b9-4c54-a2d4-43f99fc5799b",
   "metadata": {},
   "outputs": [],
   "source": []
  },
  {
   "cell_type": "code",
   "execution_count": null,
   "id": "805827fe-93aa-484c-bc94-45a1955bd4e0",
   "metadata": {},
   "outputs": [],
   "source": []
  },
  {
   "cell_type": "code",
   "execution_count": 78,
   "id": "75e34313-ac85-4263-880c-43c1ecf76ca9",
   "metadata": {},
   "outputs": [
    {
     "name": "stdout",
     "output_type": "stream",
     "text": [
      "\n",
      "{'P': ForecastingQuestion(id=UUID('c0f19d62-8229-4bac-a0ef-a737f9e63d3c'), title='Will USA top the Olympic Medal Table at Paris 2024?', body='This question will resolve positively if the United States Olympic Team are the (unique) highest ranked team at the 2024 Paris Olympics. It will resolve ambiguously if the Paris Olympics do not take place before 2027. It will resolve negatively if any team achieves a higher or equal ranking to the US team.\n",
      "\n",
      "The medal table is calculated by taking all the medals won by each participating country and ordering by:\n",
      "\n",
      "1. Number of Gold Medals\n",
      "2. (Where 1 is tied) Number of Silver Medals\n",
      "3. (Where 2 is tied) Number of Bronze Medals', resolution_date=datetime.datetime(2024, 12, 31, 0, 0, tzinfo=tzutc()), question_type='binary', data_source='synthetic_inst', url=None, metadata=None, resolution=None), 'not_P': ForecastingQuestion(id=UUID('55e2e903-5b4d-46a6-b07b-f153d1268908'), title='Will USA not top the Olympic Medal Table at Paris 2024?', body='This question will resolve positively if the United States Olympic Team are not the (unique) highest ranked team at the 2024 Paris Olympics. It will resolve ambiguously if the Paris Olympics do not take place before 2027. It will resolve negatively if any team achieves a higher or equal ranking to the US team.\n",
      "\n",
      "The medal table is calculated by taking all the medals won by each participating country and ordering by:\n",
      "\n",
      "1. Number of Gold Medals\n",
      "2. (Where 1 is tied) Number of Silver Medals\n",
      "3. (Where 2 is tied) Number of Bronze Medals', resolution_date=datetime.datetime(2024, 12, 31, 0, 0, tzinfo=tzutc()), question_type='binary', data_source='synthetic_inst', url=None, metadata=None, resolution=None), 'para_P': ForecastingQuestion(id=UUID('f3bd5351-bd70-4137-bfd8-a69df6d00633'), title='Will the United States lead the Olympic Medal Count at the 2024 Paris Games?', body='This inquiry will be answered affirmatively if the United States Olympic Team stands as the (sole) top-ranked team at the Paris Olympics in 2024. The resolution will be uncertain if the Paris Olympics do not occur before 2027. It will be answered negatively if any other team matches or surpasses the ranking of the US team.\n",
      "\n",
      "The medal standings are determined by tallying all the medals earned by each participating nation and ranking them based on:\n",
      "\n",
      "1. Total Gold Medals\n",
      "2. (In case of ties at 1) Total Silver Medals\n",
      "3. (In case of ties at 2) Total Bronze Medals.', resolution_date=datetime.datetime(2024, 12, 31, 0, 0, tzinfo=tzutc()), question_type='binary', data_source='synthetic_inst', url=None, metadata=None, resolution=None), 'Q': ForecastingQuestion(id=UUID('4c1eed2a-8260-4894-805e-3f7ba99540cc'), title=\"Will armed conflicts between the United States and the People's Republic of China lead to at least 100 deaths before 2050?\", body=\"Resolution Criteria\n",
      "This question will resolve as Yes if, at any time between January 1, 2021 to January 1, 2050, either of the following occur:\n",
      "There are at least three credible government sources reporting at least one exchange of weapon fire between the national military forces or law enforcement personnel of the United States and the People's Republic of China causing a total of at least 100 deaths.\n",
      "There are at least three credible news reports that at least one exchange of weapon fire between the national military forces or law enforcement personnel of the United States and the People's Republic of China causing a total of at least 100 deaths.\n",
      "These 100 deaths do not have to occur in the same conflict or the same year; it is sufficient for multiple separate events to reach a total of 100 deaths in this period.\n",
      "This question will resolves as No otherwise.\n",
      "In the context of this question, an armed conflict will be defined as a dispute that concerns a government and/or territory where the use of armed force between two parties, of which at least one is the government of a state, results in an exchange of weapon fire or detonations\n",
      "\", resolution_date=datetime.datetime(2049, 12, 31, 0, 0, tzinfo=TzInfo(UTC)), question_type='binary', data_source='synthetic_inst', url=None, metadata=None, resolution=None), 'P_and_Q': ForecastingQuestion(id=UUID('46d2e6f3-16c7-42da-887e-6d030509fda5'), title=\"Will both of the following occur: (1) Will the USA top the Olympic Medal Table at Paris 2024? (2) Will armed conflicts between the United States and the People's Republic of China lead to at least 100 deaths before 2050?\", body=\"This question will resolve positively if both of the following conditions are met: (1) The United States Olympic Team is the (unique) highest ranked team at the 2024 Paris Olympics, which will resolve positively if the US team has the most gold medals, and in case of ties, the most silver and bronze medals. (2) At any time between January 1, 2021 to January 1, 2050, there are at least three credible government sources or news reports of an exchange of weapon fire between the national military forces or law enforcement personnel of the United States and the People's Republic of China causing a total of at least 100 deaths, which can occur across multiple events.\", resolution_date=datetime.datetime(2049, 12, 31, 0, 0, tzinfo=TzInfo(UTC)), question_type='binary', data_source='synthetic_inst', url=None, metadata=None, resolution=None), 'P_or_Q': ForecastingQuestion(id=UUID('9200cff7-3f7b-4e7c-9cca-dc6eb960cf2c'), title=\"Will either of the following occur: (a) Will the USA top the Olympic Medal Table at Paris 2024? (b) Will armed conflicts between the United States and the People's Republic of China lead to at least 100 deaths before 2050?\", body=\"This question will resolve positively if either of the following occurs: (1) The United States Olympic Team is the (unique) highest ranked team at the 2024 Paris Olympics, which will resolve ambiguously if the Paris Olympics do not take place before 2027, and will resolve negatively if any team achieves a higher or equal ranking to the US team. (2) At any time between January 1, 2021 to January 1, 2050, there are at least three credible government sources or news reports of at least one exchange of weapon fire between the national military forces or law enforcement personnel of the United States and the People's Republic of China causing a total of at least 100 deaths. These deaths do not have to occur in the same conflict or year; it is sufficient for multiple separate events to reach a total of 100 deaths in this period. The question will resolve as No if neither of these conditions is met.\", resolution_date=datetime.datetime(2049, 12, 31, 0, 0, tzinfo=TzInfo(UTC)), question_type='binary', data_source='synthetic_inst', url=None, metadata=None, resolution=False), 'Q_and_not_P': ForecastingQuestion(id=UUID('007be931-08a0-4551-8284-69efa15acf8e'), title=\"Will both of the following occur: (1) Armed conflicts between the United States and the People's Republic of China lead to at least 100 deaths before 2050, and (2) the United States not top the Olympic Medal Table at Paris 2024?\", body=\"Resolution Criteria\n",
      "This question will resolve as Yes if both of the following conditions are met:\n",
      "1. At any time between January 1, 2021 to January 1, 2050, either of the following occurs regarding armed conflicts between the United States and the People's Republic of China:\n",
      "   - There are at least three credible government sources reporting at least one exchange of weapon fire between the national military forces or law enforcement personnel of the United States and the People's Republic of China causing a total of at least 100 deaths.\n",
      "   - There are at least three credible news reports that at least one exchange of weapon fire between the national military forces or law enforcement personnel of the United States and the People's Republic of China causing a total of at least 100 deaths.\n",
      "   These 100 deaths do not have to occur in the same conflict or the same year; it is sufficient for multiple separate events to reach a total of 100 deaths in this period.\n",
      "2. The United States Olympic Team is not the (unique) highest ranked team at the 2024 Paris Olympics. \n",
      "This question will resolve as No if either of the above conditions is not met.\", resolution_date=datetime.datetime(2049, 12, 31, 0, 0, tzinfo=TzInfo(UTC)), question_type='binary', data_source='synthetic_inst', url=None, metadata=None, resolution=None), 'Q_given_P': ForecastingQuestion(id=UUID('e7897608-d089-4b14-bb45-469c3f152123'), title=\"Given the USA tops the Olympic Medal Table at Paris 2024, will armed conflicts between the United States and the People's Republic of China lead to at least 100 deaths before 2050?\", body=\"This question will resolve positively if the United States Olympic Team are the (unique) highest ranked team at the 2024 Paris Olympics. It will resolve ambiguously if the Paris Olympics do not take place before 2027. It will resolve negatively if any team achieves a higher or equal ranking to the US team.\n",
      "\n",
      "In addition, this question will resolve as Yes if, at any time between January 1, 2021 to January 1, 2050, either of the following occur:\n",
      "There are at least three credible government sources reporting at least one exchange of weapon fire between the national military forces or law enforcement personnel of the United States and the People's Republic of China causing a total of at least 100 deaths.\n",
      "There are at least three credible news reports that at least one exchange of weapon fire between the national military forces or law enforcement personnel of the United States and the People's Republic of China causing a total of at least 100 deaths.\n",
      "These 100 deaths do not have to occur in the same conflict or the same year; it is sufficient for multiple separate events to reach a total of 100 deaths in this period.\n",
      "This question will resolve as No otherwise.\n",
      "In the context of this question, an armed conflict will be defined as a dispute that concerns a government and/or territory where the use of armed force between two parties, of which at least one is the government of a state, results in an exchange of weapon fire or detonations.\", resolution_date=datetime.datetime(2049, 12, 31, 0, 0, tzinfo=TzInfo(UTC)), question_type='conditional_binary', data_source='synthetic_inst', url=None, metadata=None, resolution=None)}\n",
      "\n"
     ]
    }
   ],
   "source": [
    "generated_question_example = \"\"\"\n",
    "{'P': ForecastingQuestion(id=UUID('c0f19d62-8229-4bac-a0ef-a737f9e63d3c'), title='Will USA top the Olympic Medal Table at Paris 2024?', body='This question will resolve positively if the United States Olympic Team are the (unique) highest ranked team at the 2024 Paris Olympics. It will resolve ambiguously if the Paris Olympics do not take place before 2027. It will resolve negatively if any team achieves a higher or equal ranking to the US team.\\n\\nThe medal table is calculated by taking all the medals won by each participating country and ordering by:\\n\\n1. Number of Gold Medals\\n2. (Where 1 is tied) Number of Silver Medals\\n3. (Where 2 is tied) Number of Bronze Medals', resolution_date=datetime.datetime(2024, 12, 31, 0, 0, tzinfo=tzutc()), question_type='binary', data_source='synthetic_inst', url=None, metadata=None, resolution=None), 'not_P': ForecastingQuestion(id=UUID('55e2e903-5b4d-46a6-b07b-f153d1268908'), title='Will USA not top the Olympic Medal Table at Paris 2024?', body='This question will resolve positively if the United States Olympic Team are not the (unique) highest ranked team at the 2024 Paris Olympics. It will resolve ambiguously if the Paris Olympics do not take place before 2027. It will resolve negatively if any team achieves a higher or equal ranking to the US team.\\n\\nThe medal table is calculated by taking all the medals won by each participating country and ordering by:\\n\\n1. Number of Gold Medals\\n2. (Where 1 is tied) Number of Silver Medals\\n3. (Where 2 is tied) Number of Bronze Medals', resolution_date=datetime.datetime(2024, 12, 31, 0, 0, tzinfo=tzutc()), question_type='binary', data_source='synthetic_inst', url=None, metadata=None, resolution=None), 'para_P': ForecastingQuestion(id=UUID('f3bd5351-bd70-4137-bfd8-a69df6d00633'), title='Will the United States lead the Olympic Medal Count at the 2024 Paris Games?', body='This inquiry will be answered affirmatively if the United States Olympic Team stands as the (sole) top-ranked team at the Paris Olympics in 2024. The resolution will be uncertain if the Paris Olympics do not occur before 2027. It will be answered negatively if any other team matches or surpasses the ranking of the US team.\\n\\nThe medal standings are determined by tallying all the medals earned by each participating nation and ranking them based on:\\n\\n1. Total Gold Medals\\n2. (In case of ties at 1) Total Silver Medals\\n3. (In case of ties at 2) Total Bronze Medals.', resolution_date=datetime.datetime(2024, 12, 31, 0, 0, tzinfo=tzutc()), question_type='binary', data_source='synthetic_inst', url=None, metadata=None, resolution=None), 'Q': ForecastingQuestion(id=UUID('4c1eed2a-8260-4894-805e-3f7ba99540cc'), title=\"Will armed conflicts between the United States and the People's Republic of China lead to at least 100 deaths before 2050?\", body=\"Resolution Criteria\\nThis question will resolve as Yes if, at any time between January 1, 2021 to January 1, 2050, either of the following occur:\\nThere are at least three credible government sources reporting at least one exchange of weapon fire between the national military forces or law enforcement personnel of the United States and the People's Republic of China causing a total of at least 100 deaths.\\nThere are at least three credible news reports that at least one exchange of weapon fire between the national military forces or law enforcement personnel of the United States and the People's Republic of China causing a total of at least 100 deaths.\\nThese 100 deaths do not have to occur in the same conflict or the same year; it is sufficient for multiple separate events to reach a total of 100 deaths in this period.\\nThis question will resolves as No otherwise.\\nIn the context of this question, an armed conflict will be defined as a dispute that concerns a government and/or territory where the use of armed force between two parties, of which at least one is the government of a state, results in an exchange of weapon fire or detonations\\n\", resolution_date=datetime.datetime(2049, 12, 31, 0, 0, tzinfo=TzInfo(UTC)), question_type='binary', data_source='synthetic_inst', url=None, metadata=None, resolution=None), 'P_and_Q': ForecastingQuestion(id=UUID('46d2e6f3-16c7-42da-887e-6d030509fda5'), title=\"Will both of the following occur: (1) Will the USA top the Olympic Medal Table at Paris 2024? (2) Will armed conflicts between the United States and the People's Republic of China lead to at least 100 deaths before 2050?\", body=\"This question will resolve positively if both of the following conditions are met: (1) The United States Olympic Team is the (unique) highest ranked team at the 2024 Paris Olympics, which will resolve positively if the US team has the most gold medals, and in case of ties, the most silver and bronze medals. (2) At any time between January 1, 2021 to January 1, 2050, there are at least three credible government sources or news reports of an exchange of weapon fire between the national military forces or law enforcement personnel of the United States and the People's Republic of China causing a total of at least 100 deaths, which can occur across multiple events.\", resolution_date=datetime.datetime(2049, 12, 31, 0, 0, tzinfo=TzInfo(UTC)), question_type='binary', data_source='synthetic_inst', url=None, metadata=None, resolution=None), 'P_or_Q': ForecastingQuestion(id=UUID('9200cff7-3f7b-4e7c-9cca-dc6eb960cf2c'), title=\"Will either of the following occur: (a) Will the USA top the Olympic Medal Table at Paris 2024? (b) Will armed conflicts between the United States and the People's Republic of China lead to at least 100 deaths before 2050?\", body=\"This question will resolve positively if either of the following occurs: (1) The United States Olympic Team is the (unique) highest ranked team at the 2024 Paris Olympics, which will resolve ambiguously if the Paris Olympics do not take place before 2027, and will resolve negatively if any team achieves a higher or equal ranking to the US team. (2) At any time between January 1, 2021 to January 1, 2050, there are at least three credible government sources or news reports of at least one exchange of weapon fire between the national military forces or law enforcement personnel of the United States and the People's Republic of China causing a total of at least 100 deaths. These deaths do not have to occur in the same conflict or year; it is sufficient for multiple separate events to reach a total of 100 deaths in this period. The question will resolve as No if neither of these conditions is met.\", resolution_date=datetime.datetime(2049, 12, 31, 0, 0, tzinfo=TzInfo(UTC)), question_type='binary', data_source='synthetic_inst', url=None, metadata=None, resolution=False), 'Q_and_not_P': ForecastingQuestion(id=UUID('007be931-08a0-4551-8284-69efa15acf8e'), title=\"Will both of the following occur: (1) Armed conflicts between the United States and the People's Republic of China lead to at least 100 deaths before 2050, and (2) the United States not top the Olympic Medal Table at Paris 2024?\", body=\"Resolution Criteria\\nThis question will resolve as Yes if both of the following conditions are met:\\n1. At any time between January 1, 2021 to January 1, 2050, either of the following occurs regarding armed conflicts between the United States and the People's Republic of China:\\n   - There are at least three credible government sources reporting at least one exchange of weapon fire between the national military forces or law enforcement personnel of the United States and the People's Republic of China causing a total of at least 100 deaths.\\n   - There are at least three credible news reports that at least one exchange of weapon fire between the national military forces or law enforcement personnel of the United States and the People's Republic of China causing a total of at least 100 deaths.\\n   These 100 deaths do not have to occur in the same conflict or the same year; it is sufficient for multiple separate events to reach a total of 100 deaths in this period.\\n2. The United States Olympic Team is not the (unique) highest ranked team at the 2024 Paris Olympics. \\nThis question will resolve as No if either of the above conditions is not met.\", resolution_date=datetime.datetime(2049, 12, 31, 0, 0, tzinfo=TzInfo(UTC)), question_type='binary', data_source='synthetic_inst', url=None, metadata=None, resolution=None), 'Q_given_P': ForecastingQuestion(id=UUID('e7897608-d089-4b14-bb45-469c3f152123'), title=\"Given the USA tops the Olympic Medal Table at Paris 2024, will armed conflicts between the United States and the People's Republic of China lead to at least 100 deaths before 2050?\", body=\"This question will resolve positively if the United States Olympic Team are the (unique) highest ranked team at the 2024 Paris Olympics. It will resolve ambiguously if the Paris Olympics do not take place before 2027. It will resolve negatively if any team achieves a higher or equal ranking to the US team.\\n\\nIn addition, this question will resolve as Yes if, at any time between January 1, 2021 to January 1, 2050, either of the following occur:\\nThere are at least three credible government sources reporting at least one exchange of weapon fire between the national military forces or law enforcement personnel of the United States and the People's Republic of China causing a total of at least 100 deaths.\\nThere are at least three credible news reports that at least one exchange of weapon fire between the national military forces or law enforcement personnel of the United States and the People's Republic of China causing a total of at least 100 deaths.\\nThese 100 deaths do not have to occur in the same conflict or the same year; it is sufficient for multiple separate events to reach a total of 100 deaths in this period.\\nThis question will resolve as No otherwise.\\nIn the context of this question, an armed conflict will be defined as a dispute that concerns a government and/or territory where the use of armed force between two parties, of which at least one is the government of a state, results in an exchange of weapon fire or detonations.\", resolution_date=datetime.datetime(2049, 12, 31, 0, 0, tzinfo=TzInfo(UTC)), question_type='conditional_binary', data_source='synthetic_inst', url=None, metadata=None, resolution=None)}\n",
    "\"\"\"\n",
    "print(generated_question_example)"
   ]
  },
  {
   "cell_type": "code",
   "execution_count": null,
   "id": "6736100e-3050-47d8-805e-be9f58c6bc9a",
   "metadata": {},
   "outputs": [],
   "source": []
  },
  {
   "cell_type": "code",
   "execution_count": null,
   "id": "3078f374-0e59-494c-931c-cbab0d309c1b",
   "metadata": {},
   "outputs": [],
   "source": [
    "# COT prompting\n",
    "preface = \"\"\"\n",
    "You are an informed and well-calibrated forecaster. I need you to give me the best probability estimate of the following events or questions resolving YES rounded to two decimals.\n",
    "The questions can be labelled with \"P\", \"Q\", or logical combination of such events, for example \"Q_given_P\", \"not_P\", Q_and_P\" etc.\n",
    "I will also provide you a list of consistency rules that your probability estimates must obey.\n",
    "The CONSISTENCY RULES are as follows: {self.consistency_checks}\n",
    "\n",
    "Additionally, leading every input may be an additional command.  Depending on what this command is, structure your response in that wai.\n",
    "QUESTIONS: This will be followed by the dict of questions to evaluate.  You must ONLY output \"RECEIVED\" and NOTHING ELSE.\n",
    "GENERAL: You may output anything you want.\n",
    "PROB: You must ONLY output your probability estimates for each variable given to you previously in the following format: \n",
    "        P: 0.xx\n",
    "        not_P: 0.xx\n",
    "        ...\n",
    "\n",
    "CHECK:  You must ONLY output the each check from CONSISTENCY RULES and an evaluation of whether the check is passed in the format below.  At the end comment on whether all checks passed, or which ones failed.\n",
    "        check_name: mathematical_rule, substitute_variables is evaluation_true_false\n",
    "\n",
    "\n",
    "FLOAT:  You must ONLY output a float and NOTHING ELSE.\n",
    "\"\"\"\n",
    "\n",
    "\n",
    "\n",
    "\n",
    "consistent_example = \"\"\"\n",
    "\n",
    "\n",
    "user: QUESTIONS: {questions_dict} \n",
    "\n",
    "assistant: RECEIVED\n",
    "\n",
    "user: \n",
    "GENREAL: Output your general reasoning and thought process.  Here you can be as detailed as you want mentioning the reasoning of your predictions as well as how / why each prediction obeys the given consistency rules.  For each prediction you are welcome to be as verbose as you want. If there are multiple questions P, Q, you can also make comments on their independence or relationship with each other. \n",
    "\n",
    "assistant:\n",
    "P: Historically the united States has had a pretty strong showing in the olympics, winning by far the most gold medals.  However, in the past, other countries such as China have also been pretty competitive and even overtook the US in gold medals in 2008.  Overall I would say the probability is pretty high at 0.73\n",
    "not_P: Historically the united States has had a pretty strong showing in the olympics, winning by far the most gold medals.  However, in the past, other countries such as China have also been pretty competitive and even overtook the US in gold medals in 2008.  Overall I would say the probability is pretty low at 0.27\n",
    "para_P: Historically the united States has had a pretty strong showing in the olympics, winning by far the most gold medals and most medals.  However, in the past, other countries such as China have also been pretty competitive and even overtook the US in gold medals in 2008.  Overall I would say the probability is pretty high at 0.73\n",
    "Q: Recently there have been some geo-political tensions brewing between China and the US regarding technolody, Taiwan, and politics.  However, generally we live in a peaceful and interconnected world where people want to generally avoid war.  Accounting for these assumptions, I would guess 0.33\n",
    "P_and_Q: I think that these two events (US topping the Paris olympics and a US - China armed conflict leading to 100 deaths) are mostly independent events.  Therefore we can intially guesss this as P * Q = 0.73 * 0.33 = 0.24.  However, perhaps there is some negative correlation with these events where if the US does not top the medal count, China could perceive the country as a little weaker and therefore more likely to provoke militarily.  Therefore we can make a small adjustment to 0.23\n",
    "P_or_Q: We can calculate this as the probability that P + Q - P_and_Q, which is 0.83\n",
    "Q_and_not_P: I think that these two events (US - China armed conflict leading to 100 deaths and the US not topping olmpics tables) are mostly independent events.  Therefore we can intially guesss this as Q * not_P = 0.33 * 0.27 = 0.09.  However, perhaps there is some positive correlation with these events where if the US does not top the medal count, China could perceive the country as a little weaker and therefore more likely to provoke militarily.  Therefore we can make a small adjustment to 0.10\n",
    "Q_given_P: I think that these two events (US topping the Paris olympics and a US - China armed conflict leading to 100 deaths) are mostly independent events.  Therefore as a base case, we can guess Q_given_P is just Q = 0.33.  We can provide a slight adjustment downwards due to there being small negative correlation with these events at 0.32\n",
    "\n",
    "\n",
    "user: \n",
    "PROB: Output your probability estimates of each of the variables (P, Q, not_P etc).  Here, ONLY output the labels and its associated predictions and NOTHING ELSE.\n",
    "\n",
    "assi:\n",
    "P: 0.73\n",
    "not_P: 0.27\n",
    "para_P: 0.73\n",
    "Q: 0.33\n",
    "P_and_Q: 0.23\n",
    "P_or_Q: 0.83\n",
    "Q_and_not_P: 0.10\n",
    "Q_given_P: 0.32\n",
    "\n",
    "\n",
    "user:\n",
    "CHECK: Go through each rule in CONSISTENCY RULES and check whether each rule is obeyed with your given predictions.  For each rule, also explain why / why not the rule is obeyed.\n",
    "assistant:\n",
    "\n",
    "neg: P = 1 - not_P, 0.73 = 1 - 0.27 is TRUE\n",
    "andor: P = P_or_Q + P_and_Q - Q, 0.73 = 0.83 + 0.23 - 0.33 is TRUE\n",
    "and: max(P + Q - 1, 0) <= P_and_Q <= min(P, Q), max(0.73, + 0.33 - 1, 0) <= 0.23 <= min(0.73, 0.33) is TRUE\n",
    "or: max(P, Q) <= P_or_Q <= min(1, P + Q), max(0.73, 0.33) <= 0.83 <= min(1, 0.73 + 0.33) is TRUE\n",
    "but: P = P_or_Q - Q_and_not_P, 0.73 = 0.83 - 0.10 is TRUE \n",
    "cond: P ≈ P_and_Q / Q_given_P, 0.73 ≈ 0.23 / 0.32 is TRUE\n",
    "para: P = para_P, 0.73 = 0.73 is TRUE\n",
    "\n",
    "ALL consistency checks passed\n",
    "\n",
    "\n",
    "user: \n",
    "PROB: Now again output your probability estimates of each variable in a dict like format like before, but taking account and correcting any consistency violations that occured before.\n",
    "        Note that changing the probability of one given variable for one consistency check will also affect consistency rules for others.  It is IMPERATIVE that all changes  \n",
    "        your correction needs to ENSURE that it still passes other consistency checks too.\n",
    "        If there were no violations found then simply output the same dict again.\n",
    "\n",
    "\n",
    "assistant:\n",
    "P: 0.73\n",
    "not_P: 0.27\n",
    "para_P: 0.73\n",
    "Q: 0.33\n",
    "P_and_Q: 0.23\n",
    "P_or_Q: 0.83\n",
    "Q_and_not_P: 0.10\n",
    "Q_given_P: 0.32\n",
    "\n",
    "\n",
    "user:\n",
    "FLOAT: Now just output your probability estimate of P\n",
    "\n",
    "\n",
    "assistant:\n",
    "0.73\n",
    "\n",
    "\"\"\"\n",
    "\n",
    "\n",
    "\n"
   ]
  },
  {
   "cell_type": "code",
   "execution_count": null,
   "id": "7d1b2f78-7bb9-4dd8-8652-cbaed4468e87",
   "metadata": {},
   "outputs": [],
   "source": [
    "# COT prompting\n",
    "\n",
    "inconsistent_example = \"\"\"\n",
    "\n",
    "user: QUESTIONS: {questions_dict} \n",
    "\n",
    "assistant: RECEIVED\n",
    "\n",
    "user: \n",
    "GENREAL: Output your general reasoning and thought process.  Here you can be as detailed as you want mentioning the reasoning of your predictions as well as how / why each prediction obeys the given consistency rules.  For each prediction you are welcome to be as verbose as you want. If there are multiple questions P, Q, you can also make comments on their independence or relationship with each other. \n",
    "\n",
    "assistant:\n",
    "P: Historically the united States has had a pretty strong showing in the olympics, winning by far the most gold medals.  However, in the past, other countries such as China have also been pretty competitive and even overtook the US in gold medals in 2008.  Overall I would say the probability is pretty high at 0.73\n",
    "not_P: Historically the united States has had a pretty strong showing in the olympics, winning by far the most gold medals.  However, in the past, other countries such as China have also been pretty competitive and even overtook the US in gold medals in 2008.  Overall I would say the probability is pretty low at 0.35\n",
    "para_P: Historically the united States has had a pretty strong showing in the olympics, winning by far the most gold medals and most medals.  However, in the past, other countries such as China have also been pretty competitive and even overtook the US in gold medals in 2008.  Overall I would say the probability is pretty high at 0.76\n",
    "Q: Recently there have been some geo-political tensions brewing between China and the US regarding technolody, Taiwan, and politics.  However, generally we live in a peaceful and interconnected world where people want to generally avoid war.  Accounting for these assumptions, I would guess 0.33\n",
    "P_and_Q: I think that these two events (US topping the Paris olympics and a US - China armed conflict leading to 100 deaths) are mostly independent events.  Therefore we can intially guesss this as P * Q = 0.73 * 0.33 = 0.24.  However, perhaps there is some negative correlation with these events where if the US does not top the medal count, China could perceive the country as a little weaker and therefore more likely to provoke militarily.  Therefore we can make a small adjustment to 0.23\n",
    "P_or_Q: I think the odds of either the US topping the Paris olympics or a US - China conflict leading to 100 deaths is 0.71Q_and_not_P: I think that these two events (US - China armed conflict leading to 100 deaths and the US not topping olmpics tables) are mostly independent events.  Therefore we can intially guesss this as Q * not_P = 0.33 * 0.35 = 0.12\n",
    "Q_given_P: I think that these two events (US topping the Paris olympics and a US - China armed conflict leading to 100 deaths) are mostly independent events.  Therefore as a base case, we can guess Q_given_P is just Q = 0.33.  We can provide a slight adjustment downwards due to there being small negative correlation with these events at 0.32\n",
    "\n",
    "\n",
    "user: \n",
    "PROB: Output your probability estimates of each of the variables (P, Q, not_P etc).  Here, ONLY output the labels and its associated predictions and NOTHING ELSE.\n",
    "\n",
    "assistant:\n",
    "P: 0.73\n",
    "not_P: 0.35\n",
    "para_P: 0.76\n",
    "Q: 0.33\n",
    "P_and_Q: 0.23\n",
    "P_or_Q: 0.71\n",
    "Q_and_not_P: 0.12\n",
    "Q_given_P: 0.32\n",
    "\n",
    "\n",
    "\n",
    "user:\n",
    "CHECK: Go through each rule in CONSISTENCY RULES and check whether each rule is obeyed with your given predictions.  For each rule, also explain why / why not the rule is obeyed.\n",
    "assistant:\n",
    "\n",
    "neg: P = 1 - not_P, 0.73 = 1 - 0.35 is FALSE\n",
    "andor: P = P_or_Q + P_and_Q - Q, 0.73 = 0.71 + 0.23 - 0.33 is FALSE\n",
    "and: max(P + Q - 1, 0) <= P_and_Q <= min(P, Q), max(0.73 + 0.33 - 1, 0) <= 0.23 <= min(0.73, 0.33) is TRUE\n",
    "or: max(P, Q) <= P_or_Q <= min(1, P + Q), max(0.73, 0.33) <= 0.71 <= min(1, 0.73 + 0.33) is FALSE\n",
    "but: P = P_or_Q - Q_and_not_P, 0.73 = 0.71 - 0.12 is FALSE \n",
    "cond: P ≈ P_and_Q / Q_given_P, 0.73 ≈ 0.23 / 0.32 is TRUE\n",
    "para: P = para_P, 0.73 = 0.76 is FALSE\n",
    "\n",
    "neg, andor, or, but, para consistency checks failed!\n",
    "\n",
    "\n",
    "user: \n",
    "PROB: Now again output your probability estimates of each variable in a dict like format like before, but taking account and correcting any consistency violations that occured before.\n",
    "        Note that changing the probability of one given variable for one consistency check will also affect consistency rules for others.  It is IMPERATIVE that all changes  \n",
    "        your correction needs to ENSURE that it still passes other consistency checks too.\n",
    "        If there were no violations found then simply output the same dict again.\n",
    "\n",
    "\n",
    "assistant:\n",
    "P: 0.73\n",
    "not_P: 0.27\n",
    "para_P: 0.73\n",
    "Q: 0.33\n",
    "P_and_Q: 0.23\n",
    "P_or_Q: 0.83\n",
    "Q_and_not_P: 0.10\n",
    "Q_given_P: 0.32\n",
    "\n",
    "\n",
    "user:\n",
    "FLOAT: Now just output your probability estimate of P\n",
    "\n",
    "\n",
    "assistant:\n",
    "0.73\n",
    "\n",
    "\"\"\"\n",
    "\n",
    "\n",
    "\n",
    "\n"
   ]
  },
  {
   "cell_type": "code",
   "execution_count": 30,
   "id": "32728fd7-2b0d-4508-bfe5-7d1b0a428397",
   "metadata": {},
   "outputs": [],
   "source": [
    "x = {'x': 1, '2': 2}"
   ]
  },
  {
   "cell_type": "code",
   "execution_count": 44,
   "id": "04372ce0-ebff-4921-b5fc-3cca9957bf6f",
   "metadata": {},
   "outputs": [
    {
     "name": "stdout",
     "output_type": "stream",
     "text": [
      "yyooo {'x': 1, '2': 2}\n"
     ]
    }
   ],
   "source": [
    "print('yyooo {}'.format(x.__str__()))"
   ]
  },
  {
   "cell_type": "code",
   "execution_count": 40,
   "id": "f5362634-00e7-4005-8957-3cf141bbc137",
   "metadata": {},
   "outputs": [
    {
     "data": {
      "text/plain": [
       "\"{'x': 1, '2': 2}\""
      ]
     },
     "execution_count": 40,
     "metadata": {},
     "output_type": "execute_result"
    }
   ],
   "source": []
  },
  {
   "cell_type": "code",
   "execution_count": null,
   "id": "937be6e5-f12e-4b96-9ae8-c844a823fec3",
   "metadata": {},
   "outputs": [],
   "source": []
  }
 ],
 "metadata": {
  "kernelspec": {
   "display_name": "Python 3 (ipykernel)",
   "language": "python",
   "name": "python3"
  },
  "language_info": {
   "codemirror_mode": {
    "name": "ipython",
    "version": 3
   },
   "file_extension": ".py",
   "mimetype": "text/x-python",
   "name": "python",
   "nbconvert_exporter": "python",
   "pygments_lexer": "ipython3",
   "version": "3.11.9"
  }
 },
 "nbformat": 4,
 "nbformat_minor": 5
}
