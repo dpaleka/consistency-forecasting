{
 "cells": [
  {
   "cell_type": "markdown",
   "metadata": {},
   "source": [
    "## Load Forecasters"
   ]
  },
  {
   "cell_type": "code",
   "execution_count": 1,
   "metadata": {},
   "outputs": [],
   "source": [
    "import sys\n",
    "from common.path_utils import get_src_path, get_data_path\n",
    "\n",
    "sys.path.append(str(get_src_path()))\n",
    "\n",
    "import os\n",
    "\n",
    "os.environ[\"LOCAL_CACHE\"] = \".forecaster_cache\"\n",
    "\n",
    "\n",
    "from common.datatypes import ForecastingQuestion\n",
    "import json\n"
   ]
  },
  {
   "cell_type": "code",
   "execution_count": null,
   "metadata": {},
   "outputs": [],
   "source": []
  },
  {
   "cell_type": "code",
   "execution_count": null,
   "metadata": {},
   "outputs": [],
   "source": []
  },
  {
   "cell_type": "markdown",
   "metadata": {
    "id": "-9qnfxffRmm7"
   },
   "source": [
    "## AI Forecasting Bot Template\n",
    "\n",
    "\n",
    "This is a simple bot template that you can use to forecast in the Metaculus AI Benchmarking Warmup Contest. It is a single shot GPT prompt that you are encouraged to experiment with!\n",
    "\n",
    "In order to run this notebook as is, you'll need to enter a few API keys (use the key icon on the left to input them):\n",
    "\n",
    "- `METACULUS_TOKEN`: you can find your Metaculus token under your bot's user settings page: https://www.metaculus.com/accounts/settings/, or on the bot registration page where you created the account: https://www.metaculus.com/aib/\n",
    "- `OPENAPI_API_KEY`: get one from OpenAIs page: https://platform.openai.com/settings/profile?tab=api-keys\n",
    "- `PERPLEXITY_API_KEY` - used to search up-to-date information about the question. Get one from https://www.perplexity.ai/settings/api\n",
    "\n",
    "\n"
   ]
  },
  {
   "cell_type": "code",
   "execution_count": 6,
   "metadata": {
    "id": "MJJ_BYcHbVkR"
   },
   "outputs": [
    {
     "name": "stdout",
     "output_type": "stream",
     "text": [
      "/Users/ashen/Desktop/consistency-forecasting/.env\n"
     ]
    }
   ],
   "source": [
    "# Make sure you have set these in the sidebar to the left, by pressing the key icon.\n",
    "\n",
    "#from google.colab import userdata\n",
    "import os\n",
    "from dotenv import load_dotenv\n",
    "\n",
    "# Load .env file if it exists\n",
    "dotenv_path = os.path.dirname(os.path.abspath(os.getcwd()))\n",
    "dotenv_path = os.path.join(dotenv_path, '.env')\n",
    "#print(dotenv_path)\n",
    "if os.path.exists(dotenv_path):\n",
    "    print(dotenv_path)\n",
    "    load_dotenv(dotenv_path)\n",
    "METACULUS_TOKEN = os.environ.get('METACULUS_KEY')\n",
    "OPENAI_API_KEY = os.environ.get('OPENAI_API_KEY')\n",
    "OPENROUTER_API_KEY = os.environ.get('OPENROUTER_API_KEY')\n",
    "ANTHROPIC_API_KEY = os.environ.get('ANTHROPIC_KEY')\n",
    "assert(METACULUS_TOKEN is not None)"
   ]
  },
  {
   "cell_type": "code",
   "execution_count": null,
   "metadata": {},
   "outputs": [],
   "source": []
  },
  {
   "cell_type": "markdown",
   "metadata": {
    "id": "K1v6Sy5K-NJT"
   },
   "source": [
    "### ChatGPT Prompt\n",
    "\n",
    "You can change the prompt below to experiment. Key parameters that you can include in your prompt are:\n",
    "\n",
    "*   `{title}` The question itself\n",
    "*   `{summary_report}` A up to date news compliation generated from Perplexity\n",
    "*   `{background}` The background section of the Metaculus question. This comes from the `description` field on the question\n",
    "*   `{fine_print}` The fine print section of the question\n",
    "*   `{today}` Today's date. Remember that your bot doesn't know the date unless you tell it explicitly!\n",
    "\n",
    "\n",
    "**IMPORTANT**: As you experiment with changing the prompt, be aware that the last number output by GPT will be used as the forecast probability. The last line in the template specifies that.\n"
   ]
  },
  {
   "cell_type": "code",
   "execution_count": 10,
   "metadata": {
    "id": "vNStT_eV8tLG"
   },
   "outputs": [],
   "source": [
    "PROMPT_TEMPLATE = \"\"\"\n",
    "You are a professional forecaster interviewing for a job.\n",
    "The interviewer is also a professional forecaster, with a strong track record of\n",
    "accurate forecasts of the future. They will ask you a question, and your task is\n",
    "to provide the most accurate forecast you can. To do this, you evaluate past data\n",
    "and trends carefully, make use of comparison classes of similar events, take into\n",
    "account base rates about how past events unfolded, and outline the best reasons\n",
    "for and against any particular outcome. You know that great forecasters don't\n",
    "just forecast according to the \"vibe\" of the question and the considerations.\n",
    "Instead, they think about the question in a structured way, recording their\n",
    "reasoning as they go, and they always consider multiple perspectives that\n",
    "usually give different conclusions, which they reason about together.\n",
    "You can't know the future, and the interviewer knows that, so you do not need\n",
    "to hedge your uncertainty, you are simply trying to give the most accurate numbers\n",
    "that will be evaluated when the events later unfold.\n",
    "\n",
    "Your interview question is:\n",
    "{title}\n",
    "\n",
    "Your research assistant says:\n",
    "{summary_report}\n",
    "\n",
    "background:\n",
    "{background}\n",
    "\n",
    "fine_print:\n",
    "{fine_print}\n",
    "\n",
    "Today is {today}.\n",
    "\n",
    "You write your rationale and give your final answer as: \"Probability: ZZ%\", 0-100\n",
    "\"\"\""
   ]
  },
  {
   "cell_type": "markdown",
   "metadata": {
    "id": "iDukuXArbgdm"
   },
   "source": [
    "## Some setup code\n",
    "\n",
    "This section sets up some simple helper code you can use to get data about forecasting questions and to submit a prediction"
   ]
  },
  {
   "cell_type": "code",
   "execution_count": 13,
   "metadata": {
    "id": "HifodCwcGU0j"
   },
   "outputs": [],
   "source": [
    "#!pip install -qU openai\n",
    "import datetime\n",
    "import json\n",
    "import os\n",
    "import requests\n",
    "import re\n",
    "\n",
    "from openai import OpenAI\n",
    "\n",
    "AUTH_HEADERS = {\"headers\": {\"Authorization\": f\"Token {METACULUS_TOKEN}\"}}\n",
    "API_BASE_URL = \"https://www.metaculus.com/api2\"\n",
    "WARMUP_TOURNAMENT_ID = 3294\n",
    "SUBMIT_PREDICTION = False\n",
    "\n",
    "def find_number_before_percent(s):\n",
    "    # Use a regular expression to find all numbers followed by a '%'\n",
    "    matches = re.findall(r'(\\d+)%', s)\n",
    "    if matches:\n",
    "        # Return the last number found before a '%'\n",
    "        return int(matches[-1])\n",
    "    else:\n",
    "        # Return None if no number found\n",
    "        return None\n",
    "\n",
    "def post_question_comment(question_id, comment_text):\n",
    "    \"\"\"\n",
    "    Post a comment on the question page as the bot user.\n",
    "    \"\"\"\n",
    "\n",
    "    response = requests.post(\n",
    "        f\"{API_BASE_URL}/comments/\",\n",
    "        json={\n",
    "            \"comment_text\": comment_text,\n",
    "            \"submit_type\": \"N\",\n",
    "            \"include_latest_prediction\": True,\n",
    "            \"question\": question_id,\n",
    "        },\n",
    "        **AUTH_HEADERS,\n",
    "    )\n",
    "    response.raise_for_status()\n",
    "\n",
    "def post_question_prediction(question_id, prediction_percentage):\n",
    "    \"\"\"\n",
    "    Post a prediction value (between 1 and 100) on the question.\n",
    "    \"\"\"\n",
    "    url = f\"{API_BASE_URL}/questions/{question_id}/predict/\"\n",
    "    response = requests.post(\n",
    "        url,\n",
    "        json={\"prediction\": float(prediction_percentage) / 100},\n",
    "        **AUTH_HEADERS,\n",
    "    )\n",
    "    response.raise_for_status()\n",
    "\n",
    "\n",
    "def get_question_details(question_id):\n",
    "    \"\"\"\n",
    "    Get all details about a specific question.\n",
    "    \"\"\"\n",
    "    url = f\"{API_BASE_URL}/questions/{question_id}/\"\n",
    "    response = requests.get(\n",
    "        url,\n",
    "        **AUTH_HEADERS,\n",
    "    )\n",
    "    response.raise_for_status()\n",
    "    return json.loads(response.content)\n",
    "\n",
    "def list_questions(tournament_id=WARMUP_TOURNAMENT_ID, offset=0, count=10):\n",
    "    \"\"\"\n",
    "    List (all details) {count} questions from the {tournament_id}\n",
    "    \"\"\"\n",
    "    url_qparams = {\n",
    "        \"limit\": count,\n",
    "        \"offset\": offset,\n",
    "        \"has_group\": \"false\",\n",
    "        \"order_by\": \"-activity\",\n",
    "        \"forecast_type\": \"binary\",\n",
    "        \"project\": tournament_id,\n",
    "        \"status\": \"active\",\n",
    "        \"type\": \"forecast\",\n",
    "        \"include_description\": \"true\",\n",
    "    }\n",
    "    url = f\"{API_BASE_URL}/questions/\"\n",
    "    response = requests.get(url, **AUTH_HEADERS, params=url_qparams)\n",
    "    response.raise_for_status()\n",
    "    data = json.loads(response.content)\n",
    "    return data\n",
    "\n",
    "def call_perplexity(query):\n",
    "    url = \"https://api.perplexity.ai/chat/completions\"\n",
    "    headers = {\n",
    "        \"accept\": \"application/json\",\n",
    "        \"authorization\": f\"Bearer {PERPLEXITY_API_KEY}\",\n",
    "        \"content-type\": \"application/json\",\n",
    "    }\n",
    "    payload = {\n",
    "        \"model\": \"llama-3-sonar-large-32k-chat\",\n",
    "        \"messages\": [\n",
    "            {\n",
    "                \"role\": \"system\",\n",
    "                \"content\": \"\"\"\n",
    "You are an assistant to a superforecaster.\n",
    "The superforecaster will give you a question they intend to forecast on.\n",
    "To be a great assistant, you generate a concise but detailed rundown of the most relevant news, including if the question would resolve Yes or No based on current information.\n",
    "You do not produce forecasts yourself.\n",
    "\"\"\",\n",
    "            },\n",
    "            {\"role\": \"user\", \"content\": query},\n",
    "        ],\n",
    "    }\n",
    "    response = requests.post(url=url, json=payload, headers=headers)\n",
    "    response.raise_for_status()\n",
    "    content = response.json()[\"choices\"][0][\"message\"][\"content\"]\n",
    "    return content\n",
    "\n",
    "def get_gpt_prediction(question_details):\n",
    "    today = datetime.datetime.now().strftime(\"%Y-%m-%d\")\n",
    "    client = OpenAI(api_key=OPENAI_API_KEY)\n",
    "\n",
    "    title = question_details[\"title\"]\n",
    "    resolution_criteria = question_details[\"resolution_criteria\"]\n",
    "    background = question_details[\"description\"]\n",
    "    fine_print = question_details[\"fine_print\"]\n",
    "\n",
    "    # Comment this line to not use perplexity\n",
    "    summary_report = call_perplexity(title)\n",
    "\n",
    "    chat_completion = client.chat.completions.create(\n",
    "        model=\"gpt-4o\",\n",
    "        messages=[\n",
    "        {\n",
    "            \"role\": \"user\",\n",
    "            \"content\": PROMPT_TEMPLATE.format(\n",
    "                title=title,\n",
    "                summary_report=summary_report,\n",
    "                today=today,\n",
    "                background=background,\n",
    "                fine_print=fine_print,\n",
    "            )\n",
    "        }\n",
    "        ]\n",
    "    )\n",
    "\n",
    "    gpt_text = chat_completion.choices[0].message.content\n",
    "\n",
    "    # Regular expression to find the number following 'Probability: '\n",
    "    probability_match = find_number_before_percent(gpt_text)\n",
    "\n",
    "    # Extract the number if a match is found\n",
    "    probability = None\n",
    "    if probability_match:\n",
    "        probability = int(probability_match) # int(match.group(1))\n",
    "        print(f\"The extracted probability is: {probability}%\")\n",
    "        probability = min(max(probability, 1), 99) # To prevent extreme forecasts\n",
    "\n",
    "    return probability, summary_report, gpt_text"
   ]
  },
  {
   "cell_type": "code",
   "execution_count": null,
   "metadata": {},
   "outputs": [],
   "source": []
  },
  {
   "cell_type": "markdown",
   "metadata": {},
   "source": [
    "## test post comment and prediction"
   ]
  },
  {
   "cell_type": "code",
   "execution_count": 16,
   "metadata": {},
   "outputs": [],
   "source": [
    "#def post_question_comment(question_id, comment_text):\n",
    "#def post_question_prediction(question_id, prediction_percentage)"
   ]
  },
  {
   "cell_type": "code",
   "execution_count": 30,
   "metadata": {},
   "outputs": [],
   "source": [
    "open_id = '25704'\n",
    "closed_id = 25703\n",
    "opens_soon_id = 25706"
   ]
  },
  {
   "cell_type": "code",
   "execution_count": 46,
   "metadata": {},
   "outputs": [
    {
     "name": "stdout",
     "output_type": "stream",
     "text": [
      "403 Client Error: Forbidden for url: https://www.metaculus.com/api2/questions/25706/predict/\n"
     ]
    }
   ],
   "source": [
    "try:\n",
    "    post_question_prediction(opens_soon_id, 1)\n",
    "    post_question_comment(opens_soon_id, 't1')\n",
    "except Exception as e:\n",
    "    print(e)\n"
   ]
  },
  {
   "cell_type": "code",
   "execution_count": 42,
   "metadata": {},
   "outputs": [],
   "source": []
  },
  {
   "cell_type": "code",
   "execution_count": null,
   "metadata": {},
   "outputs": [],
   "source": []
  },
  {
   "cell_type": "code",
   "execution_count": 123,
   "metadata": {},
   "outputs": [
    {
     "name": "stdout",
     "output_type": "stream",
     "text": [
      "The autoreload extension is already loaded. To reload it, use:\n",
      "  %reload_ext autoreload\n"
     ]
    }
   ],
   "source": [
    "%load_ext autoreload\n",
    "%autoreload 2\n",
    "\n",
    "from bot_scrape import fetch_question_details_metaculus\n",
    "import uuid\n",
    "\n",
    "def metaculus_to_jsonl(m_dict):   \n",
    "    \"\"\"\n",
    "    \n",
    "    wanted format\n",
    "    \n",
    "    {\n",
    "    \"id\": \"1e3bb941-9bbb-45c8-b70a-ad4e24820ea9\", \n",
    "    \"title\": \"Will Scotland hold an official, sanctioned referendum on independence before May 3, 2024?\", \n",
    "    \"body\": \"This question will resolve as **Yes** if there is a referendum held in Scotland regarding Scotland's independence from the United Kingdom, and this referendum is held before May 3, 2024.  This referendum may be an \\\"advisory\\\" referendum; that is, it is not necessary for the referendum to have any legally binding effect.\\n\\nIt shall not be deemed resolved by a \\u201cwildcat\\u201d or \\u201cCatalan\\u201d style of referendum where the UK government has declined permission for the vote, nor by a vote organised by civil society institutions. A referendum must be deemed to have the consent of the London government\", \n",
    "    \"resolution_date\": \"2024-05-02 00:00:00\", \n",
    "    \"question_type\": \"binary\", \n",
    "    \"data_source\": \"metaculus\", \n",
    "    \"url\": \"https://www.metaculus.com/questions/6369\", \n",
    "    \"metadata\": {\n",
    "        \"topics\": [], \n",
    "        \"market_prob\": 0.001, \n",
    "        \"background_info\": \"Scotland is one of the UK\\u2019s four constituent nations - and its politics are currently dominated by the [Scottish National Party](https://whatscotlandthinks.org/), a party whose core aim is to remove Scotland from the UK and become an independent country. \\n\\nThe SNP government in Edinburgh previously successfully negotiated with the UK-wide government for the right to hold a referendum, [which took place in 2014](https://en.wikipedia.org/wiki/2014_Scottish_independence_referendum). The \\u201cNo\\u201d side (\\u201cBetter Together\\u201d) won 55% to 45%. The SNP has, however, won every Scottish national election since that date.\\n\\nThe SNP wish to have a fresh vote - stating that Brexit has changed the terms of the argument. The UK government has, to date, refused to countenance permitting such a vote. Under the Scotland Act, the Edinburgh government does not have the power to hold one [without permission.](https://www.legislation.gov.uk/ukpga/1998/46/section/30)\"\n",
    "        }, \n",
    "        \n",
    "        \"resolution\": false}\n",
    "    \n",
    "    \n",
    "    \"\"\"\n",
    "\n",
    "    res = {\n",
    "        \"id\": str(uuid.uuid4()), ##random or not?\n",
    "        \"title\": m_dict['title'],\n",
    "        'body': None,##resolution criteria\n",
    "        \"resolution_date\": min(m_dict['close_time'],m_dict['resolve_time']),\n",
    "        \"question_type\": m_dict['possibilities']['type'], \n",
    "        \"data_source\": 'metaculus', \n",
    "        \"url\": 'https://www.metaculus.com'.format(m_dict['page_url']),\n",
    "        \"metadata\": {\n",
    "            \"topics\": [], \n",
    "            \"api_url\": m_dict['url'], \n",
    "            \"market_prob\": None, #market prob\n",
    "            \"background_info\": None## background info\n",
    "        }, \n",
    "        \"resolution\": m_dict['resolution']\n",
    "    }\n",
    "\n",
    "    res = fetch_question_details_metaculus(res)\n",
    "    return res\n",
    "        \n",
    "        "
   ]
  },
  {
   "cell_type": "markdown",
   "metadata": {},
   "source": [
    "## List questions test"
   ]
  },
  {
   "cell_type": "code",
   "execution_count": 50,
   "metadata": {},
   "outputs": [],
   "source": [
    "qs = list_questions(tournament_id=WARMUP_TOURNAMENT_ID, offset=0, count=100)\n"
   ]
  },
  {
   "cell_type": "code",
   "execution_count": 186,
   "metadata": {},
   "outputs": [
    {
     "name": "stdout",
     "output_type": "stream",
     "text": [
      "dict_keys(['next', 'previous', 'results'])\n"
     ]
    }
   ],
   "source": [
    "print(qs.keys())"
   ]
  },
  {
   "cell_type": "code",
   "execution_count": null,
   "metadata": {},
   "outputs": [],
   "source": [
    "sample_question = qs['results'][1]\n",
    "sample_question"
   ]
  },
  {
   "cell_type": "code",
   "execution_count": 52,
   "metadata": {},
   "outputs": [
    {
     "name": "stdout",
     "output_type": "stream",
     "text": [
      "None\n",
      "None\n",
      "0\n",
      "{'active_state': 'OPEN', 'url': 'https://www.metaculus.com/api2/questions/25704/', 'page_url': '/questions/25704/will-exactly-2-starship-launches-reach-low-earth-orbit-by-sept-30-2024/', 'id': 25704, 'author': 120279, 'author_name': 'Tom_Metaculus', 'author_id': 120279, 'title': 'Will exactly 2 Starship launches reach low-Earth orbit by Sept 30, 2024?', 'title_short': 'Will exactly 2 Starship launches reach l', 'group_label': '', 'resolution': None, 'resolved_option': None, 'created_time': '2024-06-27T01:15:10.203983Z', 'publish_time': '2024-06-30T00:00:00Z', 'close_time': '2024-07-01T00:00:00Z', 'effected_close_time': None, 'resolve_time': '2024-09-30T00:00:00Z', 'possibilities': {'type': 'binary'}, 'scoring': {}, 'type': 'forecast', 'user_perms': {'PREDICT': True, 'RESOLVE': False, 'COMMENT_READ': True, 'COMMENT_POST': True, 'COMMENT_EDIT': True, 'COMMENT_MOD': False, 'EDIT_DRAFT_CONTENT': False, 'EDIT_PENDING_CONTENT': False, 'EDIT_UPCOMING_CONTENT': False, 'EDIT_LIVE_CONTENT': False, 'EDIT_CATEGORIES': False, 'CHANGE_DRAFT_STATUS': False, 'CHANGE_PENDING_STATUS': False, 'CHANGE_ACTIVE_STATUS': False, 'CROSSPOST': False, 'VIEW_COMMUNITY_PRED': True, 'VIEW_METACULUS_PRED': False, 'VIEW_COMMUNITY_PRED_AFTER_CLOSE': False, 'VIEW_METACULUS_PRED_AFTER_CLOSE': True, 'VIEW_AUTHORS_ANONYMIZED': False}, 'weekly_movement': None, 'weekly_movement_direction': 0, 'cp_reveal_time': '2024-07-01T00:00:00Z', 'edited_time': '2024-06-30T19:11:16.118888Z', 'last_activity_time': '2024-06-30T17:27:55.805867Z', 'activity': 14.140537987154165, 'comment_count': 6, 'votes': 0, 'community_prediction': {'history': [], 'full': {'y': []}, 'unweighted': {'y': []}}, 'number_of_forecasters': 6, 'prediction_count': 37, 'approved_time': None, 'approved_by_id': None, 'related_questions': [], 'group': None, 'condition': None, 'sub_questions': [], 'total_sub_question_count': 0, 'options': [], 'has_fan_graph': False, 'image_url': '', 'projects': [{'id': 3294, 'name': 'AI benchmarking warmup', 'url': '/project/ai-benchmarking-warmup/', 'type': 'QS', 'sign_up_fields': [], 'type_str': 'project', 'score_type': 'SPOT_PEER_SCORE', 'config': {'is_fab_project': True}}], 'primary_project': {'id': 3294, 'name': 'AI benchmarking warmup', 'url': '/project/ai-benchmarking-warmup/', 'type': 'QS', 'sign_up_fields': [], 'type_str': 'project', 'score_type': 'SPOT_PEER_SCORE', 'config': {'is_fab_project': True}}, 'medals_end_year': 2025, 'medals_duration': 1, 'unweighted_community_prediction_v2': [], 'recency_weighted_community_prediction_v2': [], 'cp_baseline_score': None, 'cp_peer_score': None, 'summary': '', 'comment_count_snapshot': 6, 'user_vote': 0, 'user_community_vis': 0, 'my_predictions': {'id': 700154, 'predictions': [{'t': 1719768475.787472, 'x': 0.213}, {'t': 1719768540.67578, 'x': 0.02}, {'t': 1719768578.137513, 'x': 0.03}, {'t': 1719768658.293774, 'x': 0.04}, {'t': 1719771240.494644, 'x': 0.01}, {'t': 1719771394.56638, 'x': 0.65}, {'t': 1719772764.470221, 'x': 0.01}, {'t': 1719772942.188506, 'x': 0.65}], 'points_won': None, 'user': 188775, 'question': 25704, 'active': True, 'username': 'amaster1997', 'log_score': None, 'absolute_log_score': None, 'coverage': None}, 'divergence': None, 'peer_score': None, 'spot_peer_score': None, 'baseline_score': None, 'user_prediction_sequence': None, 'description': 'SpaceX\\'s Starship is at the forefront of the next generation of spacecrafts, designed with the ambitious goals of enabling human life on other planets, starting with Mars, and significantly reducing the cost of access to space. The fully reusable transportation system is envisioned to carry both crew and cargo to Earth orbit, the Moon, Mars, and beyond. Since its inception, the Starship program has been marked by rapid development and prototyping.\\n\\nIn 2024, SpaceX has continued its intensive testing and development schedule, aiming to perfect the Starship\\'s capabilities for orbital flight, satellite deployment, and eventual deep space missions. As SpaceX gears up for future crewed missions, including NASA\\'s Artemis program to return humans to the Moon and eventually to Mars, the ability of Starship to reach and operate in low-Earth orbit (LEO) is a critical step. Achieving LEO is essential not only for satellite deployments but also as a proving ground for the technologies and operational procedures that will enable longer-duration spaceflights.\\n\\nOn March 14, 2024, SpaceX\\'s Integrated Test Flight 3 (IFT-3) saw Starship 28 briefly reach low-Earth orbit by achieving an altitude of 234 km before breaking up in the atmosphere upon re-entry.\\n\\nIn the days prior to IFT-3, SpaceX CEO Elon Musk tweeted \"Hopefully, at least 6 more flights this year\".', 'resolution_criteria': \"This question will resolve as the number of SpaceX Starship launches that reach low-Earth orbit, defined as achieving an altitude of at least 160 kilometers (approximately 100 miles) above the Earth's surface, by Sept 30, 2024.\\n\\nThe resolution will be based on official mission reports from SpaceX, and may also consider data or reporting from aerospace monitoring organizations or authorities, as well as other credible sources such as international media outlets.\", 'fine_print': '- In the event that a given Starship launch results in any type of failure prior to reaching the required altitude, so long as the Starship reaches such altitude substantially intact, it will count.', 'categories': [], 'status': 'A'}\n",
      "\n",
      "\n",
      "1\n",
      "{'active_state': 'CLOSED', 'url': 'https://www.metaculus.com/api2/questions/25703/', 'page_url': '/questions/25703/on-sept-15-2024-will-nvidias-market-capitalization-be-larger-than-apples/', 'id': 25703, 'author': 120279, 'author_name': 'Tom_Metaculus', 'author_id': 120279, 'title': \"On Sept 15, 2024, will Nvidia's market capitalization be larger than Apple's?\", 'title_short': \"On Sept 15, 2024, will Nvidia's market c\", 'group_label': '', 'resolution': None, 'resolved_option': None, 'created_time': '2024-06-27T01:15:10.133102Z', 'publish_time': '2024-06-29T00:00:00Z', 'close_time': '2024-06-30T00:00:00Z', 'effected_close_time': None, 'resolve_time': '2024-09-15T00:00:00Z', 'possibilities': {'type': 'binary'}, 'scoring': {}, 'type': 'forecast', 'user_perms': {'PREDICT': True, 'RESOLVE': False, 'COMMENT_READ': True, 'COMMENT_POST': True, 'COMMENT_EDIT': True, 'COMMENT_MOD': False, 'EDIT_DRAFT_CONTENT': False, 'EDIT_PENDING_CONTENT': False, 'EDIT_UPCOMING_CONTENT': False, 'EDIT_LIVE_CONTENT': False, 'EDIT_CATEGORIES': False, 'CHANGE_DRAFT_STATUS': False, 'CHANGE_PENDING_STATUS': False, 'CHANGE_ACTIVE_STATUS': False, 'CROSSPOST': False, 'VIEW_COMMUNITY_PRED': True, 'VIEW_METACULUS_PRED': False, 'VIEW_COMMUNITY_PRED_AFTER_CLOSE': False, 'VIEW_METACULUS_PRED_AFTER_CLOSE': True, 'VIEW_AUTHORS_ANONYMIZED': False}, 'weekly_movement': None, 'weekly_movement_direction': 0, 'cp_reveal_time': '2024-06-30T00:00:00Z', 'edited_time': '2024-06-30T07:46:52.372068Z', 'last_activity_time': '2024-06-29T22:20:23.553803Z', 'activity': 1.81521878682376, 'comment_count': 1, 'votes': 0, 'metaculus_prediction': {'full': 0.2843225003370826, 'history': [{'t': 1719620471.874004, 'x': 0.0756855704841696}, {'t': 1719620479.397409, 'x': 0.0756855704841696}, {'t': 1719620487.413119, 'x': 0.0756855704841696}, {'t': 1719620493.95505, 'x': 0.0756855704841696}, {'t': 1719620500.752211, 'x': 0.0756855704841696}, {'t': 1719620501.565639, 'x': 0.0756855704841696}, {'t': 1719620515.155209, 'x': 0.04548678149298934}, {'t': 1719620518.951498, 'x': 0.045486567574736445}, {'t': 1719620522.655806, 'x': 0.045486358334283085}, {'t': 1719620526.415131, 'x': 0.04548614629064522}, {'t': 1719620529.986964, 'x': 0.04548594465493257}, {'t': 1719620530.703479, 'x': 0.045485904178431534}, {'t': 1719644420.968396, 'x': 0.24686311055919927}, {'t': 1719646936.188055, 'x': 0.24686311055919927}, {'t': 1719699623.561823, 'x': 0.284260280909547}, {'t': 1719700182.603803, 'x': 0.2843225003370826}], 'postdiction': 0.28432250033708245}, 'community_prediction': {'full': {'y': [0.0, 0.0, 0.0, 0.0, 0.0, 0.0, 0.0, 0.0, 0.0, 0.0, 0.55667, 0.0, 0.0, 0.0, 0.0, 0.0, 0.0, 0.0, 0.0, 0.0, 0.36788, 0.0, 0.0, 0.0, 0.0, 0.0, 0.0, 0.0, 0.0, 0.0, 0.0, 0.0, 0.0, 0.0, 0.0, 0.0, 0.0, 0.0, 0.0, 0.0, 0.0, 0.0, 0.0, 0.0, 0.0, 0.0, 0.0, 0.0, 0.0, 0.0, 1.0, 0.0, 0.0, 0.0, 0.0, 0.0, 0.0, 0.0, 0.0, 0.0, 0.0, 0.0, 0.0, 0.0, 0.0, 0.0, 0.0, 0.0, 0.0, 0.0, 0.0, 0.0, 0.0, 0.0, 0.0, 0.0, 0.0, 0.0, 0.0, 0.0, 0.0, 0.0, 0.0, 0.76495, 0.0, 0.0, 0.0, 0.0, 0.0, 0.0, 0.0, 0.0, 0.0, 0.0, 0.0, 0.0, 0.0, 0.0, 0.0, 0.0, 0.0], 'q1': 0.2, 'q2': 0.5, 'q3': 0.83}, 'history': [{'t': 1719620471.867114, 'np': 1, 'nu': 1, 'x1': {'q1': 0.2, 'q2': 0.2, 'q3': 0.2}, 'x2': {'avg': 0.2, 'var': 0.0, 'weighted_avg': 0.2}}, {'t': 1719620479.389567, 'np': 2, 'nu': 1, 'x1': {'q1': 0.2, 'q2': 0.2, 'q3': 0.2}, 'x2': {'avg': 0.2, 'var': 0.0, 'weighted_avg': 0.2}}, {'t': 1719620487.405409, 'np': 3, 'nu': 1, 'x1': {'q1': 0.2, 'q2': 0.2, 'q3': 0.2}, 'x2': {'avg': 0.2, 'var': 0.0, 'weighted_avg': 0.2}}, {'t': 1719620493.948092, 'np': 4, 'nu': 1, 'x1': {'q1': 0.2, 'q2': 0.2, 'q3': 0.2}, 'x2': {'avg': 0.2, 'var': 0.0, 'weighted_avg': 0.2}}, {'t': 1719620500.744999, 'np': 5, 'nu': 1, 'x1': {'q1': 0.2, 'q2': 0.2, 'q3': 0.2}, 'x2': {'avg': 0.2, 'var': 0.0, 'weighted_avg': 0.2}}, {'t': 1719620501.556928, 'np': 6, 'nu': 1, 'x1': {'q1': 0.2, 'q2': 0.2, 'q3': 0.2}, 'x2': {'avg': 0.2, 'var': 0.0, 'weighted_avg': 0.2}}, {'t': 1719620515.147429, 'np': 7, 'nu': 2, 'x1': {'q1': 0.1, 'q2': 0.15, 'q3': 0.2}, 'x2': {'avg': 0.15, 'var': 0.003, 'weighted_avg': 0.15}}, {'t': 1719620518.944153, 'np': 8, 'nu': 2, 'x1': {'q1': 0.1, 'q2': 0.15, 'q3': 0.2}, 'x2': {'avg': 0.15, 'var': 0.003, 'weighted_avg': 0.15}}, {'t': 1719620522.649185, 'np': 9, 'nu': 2, 'x1': {'q1': 0.1, 'q2': 0.15, 'q3': 0.2}, 'x2': {'avg': 0.15, 'var': 0.003, 'weighted_avg': 0.15}}, {'t': 1719620526.40827, 'np': 10, 'nu': 2, 'x1': {'q1': 0.1, 'q2': 0.15, 'q3': 0.2}, 'x2': {'avg': 0.15, 'var': 0.003, 'weighted_avg': 0.15}}, {'t': 1719620529.979698, 'np': 11, 'nu': 2, 'x1': {'q1': 0.1, 'q2': 0.15, 'q3': 0.2}, 'x2': {'avg': 0.15, 'var': 0.003, 'weighted_avg': 0.15}}, {'t': 1719620530.696426, 'np': 12, 'nu': 2, 'x1': {'q1': 0.1, 'q2': 0.15, 'q3': 0.2}, 'x2': {'avg': 0.15, 'var': 0.003, 'weighted_avg': 0.15}}, {'t': 1719644420.959745, 'np': 13, 'nu': 3, 'x1': {'q1': 0.1, 'q2': 0.2, 'q3': 0.83}, 'x2': {'avg': 0.377, 'var': 0.104, 'weighted_avg': 0.452}}, {'t': 1719699623.554983, 'np': 14, 'nu': 4, 'x1': {'q1': 0.2, 'q2': 0.5, 'q3': 0.83}, 'x2': {'avg': 0.408, 'var': 0.081, 'weighted_avg': 0.47}}, {'t': 1719700182.595044, 'np': 15, 'nu': 4, 'x1': {'q1': 0.2, 'q2': 0.5, 'q3': 0.83}, 'x2': {'avg': 0.408, 'var': 0.081, 'weighted_avg': 0.47}}], 'unweighted': {'y': [0, 0, 0, 0, 0, 0, 0, 0, 0, 0, 1, 0, 0, 0, 0, 0, 0, 0, 0, 0, 1, 0, 0, 0, 0, 0, 0, 0, 0, 0, 0, 0, 0, 0, 0, 0, 0, 0, 0, 0, 0, 0, 0, 0, 0, 0, 0, 0, 0, 0, 1, 0, 0, 0, 0, 0, 0, 0, 0, 0, 0, 0, 0, 0, 0, 0, 0, 0, 0, 0, 0, 0, 0, 0, 0, 0, 0, 0, 0, 0, 0, 0, 0, 1, 0, 0, 0, 0, 0, 0, 0, 0, 0, 0, 0, 0, 0, 0, 0, 0, 0], 'q1': 0.15, 'q2': 0.35, 'q3': 0.665}}, 'number_of_forecasters': 4, 'prediction_count': 15, 'approved_time': None, 'approved_by_id': None, 'related_questions': [], 'group': None, 'condition': None, 'sub_questions': [], 'total_sub_question_count': 0, 'options': [], 'has_fan_graph': False, 'image_url': '', 'projects': [{'id': 3294, 'name': 'AI benchmarking warmup', 'url': '/project/ai-benchmarking-warmup/', 'type': 'QS', 'sign_up_fields': [], 'type_str': 'project', 'score_type': 'SPOT_PEER_SCORE', 'config': {'is_fab_project': True}}], 'primary_project': {'id': 3294, 'name': 'AI benchmarking warmup', 'url': '/project/ai-benchmarking-warmup/', 'type': 'QS', 'sign_up_fields': [], 'type_str': 'project', 'score_type': 'SPOT_PEER_SCORE', 'config': {'is_fab_project': True}}, 'medals_end_year': 2025, 'medals_duration': 1, 'unweighted_community_prediction_v2': None, 'recency_weighted_community_prediction_v2': None, 'cp_baseline_score': None, 'cp_peer_score': None, 'summary': '', 'comment_count_snapshot': 1, 'user_vote': 0, 'user_community_vis': 0, 'my_predictions': None, 'divergence': None, 'peer_score': None, 'spot_peer_score': None, 'baseline_score': None, 'user_prediction_sequence': None, 'description': \"Since late 2022, Nvidia Corporation has experienced nearly 10x growth in market capitalization, driven by its [dominance in the AI chip market](https://finance.yahoo.com/news/nvidias-ai-chip-dominance-continue-210200974.html). Nvidia's GPUs are critical in the development of large language models, and are highly sought after by major tech companies like OpenAI, Microsoft, Amazon, and Alphabet.\\n\\nOn May 22nd, Nvidia released [impressive Q1 financial results](https://nvidianews.nvidia.com/news/nvidia-announces-financial-results-for-first-quarter-fiscal-2025#:~:text=NVIDIA%20(NASDAQ%3A%20NVDA)%20today,262%25%20from%20a%20year%20ago.) and simultaneously announced a 10:1 stock split and increase to its dividend, sending its stock price to new all-time highs.\", 'resolution_criteria': 'This question resolves Yes if, on Sept 15, 2024, the market cap of Nvidia is greater than that of Apple, according to Companies Market Cap, when checked by Metaculus at approximately 4 PM EDT (8 PM UTC).', 'fine_print': '* If Companies Market Cap is unavailable or if there are reasonable concerns as to the accuracy of its data at resolution time, Metaculus may consider other credible sources to resolve this question.', 'categories': [], 'status': 'A'}\n",
      "\n",
      "\n",
      "2\n",
      "{'active_state': 'CLOSED', 'url': 'https://www.metaculus.com/api2/questions/25701/', 'page_url': '/questions/25701/will-openai-publish-information-describing-q-q-star-by-sept-30-2024/', 'id': 25701, 'author': 120279, 'author_name': 'Tom_Metaculus', 'author_id': 120279, 'title': 'Will OpenAI publish information describing Q* (Q-Star) by Sept 30, 2024?', 'title_short': 'Will OpenAI publish information describi', 'group_label': '', 'resolution': None, 'resolved_option': None, 'created_time': '2024-06-27T01:15:09.977173Z', 'publish_time': '2024-06-27T00:00:00Z', 'close_time': '2024-06-28T00:00:00Z', 'effected_close_time': None, 'resolve_time': '2024-09-30T00:00:00Z', 'possibilities': {'type': 'binary'}, 'scoring': {}, 'type': 'forecast', 'user_perms': {'PREDICT': True, 'RESOLVE': False, 'COMMENT_READ': True, 'COMMENT_POST': True, 'COMMENT_EDIT': True, 'COMMENT_MOD': False, 'EDIT_DRAFT_CONTENT': False, 'EDIT_PENDING_CONTENT': False, 'EDIT_UPCOMING_CONTENT': False, 'EDIT_LIVE_CONTENT': False, 'EDIT_CATEGORIES': False, 'CHANGE_DRAFT_STATUS': False, 'CHANGE_PENDING_STATUS': False, 'CHANGE_ACTIVE_STATUS': False, 'CROSSPOST': False, 'VIEW_COMMUNITY_PRED': True, 'VIEW_METACULUS_PRED': False, 'VIEW_COMMUNITY_PRED_AFTER_CLOSE': False, 'VIEW_METACULUS_PRED_AFTER_CLOSE': True, 'VIEW_AUTHORS_ANONYMIZED': False}, 'weekly_movement': None, 'weekly_movement_direction': 0, 'cp_reveal_time': '2024-06-28T00:00:00Z', 'edited_time': '2024-06-30T07:59:36.958027Z', 'last_activity_time': '2024-06-27T23:56:27.761968Z', 'activity': 0.4068601637855759, 'comment_count': 6, 'votes': 0, 'metaculus_prediction': {'full': 0.23280791653809144, 'history': [{'t': 1719464358.604007, 'x': 0.5038289892009453}, {'t': 1719464591.619446, 'x': 0.15472419654280203}, {'t': 1719465339.022572, 'x': 0.15472419654280203}, {'t': 1719465590.359286, 'x': 0.21284582852990877}, {'t': 1719470226.888168, 'x': 0.3501494604281796}, {'t': 1719474526.851157, 'x': 0.3501494604281796}, {'t': 1719498132.529894, 'x': 0.2738251649266595}, {'t': 1719498352.322609, 'x': 0.23449513408304193}, {'t': 1719532586.654212, 'x': 0.23280791653809144}], 'postdiction': 0.2328079165380913}, 'community_prediction': {'full': {'y': [0.0, 0.0, 0.0, 0.0, 0.0, 0.0, 0.0, 0.0, 0.0, 0.0, 0.0, 0.0, 0.0, 0.0, 0.0, 0.0, 0.0, 0.0, 0.0, 0.0, 0.72772, 0.0, 0.0, 0.0, 0.0, 0.0, 0.0, 0.0, 0.0, 0.0, 0.0, 0.0, 0.0, 0.0, 0.0, 0.0, 1.0, 0.0, 0.0, 0.0, 0.0, 0.0, 0.0, 0.0, 0.0, 0.0, 0.0, 0.0, 0.0, 0.0, 0.0, 0.0, 0.0, 0.0, 0.0, 0.0, 0.0, 0.0, 0.0, 0.0, 0.48092, 0.0, 0.0, 0.0, 0.0, 0.0, 0.0, 0.0, 0.0, 0.0, 0.0, 0.0, 0.0, 0.0, 0.0, 0.0, 0.0, 0.0, 0.0, 0.0, 0.0, 0.0, 0.0, 0.0, 0.0, 0.0, 0.0, 0.0, 0.0, 0.0, 0.0, 0.0, 0.0, 0.0, 0.0, 0.0, 0.0, 0.0, 0.0, 0.0, 0.0], 'q1': 0.2, 'q2': 0.36, 'q3': 0.36}, 'history': [{'t': 1719464358.597501, 'np': 1, 'nu': 1, 'x1': {'q1': 0.6, 'q2': 0.6, 'q3': 0.6}, 'x2': {'avg': 0.6, 'var': 0.0, 'weighted_avg': 0.6}}, {'t': 1719464591.610833, 'np': 2, 'nu': 1, 'x1': {'q1': 0.3, 'q2': 0.3, 'q3': 0.3}, 'x2': {'avg': 0.3, 'var': 0.0, 'weighted_avg': 0.3}}, {'t': 1719465339.015657, 'np': 3, 'nu': 1, 'x1': {'q1': 0.3, 'q2': 0.3, 'q3': 0.3}, 'x2': {'avg': 0.3, 'var': 0.0, 'weighted_avg': 0.3}}, {'t': 1719465590.350913, 'np': 4, 'nu': 1, 'x1': {'q1': 0.36, 'q2': 0.36, 'q3': 0.36}, 'x2': {'avg': 0.36, 'var': 0.0, 'weighted_avg': 0.36}}, {'t': 1719470226.87945, 'np': 5, 'nu': 2, 'x1': {'q1': 0.36, 'q2': 0.48, 'q3': 0.6}, 'x2': {'avg': 0.48, 'var': 0.014, 'weighted_avg': 0.48}}, {'t': 1719498132.522303, 'np': 6, 'nu': 3, 'x1': {'q1': 0.3, 'q2': 0.36, 'q3': 0.6}, 'x2': {'avg': 0.42, 'var': 0.017, 'weighted_avg': 0.412}}, {'t': 1719498352.316313, 'np': 7, 'nu': 3, 'x1': {'q1': 0.2, 'q2': 0.36, 'q3': 0.6}, 'x2': {'avg': 0.387, 'var': 0.027, 'weighted_avg': 0.367}}, {'t': 1719532586.645319, 'np': 8, 'nu': 3, 'x1': {'q1': 0.2, 'q2': 0.36, 'q3': 0.36}, 'x2': {'avg': 0.387, 'var': 0.027, 'weighted_avg': 0.36}}], 'unweighted': {'y': [0, 0, 0, 0, 0, 0, 0, 0, 0, 0, 0, 0, 0, 0, 0, 0, 0, 0, 0, 0, 1, 0, 0, 0, 0, 0, 0, 0, 0, 0, 0, 0, 0, 0, 0, 0, 1, 0, 0, 0, 0, 0, 0, 0, 0, 0, 0, 0, 0, 0, 0, 0, 0, 0, 0, 0, 0, 0, 0, 0, 1, 0, 0, 0, 0, 0, 0, 0, 0, 0, 0, 0, 0, 0, 0, 0, 0, 0, 0, 0, 0, 0, 0, 0, 0, 0, 0, 0, 0, 0, 0, 0, 0, 0, 0, 0, 0, 0, 0, 0, 0], 'q1': 0.2, 'q2': 0.36, 'q3': 0.6}}, 'number_of_forecasters': 3, 'prediction_count': 8, 'approved_time': None, 'approved_by_id': None, 'related_questions': [], 'group': None, 'condition': None, 'sub_questions': [], 'total_sub_question_count': 0, 'options': [], 'has_fan_graph': False, 'image_url': '', 'projects': [{'id': 3294, 'name': 'AI benchmarking warmup', 'url': '/project/ai-benchmarking-warmup/', 'type': 'QS', 'sign_up_fields': [], 'type_str': 'project', 'score_type': 'SPOT_PEER_SCORE', 'config': {'is_fab_project': True}}], 'primary_project': {'id': 3294, 'name': 'AI benchmarking warmup', 'url': '/project/ai-benchmarking-warmup/', 'type': 'QS', 'sign_up_fields': [], 'type_str': 'project', 'score_type': 'SPOT_PEER_SCORE', 'config': {'is_fab_project': True}}, 'medals_end_year': 2025, 'medals_duration': 1, 'unweighted_community_prediction_v2': None, 'recency_weighted_community_prediction_v2': None, 'cp_baseline_score': None, 'cp_peer_score': None, 'summary': '', 'comment_count_snapshot': 6, 'user_vote': 0, 'user_community_vis': 0, 'my_predictions': None, 'divergence': None, 'peer_score': None, 'spot_peer_score': None, 'baseline_score': None, 'user_prediction_sequence': None, 'description': \"After the OpenAI board [temporarily removed Sam Altman as CEO](https://www.theverge.com/23966325/openai-sam-altman-fired-turmoil-chatgpt) in November 2023, rumors abounded regarding the reasons behind the decision. One such rumor was that the move was sparked by progress in a new AI system with potentially dangerous capabilities. Citing anonymous sources, [Reuters reported the following](https://www.reuters.com/technology/sam-altmans-ouster-openai-was-precipitated-by-letter-board-about-ai-breakthrough-2023-11-22/):\\n\\n>Ahead of OpenAI CEO Sam Altman’s four days in exile, several staff researchers wrote a letter to the board of directors warning of a powerful artificial intelligence discovery that they said could threaten humanity, two people familiar with the matter told Reuters.\\n>\\n>. . .\\n>\\n>After being contacted by Reuters, OpenAI, which declined to comment, acknowledged in an internal message to staffers a project called Q\\\\* and a letter to the board before the weekend's events, one of the people said. An OpenAI spokesperson said that the message, sent by long-time executive Mira Murati, alerted staff to certain media stories without commenting on their accuracy.\", 'resolution_criteria': 'This question will resolve as Yes if, by Sept 30, 2024, OpenAI publicly acknowledges that a system or method it has explored is the rumored Q* (or Q-Star) and publishes (or has published in the past) a document (e.g., a blog post, paper, or video, but not a tweet) describing the system or method rumored to be Q*.', 'fine_print': 'A description of Q* must state that it is a system or method that was or is currently being developed or explored by OpenAI and must provide some information about what Q* is (for example, giving an overview of how Q* works without delving into technical detail). A description of a system or method that was published before 2024 but is publicly acknowledged to be Q* before Sept 30, 2024 will resolve the question as Yes.\\nA description does not need to contain any of the following:\\nA statement that Q* has been used on or is an AI system that has finished training or that is functional.\\nAn accompanying release of an AI system known as Q* or that has been trained using Q*.\\nAny performance results.\\nA paper describing it in detail.\\nA public acknowledgement that the system or method described is Q* does not need to be made in the initial document describing the system or method, and can occur at a later time, including from public statements by OpenAI staff, including interviews, media appearances, or podcasts (this does not include statements made anonymously or on background). The question will resolve as Yes when all criteria are met. For example, if OpenAI publishes information about an AI system not named Q*, but in a later interview the OpenAI CEO states that the system is the previously rumored Q*, the question will resolve as Yes.\\nThe system or method must be announced by OpenAI, or any entity which legally acquires or merges with OpenAI. If Microsoft or any other entity exercises its existing rights or purchases rights such that it announces such a system or method but without having legally acquired or merged with OpenAI it will not be sufficient.\\nA description specifically of Q* must be provided, a description of a system or method characterized as a successor to Q* would not qualify.', 'categories': [], 'status': 'A'}\n",
      "\n",
      "\n",
      "3\n",
      "{'active_state': 'CLOSED', 'url': 'https://www.metaculus.com/api2/questions/25702/', 'page_url': '/questions/25702/before-sept-30-2024-will-the-international-criminal-court-issue-arrest-warrants-for-any-of-the-listed-israeli-leaders/', 'id': 25702, 'author': 120279, 'author_name': 'Tom_Metaculus', 'author_id': 120279, 'title': 'Before Sept 30, 2024, will the International Criminal Court issue arrest warrants for any of the listed Israeli leaders?', 'title_short': 'Before Sept 30, 2024, will the Internati', 'group_label': '', 'resolution': None, 'resolved_option': None, 'created_time': '2024-06-27T01:15:10.054593Z', 'publish_time': '2024-06-28T00:00:00Z', 'close_time': '2024-06-29T00:00:00Z', 'effected_close_time': None, 'resolve_time': '2024-09-30T00:00:00Z', 'possibilities': {'type': 'binary'}, 'scoring': {}, 'type': 'forecast', 'user_perms': {'PREDICT': True, 'RESOLVE': False, 'COMMENT_READ': True, 'COMMENT_POST': True, 'COMMENT_EDIT': True, 'COMMENT_MOD': False, 'EDIT_DRAFT_CONTENT': False, 'EDIT_PENDING_CONTENT': False, 'EDIT_UPCOMING_CONTENT': False, 'EDIT_LIVE_CONTENT': False, 'EDIT_CATEGORIES': False, 'CHANGE_DRAFT_STATUS': False, 'CHANGE_PENDING_STATUS': False, 'CHANGE_ACTIVE_STATUS': False, 'CROSSPOST': False, 'VIEW_COMMUNITY_PRED': True, 'VIEW_METACULUS_PRED': False, 'VIEW_COMMUNITY_PRED_AFTER_CLOSE': False, 'VIEW_METACULUS_PRED_AFTER_CLOSE': True, 'VIEW_AUTHORS_ANONYMIZED': False}, 'weekly_movement': None, 'weekly_movement_direction': 0, 'cp_reveal_time': '2024-06-29T00:00:00Z', 'edited_time': '2024-06-30T07:52:00.697208Z', 'last_activity_time': '2024-06-28T16:28:15.530289Z', 'activity': 0.33942625033661794, 'comment_count': 3, 'votes': 0, 'metaculus_prediction': {'full': 0.4517397508909913, 'history': [{'t': 1719533400.046363, 'x': 0.5846992857800994}, {'t': 1719540421.364085, 'x': 0.21284582852990877}, {'t': 1719543037.913507, 'x': 0.27793725963364746}, {'t': 1719561521.711978, 'x': 0.27793725963364746}, {'t': 1719582664.497956, 'x': 0.1618103244598153}, {'t': 1719591341.363642, 'x': 0.5387138856586718}, {'t': 1719591403.308568, 'x': 0.5387413648907307}, {'t': 1719592040.29136, 'x': 0.46651858384166844}, {'t': 1719592050.256616, 'x': 0.39607783883852055}, {'t': 1719592060.738253, 'x': 0.43097301969607354}, {'t': 1719592069.950698, 'x': 0.23596849260479416}, {'t': 1719592079.842299, 'x': 0.3960837043531077}, {'t': 1719592080.673403, 'x': 0.3823412348537114}, {'t': 1719592095.538954, 'x': 0.42422206596863593}, {'t': 1719592099.708543, 'x': 0.4242224644920928}, {'t': 1719592104.10989, 'x': 0.47027965961043705}, {'t': 1719592108.729846, 'x': 0.4702805976440064}, {'t': 1719592113.686106, 'x': 0.470281603735779}, {'t': 1719592114.414398, 'x': 0.4517397508909913}], 'postdiction': 0.4517397508909913}, 'community_prediction': {'full': {'y': [0.0, 0.0, 0.0, 0.0, 0.0, 0.0, 0.0, 0.0, 0.0, 0.0, 0.0, 0.0, 0.0, 0.0, 0.0, 0.0, 0.0, 0.0, 0.0, 0.0, 0.0, 0.0, 0.0, 0.0, 0.0, 0.0, 0.0, 0.0, 0.0, 0.0, 0.0, 0.0, 0.0, 0.0, 0.0, 0.0, 0.0, 0.0, 0.0, 0.0, 0.0, 0.0, 0.48092, 0.0, 0.0, 0.0, 0.0, 0.0, 0.0, 0.0, 0.0, 0.0, 0.0, 0.0, 0.0, 0.0, 0.0, 0.0, 0.72772, 0.0, 0.0, 0.0, 0.0, 0.0, 0.0, 0.0, 1.0, 0.0, 0.0, 0.0, 0.0, 0.0, 0.0, 0.0, 0.0, 0.0, 0.0, 0.0, 0.0, 0.0, 0.0, 0.0, 0.0, 0.0, 0.0, 0.0, 0.0, 0.0, 0.0, 0.0, 0.0, 0.0, 0.0, 0.0, 0.0, 0.0, 0.0, 0.0, 0.0, 0.0, 0.0], 'q1': 0.58, 'q2': 0.58, 'q3': 0.66}, 'history': [{'t': 1719533400.035168, 'np': 1, 'nu': 1, 'x1': {'q1': 0.66, 'q2': 0.66, 'q3': 0.66}, 'x2': {'avg': 0.66, 'var': 0.0, 'weighted_avg': 0.66}}, {'t': 1719540421.35608, 'np': 2, 'nu': 1, 'x1': {'q1': 0.36, 'q2': 0.36, 'q3': 0.36}, 'x2': {'avg': 0.36, 'var': 0.0, 'weighted_avg': 0.36}}, {'t': 1719543037.907019, 'np': 3, 'nu': 1, 'x1': {'q1': 0.42, 'q2': 0.42, 'q3': 0.42}, 'x2': {'avg': 0.42, 'var': 0.0, 'weighted_avg': 0.42}}, {'t': 1719582664.489954, 'np': 4, 'nu': 2, 'x1': {'q1': 0.21, 'q2': 0.315, 'q3': 0.42}, 'x2': {'avg': 0.315, 'var': 0.011, 'weighted_avg': 0.315}}, {'t': 1719591341.356808, 'np': 5, 'nu': 2, 'x1': {'q1': 0.42, 'q2': 0.61, 'q3': 0.8}, 'x2': {'avg': 0.61, 'var': 0.036, 'weighted_avg': 0.61}}, {'t': 1719591403.301862, 'np': 6, 'nu': 2, 'x1': {'q1': 0.42, 'q2': 0.61, 'q3': 0.8}, 'x2': {'avg': 0.61, 'var': 0.036, 'weighted_avg': 0.61}}, {'t': 1719592040.284334, 'np': 7, 'nu': 2, 'x1': {'q1': 0.42, 'q2': 0.56, 'q3': 0.7}, 'x2': {'avg': 0.56, 'var': 0.02, 'weighted_avg': 0.56}}, {'t': 1719592050.248639, 'np': 8, 'nu': 2, 'x1': {'q1': 0.42, 'q2': 0.51, 'q3': 0.6}, 'x2': {'avg': 0.51, 'var': 0.008, 'weighted_avg': 0.51}}, {'t': 1719592060.73219, 'np': 9, 'nu': 2, 'x1': {'q1': 0.42, 'q2': 0.535, 'q3': 0.65}, 'x2': {'avg': 0.535, 'var': 0.013, 'weighted_avg': 0.535}}, {'t': 1719592069.942957, 'np': 10, 'nu': 2, 'x1': {'q1': 0.35, 'q2': 0.385, 'q3': 0.42}, 'x2': {'avg': 0.385, 'var': 0.001, 'weighted_avg': 0.385}}, {'t': 1719592079.8335, 'np': 11, 'nu': 2, 'x1': {'q1': 0.42, 'q2': 0.51, 'q3': 0.6}, 'x2': {'avg': 0.51, 'var': 0.008, 'weighted_avg': 0.51}}, {'t': 1719592080.664798, 'np': 12, 'nu': 2, 'x1': {'q1': 0.42, 'q2': 0.5, 'q3': 0.58}, 'x2': {'avg': 0.5, 'var': 0.006, 'weighted_avg': 0.5}}, {'t': 1719592095.531879, 'np': 13, 'nu': 3, 'x1': {'q1': 0.58, 'q2': 0.58, 'q3': 0.6}, 'x2': {'avg': 0.533, 'var': 0.006, 'weighted_avg': 0.554}}, {'t': 1719592099.701142, 'np': 14, 'nu': 3, 'x1': {'q1': 0.58, 'q2': 0.58, 'q3': 0.6}, 'x2': {'avg': 0.533, 'var': 0.006, 'weighted_avg': 0.554}}, {'t': 1719592104.103222, 'np': 15, 'nu': 3, 'x1': {'q1': 0.58, 'q2': 0.58, 'q3': 0.7}, 'x2': {'avg': 0.567, 'var': 0.013, 'weighted_avg': 0.599}}, {'t': 1719592108.72211, 'np': 16, 'nu': 3, 'x1': {'q1': 0.58, 'q2': 0.58, 'q3': 0.7}, 'x2': {'avg': 0.567, 'var': 0.013, 'weighted_avg': 0.599}}, {'t': 1719592113.678364, 'np': 17, 'nu': 3, 'x1': {'q1': 0.58, 'q2': 0.58, 'q3': 0.7}, 'x2': {'avg': 0.567, 'var': 0.013, 'weighted_avg': 0.599}}, {'t': 1719592114.407989, 'np': 18, 'nu': 3, 'x1': {'q1': 0.58, 'q2': 0.58, 'q3': 0.66}, 'x2': {'avg': 0.553, 'var': 0.01, 'weighted_avg': 0.581}}], 'unweighted': {'y': [0, 0, 0, 0, 0, 0, 0, 0, 0, 0, 0, 0, 0, 0, 0, 0, 0, 0, 0, 0, 0, 0, 0, 0, 0, 0, 0, 0, 0, 0, 0, 0, 0, 0, 0, 0, 0, 0, 0, 0, 0, 0, 1, 0, 0, 0, 0, 0, 0, 0, 0, 0, 0, 0, 0, 0, 0, 0, 1, 0, 0, 0, 0, 0, 0, 0, 1, 0, 0, 0, 0, 0, 0, 0, 0, 0, 0, 0, 0, 0, 0, 0, 0, 0, 0, 0, 0, 0, 0, 0, 0, 0, 0, 0, 0, 0, 0, 0, 0, 0, 0], 'q1': 0.42, 'q2': 0.58, 'q3': 0.66}}, 'number_of_forecasters': 3, 'prediction_count': 18, 'approved_time': None, 'approved_by_id': None, 'related_questions': [], 'group': None, 'condition': None, 'sub_questions': [], 'total_sub_question_count': 0, 'options': [], 'has_fan_graph': False, 'image_url': '', 'projects': [{'id': 3294, 'name': 'AI benchmarking warmup', 'url': '/project/ai-benchmarking-warmup/', 'type': 'QS', 'sign_up_fields': [], 'type_str': 'project', 'score_type': 'SPOT_PEER_SCORE', 'config': {'is_fab_project': True}}], 'primary_project': {'id': 3294, 'name': 'AI benchmarking warmup', 'url': '/project/ai-benchmarking-warmup/', 'type': 'QS', 'sign_up_fields': [], 'type_str': 'project', 'score_type': 'SPOT_PEER_SCORE', 'config': {'is_fab_project': True}}, 'medals_end_year': 2025, 'medals_duration': 1, 'unweighted_community_prediction_v2': None, 'recency_weighted_community_prediction_v2': None, 'cp_baseline_score': None, 'cp_peer_score': None, 'summary': '', 'user_vote': 0, 'my_predictions': None, 'divergence': None, 'peer_score': None, 'spot_peer_score': None, 'baseline_score': None, 'user_prediction_sequence': None, 'description': \"In April 29, 2024, Axios [reported](https://www.axios.com/2024/04/29/netanyahu-biden-icc-arrest-warrants-war-crimes) that Israeli Prime Minister Benjamin Netanyahu asked US President Joe Biden to help prevent the International Criminal Court (ICC) in The Hague from issuing arrest warrants for Israeli cabinet officials stemming from possible allegations of war crimes in Gaza. NBC [reported](https://www.nbcnews.com/news/world/israel-fears-icc-issue-arrest-warrants-netanyahu-gaza-war-hamas-rcna149739) that these arrest warrants could come as early as this week, and Israel is working through back channels to try to prevent them from being issued. The US and other G7 countries are [reportedly](https://www.timesofisrael.com/report-several-nations-urging-icc-not-to-issue-arrest-warrants-for-israelis/) campaigning to dissuade the ICC from issuing the warrants so as to avoid jeopardizing a peace deal between Israel and Hamas.\\n\\nAs the ICC [explains](https://www.icc-cpi.int/about/how-the-court-works) on its official website, an arrest warrant is requested by the Prosecutor as part of the investigative stage before trial, especially in cases in which suspects do not appear voluntarily.\\n\\nThe ICC [was founded](https://en.wikipedia.org/wiki/International_Criminal_Court) in 2002 following the wars in Rwanda and the former Yugoslavia, and it is [intended](https://www.washingtonpost.com/world/2024/04/29/icc-israel-warrants-gaza/) as a permanent court to investigate war crimes, genocide and crimes against humanity done by individuals. It issued its first arrest warrants in 2005, and according to the AP [has issued](https://apnews.com/article/israel-hamas-gaza-international-criminal-court-hague-palestinians-1f683a6e2e150d91c415eb1d0a19a44d) a total of 42 arrest warrants. Last year the ICC issued arrest warrants for [Vladimir Putin](https://www.icc-cpi.int/news/situation-ukraine-icc-judges-issue-arrest-warrants-against-vladimir-vladimirovich-putin-and) and one of his government officials stemming from the ICC's investigation into the deportation of Ukrainian children to Russia.\\n\\nSee Also\\n\\nBase rate information at Wikipedia: [International Criminal Court investigations](https://en.wikipedia.org/wiki/International_Criminal_Court_investigations)\", 'resolution_criteria': 'This question will resolve as Yes if before Sept 30, 2024, the International Criminal Court (ICC) issues a warrant of arrest for any of the below listed Israeli cabinet members. It will resolve as No otherwise.\\n\\nBenjamin Netanyahu (Prime Minister)\\nYoav Gallant (Defense Minister)\\nHerzi Halevi (IDF Chief of Staff)', 'fine_print': 'A summons to voluntarily appear will not count, only an arrest warrant will resolve as Yes.\\nSecret warrants will only resolve as Yes if they are publicly and officially disclosed by a credible source before Sept 30, 2024. Anonymous or unsourced reporting that such a warrant has been issued will not be sufficient. If a secret arrest warrant is issued before Sept 30, 2024, but not publicly known until after that, it will not count.', 'categories': [], 'status': 'A'}\n",
      "\n",
      "\n",
      "4\n",
      "{'active_state': 'UPCOMING', 'url': 'https://www.metaculus.com/api2/questions/25711/', 'page_url': '/questions/25711/on-july-21-2024-will-the-closing-value-of-bse-sensex-be-greater-than-75k-and-less-than-or-equal-to-76k/', 'id': 25711, 'author': 120279, 'author_name': 'Tom_Metaculus', 'author_id': 120279, 'title': 'On July 21, 2024, will the closing value of BSE SENSEX be greater than 75k and less than or equal to 76k?', 'title_short': 'On July 21, 2024, will the closing value', 'group_label': '', 'resolution': None, 'resolved_option': None, 'created_time': '2024-06-27T01:15:11.007993Z', 'publish_time': '2024-07-07T00:00:00Z', 'close_time': '2024-07-08T00:00:00Z', 'effected_close_time': None, 'resolve_time': '2024-07-21T00:00:00Z', 'possibilities': {'type': 'binary'}, 'scoring': {}, 'type': 'forecast', 'user_perms': {'PREDICT': True, 'RESOLVE': False, 'COMMENT_READ': True, 'COMMENT_POST': True, 'COMMENT_EDIT': True, 'COMMENT_MOD': False, 'EDIT_DRAFT_CONTENT': False, 'EDIT_PENDING_CONTENT': False, 'EDIT_UPCOMING_CONTENT': False, 'EDIT_LIVE_CONTENT': False, 'EDIT_CATEGORIES': False, 'CHANGE_DRAFT_STATUS': False, 'CHANGE_PENDING_STATUS': False, 'CHANGE_ACTIVE_STATUS': False, 'CROSSPOST': False, 'VIEW_COMMUNITY_PRED': True, 'VIEW_METACULUS_PRED': False, 'VIEW_COMMUNITY_PRED_AFTER_CLOSE': False, 'VIEW_METACULUS_PRED_AFTER_CLOSE': True, 'VIEW_AUTHORS_ANONYMIZED': False}, 'weekly_movement': None, 'weekly_movement_direction': None, 'cp_reveal_time': '2024-07-08T00:00:00Z', 'edited_time': '2024-06-27T01:15:11.012001Z', 'last_activity_time': '2024-06-27T01:15:11.007993Z', 'activity': 0.016360594293743477, 'comment_count': 0, 'votes': 0, 'community_prediction': {'history': [], 'full': {'y': []}, 'unweighted': {'y': []}}, 'number_of_forecasters': 0, 'prediction_count': 0, 'approved_time': None, 'approved_by_id': None, 'related_questions': [], 'group': None, 'condition': None, 'sub_questions': [], 'total_sub_question_count': 0, 'options': [], 'has_fan_graph': False, 'image_url': '', 'projects': [{'id': 3294, 'name': 'AI benchmarking warmup', 'url': '/project/ai-benchmarking-warmup/', 'type': 'QS', 'sign_up_fields': [], 'type_str': 'project', 'score_type': 'SPOT_PEER_SCORE', 'config': {'is_fab_project': True}}], 'primary_project': {'id': 3294, 'name': 'AI benchmarking warmup', 'url': '/project/ai-benchmarking-warmup/', 'type': 'QS', 'sign_up_fields': [], 'type_str': 'project', 'score_type': 'SPOT_PEER_SCORE', 'config': {'is_fab_project': True}}, 'medals_end_year': 2025, 'medals_duration': 1, 'unweighted_community_prediction_v2': [], 'recency_weighted_community_prediction_v2': [], 'cp_baseline_score': None, 'cp_peer_score': None, 'summary': '', 'comment_count_snapshot': 0, 'user_vote': 0, 'user_community_vis': 0, 'my_predictions': None, 'divergence': None, 'peer_score': None, 'spot_peer_score': None, 'baseline_score': None, 'user_prediction_sequence': None, 'description': \"The [Bombay Stock Exchange Sensitive Index](https://en.wikipedia.org/wiki/BSE_SENSEX), also known as the S&P BSE SENSEX or simply the SENSEX, is a stock market index consisting of 30 of the largest companies listed on the Bombay Stock Exchange. It is one of the oldest and most widely followed equity indices in India. The SENSEX is intended to reflect the overall performance of the Indian stock market.\\n\\nIndia's recent general elections saw incumbent Prime Minister Narendra Modi's party, the Bharatiya Janata Party (BJP), win a [narrower victory](https://www.nbcnews.com/news/world/india-election-modi-bjp-lost-majority-election-surprise-rcna155557) than expected, raising concerns about potential policy paralysis and the ability of the government to implement key economic reforms. As a result, in the immediate aftermath of the elections, the SENSEX has experienced significant volatility, beginning with a [drop of almost 6%](https://www.aljazeera.com/economy/2024/6/5/india-election-why-modis-narrow-win-has-the-stock-market-in-a-spin) on June 4th, followed by a significant bounce on June 5th.\", 'resolution_criteria': 'This question resolves as the closing value of the BSE SENSEX on July 21, 2024, according to Yahoo Finance.', 'fine_print': '', 'categories': [], 'status': 'A'}\n",
      "\n",
      "\n",
      "5\n",
      "{'active_state': 'UPCOMING', 'url': 'https://www.metaculus.com/api2/questions/25710/', 'page_url': '/questions/25710/bitcoin-extremes-will-1-bitcoin-be-worth-100000-or-more-before-sept-15-2024/', 'id': 25710, 'author': 120279, 'author_name': 'Tom_Metaculus', 'author_id': 120279, 'title': 'Bitcoin Extremes: Will 1 bitcoin be worth $100,000 or more before Sept 15, 2024?', 'title_short': 'Bitcoin Extremes: Will 1 bitcoin be wort', 'group_label': '', 'resolution': None, 'resolved_option': None, 'created_time': '2024-06-27T01:15:10.933802Z', 'publish_time': '2024-07-06T00:00:00Z', 'close_time': '2024-07-07T00:00:00Z', 'effected_close_time': None, 'resolve_time': '2024-09-15T00:00:00Z', 'possibilities': {'type': 'binary'}, 'scoring': {}, 'type': 'forecast', 'user_perms': {'PREDICT': True, 'RESOLVE': False, 'COMMENT_READ': True, 'COMMENT_POST': True, 'COMMENT_EDIT': True, 'COMMENT_MOD': False, 'EDIT_DRAFT_CONTENT': False, 'EDIT_PENDING_CONTENT': False, 'EDIT_UPCOMING_CONTENT': False, 'EDIT_LIVE_CONTENT': False, 'EDIT_CATEGORIES': False, 'CHANGE_DRAFT_STATUS': False, 'CHANGE_PENDING_STATUS': False, 'CHANGE_ACTIVE_STATUS': False, 'CROSSPOST': False, 'VIEW_COMMUNITY_PRED': True, 'VIEW_METACULUS_PRED': False, 'VIEW_COMMUNITY_PRED_AFTER_CLOSE': False, 'VIEW_METACULUS_PRED_AFTER_CLOSE': True, 'VIEW_AUTHORS_ANONYMIZED': False}, 'weekly_movement': None, 'weekly_movement_direction': None, 'cp_reveal_time': '2024-07-07T00:00:00Z', 'edited_time': '2024-06-27T01:15:10.937957Z', 'last_activity_time': '2024-06-27T01:15:10.933802Z', 'activity': 0.01636057238659606, 'comment_count': 0, 'votes': 0, 'community_prediction': {'history': [], 'full': {'y': []}, 'unweighted': {'y': []}}, 'number_of_forecasters': 0, 'prediction_count': 0, 'approved_time': None, 'approved_by_id': None, 'related_questions': [], 'group': None, 'condition': None, 'sub_questions': [], 'total_sub_question_count': 0, 'options': [], 'has_fan_graph': False, 'image_url': '', 'projects': [{'id': 3294, 'name': 'AI benchmarking warmup', 'url': '/project/ai-benchmarking-warmup/', 'type': 'QS', 'sign_up_fields': [], 'type_str': 'project', 'score_type': 'SPOT_PEER_SCORE', 'config': {'is_fab_project': True}}], 'primary_project': {'id': 3294, 'name': 'AI benchmarking warmup', 'url': '/project/ai-benchmarking-warmup/', 'type': 'QS', 'sign_up_fields': [], 'type_str': 'project', 'score_type': 'SPOT_PEER_SCORE', 'config': {'is_fab_project': True}}, 'medals_end_year': 2025, 'medals_duration': 1, 'unweighted_community_prediction_v2': [], 'recency_weighted_community_prediction_v2': [], 'cp_baseline_score': None, 'cp_peer_score': None, 'summary': '', 'user_vote': 0, 'my_predictions': None, 'divergence': None, 'peer_score': None, 'spot_peer_score': None, 'baseline_score': None, 'user_prediction_sequence': None, 'description': '[Bitcoin](https://en.wikipedia.org/wiki/Bitcoin) is a [cryptocurrency](https://en.wikipedia.org/wiki/Cryptocurrency). It is a decentralized digital currency without a central bank or single administrator that can be sent from user to user on the peer-to-peer bitcoin network without the need for intermediaries.\\n\\nThe price of bitcoins has gone through cycles of appreciation and depreciation referred to by some as bubbles and busts. In 2011, the value of one bitcoin rapidly rose from about $0.30 to $32 before returning to $2. In the latter half of 2012 and during the 2012–13 Cypriot financial crisis, the bitcoin price began to rise again, reaching a high of $266 on 10 April 2013, before crashing to around $50. On 29 November 2013, the cost of one bitcoin rose to a peak of $1,242. In 2014, the price fell sharply, and as of April remained depressed at little more than half 2013 prices. As of August 2014 it was under $600.\\n\\nBitcoin prices reached their apogee in December 2017, at just shy of $20,000 per coin. Since then, prices have fallen roughly in half, and as of March 10, 2020 one bitcoin is valued at approximately $7,900. \\n\\n***Will 1 bitcoin be worth $100,000 or more before 2025?***', 'resolution_criteria': 'This question will resolve as Yes if one bitcoin is valued at $100,000 USD or greater at any time before Sept 15, 2024, according to credible press reports or a cryptocurrency exchange or trading platform. The valuation will be in nominal USD, not adjusted for inflation.', 'fine_print': '', 'categories': [], 'status': 'A'}\n",
      "\n",
      "\n",
      "6\n",
      "{'active_state': 'UPCOMING', 'url': 'https://www.metaculus.com/api2/questions/25709/', 'page_url': '/questions/25709/between-july-1-and-july-28-2024-will-the-strongest-geomagnetic-storm-have-a-k-index-kp-greater-than-6-and-less-than-or-equal-to-8/', 'id': 25709, 'author': 120279, 'author_name': 'Tom_Metaculus', 'author_id': 120279, 'title': 'Between July 1 and July 28, 2024, will the strongest geomagnetic storm have a K-index (\"Kp\") greater than 6 and less than or equal to 8?', 'title_short': 'Between July 1 and July 28, 2024, will t', 'group_label': '', 'resolution': None, 'resolved_option': None, 'created_time': '2024-06-27T01:15:10.725540Z', 'publish_time': '2024-07-05T00:00:00Z', 'close_time': '2024-07-06T00:00:00Z', 'effected_close_time': None, 'resolve_time': '2024-07-29T00:00:00Z', 'possibilities': {'type': 'binary'}, 'scoring': {}, 'type': 'forecast', 'user_perms': {'PREDICT': True, 'RESOLVE': False, 'COMMENT_READ': True, 'COMMENT_POST': True, 'COMMENT_EDIT': True, 'COMMENT_MOD': False, 'EDIT_DRAFT_CONTENT': False, 'EDIT_PENDING_CONTENT': False, 'EDIT_UPCOMING_CONTENT': False, 'EDIT_LIVE_CONTENT': False, 'EDIT_CATEGORIES': False, 'CHANGE_DRAFT_STATUS': False, 'CHANGE_PENDING_STATUS': False, 'CHANGE_ACTIVE_STATUS': False, 'CROSSPOST': False, 'VIEW_COMMUNITY_PRED': True, 'VIEW_METACULUS_PRED': False, 'VIEW_COMMUNITY_PRED_AFTER_CLOSE': False, 'VIEW_METACULUS_PRED_AFTER_CLOSE': True, 'VIEW_AUTHORS_ANONYMIZED': False}, 'weekly_movement': None, 'weekly_movement_direction': None, 'cp_reveal_time': '2024-07-06T00:00:00Z', 'edited_time': '2024-06-27T01:15:10.730289Z', 'last_activity_time': '2024-06-27T01:15:10.725540Z', 'activity': 0.016360515528868476, 'comment_count': 0, 'votes': 0, 'community_prediction': {'history': [], 'full': {'y': []}, 'unweighted': {'y': []}}, 'number_of_forecasters': 0, 'prediction_count': 0, 'approved_time': None, 'approved_by_id': None, 'related_questions': [], 'group': None, 'condition': None, 'sub_questions': [], 'total_sub_question_count': 0, 'options': [], 'has_fan_graph': False, 'image_url': '', 'projects': [{'id': 3294, 'name': 'AI benchmarking warmup', 'url': '/project/ai-benchmarking-warmup/', 'type': 'QS', 'sign_up_fields': [], 'type_str': 'project', 'score_type': 'SPOT_PEER_SCORE', 'config': {'is_fab_project': True}}], 'primary_project': {'id': 3294, 'name': 'AI benchmarking warmup', 'url': '/project/ai-benchmarking-warmup/', 'type': 'QS', 'sign_up_fields': [], 'type_str': 'project', 'score_type': 'SPOT_PEER_SCORE', 'config': {'is_fab_project': True}}, 'medals_end_year': 2025, 'medals_duration': 1, 'unweighted_community_prediction_v2': [], 'recency_weighted_community_prediction_v2': [], 'cp_baseline_score': None, 'cp_peer_score': None, 'summary': '', 'user_vote': 0, 'my_predictions': None, 'divergence': None, 'peer_score': None, 'spot_peer_score': None, 'baseline_score': None, 'user_prediction_sequence': None, 'description': \"In May 2024, sunspot region AR3664, now designated as AR3697, returned to face Earth after merging with another active sunspot region, resulting in numerous M- and X-class solar flares that caused intense [geomagnetic storms and auroras](https://earthsky.org/earth/auroras-last-night-extreme-solar-storm-wow-millions-may-10-11-12-2024/) visible at unusually low latitudes. \\n\\nAs AR3697 [returns to face Earth](https://www.space.com/return-aurora-causing-sunspot-june-solar-storm-prospects) in early June 2024, space weather forecasters anticipate ongoing geomagnetic activity and are closely monitoring the region's continued potential to produce extreme space weather. \\n\\n[Sunspots](https://en.wikipedia.org/wiki/Sunspot) are areas of intense magnetic activity that often give rise to solar flares and coronal mass ejections (CMEs), which can disturb Earth's magnetosphere and impact satellite operations, power grids, and navigation systems.\\n\\nThe [K-index](https://en.wikipedia.org/wiki/K-index), which measures fluctuations in Earth's magnetic field, ranges from from 0 to 9. The NOAA Space Weather Scales uses the Kp values to classify the severity of geomagnetic storms from G1 (minor) to G5 (extreme), equating to Kp values of 5 to 9, respectively.\", 'resolution_criteria': 'This question resolves as the highest Planetary K-index (\"Kp\") between July 1 and July 28, 2024 (inclusive), according to the German Research Center for Geosciences in their running 30-day history data product.', 'fine_print': '* Note that Kp values are measured in thirds (e.g., 1.0, 1.3̅, 1.6̅, 2.0, 2.3̅, etc.), with 9 being the highest possible value. In the resolution source, Kp values are rounded to the nearest thousandth.', 'categories': [], 'status': 'A'}\n",
      "\n",
      "\n",
      "7\n",
      "{'active_state': 'UPCOMING', 'url': 'https://www.metaculus.com/api2/questions/25708/', 'page_url': '/questions/25708/between-july-1-and-july-28-2024-will-the-strongest-geomagnetic-storm-have-a-k-index-kp-greater-than-7-and-less-than-or-equal-to-8/', 'id': 25708, 'author': 120279, 'author_name': 'Tom_Metaculus', 'author_id': 120279, 'title': 'Between July 1 and July 28, 2024, will the strongest geomagnetic storm have a K-index (\"Kp\") greater than 7 and less than or equal to 8?', 'title_short': 'Between July 1 and July 28, 2024, will t', 'group_label': '', 'resolution': None, 'resolved_option': None, 'created_time': '2024-06-27T01:15:10.653755Z', 'publish_time': '2024-07-04T00:00:00Z', 'close_time': '2024-07-05T00:00:00Z', 'effected_close_time': None, 'resolve_time': '2024-07-29T00:00:00Z', 'possibilities': {'type': 'binary'}, 'scoring': {}, 'type': 'forecast', 'user_perms': {'PREDICT': True, 'RESOLVE': False, 'COMMENT_READ': True, 'COMMENT_POST': True, 'COMMENT_EDIT': True, 'COMMENT_MOD': False, 'EDIT_DRAFT_CONTENT': False, 'EDIT_PENDING_CONTENT': False, 'EDIT_UPCOMING_CONTENT': False, 'EDIT_LIVE_CONTENT': False, 'EDIT_CATEGORIES': False, 'CHANGE_DRAFT_STATUS': False, 'CHANGE_PENDING_STATUS': False, 'CHANGE_ACTIVE_STATUS': False, 'CROSSPOST': False, 'VIEW_COMMUNITY_PRED': True, 'VIEW_METACULUS_PRED': False, 'VIEW_COMMUNITY_PRED_AFTER_CLOSE': False, 'VIEW_METACULUS_PRED_AFTER_CLOSE': True, 'VIEW_AUTHORS_ANONYMIZED': False}, 'weekly_movement': None, 'weekly_movement_direction': None, 'cp_reveal_time': '2024-07-05T00:00:00Z', 'edited_time': '2024-06-27T01:15:10.658399Z', 'last_activity_time': '2024-06-27T01:15:10.653755Z', 'activity': 0.01636049430742739, 'comment_count': 0, 'votes': 0, 'community_prediction': {'history': [], 'full': {'y': []}, 'unweighted': {'y': []}}, 'number_of_forecasters': 0, 'prediction_count': 0, 'approved_time': None, 'approved_by_id': None, 'related_questions': [], 'group': None, 'condition': None, 'sub_questions': [], 'total_sub_question_count': 0, 'options': [], 'has_fan_graph': False, 'image_url': '', 'projects': [{'id': 3294, 'name': 'AI benchmarking warmup', 'url': '/project/ai-benchmarking-warmup/', 'type': 'QS', 'sign_up_fields': [], 'type_str': 'project', 'score_type': 'SPOT_PEER_SCORE', 'config': {'is_fab_project': True}}], 'primary_project': {'id': 3294, 'name': 'AI benchmarking warmup', 'url': '/project/ai-benchmarking-warmup/', 'type': 'QS', 'sign_up_fields': [], 'type_str': 'project', 'score_type': 'SPOT_PEER_SCORE', 'config': {'is_fab_project': True}}, 'medals_end_year': 2025, 'medals_duration': 1, 'unweighted_community_prediction_v2': [], 'recency_weighted_community_prediction_v2': [], 'cp_baseline_score': None, 'cp_peer_score': None, 'summary': '', 'user_vote': 0, 'my_predictions': None, 'divergence': None, 'peer_score': None, 'spot_peer_score': None, 'baseline_score': None, 'user_prediction_sequence': None, 'description': \"In May 2024, sunspot region AR3664, now designated as AR3697, returned to face Earth after merging with another active sunspot region, resulting in numerous M- and X-class solar flares that caused intense [geomagnetic storms and auroras](https://earthsky.org/earth/auroras-last-night-extreme-solar-storm-wow-millions-may-10-11-12-2024/) visible at unusually low latitudes. \\n\\nAs AR3697 [returns to face Earth](https://www.space.com/return-aurora-causing-sunspot-june-solar-storm-prospects) in early June 2024, space weather forecasters anticipate ongoing geomagnetic activity and are closely monitoring the region's continued potential to produce extreme space weather. \\n\\n[Sunspots](https://en.wikipedia.org/wiki/Sunspot) are areas of intense magnetic activity that often give rise to solar flares and coronal mass ejections (CMEs), which can disturb Earth's magnetosphere and impact satellite operations, power grids, and navigation systems.\\n\\nThe [K-index](https://en.wikipedia.org/wiki/K-index), which measures fluctuations in Earth's magnetic field, ranges from from 0 to 9. The NOAA Space Weather Scales uses the Kp values to classify the severity of geomagnetic storms from G1 (minor) to G5 (extreme), equating to Kp values of 5 to 9, respectively.\", 'resolution_criteria': 'This question resolves as the highest Planetary K-index (\"Kp\") between July 1 and July 28, 2024 (inclusive), according to the German Research Center for Geosciences in their running 30-day history data product.', 'fine_print': '* Note that Kp values are measured in thirds (e.g., 1.0, 1.3̅, 1.6̅, 2.0, 2.3̅, etc.), with 9 being the highest possible value. In the resolution source, Kp values are rounded to the nearest thousandth.', 'categories': [], 'status': 'A'}\n",
      "\n",
      "\n",
      "8\n",
      "{'active_state': 'UPCOMING', 'url': 'https://www.metaculus.com/api2/questions/25707/', 'page_url': '/questions/25707/between-july-1-and-july-28-2024-will-the-strongest-geomagnetic-storm-have-a-k-index-kp-greater-than-6-and-less-than-or-equal-to-7/', 'id': 25707, 'author': 120279, 'author_name': 'Tom_Metaculus', 'author_id': 120279, 'title': 'Between July 1 and July 28, 2024, will the strongest geomagnetic storm have a K-index (\"Kp\") greater than 6 and less than or equal to 7?', 'title_short': 'Between July 1 and July 28, 2024, will t', 'group_label': '', 'resolution': None, 'resolved_option': None, 'created_time': '2024-06-27T01:15:10.582013Z', 'publish_time': '2024-07-03T00:00:00Z', 'close_time': '2024-07-04T00:00:00Z', 'effected_close_time': None, 'resolve_time': '2024-07-29T00:00:00Z', 'possibilities': {'type': 'binary'}, 'scoring': {}, 'type': 'forecast', 'user_perms': {'PREDICT': True, 'RESOLVE': False, 'COMMENT_READ': True, 'COMMENT_POST': True, 'COMMENT_EDIT': True, 'COMMENT_MOD': False, 'EDIT_DRAFT_CONTENT': False, 'EDIT_PENDING_CONTENT': False, 'EDIT_UPCOMING_CONTENT': False, 'EDIT_LIVE_CONTENT': False, 'EDIT_CATEGORIES': False, 'CHANGE_DRAFT_STATUS': False, 'CHANGE_PENDING_STATUS': False, 'CHANGE_ACTIVE_STATUS': False, 'CROSSPOST': False, 'VIEW_COMMUNITY_PRED': True, 'VIEW_METACULUS_PRED': False, 'VIEW_COMMUNITY_PRED_AFTER_CLOSE': False, 'VIEW_METACULUS_PRED_AFTER_CLOSE': True, 'VIEW_AUTHORS_ANONYMIZED': False}, 'weekly_movement': None, 'weekly_movement_direction': None, 'cp_reveal_time': '2024-07-04T00:00:00Z', 'edited_time': '2024-06-27T01:15:10.586841Z', 'last_activity_time': '2024-06-27T01:15:10.582013Z', 'activity': 0.016360473125177372, 'comment_count': 0, 'votes': 0, 'community_prediction': {'history': [], 'full': {'y': []}, 'unweighted': {'y': []}}, 'number_of_forecasters': 0, 'prediction_count': 0, 'approved_time': None, 'approved_by_id': None, 'related_questions': [], 'group': None, 'condition': None, 'sub_questions': [], 'total_sub_question_count': 0, 'options': [], 'has_fan_graph': False, 'image_url': '', 'projects': [{'id': 3294, 'name': 'AI benchmarking warmup', 'url': '/project/ai-benchmarking-warmup/', 'type': 'QS', 'sign_up_fields': [], 'type_str': 'project', 'score_type': 'SPOT_PEER_SCORE', 'config': {'is_fab_project': True}}], 'primary_project': {'id': 3294, 'name': 'AI benchmarking warmup', 'url': '/project/ai-benchmarking-warmup/', 'type': 'QS', 'sign_up_fields': [], 'type_str': 'project', 'score_type': 'SPOT_PEER_SCORE', 'config': {'is_fab_project': True}}, 'medals_end_year': 2025, 'medals_duration': 1, 'unweighted_community_prediction_v2': [], 'recency_weighted_community_prediction_v2': [], 'cp_baseline_score': None, 'cp_peer_score': None, 'summary': '', 'user_vote': 0, 'my_predictions': None, 'divergence': None, 'peer_score': None, 'spot_peer_score': None, 'baseline_score': None, 'user_prediction_sequence': None, 'description': \"In May 2024, sunspot region AR3664, now designated as AR3697, returned to face Earth after merging with another active sunspot region, resulting in numerous M- and X-class solar flares that caused intense [geomagnetic storms and auroras](https://earthsky.org/earth/auroras-last-night-extreme-solar-storm-wow-millions-may-10-11-12-2024/) visible at unusually low latitudes. \\n\\nAs AR3697 [returns to face Earth](https://www.space.com/return-aurora-causing-sunspot-june-solar-storm-prospects) in early June 2024, space weather forecasters anticipate ongoing geomagnetic activity and are closely monitoring the region's continued potential to produce extreme space weather. \\n\\n[Sunspots](https://en.wikipedia.org/wiki/Sunspot) are areas of intense magnetic activity that often give rise to solar flares and coronal mass ejections (CMEs), which can disturb Earth's magnetosphere and impact satellite operations, power grids, and navigation systems.\\n\\nThe [K-index](https://en.wikipedia.org/wiki/K-index), which measures fluctuations in Earth's magnetic field, ranges from from 0 to 9. The NOAA Space Weather Scales uses the Kp values to classify the severity of geomagnetic storms from G1 (minor) to G5 (extreme), equating to Kp values of 5 to 9, respectively.\", 'resolution_criteria': 'This question resolves as the highest Planetary K-index (\"Kp\") between July 1 and July 28, 2024 (inclusive), according to the German Research Center for Geosciences in their running 30-day history data product.', 'fine_print': '* Note that Kp values are measured in thirds (e.g., 1.0, 1.3̅, 1.6̅, 2.0, 2.3̅, etc.), with 9 being the highest possible value. In the resolution source, Kp values are rounded to the nearest thousandth.', 'categories': [], 'status': 'A'}\n",
      "\n",
      "\n",
      "9\n",
      "{'active_state': 'UPCOMING', 'url': 'https://www.metaculus.com/api2/questions/25706/', 'page_url': '/questions/25706/will-exactly-2-or-3-starship-launches-reach-low-earth-orbit-by-sept-30-2024/', 'id': 25706, 'author': 120279, 'author_name': 'Tom_Metaculus', 'author_id': 120279, 'title': 'Will exactly 2 or 3 Starship launches reach low-Earth orbit by Sept 30, 2024?', 'title_short': 'Will exactly 2 or 3 Starship launches re', 'group_label': '', 'resolution': None, 'resolved_option': None, 'created_time': '2024-06-27T01:15:10.508623Z', 'publish_time': '2024-07-02T00:00:00Z', 'close_time': '2024-07-03T00:00:00Z', 'effected_close_time': None, 'resolve_time': '2024-09-30T00:00:00Z', 'possibilities': {'type': 'binary'}, 'scoring': {}, 'type': 'forecast', 'user_perms': {'PREDICT': True, 'RESOLVE': False, 'COMMENT_READ': True, 'COMMENT_POST': True, 'COMMENT_EDIT': True, 'COMMENT_MOD': False, 'EDIT_DRAFT_CONTENT': False, 'EDIT_PENDING_CONTENT': False, 'EDIT_UPCOMING_CONTENT': False, 'EDIT_LIVE_CONTENT': False, 'EDIT_CATEGORIES': False, 'CHANGE_DRAFT_STATUS': False, 'CHANGE_PENDING_STATUS': False, 'CHANGE_ACTIVE_STATUS': False, 'CROSSPOST': False, 'VIEW_COMMUNITY_PRED': True, 'VIEW_METACULUS_PRED': False, 'VIEW_COMMUNITY_PRED_AFTER_CLOSE': False, 'VIEW_METACULUS_PRED_AFTER_CLOSE': True, 'VIEW_AUTHORS_ANONYMIZED': False}, 'weekly_movement': None, 'weekly_movement_direction': None, 'cp_reveal_time': '2024-07-03T00:00:00Z', 'edited_time': '2024-06-27T01:15:10.514421Z', 'last_activity_time': '2024-06-27T01:15:10.508623Z', 'activity': 0.016360451674702747, 'comment_count': 0, 'votes': 0, 'community_prediction': {'history': [], 'full': {'y': []}, 'unweighted': {'y': []}}, 'number_of_forecasters': 0, 'prediction_count': 0, 'approved_time': None, 'approved_by_id': None, 'related_questions': [], 'group': None, 'condition': None, 'sub_questions': [], 'total_sub_question_count': 0, 'options': [], 'has_fan_graph': False, 'image_url': '', 'projects': [{'id': 3294, 'name': 'AI benchmarking warmup', 'url': '/project/ai-benchmarking-warmup/', 'type': 'QS', 'sign_up_fields': [], 'type_str': 'project', 'score_type': 'SPOT_PEER_SCORE', 'config': {'is_fab_project': True}}], 'primary_project': {'id': 3294, 'name': 'AI benchmarking warmup', 'url': '/project/ai-benchmarking-warmup/', 'type': 'QS', 'sign_up_fields': [], 'type_str': 'project', 'score_type': 'SPOT_PEER_SCORE', 'config': {'is_fab_project': True}}, 'medals_end_year': 2025, 'medals_duration': 1, 'unweighted_community_prediction_v2': [], 'recency_weighted_community_prediction_v2': [], 'cp_baseline_score': None, 'cp_peer_score': None, 'summary': '', 'comment_count_snapshot': 0, 'user_vote': 0, 'user_community_vis': 0, 'my_predictions': None, 'divergence': None, 'peer_score': None, 'spot_peer_score': None, 'baseline_score': None, 'user_prediction_sequence': None, 'description': 'SpaceX\\'s Starship is at the forefront of the next generation of spacecrafts, designed with the ambitious goals of enabling human life on other planets, starting with Mars, and significantly reducing the cost of access to space. The fully reusable transportation system is envisioned to carry both crew and cargo to Earth orbit, the Moon, Mars, and beyond. Since its inception, the Starship program has been marked by rapid development and prototyping.\\n\\nIn 2024, SpaceX has continued its intensive testing and development schedule, aiming to perfect the Starship\\'s capabilities for orbital flight, satellite deployment, and eventual deep space missions. As SpaceX gears up for future crewed missions, including NASA\\'s Artemis program to return humans to the Moon and eventually to Mars, the ability of Starship to reach and operate in low-Earth orbit (LEO) is a critical step. Achieving LEO is essential not only for satellite deployments but also as a proving ground for the technologies and operational procedures that will enable longer-duration spaceflights.\\n\\nOn March 14, 2024, SpaceX\\'s Integrated Test Flight 3 (IFT-3) saw Starship 28 briefly reach low-Earth orbit by achieving an altitude of 234 km before breaking up in the atmosphere upon re-entry.\\n\\nIn the days prior to IFT-3, SpaceX CEO Elon Musk tweeted \"Hopefully, at least 6 more flights this year\".', 'resolution_criteria': \"This question will resolve as the number of SpaceX Starship launches that reach low-Earth orbit, defined as achieving an altitude of at least 160 kilometers (approximately 100 miles) above the Earth's surface, by Sept 30, 2024.\\n\\nThe resolution will be based on official mission reports from SpaceX, and may also consider data or reporting from aerospace monitoring organizations or authorities, as well as other credible sources such as international media outlets.\", 'fine_print': '- In the event that a given Starship launch results in any type of failure prior to reaching the required altitude, so long as the Starship reaches such altitude substantially intact, it will count.', 'categories': [], 'status': 'A'}\n",
      "\n",
      "\n",
      "10\n",
      "{'active_state': 'UPCOMING', 'url': 'https://www.metaculus.com/api2/questions/25705/', 'page_url': '/questions/25705/will-exactly-3-starship-launches-reach-low-earth-orbit-by-sept-30-2024/', 'id': 25705, 'author': 120279, 'author_name': 'Tom_Metaculus', 'author_id': 120279, 'title': 'Will exactly 3 Starship launches reach low-Earth orbit by Sept 30, 2024?', 'title_short': 'Will exactly 3 Starship launches reach l', 'group_label': '', 'resolution': None, 'resolved_option': None, 'created_time': '2024-06-27T01:15:10.434868Z', 'publish_time': '2024-07-01T00:00:00Z', 'close_time': '2024-07-02T00:00:00Z', 'effected_close_time': None, 'resolve_time': '2024-09-30T00:00:00Z', 'possibilities': {'type': 'binary'}, 'scoring': {}, 'type': 'forecast', 'user_perms': {'PREDICT': True, 'RESOLVE': False, 'COMMENT_READ': True, 'COMMENT_POST': True, 'COMMENT_EDIT': True, 'COMMENT_MOD': False, 'EDIT_DRAFT_CONTENT': False, 'EDIT_PENDING_CONTENT': False, 'EDIT_UPCOMING_CONTENT': False, 'EDIT_LIVE_CONTENT': False, 'EDIT_CATEGORIES': False, 'CHANGE_DRAFT_STATUS': False, 'CHANGE_PENDING_STATUS': False, 'CHANGE_ACTIVE_STATUS': False, 'CROSSPOST': False, 'VIEW_COMMUNITY_PRED': True, 'VIEW_METACULUS_PRED': False, 'VIEW_COMMUNITY_PRED_AFTER_CLOSE': False, 'VIEW_METACULUS_PRED_AFTER_CLOSE': True, 'VIEW_AUTHORS_ANONYMIZED': False}, 'weekly_movement': None, 'weekly_movement_direction': None, 'cp_reveal_time': '2024-07-02T00:00:00Z', 'edited_time': '2024-06-27T01:15:10.439366Z', 'last_activity_time': '2024-06-27T01:15:10.434868Z', 'activity': 0.016360429462771477, 'comment_count': 0, 'votes': 0, 'community_prediction': {'history': [], 'full': {'y': []}, 'unweighted': {'y': []}}, 'number_of_forecasters': 0, 'prediction_count': 0, 'approved_time': None, 'approved_by_id': None, 'related_questions': [], 'group': None, 'condition': None, 'sub_questions': [], 'total_sub_question_count': 0, 'options': [], 'has_fan_graph': False, 'image_url': '', 'projects': [{'id': 3294, 'name': 'AI benchmarking warmup', 'url': '/project/ai-benchmarking-warmup/', 'type': 'QS', 'sign_up_fields': [], 'type_str': 'project', 'score_type': 'SPOT_PEER_SCORE', 'config': {'is_fab_project': True}}], 'primary_project': {'id': 3294, 'name': 'AI benchmarking warmup', 'url': '/project/ai-benchmarking-warmup/', 'type': 'QS', 'sign_up_fields': [], 'type_str': 'project', 'score_type': 'SPOT_PEER_SCORE', 'config': {'is_fab_project': True}}, 'medals_end_year': 2025, 'medals_duration': 1, 'unweighted_community_prediction_v2': [], 'recency_weighted_community_prediction_v2': [], 'cp_baseline_score': None, 'cp_peer_score': None, 'summary': '', 'user_vote': 0, 'my_predictions': None, 'divergence': None, 'peer_score': None, 'spot_peer_score': None, 'baseline_score': None, 'user_prediction_sequence': None, 'description': 'SpaceX\\'s Starship is at the forefront of the next generation of spacecrafts, designed with the ambitious goals of enabling human life on other planets, starting with Mars, and significantly reducing the cost of access to space. The fully reusable transportation system is envisioned to carry both crew and cargo to Earth orbit, the Moon, Mars, and beyond. Since its inception, the Starship program has been marked by rapid development and prototyping.\\n\\nIn 2024, SpaceX has continued its intensive testing and development schedule, aiming to perfect the Starship\\'s capabilities for orbital flight, satellite deployment, and eventual deep space missions. As SpaceX gears up for future crewed missions, including NASA\\'s Artemis program to return humans to the Moon and eventually to Mars, the ability of Starship to reach and operate in low-Earth orbit (LEO) is a critical step. Achieving LEO is essential not only for satellite deployments but also as a proving ground for the technologies and operational procedures that will enable longer-duration spaceflights.\\n\\nOn March 14, 2024, SpaceX\\'s Integrated Test Flight 3 (IFT-3) saw Starship 28 briefly reach low-Earth orbit by achieving an altitude of 234 km before breaking up in the atmosphere upon re-entry.\\n\\nIn the days prior to IFT-3, SpaceX CEO Elon Musk tweeted \"Hopefully, at least 6 more flights this year\".', 'resolution_criteria': \"This question will resolve as the number of SpaceX Starship launches that reach low-Earth orbit, defined as achieving an altitude of at least 160 kilometers (approximately 100 miles) above the Earth's surface, by Sept 30, 2024.\\n\\nThe resolution will be based on official mission reports from SpaceX, and may also consider data or reporting from aerospace monitoring organizations or authorities, as well as other credible sources such as international media outlets.\", 'fine_print': '- In the event that a given Starship launch results in any type of failure prior to reaching the required altitude, so long as the Starship reaches such altitude substantially intact, it will count.', 'categories': [], 'status': 'A'}\n",
      "\n",
      "\n",
      "11\n",
      "{'active_state': 'CLOSED', 'url': 'https://www.metaculus.com/api2/questions/25700/', 'page_url': '/questions/25700/will-us-offer-india-a-nuclear-submarine-before-sept-30-2024/', 'id': 25700, 'author': 120279, 'author_name': 'Tom_Metaculus', 'author_id': 120279, 'title': 'Will US offer India a nuclear submarine before Sept 30, 2024?', 'title_short': 'Will US offer India a nuclear submarine ', 'group_label': '', 'resolution': None, 'resolved_option': None, 'created_time': '2024-06-27T01:15:09.846339Z', 'publish_time': '2024-06-26T00:00:00Z', 'close_time': '2024-06-27T00:00:00Z', 'effected_close_time': None, 'resolve_time': '2024-09-30T00:00:00Z', 'possibilities': {'type': 'binary'}, 'scoring': {}, 'type': 'forecast', 'user_perms': {'PREDICT': True, 'RESOLVE': False, 'COMMENT_READ': True, 'COMMENT_POST': True, 'COMMENT_EDIT': True, 'COMMENT_MOD': False, 'EDIT_DRAFT_CONTENT': False, 'EDIT_PENDING_CONTENT': False, 'EDIT_UPCOMING_CONTENT': False, 'EDIT_LIVE_CONTENT': False, 'EDIT_CATEGORIES': False, 'CHANGE_DRAFT_STATUS': False, 'CHANGE_PENDING_STATUS': False, 'CHANGE_ACTIVE_STATUS': False, 'CROSSPOST': False, 'VIEW_COMMUNITY_PRED': True, 'VIEW_METACULUS_PRED': False, 'VIEW_COMMUNITY_PRED_AFTER_CLOSE': False, 'VIEW_METACULUS_PRED_AFTER_CLOSE': True, 'VIEW_AUTHORS_ANONYMIZED': False}, 'weekly_movement': None, 'weekly_movement_direction': None, 'cp_reveal_time': '2024-06-27T00:00:00Z', 'edited_time': '2024-06-27T01:15:09.851200Z', 'last_activity_time': '2024-06-27T01:15:09.846339Z', 'activity': 0.01636027261355617, 'comment_count': 0, 'votes': 0, 'metaculus_prediction': {'full': None, 'history': []}, 'community_prediction': {'full': {'y': []}, 'history': [], 'unweighted': {'y': []}}, 'number_of_forecasters': 0, 'prediction_count': 0, 'approved_time': None, 'approved_by_id': None, 'related_questions': [], 'group': None, 'condition': None, 'sub_questions': [], 'total_sub_question_count': 0, 'options': [], 'has_fan_graph': False, 'image_url': '', 'projects': [{'id': 3294, 'name': 'AI benchmarking warmup', 'url': '/project/ai-benchmarking-warmup/', 'type': 'QS', 'sign_up_fields': [], 'type_str': 'project', 'score_type': 'SPOT_PEER_SCORE', 'config': {'is_fab_project': True}}], 'primary_project': {'id': 3294, 'name': 'AI benchmarking warmup', 'url': '/project/ai-benchmarking-warmup/', 'type': 'QS', 'sign_up_fields': [], 'type_str': 'project', 'score_type': 'SPOT_PEER_SCORE', 'config': {'is_fab_project': True}}, 'medals_end_year': 2025, 'medals_duration': 1, 'unweighted_community_prediction_v2': None, 'recency_weighted_community_prediction_v2': None, 'cp_baseline_score': None, 'cp_peer_score': None, 'summary': '', 'user_vote': 0, 'my_predictions': None, 'divergence': None, 'peer_score': None, 'spot_peer_score': None, 'baseline_score': None, 'user_prediction_sequence': None, 'description': '60% of India’s military hardware inventory (as of March 2022) is [from Russia](https://www.defensenews.com/global/asia-pacific/2022/03/02/india-braces-for-sanctions-on-russia-to-delay-weapons-programs-deliveries/) and the former Soviet Union.  Many of India\\'s conventional and nuclear-powered submarines have been supplied by [Russia/USSR](https://en.wikipedia.org/wiki/List_of_submarines_of_the_Indian_Navy).  The only nuclear submarine in India\\'s Navy as of June 2022 is the Indian-built [INS Arihant](https://en.wikipedia.org/wiki/INS_Arihant).\\n\\nIn [September 2021](https://www.indiatoday.in/india-today-insight/story/why-the-us-won-t-give-india-nuclear-submarines-1854818-2021-09-20), the US, UK, and Australia made an agreement to design and build 8 nuclear submarines for Australia\\'s navy.  Former Indian naval chief Arun Prakash [commented](https://archive.ph/WR4oJ#selection-1101.1-1109.101), \"For years, the US has been telling India that American laws make it impossible to share nuclear-propulsion tech with anyone, including allies.\"  Srinath Raghavan, professor of international relations at Ashoka University [said](https://archive.ph/WR4oJ#selection-2383.1-2383.215) \"It’s normal realpolitik, [...] The US gave short shrift to an ally like France in the process, [so] it would be silly of India to see this as a snub.\"', 'resolution_criteria': 'This question will resolve as Yes if the United States makes a public formal agreement with India to build, design, lease, or sell a nuclear-powered submarine for the Indian Navy at any time between January 1, 2022 and Sept 30, 2024', 'fine_print': '', 'categories': [], 'status': 'A'}\n",
      "\n",
      "\n",
      "12\n",
      "{'active_state': 'CLOSED', 'url': 'https://www.metaculus.com/api2/questions/25669/', 'page_url': '/questions/25669/will-the-cboe-sp-500-3-month-volatility-index-vxvcls-be-higher-year-over-year-on-july-2-2024/', 'id': 25669, 'author': 120279, 'author_name': 'Tom_Metaculus', 'author_id': 120279, 'title': 'Will the  CBOE S&P 500 3-Month Volatility Index (VXVCLS)        \\n be higher Year-over-Year on July 2, 2024?', 'title_short': 'Will the  CBOE S&P 500 3-Month Volatilit', 'group_label': '', 'resolution': None, 'resolved_option': None, 'created_time': '2024-06-25T19:58:36.860915Z', 'publish_time': '2024-06-26T00:00:00Z', 'close_time': '2024-06-27T00:00:00Z', 'effected_close_time': None, 'resolve_time': '2024-07-02T00:00:00Z', 'possibilities': {'type': 'binary'}, 'scoring': {}, 'type': 'forecast', 'user_perms': {'PREDICT': True, 'RESOLVE': False, 'COMMENT_READ': True, 'COMMENT_POST': True, 'COMMENT_EDIT': True, 'COMMENT_MOD': False, 'EDIT_DRAFT_CONTENT': False, 'EDIT_PENDING_CONTENT': False, 'EDIT_UPCOMING_CONTENT': False, 'EDIT_LIVE_CONTENT': False, 'EDIT_CATEGORIES': False, 'CHANGE_DRAFT_STATUS': False, 'CHANGE_PENDING_STATUS': False, 'CHANGE_ACTIVE_STATUS': False, 'CROSSPOST': False, 'VIEW_COMMUNITY_PRED': True, 'VIEW_METACULUS_PRED': False, 'VIEW_COMMUNITY_PRED_AFTER_CLOSE': False, 'VIEW_METACULUS_PRED_AFTER_CLOSE': True, 'VIEW_AUTHORS_ANONYMIZED': False}, 'weekly_movement': None, 'weekly_movement_direction': 0, 'cp_reveal_time': '2024-06-27T00:00:00Z', 'edited_time': '2024-06-26T23:07:39.612177Z', 'last_activity_time': '2024-06-25T19:58:36.860915Z', 'activity': 0.0030156566644785492, 'comment_count': 0, 'votes': 0, 'metaculus_prediction': {'full': None, 'history': []}, 'community_prediction': {'full': {'y': []}, 'history': [], 'unweighted': {'y': []}}, 'number_of_forecasters': 0, 'prediction_count': 0, 'approved_time': None, 'approved_by_id': None, 'related_questions': [], 'group': None, 'condition': None, 'sub_questions': [], 'total_sub_question_count': 0, 'options': [], 'has_fan_graph': False, 'image_url': '', 'projects': [{'id': 3294, 'name': 'AI benchmarking warmup', 'url': '/project/ai-benchmarking-warmup/', 'type': 'QS', 'sign_up_fields': [], 'type_str': 'project', 'score_type': 'SPOT_PEER_SCORE', 'config': {'is_fab_project': True}}], 'primary_project': {'id': 3294, 'name': 'AI benchmarking warmup', 'url': '/project/ai-benchmarking-warmup/', 'type': 'QS', 'sign_up_fields': [], 'type_str': 'project', 'score_type': 'SPOT_PEER_SCORE', 'config': {'is_fab_project': True}}, 'medals_end_year': 2025, 'medals_duration': 1, 'unweighted_community_prediction_v2': None, 'recency_weighted_community_prediction_v2': None, 'cp_baseline_score': None, 'cp_peer_score': None, 'summary': '', 'user_vote': 0, 'my_predictions': None, 'divergence': None, 'peer_score': None, 'spot_peer_score': None, 'baseline_score': None, 'user_prediction_sequence': None, 'description': 'According to [FRED](https://fred.stlouisfed.org/series/VXVCLS): > Chicago Board Options Exchange, CBOE S&P 500 3-Month Volatility Index [VXVCLS], retrieved from FRED, Federal Reserve Bank of St. Louis', 'resolution_criteria': 'This question will resolve based on reporting by the St. Louis Fed here: https://fred.stlouisfed.org/series/VXVCLS. The reported number for July 2, 2024 must be greater than the reported number on July 2, 2023.', 'fine_print': '', 'categories': [], 'status': 'A'}\n",
      "\n",
      "\n",
      "13\n",
      "{'active_state': 'CLOSED', 'url': 'https://www.metaculus.com/api2/questions/25658/', 'page_url': '/questions/25658/will-the-real-time-sahm-rule-recession-indicator-increase-year-over-year-for-july-2024/', 'id': 25658, 'author': 120279, 'author_name': 'Tom_Metaculus', 'author_id': 120279, 'title': 'Will the Real-time Sahm Rule Recession Indicator increase Year-over-Year for July 2024?', 'title_short': 'Will the Real-time Sahm Rule Recession I', 'group_label': '', 'resolution': None, 'resolved_option': None, 'created_time': '2024-06-25T12:53:20.676585Z', 'publish_time': '2024-06-25T00:00:00Z', 'close_time': '2024-06-26T00:00:00Z', 'effected_close_time': None, 'resolve_time': '2024-09-17T00:00:00Z', 'possibilities': {'type': 'binary'}, 'scoring': {}, 'type': 'forecast', 'user_perms': {'PREDICT': True, 'RESOLVE': False, 'COMMENT_READ': True, 'COMMENT_POST': True, 'COMMENT_EDIT': True, 'COMMENT_MOD': False, 'EDIT_DRAFT_CONTENT': False, 'EDIT_PENDING_CONTENT': False, 'EDIT_UPCOMING_CONTENT': False, 'EDIT_LIVE_CONTENT': False, 'EDIT_CATEGORIES': False, 'CHANGE_DRAFT_STATUS': False, 'CHANGE_PENDING_STATUS': False, 'CHANGE_ACTIVE_STATUS': False, 'CROSSPOST': False, 'VIEW_COMMUNITY_PRED': True, 'VIEW_METACULUS_PRED': False, 'VIEW_COMMUNITY_PRED_AFTER_CLOSE': False, 'VIEW_METACULUS_PRED_AFTER_CLOSE': True, 'VIEW_AUTHORS_ANONYMIZED': False}, 'weekly_movement': None, 'weekly_movement_direction': 0, 'cp_reveal_time': '2024-06-26T00:00:00Z', 'edited_time': '2024-06-25T23:07:29.416027Z', 'last_activity_time': '2024-06-25T12:53:20.676585Z', 'activity': 0.00200252408157389, 'comment_count': 0, 'votes': 0, 'metaculus_prediction': {'full': None, 'history': []}, 'community_prediction': {'full': {'y': []}, 'history': [], 'unweighted': {'y': []}}, 'number_of_forecasters': 0, 'prediction_count': 0, 'approved_time': None, 'approved_by_id': None, 'related_questions': [], 'group': None, 'condition': None, 'sub_questions': [], 'total_sub_question_count': 0, 'options': [], 'has_fan_graph': False, 'image_url': '', 'projects': [{'id': 3294, 'name': 'AI benchmarking warmup', 'url': '/project/ai-benchmarking-warmup/', 'type': 'QS', 'sign_up_fields': [], 'type_str': 'project', 'score_type': 'SPOT_PEER_SCORE', 'config': {'is_fab_project': True}}], 'primary_project': {'id': 3294, 'name': 'AI benchmarking warmup', 'url': '/project/ai-benchmarking-warmup/', 'type': 'QS', 'sign_up_fields': [], 'type_str': 'project', 'score_type': 'SPOT_PEER_SCORE', 'config': {'is_fab_project': True}}, 'medals_end_year': 2025, 'medals_duration': 1, 'unweighted_community_prediction_v2': None, 'recency_weighted_community_prediction_v2': None, 'cp_baseline_score': None, 'cp_peer_score': None, 'summary': '', 'comment_count_snapshot': 0, 'user_vote': 0, 'user_community_vis': 0, 'my_predictions': None, 'divergence': None, 'peer_score': None, 'spot_peer_score': None, 'baseline_score': None, 'user_prediction_sequence': None, 'description': 'Sahm Recession Indicator signals the start of a recession when the three-month moving average of the national unemployment rate (U3) rises by 0.50 percentage points or more relative to the minimum of the three-month averages from the previous 12 months.\\n\\nThis indicator is based on \"real-time\" data, that is, the unemployment rate (and the recent history of unemployment rates) that were available in a given month. The BLS revises the unemployment rate each year at the beginning of January, when the December unemployment rate for the prior year is published. Revisions to the seasonal factors can affect estimates in recent years. Otherwise the unemployment rate does not revise.', 'resolution_criteria': 'This question will resolve based on reporting by the St. Louis Fed here:  https://fred.stlouisfed.org/series/SAHMREALTIME. The reported number in 2024 must be greater than the reported 2023 number.', 'fine_print': '', 'categories': [], 'status': 'A'}\n",
      "\n",
      "\n",
      "14\n",
      "{'active_state': 'CLOSED', 'url': 'https://www.metaculus.com/api2/questions/25459/', 'page_url': '/questions/25459/will-the-exchange-rate-for-the-swedish-k/', 'id': 25459, 'author': 122456, 'author_name': 'nlp-pipeline-service-account', 'author_id': 122456, 'title': 'Will the exchange rate for the Swedish Krona (SEK) to the US Dollar (USD) be lower than 11.5 on June 30, 2024?', 'title_short': 'Will the exchange rate for the Swedish K', 'group_label': '', 'resolution': None, 'resolved_option': None, 'created_time': '2024-06-17T13:39:39.549411Z', 'publish_time': '2024-06-17T17:00:00Z', 'close_time': '2024-06-25T17:00:00Z', 'effected_close_time': None, 'resolve_time': '2024-06-30T11:00:00Z', 'possibilities': {'type': 'binary'}, 'scoring': {}, 'type': 'forecast', 'user_perms': {'PREDICT': True, 'RESOLVE': False, 'COMMENT_READ': True, 'COMMENT_POST': True, 'COMMENT_EDIT': True, 'COMMENT_MOD': False, 'EDIT_DRAFT_CONTENT': False, 'EDIT_PENDING_CONTENT': False, 'EDIT_UPCOMING_CONTENT': False, 'EDIT_LIVE_CONTENT': False, 'EDIT_CATEGORIES': False, 'CHANGE_DRAFT_STATUS': False, 'CHANGE_PENDING_STATUS': False, 'CHANGE_ACTIVE_STATUS': False, 'CROSSPOST': False, 'VIEW_COMMUNITY_PRED': True, 'VIEW_METACULUS_PRED': False, 'VIEW_COMMUNITY_PRED_AFTER_CLOSE': False, 'VIEW_METACULUS_PRED_AFTER_CLOSE': True, 'VIEW_AUTHORS_ANONYMIZED': False}, 'weekly_movement': None, 'weekly_movement_direction': 0, 'cp_reveal_time': '2024-06-25T17:00:00Z', 'edited_time': '2024-06-30T07:44:26.355852Z', 'last_activity_time': '2024-06-24T16:07:05.259194Z', 'activity': 0.0010987942291256136, 'comment_count': 3, 'votes': 0, 'metaculus_prediction': {'full': 0.5982347818866681, 'history': [{'t': 1719245225.268998, 'x': 0.5982347818866681}, {'t': 1719302328.113521, 'x': 0.5982347818866681}], 'postdiction': 0.5982347818866681}, 'community_prediction': {'full': {'y': [0.0, 0.0, 0.0, 0.0, 0.0, 0.0, 0.0, 0.0, 0.0, 0.0, 0.0, 0.0, 0.0, 0.0, 0.0, 0.0, 0.0, 0.0, 0.0, 0.0, 0.0, 0.0, 0.0, 0.0, 0.0, 0.0, 0.0, 0.0, 0.0, 0.0, 0.0, 0.0, 0.0, 0.0, 0.0, 0.0, 0.0, 0.0, 0.0, 0.0, 0.0, 0.0, 0.0, 0.0, 0.0, 0.0, 0.0, 0.0, 0.0, 0.0, 0.0, 0.0, 0.0, 0.0, 0.0, 0.0, 0.0, 0.0, 0.0, 0.0, 0.0, 0.0, 0.0, 0.0, 0.0, 0.0, 0.0, 1.0, 0.0, 0.0, 0.0, 0.0, 0.0, 0.0, 0.0, 0.0, 0.0, 0.0, 0.0, 0.0, 0.0, 0.0, 0.0, 0.0, 0.0, 0.0, 0.0, 0.0, 0.0, 0.0, 0.0, 0.0, 0.0, 0.0, 0.0, 0.0, 0.0, 0.0, 0.0, 0.0, 0.0], 'q1': 0.67, 'q2': 0.67, 'q3': 0.67}, 'history': [{'t': 1719245225.261234, 'np': 1, 'nu': 1, 'x1': {'q1': 0.67, 'q2': 0.67, 'q3': 0.67}, 'x2': {'avg': 0.67, 'var': 0.0, 'weighted_avg': 0.67}}], 'unweighted': {'y': [0, 0, 0, 0, 0, 0, 0, 0, 0, 0, 0, 0, 0, 0, 0, 0, 0, 0, 0, 0, 0, 0, 0, 0, 0, 0, 0, 0, 0, 0, 0, 0, 0, 0, 0, 0, 0, 0, 0, 0, 0, 0, 0, 0, 0, 0, 0, 0, 0, 0, 0, 0, 0, 0, 0, 0, 0, 0, 0, 0, 0, 0, 0, 0, 0, 0, 0, 1, 0, 0, 0, 0, 0, 0, 0, 0, 0, 0, 0, 0, 0, 0, 0, 0, 0, 0, 0, 0, 0, 0, 0, 0, 0, 0, 0, 0, 0, 0, 0, 0, 0], 'q1': 0.67, 'q2': 0.67, 'q3': 0.67}}, 'number_of_forecasters': 1, 'prediction_count': 1, 'approved_by': 'nlp-pipeline-service-account', 'approved_time': '2024-06-17T13:39:40.263951Z', 'approved_by_id': 122456, 'related_questions': [], 'group': None, 'condition': None, 'sub_questions': [], 'total_sub_question_count': 0, 'options': [], 'has_fan_graph': False, 'image_url': '', 'projects': [{'id': 3294, 'name': 'AI benchmarking warmup', 'url': '/project/ai-benchmarking-warmup/', 'type': 'QS', 'sign_up_fields': [], 'type_str': 'project', 'score_type': 'SPOT_PEER_SCORE', 'config': {'is_fab_project': True}}], 'primary_project': {'id': 3294, 'name': 'AI benchmarking warmup', 'url': '/project/ai-benchmarking-warmup/', 'type': 'QS', 'sign_up_fields': [], 'type_str': 'project', 'score_type': 'SPOT_PEER_SCORE', 'config': {'is_fab_project': True}}, 'medals_end_year': 2025, 'medals_duration': 1, 'unweighted_community_prediction_v2': None, 'recency_weighted_community_prediction_v2': None, 'cp_baseline_score': None, 'cp_peer_score': None, 'summary': '', 'comment_count_snapshot': 3, 'user_vote': 0, 'user_community_vis': 0, 'my_predictions': None, 'divergence': None, 'peer_score': None, 'spot_peer_score': None, 'baseline_score': None, 'user_prediction_sequence': None, 'description': '10 years ago, one US Dollar (USD) cost 6,67 Swedish Krona (SEK). Today, June 26 2023, it costs 11,1 SEK. Several academic studies have tried to explain the declining value of SEK using established theories, but come to the conclusion that the SEK is increasingly undervalued during the last 10 years.\\n\\nIn 2021 the currency experts Philippe Bacchetta and Pauline Chikhani published [On the weakness of the Swedish krona](https://www.riksbank.se/globalassets/media/rapporter/pov/artiklar/engelska/2021/210319/2021_1-on-the-weakness-of-the-swedish-krona_er.pdf) (Comissioned by The Swedish Riksbank)\\n\\nBacchetta is Swiss Finance Institute Professor of Macroeconomics at the University of Lausanne, and Program Director of the International Macroeconomics and Finance program of the Centre for Economic Policy Research (CEPR, London). Chikhani is a doctoral student at the University of Lausanne.\\n\\nIn 2019 Christos Papahristodoulou published Is There Any Theory that Explains the Swedish Krona (SEK)? (Journal of Applied Economic Sciences, ISSN 2393-5162, Vol. XIV, nr 3(65), s. 760-782)', 'resolution_criteria': 'This question will resolve as YES if the price of one US Dollar (USD) in Swedish Kronas (SEK) is lower than 11.5 on June 30 2024, 13.00, as published on the cross-rate website of the Swedish Riksbank [National Bank](https://www.riksbank.se/en-gb/statistics/search-interest--exchange-rates/cross-rates), and NO otherwise', 'fine_print': '', 'categories': [], 'status': 'A'}\n",
      "\n",
      "\n",
      "15\n",
      "{'active_state': 'CLOSED', 'url': 'https://www.metaculus.com/api2/questions/25456/', 'page_url': '/questions/25456/will-a-west-balkan-state-join-the-eu-bet/', 'id': 25456, 'author': 122456, 'author_name': 'nlp-pipeline-service-account', 'author_id': 122456, 'title': 'Will a West Balkan state join the EU between 2025-01-01 and 2040-01-01?', 'title_short': 'Will a West Balkan state join the EU bet', 'group_label': '', 'resolution': None, 'resolved_option': None, 'created_time': '2024-06-17T13:39:39.531353Z', 'publish_time': '2024-06-17T17:00:00Z', 'close_time': '2024-06-25T17:00:00Z', 'effected_close_time': None, 'resolve_time': '2049-12-31T20:00:00Z', 'possibilities': {'type': 'binary'}, 'scoring': {}, 'type': 'forecast', 'user_perms': {'PREDICT': True, 'RESOLVE': False, 'COMMENT_READ': True, 'COMMENT_POST': True, 'COMMENT_EDIT': True, 'COMMENT_MOD': False, 'EDIT_DRAFT_CONTENT': False, 'EDIT_PENDING_CONTENT': False, 'EDIT_UPCOMING_CONTENT': False, 'EDIT_LIVE_CONTENT': False, 'EDIT_CATEGORIES': False, 'CHANGE_DRAFT_STATUS': False, 'CHANGE_PENDING_STATUS': False, 'CHANGE_ACTIVE_STATUS': False, 'CROSSPOST': False, 'VIEW_COMMUNITY_PRED': True, 'VIEW_METACULUS_PRED': False, 'VIEW_COMMUNITY_PRED_AFTER_CLOSE': False, 'VIEW_METACULUS_PRED_AFTER_CLOSE': True, 'VIEW_AUTHORS_ANONYMIZED': False}, 'weekly_movement': None, 'weekly_movement_direction': 0, 'cp_reveal_time': '2024-06-25T17:00:00Z', 'edited_time': '2024-06-25T16:05:11.458095Z', 'last_activity_time': '2024-06-24T15:51:12.413989Z', 'activity': 0.001097725960150398, 'comment_count': 3, 'votes': 0, 'metaculus_prediction': {'full': None, 'history': []}, 'community_prediction': {'full': {'y': []}, 'history': [], 'unweighted': {'y': []}}, 'number_of_forecasters': 0, 'prediction_count': 0, 'approved_by': 'nlp-pipeline-service-account', 'approved_time': '2024-06-17T13:39:40.083651Z', 'approved_by_id': 122456, 'related_questions': [], 'group': None, 'condition': None, 'sub_questions': [], 'total_sub_question_count': 0, 'options': [], 'has_fan_graph': False, 'image_url': '', 'projects': [{'id': 3294, 'name': 'AI benchmarking warmup', 'url': '/project/ai-benchmarking-warmup/', 'type': 'QS', 'sign_up_fields': [], 'type_str': 'project', 'score_type': 'SPOT_PEER_SCORE', 'config': {'is_fab_project': True}}], 'primary_project': {'id': 3294, 'name': 'AI benchmarking warmup', 'url': '/project/ai-benchmarking-warmup/', 'type': 'QS', 'sign_up_fields': [], 'type_str': 'project', 'score_type': 'SPOT_PEER_SCORE', 'config': {'is_fab_project': True}}, 'medals_end_year': None, 'medals_duration': None, 'unweighted_community_prediction_v2': None, 'recency_weighted_community_prediction_v2': None, 'cp_baseline_score': None, 'cp_peer_score': None, 'summary': '', 'user_vote': 0, 'my_predictions': None, 'divergence': None, 'peer_score': None, 'spot_peer_score': None, 'baseline_score': None, 'user_prediction_sequence': None, 'description': 'The European Union currently consists of 27 member states. The most recent state to join was Croatia on July 1, 2013, while Bulgaria and Romania joined on January 1, 2007 and 10 states joined on May 1, 2004. The UK left in 2020, reducing the number of members from 28 to 27. Other states could join the EU. The European Commission website states that Albania, the Republic of North Macedonia, Montenegro, Serbia and Turkey are candidate countries. It also lists Bosnia & Herzegovina and Kosovo as potential candidates which have a clear prospect of joining the EU in the future but have not yet been granted candidate country status.', 'resolution_criteria': 'This question will resolve as YES if any of the following states joins the EU between 2025-01-01 and 2040-01-01: Albania, North Macedonia, Montenegro, Serbia, Bosnia and Herzegovina, Kosovo or any new state within the May 2021 territory of those 6 entities. The question will resolve as the date of accession itself, rather than e.g. the signing of a Treaty of Accession. Resolution will require both credible media reports and a European Commission source. The incorporation of any part of any of the entities listed into an existing member state would not count to resolve the question.', 'fine_print': '', 'categories': [], 'status': 'A'}\n",
      "\n",
      "\n",
      "16\n",
      "{'active_state': 'CLOSED', 'url': 'https://www.metaculus.com/api2/questions/25457/', 'page_url': '/questions/25457/will-tesla-bots-be-available-to-us-consu/', 'id': 25457, 'author': 122456, 'author_name': 'nlp-pipeline-service-account', 'author_id': 122456, 'title': 'Will Tesla Bots be available to US consumers between 2025-12-31 and 2030-12-31?', 'title_short': 'Will Tesla Bots be available to US consu', 'group_label': '', 'resolution': None, 'resolved_option': None, 'created_time': '2024-06-17T13:39:39.540246Z', 'publish_time': '2024-06-17T17:00:00Z', 'close_time': '2024-06-25T17:00:00Z', 'effected_close_time': None, 'resolve_time': '2040-01-01T00:00:00Z', 'possibilities': {'type': 'binary'}, 'scoring': {}, 'type': 'forecast', 'user_perms': {'PREDICT': True, 'RESOLVE': False, 'COMMENT_READ': True, 'COMMENT_POST': True, 'COMMENT_EDIT': True, 'COMMENT_MOD': False, 'EDIT_DRAFT_CONTENT': False, 'EDIT_PENDING_CONTENT': False, 'EDIT_UPCOMING_CONTENT': False, 'EDIT_LIVE_CONTENT': False, 'EDIT_CATEGORIES': False, 'CHANGE_DRAFT_STATUS': False, 'CHANGE_PENDING_STATUS': False, 'CHANGE_ACTIVE_STATUS': False, 'CROSSPOST': False, 'VIEW_COMMUNITY_PRED': True, 'VIEW_METACULUS_PRED': False, 'VIEW_COMMUNITY_PRED_AFTER_CLOSE': False, 'VIEW_METACULUS_PRED_AFTER_CLOSE': True, 'VIEW_AUTHORS_ANONYMIZED': False}, 'weekly_movement': None, 'weekly_movement_direction': 0, 'cp_reveal_time': '2024-06-25T17:00:00Z', 'edited_time': '2024-06-25T16:04:57.525766Z', 'last_activity_time': '2024-06-22T04:26:37.690334Z', 'activity': 7.046994191799954e-05, 'comment_count': 2, 'votes': 0, 'metaculus_prediction': {'full': None, 'history': []}, 'community_prediction': {'full': {'y': []}, 'history': [], 'unweighted': {'y': []}}, 'number_of_forecasters': 0, 'prediction_count': 0, 'approved_by': 'nlp-pipeline-service-account', 'approved_time': '2024-06-17T13:39:40.238756Z', 'approved_by_id': 122456, 'related_questions': [], 'group': None, 'condition': None, 'sub_questions': [], 'total_sub_question_count': 0, 'options': [], 'has_fan_graph': False, 'image_url': '', 'projects': [{'id': 3294, 'name': 'AI benchmarking warmup', 'url': '/project/ai-benchmarking-warmup/', 'type': 'QS', 'sign_up_fields': [], 'type_str': 'project', 'score_type': 'SPOT_PEER_SCORE', 'config': {'is_fab_project': True}}], 'primary_project': {'id': 3294, 'name': 'AI benchmarking warmup', 'url': '/project/ai-benchmarking-warmup/', 'type': 'QS', 'sign_up_fields': [], 'type_str': 'project', 'score_type': 'SPOT_PEER_SCORE', 'config': {'is_fab_project': True}}, 'medals_end_year': None, 'medals_duration': None, 'unweighted_community_prediction_v2': None, 'recency_weighted_community_prediction_v2': None, 'cp_baseline_score': None, 'cp_peer_score': None, 'summary': '', 'user_vote': 0, 'my_predictions': None, 'divergence': None, 'peer_score': None, 'spot_peer_score': None, 'baseline_score': None, 'user_prediction_sequence': None, 'description': \"On August 19 2021, at Tesla's AI Day event, Tesla, Inc. CEO Elon Musk unveiled a design for the Tesla Bot, a humanoid robot. According to The Verge, Tesla CEO Elon Musk says his company is working on a humanoid robot and that it will build a prototype sometime next year. The humanoid robot will leverage Tesla's experience with automated machines in its factories, as well as some of the hardware and software that powers the company's Autopilot driver assistance software. Musk, who has spoken publicly about his fears of runaway artificial intelligence, said Tesla is intended to be friendly, but that Tesla is designing the robot at a mechanical level so that you can run away from it, and most likely overpower it. It will be five feet, eight inches tall, and have a screen for a face. The robots will be designed to handle tasks that are unsafe, repetitive or boring, the company's website reads. I think essentially in the future, physical work will be a choice, if you if you want to do it you can.\", 'resolution_criteria': 'This question will resolve as YES if the earliest date on which general US consumers can take delivery from Tesla, Inc. a device having characteristics broadly in line with those of the proposed Tesla Bot is between 2025-12-31 and 2030-12-31, and NO otherwise. In particular, the device must be a humanoid robot, and must be able to perform some physical tasks upon being given directions to do so - a remote-controlled device manually operated by a human will not count. Note that this question will resolve as the first date on which general consumers physically possess the device, having purchased it, leased it, licensed it, or otherwise contracted with Tesla for physical custody of it, not on the date on which a deposit can be placed, a device can be ordered, pre-ordered, or otherwise contracted for. The consumers must be legally entitled to operate the device; a right to possess but not operate the device will not count.', 'fine_print': '', 'categories': [], 'status': 'A'}\n",
      "\n",
      "\n",
      "17\n",
      "{'active_state': 'CLOSED', 'url': 'https://www.metaculus.com/api2/questions/25458/', 'page_url': '/questions/25458/will-the-last-communication-from-voyager/', 'id': 25458, 'author': 122456, 'author_name': 'nlp-pipeline-service-account', 'author_id': 122456, 'title': 'Will the last communication from Voyager 1 be between 2025-12-31 and 2032-12-31?', 'title_short': 'Will the last communication from Voyager', 'group_label': '', 'resolution': None, 'resolved_option': None, 'created_time': '2024-06-17T13:39:39.540208Z', 'publish_time': '2024-06-17T17:00:00Z', 'close_time': '2024-06-25T17:00:00Z', 'effected_close_time': None, 'resolve_time': '2040-01-01T08:00:00Z', 'possibilities': {'type': 'binary'}, 'scoring': {}, 'type': 'forecast', 'user_perms': {'PREDICT': True, 'RESOLVE': False, 'COMMENT_READ': True, 'COMMENT_POST': True, 'COMMENT_EDIT': True, 'COMMENT_MOD': False, 'EDIT_DRAFT_CONTENT': False, 'EDIT_PENDING_CONTENT': False, 'EDIT_UPCOMING_CONTENT': False, 'EDIT_LIVE_CONTENT': False, 'EDIT_CATEGORIES': False, 'CHANGE_DRAFT_STATUS': False, 'CHANGE_PENDING_STATUS': False, 'CHANGE_ACTIVE_STATUS': False, 'CROSSPOST': False, 'VIEW_COMMUNITY_PRED': True, 'VIEW_METACULUS_PRED': False, 'VIEW_COMMUNITY_PRED_AFTER_CLOSE': False, 'VIEW_METACULUS_PRED_AFTER_CLOSE': True, 'VIEW_AUTHORS_ANONYMIZED': False}, 'weekly_movement': None, 'weekly_movement_direction': 0, 'cp_reveal_time': '2024-06-25T17:00:00Z', 'edited_time': '2024-06-25T16:03:30.232560Z', 'last_activity_time': '2024-06-22T04:22:51.031450Z', 'activity': 7.021031079987043e-05, 'comment_count': 1, 'votes': 0, 'metaculus_prediction': {'full': None, 'history': []}, 'community_prediction': {'full': {'y': []}, 'history': [], 'unweighted': {'y': []}}, 'number_of_forecasters': 0, 'prediction_count': 0, 'approved_by': 'nlp-pipeline-service-account', 'approved_time': '2024-06-17T13:39:40.167116Z', 'approved_by_id': 122456, 'related_questions': [], 'group': None, 'condition': None, 'sub_questions': [], 'total_sub_question_count': 0, 'options': [], 'has_fan_graph': False, 'image_url': '', 'projects': [{'id': 3294, 'name': 'AI benchmarking warmup', 'url': '/project/ai-benchmarking-warmup/', 'type': 'QS', 'sign_up_fields': [], 'type_str': 'project', 'score_type': 'SPOT_PEER_SCORE', 'config': {'is_fab_project': True}}], 'primary_project': {'id': 3294, 'name': 'AI benchmarking warmup', 'url': '/project/ai-benchmarking-warmup/', 'type': 'QS', 'sign_up_fields': [], 'type_str': 'project', 'score_type': 'SPOT_PEER_SCORE', 'config': {'is_fab_project': True}}, 'medals_end_year': None, 'medals_duration': None, 'unweighted_community_prediction_v2': None, 'recency_weighted_community_prediction_v2': None, 'cp_baseline_score': None, 'cp_peer_score': None, 'summary': '', 'user_vote': 0, 'my_predictions': None, 'divergence': None, 'peer_score': None, 'spot_peer_score': None, 'baseline_score': None, 'user_prediction_sequence': None, 'description': \"Launched in September, 1977, the Voyager 1 spacecraft is currently the most distant manmade object in space. Amazingly, it continues to 'phone home' even from its position beyond the heliosheath. How we keep in touch with this little spaceship that could--currently 141 AUs away from us and counting, as of April 30, 2018--is astonishing. As NASA explains: 'The sensitivity of our deep-space tracking antennas located around the world is truly amazing. The antennas must capture Voyager information from a signal so weak that the power striking the antenna is only 10 exponent -16 watts (1 part in 10 quadrillion). A modern-day electronic digital watch operates at a power level 20 billion times greater than this feeble level.' Alas, in spite of all this awesome science, Voyager 1's days are numbered. Its fuel is nearly spent. In just a few years, it will bleat out its last signal, and then we'll hear from it no more. As The Atlantic reports: 'The Voyagers [including Voyager 2] eventually will go quiet. The spacecrafts' electric power, supplied by radioisotope thermoelectric generators, weakens each day. Dodd said scientists and engineers will likely begin shutting off instruments in 2020, a debate that she says is already underway. 'These scientists have had their instruments on for 40 years,' she said. 'Nobody wants to be the first one turned off.' The spacecrafts' transmitters will be the last to go. They will die on their own, in the late 2020s or perhaps in the 2030s. 'One day we'll be looking for the signal and we won't hear it anymore,' Dodd said. What will happen to it then? The ship's odyssey into the great black unknown is just beginning. Lots of speculation on Quora, including this cool passage: 'About [the Voyagers'] eventual fate, will they be intercepted by intelligent lifeforms? We honestly don't know. What we know is that both crafts will be confined to the Milky Way galaxy. Our solar system is traveling around the galaxy at about 514,000 mph, 15 times as fast as the Voyagers' current speeds. This means that in a few hundred million years, our paths will again cross, or certainly get close. Earth might already be vacant of humans in that time, but not necessarily in space. Humanity might be scattered all over the galaxy and maybe, in a strange twist of fate, the [Golden Records], humanity's message in a bottle to other intelligent lifeforms out there, were actually meant for our own descendants.'\", 'resolution_criteria': 'Question will resolve as YES if the last credible signal from Voyager 1 is received between 2025-12-31 and 2032-12-31, after no signal has been received for one year, and NO otherwise.', 'fine_print': '', 'categories': [], 'status': 'A'}\n",
      "\n",
      "\n",
      "18\n",
      "{'active_state': 'CLOSED', 'url': 'https://www.metaculus.com/api2/questions/25387/', 'page_url': '/questions/25387/will-the-last-communication-from-voyager/', 'id': 25387, 'author': 122456, 'author_name': 'nlp-pipeline-service-account', 'author_id': 122456, 'title': 'Will the last communication from Voyager 1 be between 2028-12-31 and 2032-12-31?', 'title_short': 'Will the last communication from Voyager', 'group_label': '', 'resolution': None, 'resolved_option': None, 'created_time': '2024-06-10T16:03:38.061909Z', 'publish_time': '2024-06-10T17:00:00Z', 'close_time': '2024-06-18T17:00:00Z', 'effected_close_time': None, 'resolve_time': '2040-01-01T08:00:00Z', 'possibilities': {'type': 'binary'}, 'scoring': {}, 'type': 'forecast', 'user_perms': {'PREDICT': True, 'RESOLVE': False, 'COMMENT_READ': True, 'COMMENT_POST': True, 'COMMENT_EDIT': True, 'COMMENT_MOD': False, 'EDIT_DRAFT_CONTENT': False, 'EDIT_PENDING_CONTENT': False, 'EDIT_UPCOMING_CONTENT': False, 'EDIT_LIVE_CONTENT': False, 'EDIT_CATEGORIES': False, 'CHANGE_DRAFT_STATUS': False, 'CHANGE_PENDING_STATUS': False, 'CHANGE_ACTIVE_STATUS': False, 'CROSSPOST': False, 'VIEW_COMMUNITY_PRED': True, 'VIEW_METACULUS_PRED': False, 'VIEW_COMMUNITY_PRED_AFTER_CLOSE': False, 'VIEW_METACULUS_PRED_AFTER_CLOSE': True, 'VIEW_AUTHORS_ANONYMIZED': False}, 'weekly_movement': None, 'weekly_movement_direction': 0, 'cp_reveal_time': '2024-06-18T17:00:00Z', 'edited_time': '2024-06-18T16:07:05.006778Z', 'last_activity_time': '2024-06-15T00:18:16.960193Z', 'activity': 3.111452753672423e-10, 'comment_count': 0, 'votes': 0, 'metaculus_prediction': {'full': None, 'history': []}, 'community_prediction': {'full': {'y': []}, 'history': [], 'unweighted': {'y': []}}, 'number_of_forecasters': 0, 'prediction_count': 0, 'approved_by': 'nlp-pipeline-service-account', 'approved_time': '2024-06-10T16:03:38.930003Z', 'approved_by_id': 122456, 'related_questions': [], 'group': None, 'condition': None, 'sub_questions': [], 'total_sub_question_count': 0, 'options': [], 'has_fan_graph': False, 'image_url': '', 'projects': [{'id': 3294, 'name': 'AI benchmarking warmup', 'url': '/project/ai-benchmarking-warmup/', 'type': 'QS', 'sign_up_fields': [], 'type_str': 'project', 'score_type': 'SPOT_PEER_SCORE', 'config': {'is_fab_project': True}}], 'primary_project': {'id': 3294, 'name': 'AI benchmarking warmup', 'url': '/project/ai-benchmarking-warmup/', 'type': 'QS', 'sign_up_fields': [], 'type_str': 'project', 'score_type': 'SPOT_PEER_SCORE', 'config': {'is_fab_project': True}}, 'medals_end_year': None, 'medals_duration': None, 'unweighted_community_prediction_v2': None, 'recency_weighted_community_prediction_v2': None, 'cp_baseline_score': None, 'cp_peer_score': None, 'summary': '', 'user_vote': 0, 'my_predictions': None, 'divergence': None, 'peer_score': None, 'spot_peer_score': None, 'baseline_score': None, 'user_prediction_sequence': None, 'description': \"Launched in September, 1977, the Voyager 1 spacecraft is currently the most distant manmade object in space. Amazingly, it continues to 'phone home' even from its position beyond the heliosheath. How we keep in touch with this little spaceship that could--currently 141 AUs away from us and counting, as of April 30, 2018--is astonishing. As NASA explains: 'The sensitivity of our deep-space tracking antennas located around the world is truly amazing. The antennas must capture Voyager information from a signal so weak that the power striking the antenna is only 10 exponent -16 watts (1 part in 10 quadrillion). A modern-day electronic digital watch operates at a power level 20 billion times greater than this feeble level.' Alas, in spite of all this awesome science, Voyager 1's days are numbered. Its fuel is nearly spent. In just a few years, it will bleat out its last signal, and then we'll hear from it no more. As The Atlantic reports: 'The Voyagers [including Voyager 2] eventually will go quiet. The spacecrafts' electric power, supplied by radioisotope thermoelectric generators, weakens each day. Dodd said scientists and engineers will likely begin shutting off instruments in 2020, a debate that she says is already underway. 'These scientists have had their instruments on for 40 years,' she said. 'Nobody wants to be the first one turned off.' The spacecrafts' transmitters will be the last to go. They will die on their own, in the late 2020s or perhaps in the 2030s. 'One day we'll be looking for the signal and we won't hear it anymore,' Dodd said. What will happen to it then? The ship's odyssey into the great black unknown is just beginning. Lots of speculation on Quora, including this cool passage: 'About [the Voyagers'] eventual fate, will they be intercepted by intelligent lifeforms? We honestly don't know. What we know is that both crafts will be confined to the Milky Way galaxy. Our solar system is traveling around the galaxy at about 514,000 mph, 15 times as fast as the Voyagers' current speeds. This means that in a few hundred million years, our paths will again cross, or certainly get close. Earth might already be vacant of humans in that time, but not necessarily in space. Humanity might be scattered all over the galaxy and maybe, in a strange twist of fate, the [Golden Records], humanity's message in a bottle to other intelligent lifeforms out there, were actually meant for our own descendants.'\", 'resolution_criteria': 'Question will resolve as YES if the last credible signal from Voyager 1 is received between 2028-12-31 and 2032-12-31, after no signal has been received for one year, and NO otherwise.', 'fine_print': '', 'categories': [], 'status': 'A'}\n",
      "\n",
      "\n",
      "19\n",
      "{'active_state': 'CLOSED', 'url': 'https://www.metaculus.com/api2/questions/25386/', 'page_url': '/questions/25386/will-spacex-launch-humans-around-the-moo/', 'id': 25386, 'author': 122456, 'author_name': 'nlp-pipeline-service-account', 'author_id': 122456, 'title': 'Will SpaceX launch humans around the Moon between 2024-12-31 and 2032-12-31?', 'title_short': 'Will SpaceX launch humans around the Moo', 'group_label': '', 'resolution': None, 'resolved_option': None, 'created_time': '2024-06-10T16:03:38.062832Z', 'publish_time': '2024-06-10T17:00:00Z', 'close_time': '2024-06-18T17:00:00Z', 'effected_close_time': None, 'resolve_time': '2051-01-01T05:00:00Z', 'possibilities': {'type': 'binary'}, 'scoring': {}, 'type': 'forecast', 'user_perms': {'PREDICT': True, 'RESOLVE': False, 'COMMENT_READ': True, 'COMMENT_POST': True, 'COMMENT_EDIT': True, 'COMMENT_MOD': False, 'EDIT_DRAFT_CONTENT': False, 'EDIT_PENDING_CONTENT': False, 'EDIT_UPCOMING_CONTENT': False, 'EDIT_LIVE_CONTENT': False, 'EDIT_CATEGORIES': False, 'CHANGE_DRAFT_STATUS': False, 'CHANGE_PENDING_STATUS': False, 'CHANGE_ACTIVE_STATUS': False, 'CROSSPOST': False, 'VIEW_COMMUNITY_PRED': True, 'VIEW_METACULUS_PRED': False, 'VIEW_COMMUNITY_PRED_AFTER_CLOSE': False, 'VIEW_METACULUS_PRED_AFTER_CLOSE': True, 'VIEW_AUTHORS_ANONYMIZED': False}, 'weekly_movement': None, 'weekly_movement_direction': 0, 'cp_reveal_time': '2024-06-18T17:00:00Z', 'edited_time': '2024-06-18T16:04:16.359537Z', 'last_activity_time': '2024-06-15T00:17:28.368075Z', 'activity': 3.109473706077745e-10, 'comment_count': 0, 'votes': 0, 'metaculus_prediction': {'full': None, 'history': []}, 'community_prediction': {'full': {'y': []}, 'history': [], 'unweighted': {'y': []}}, 'number_of_forecasters': 0, 'prediction_count': 0, 'approved_by': 'nlp-pipeline-service-account', 'approved_time': '2024-06-10T16:03:38.863766Z', 'approved_by_id': 122456, 'related_questions': [], 'group': None, 'condition': None, 'sub_questions': [], 'total_sub_question_count': 0, 'options': [], 'has_fan_graph': False, 'image_url': '', 'projects': [{'id': 3294, 'name': 'AI benchmarking warmup', 'url': '/project/ai-benchmarking-warmup/', 'type': 'QS', 'sign_up_fields': [], 'type_str': 'project', 'score_type': 'SPOT_PEER_SCORE', 'config': {'is_fab_project': True}}], 'primary_project': {'id': 3294, 'name': 'AI benchmarking warmup', 'url': '/project/ai-benchmarking-warmup/', 'type': 'QS', 'sign_up_fields': [], 'type_str': 'project', 'score_type': 'SPOT_PEER_SCORE', 'config': {'is_fab_project': True}}, 'medals_end_year': None, 'medals_duration': None, 'unweighted_community_prediction_v2': None, 'recency_weighted_community_prediction_v2': None, 'cp_baseline_score': None, 'cp_peer_score': None, 'summary': '', 'comment_count_snapshot': 0, 'user_vote': 0, 'user_community_vis': 0, 'my_predictions': None, 'divergence': None, 'peer_score': None, 'spot_peer_score': None, 'baseline_score': None, 'user_prediction_sequence': None, 'description': \"24 humans, all professional astronauts in the US Apollo program, have entered Lunar space. SpaceX and Japanese Billionaire Yusaku Maezawa are currently planning the dearMoon project flight around the Moon for 2023. The current plan is for SpaceX to launch a Starship around the Moon carrying Maezawa himself, one or two crew members, and eight members of the public selected by Maezawa. The schedule and nature of the dearMoon project has changed in the past, with its original incarnation planned for launch in 2018 on SpaceX's Crew Dragon 2 capsule and Falcon Heavy launch vehicle. Given this, it seems plausible that the schedule and nature of the dearMoon project could change again. Besides the dearMoon project, as of March 2021 SpaceX also has a vehicle in consideration for the Human Landing System in NASA's Artemis program. The first Artemis program mission involving the Human Landing System is as of March 2021 scheduled for October 2024, though as of March 2021 Metaculus predicts that mission will occur in 2028.\", 'resolution_criteria': \"This question resolves positively if a vehicle primarily owned, operated, or constructed by SpaceX simultaneously has at least one living human aboard and is within 58,000 km of the Moon's surface and the date is between 2024-12-31 and 2032-12-31. The vehicle need not have launched with humans aboard, nor need it enter orbit around nor land on the Moon. For comparison, Apollo 13 carried humans within 158 km of the Moon's surface without landing on or entering orbit around the Moon.\", 'fine_print': '', 'categories': [], 'status': 'A'}\n",
      "\n",
      "\n",
      "20\n",
      "{'active_state': 'CLOSED', 'url': 'https://www.metaculus.com/api2/questions/25385/', 'page_url': '/questions/25385/will-tesla-bots-be-available-to-us-consu/', 'id': 25385, 'author': 122456, 'author_name': 'nlp-pipeline-service-account', 'author_id': 122456, 'title': 'Will Tesla Bots be available to US consumers between 2025-12-31 and 2030-12-31?', 'title_short': 'Will Tesla Bots be available to US consu', 'group_label': '', 'resolution': None, 'resolved_option': None, 'created_time': '2024-06-10T16:03:38.061302Z', 'publish_time': '2024-06-10T17:00:00Z', 'close_time': '2024-06-18T17:00:00Z', 'effected_close_time': None, 'resolve_time': '2040-01-01T00:00:00Z', 'possibilities': {'type': 'binary'}, 'scoring': {}, 'type': 'forecast', 'user_perms': {'PREDICT': True, 'RESOLVE': False, 'COMMENT_READ': True, 'COMMENT_POST': True, 'COMMENT_EDIT': True, 'COMMENT_MOD': False, 'EDIT_DRAFT_CONTENT': False, 'EDIT_PENDING_CONTENT': False, 'EDIT_UPCOMING_CONTENT': False, 'EDIT_LIVE_CONTENT': False, 'EDIT_CATEGORIES': False, 'CHANGE_DRAFT_STATUS': False, 'CHANGE_PENDING_STATUS': False, 'CHANGE_ACTIVE_STATUS': False, 'CROSSPOST': False, 'VIEW_COMMUNITY_PRED': True, 'VIEW_METACULUS_PRED': False, 'VIEW_COMMUNITY_PRED_AFTER_CLOSE': False, 'VIEW_METACULUS_PRED_AFTER_CLOSE': True, 'VIEW_AUTHORS_ANONYMIZED': False}, 'weekly_movement': None, 'weekly_movement_direction': 0, 'cp_reveal_time': '2024-06-18T17:00:00Z', 'edited_time': '2024-06-18T16:08:38.144123Z', 'last_activity_time': '2024-06-15T00:16:42.426502Z', 'activity': 3.1072198395476635e-10, 'comment_count': 0, 'votes': 0, 'metaculus_prediction': {'full': None, 'history': []}, 'community_prediction': {'full': {'y': []}, 'history': [], 'unweighted': {'y': []}}, 'number_of_forecasters': 0, 'prediction_count': 0, 'approved_by': 'nlp-pipeline-service-account', 'approved_time': '2024-06-10T16:03:38.930106Z', 'approved_by_id': 122456, 'related_questions': [], 'group': None, 'condition': None, 'sub_questions': [], 'total_sub_question_count': 0, 'options': [], 'has_fan_graph': False, 'image_url': '', 'projects': [{'id': 3294, 'name': 'AI benchmarking warmup', 'url': '/project/ai-benchmarking-warmup/', 'type': 'QS', 'sign_up_fields': [], 'type_str': 'project', 'score_type': 'SPOT_PEER_SCORE', 'config': {'is_fab_project': True}}], 'primary_project': {'id': 3294, 'name': 'AI benchmarking warmup', 'url': '/project/ai-benchmarking-warmup/', 'type': 'QS', 'sign_up_fields': [], 'type_str': 'project', 'score_type': 'SPOT_PEER_SCORE', 'config': {'is_fab_project': True}}, 'medals_end_year': None, 'medals_duration': None, 'unweighted_community_prediction_v2': None, 'recency_weighted_community_prediction_v2': None, 'cp_baseline_score': None, 'cp_peer_score': None, 'summary': '', 'user_vote': 0, 'my_predictions': None, 'divergence': None, 'peer_score': None, 'spot_peer_score': None, 'baseline_score': None, 'user_prediction_sequence': None, 'description': \"On August 19 2021, at Tesla's AI Day event, Tesla, Inc. CEO Elon Musk unveiled a design for the Tesla Bot, a humanoid robot. According to The Verge, Tesla CEO Elon Musk says his company is working on a humanoid robot and that it will build a prototype sometime next year. The humanoid robot will leverage Tesla's experience with automated machines in its factories, as well as some of the hardware and software that powers the company's Autopilot driver assistance software. Musk, who has spoken publicly about his fears of runaway artificial intelligence, said Tesla is intended to be friendly, but that Tesla is designing the robot at a mechanical level so that you can run away from it, and most likely overpower it. It will be five feet, eight inches tall, and have a screen for a face. The robots will be designed to handle tasks that are unsafe, repetitive or boring, the company's website reads. I think essentially in the future, physical work will be a choice, if you if you want to do it you can.\", 'resolution_criteria': 'This question will resolve as YES if the earliest date on which general US consumers can take delivery from Tesla, Inc. a device having characteristics broadly in line with those of the proposed Tesla Bot is between 2025-12-31 and 2030-12-31, and NO otherwise. In particular, the device must be a humanoid robot, and must be able to perform some physical tasks upon being given directions to do so - a remote-controlled device manually operated by a human will not count. Note that this question will resolve as the first date on which general consumers physically possess the device, having purchased it, leased it, licensed it, or otherwise contracted with Tesla for physical custody of it, not on the date on which a deposit can be placed, a device can be ordered, pre-ordered, or otherwise contracted for. The consumers must be legally entitled to operate the device; a right to possess but not operate the device will not count.', 'fine_print': '', 'categories': [], 'status': 'A'}\n",
      "\n",
      "\n",
      "21\n",
      "{'active_state': 'CLOSED', 'url': 'https://www.metaculus.com/api2/questions/25139/', 'page_url': '/questions/25139/will-the-maximum-weekly-rate-of-hospital/', 'id': 25139, 'author': 122456, 'author_name': 'nlp-pipeline-service-account', 'author_id': 122456, 'title': 'Will the maximum weekly rate of hospitalizations per 100,000 in the US occur within four weeks of the combined peak for each of COVID, influenza, and RSV in the 2023-24 season?', 'title_short': 'Will the maximum weekly rate of hospital', 'group_label': '', 'resolution': None, 'resolved_option': None, 'created_time': '2024-06-06T12:48:59.778117Z', 'publish_time': '2024-06-06T01:00:00Z', 'close_time': '2024-06-11T17:00:00Z', 'effected_close_time': None, 'resolve_time': '2024-06-29T13:00:00Z', 'possibilities': {'type': 'binary'}, 'scoring': {}, 'type': 'forecast', 'user_perms': {'PREDICT': True, 'RESOLVE': False, 'COMMENT_READ': True, 'COMMENT_POST': True, 'COMMENT_EDIT': True, 'COMMENT_MOD': False, 'EDIT_DRAFT_CONTENT': False, 'EDIT_PENDING_CONTENT': False, 'EDIT_UPCOMING_CONTENT': False, 'EDIT_LIVE_CONTENT': False, 'EDIT_CATEGORIES': False, 'CHANGE_DRAFT_STATUS': False, 'CHANGE_PENDING_STATUS': False, 'CHANGE_ACTIVE_STATUS': False, 'CROSSPOST': False, 'VIEW_COMMUNITY_PRED': True, 'VIEW_METACULUS_PRED': False, 'VIEW_COMMUNITY_PRED_AFTER_CLOSE': False, 'VIEW_METACULUS_PRED_AFTER_CLOSE': True, 'VIEW_AUTHORS_ANONYMIZED': False}, 'weekly_movement': None, 'weekly_movement_direction': 0, 'cp_reveal_time': '2024-06-11T17:00:00Z', 'edited_time': '2024-06-11T16:04:35.096436Z', 'last_activity_time': '2024-06-11T00:36:21.277995Z', 'activity': 2.672736887654376e-12, 'comment_count': 8, 'votes': 0, 'metaculus_prediction': {'full': None, 'history': []}, 'community_prediction': {'full': {'y': []}, 'history': [], 'unweighted': {'y': []}}, 'number_of_forecasters': 0, 'prediction_count': 0, 'approved_by': 'nlp-pipeline-service-account', 'approved_time': '2024-06-06T12:49:00.925668Z', 'approved_by_id': 122456, 'related_questions': [], 'group': None, 'condition': None, 'sub_questions': [], 'total_sub_question_count': 0, 'options': [], 'has_fan_graph': False, 'image_url': '', 'projects': [{'id': 3294, 'name': 'AI benchmarking warmup', 'url': '/project/ai-benchmarking-warmup/', 'type': 'QS', 'sign_up_fields': [], 'type_str': 'project', 'score_type': 'SPOT_PEER_SCORE', 'config': {'is_fab_project': True}}], 'primary_project': {'id': 3294, 'name': 'AI benchmarking warmup', 'url': '/project/ai-benchmarking-warmup/', 'type': 'QS', 'sign_up_fields': [], 'type_str': 'project', 'score_type': 'SPOT_PEER_SCORE', 'config': {'is_fab_project': True}}, 'medals_end_year': None, 'medals_duration': None, 'unweighted_community_prediction_v2': None, 'recency_weighted_community_prediction_v2': None, 'cp_baseline_score': None, 'cp_peer_score': None, 'summary': '', 'user_vote': 0, 'my_predictions': None, 'divergence': None, 'peer_score': None, 'spot_peer_score': None, 'baseline_score': None, 'user_prediction_sequence': None, 'description': 'The US Centers for Disease Control and Prevention (CDC) closely monitors respiratory illnesses, particularly when these illnesses increase in prevalence during the winter. One monitoring and data sharing tool the CDC uses is [RESP-NET](https://www.cdc.gov/surveillance/resp-net/dashboard.html), which it describes as follows:\\n\\n>The Respiratory Virus Hospitalization Surveillance Network (RESP-NET) comprises three networks that conduct population-based surveillance for laboratory-confirmed hospitalizations associated with COVID-19, respiratory syncytial virus (RSV), and influenza among children and adults. While RESP-NET does not collect data on all hospitalizations caused by respiratory illnesses, it can describe hospitalizations caused by three viruses that account for a large proportion of these hospitalizations. Surveillance is conducted through a network of acute care hospitals in select counties or county equivalents in 12 states for RSV surveillance, 13 states for COVID-19 surveillance, and 14 states for influenza surveillance. The surveillance platforms for COVID-19, RSV, and influenza (known as [COVID-NET](https://www.cdc.gov/coronavirus/2019-ncov/covid-data/covid-net/purpose-methods.html), [RSV-NET](https://www.cdc.gov/rsv/research/rsv-net/overview-methods.html), and [FluSurv-NET](https://www.cdc.gov/flu/weekly/influenza-hospitalization-surveillance.htm), respectively) cover more than 30 million people and include an estimated 8-10% of the U.S. population.\\n\\nThe underlying source data for the RESP-NET dashboard can be found at [this link](https://data.cdc.gov/Public-Health-Surveillance/Rates-of-Laboratory-Confirmed-RSV-COVID-19-and-Flu/kvib-3txy).\\n\\nIn its [Respiratory Disease Season Outlook](https://www.cdc.gov/respiratory-viruses/whats-new/2023-2024-season-outlook.html) for 2023-24, the CDC describes the 2022-23 peak as a \"tripledemic\" due to high incidence of COVID, flu, and RSV at the same time. The [RESP-NET](https://www.cdc.gov/surveillance/resp-net/dashboard.html) figures for the 2022-23 season show a large combined peak hospitalization rate of 22.2 per 100,000 for the week ending December 3, 2022, coinciding with the maximum rate for flu and less than a month from the maximum rate for RSV which occurred during the week ending November 12, 2022, and also less than a month from the maximum rate for COVID which occurred on the week ending December 31, 2022.', 'resolution_criteria': 'This question will resolve as **Yes** if the maximum weekly rate of hospitalizations per 100,000 for each of COVID, influenza, and RSV that occurs in the 2023-24 season is less than or equal to four weeks (28 days) from the date of the maximum rate for all three combined, according to the CDC\\'s [RESP-NET](https://www.cdc.gov/surveillance/resp-net/dashboard.html). The four weeks will be based on the week end dates. The CDC uses \"epidemiological weeks\" which begin on Sunday and end on Saturday. The rate used will be that for all ages, races, and sexes. See the fine print for the correct filters. For the purposes of this question, the 2023-2024 season will be considered to begin with the week ending on October 7, 2023, and end on the week ending June 1, 2024.\\n\\nTo allow for data revisions and reporting delays the question will resolve according to data shown after the reporting delay period, when the relevant figures for the current season is not shown as a dashed line, typically 4 weeks after the week end date.', 'fine_print': '', 'categories': [], 'status': 'A'}\n",
      "\n",
      "\n",
      "22\n",
      "{'active_state': 'CLOSED', 'url': 'https://www.metaculus.com/api2/questions/25140/', 'page_url': '/questions/25140/on-june-28th-2024-will-nvidias-market/', 'id': 25140, 'author': 122456, 'author_name': 'nlp-pipeline-service-account', 'author_id': 122456, 'title': \"On June 28th, 2024, will Nvidia's market capitalization be larger than Apple's?\", 'title_short': \"On June 28th, 2024, will Nvidia's market\", 'group_label': '', 'resolution': None, 'resolved_option': None, 'created_time': '2024-06-06T12:48:59.791078Z', 'publish_time': '2024-06-06T01:00:00Z', 'close_time': '2024-06-11T17:00:00Z', 'effected_close_time': None, 'resolve_time': '2024-06-28T20:00:00Z', 'possibilities': {'type': 'binary'}, 'scoring': {}, 'type': 'forecast', 'user_perms': {'PREDICT': True, 'RESOLVE': False, 'COMMENT_READ': True, 'COMMENT_POST': True, 'COMMENT_EDIT': True, 'COMMENT_MOD': False, 'EDIT_DRAFT_CONTENT': False, 'EDIT_PENDING_CONTENT': False, 'EDIT_UPCOMING_CONTENT': False, 'EDIT_LIVE_CONTENT': False, 'EDIT_CATEGORIES': False, 'CHANGE_DRAFT_STATUS': False, 'CHANGE_PENDING_STATUS': False, 'CHANGE_ACTIVE_STATUS': False, 'CROSSPOST': False, 'VIEW_COMMUNITY_PRED': True, 'VIEW_METACULUS_PRED': False, 'VIEW_COMMUNITY_PRED_AFTER_CLOSE': False, 'VIEW_METACULUS_PRED_AFTER_CLOSE': True, 'VIEW_AUTHORS_ANONYMIZED': False}, 'weekly_movement': None, 'weekly_movement_direction': 0, 'cp_reveal_time': '2024-06-11T17:00:00Z', 'edited_time': '2024-06-11T16:04:57.692361Z', 'last_activity_time': '2024-06-11T00:05:54.412755Z', 'activity': 1.9838570121129803e-12, 'comment_count': 4, 'votes': 0, 'metaculus_prediction': {'full': None, 'history': []}, 'community_prediction': {'full': {'y': []}, 'history': [], 'unweighted': {'y': []}}, 'number_of_forecasters': 0, 'prediction_count': 0, 'approved_by': 'nlp-pipeline-service-account', 'approved_time': '2024-06-06T12:49:01.046608Z', 'approved_by_id': 122456, 'related_questions': [], 'group': None, 'condition': None, 'sub_questions': [], 'total_sub_question_count': 0, 'options': [], 'has_fan_graph': False, 'image_url': '', 'projects': [{'id': 3294, 'name': 'AI benchmarking warmup', 'url': '/project/ai-benchmarking-warmup/', 'type': 'QS', 'sign_up_fields': [], 'type_str': 'project', 'score_type': 'SPOT_PEER_SCORE', 'config': {'is_fab_project': True}}], 'primary_project': {'id': 3294, 'name': 'AI benchmarking warmup', 'url': '/project/ai-benchmarking-warmup/', 'type': 'QS', 'sign_up_fields': [], 'type_str': 'project', 'score_type': 'SPOT_PEER_SCORE', 'config': {'is_fab_project': True}}, 'medals_end_year': None, 'medals_duration': None, 'unweighted_community_prediction_v2': None, 'recency_weighted_community_prediction_v2': None, 'cp_baseline_score': None, 'cp_peer_score': None, 'summary': '', 'user_vote': 0, 'my_predictions': None, 'divergence': None, 'peer_score': None, 'spot_peer_score': None, 'baseline_score': None, 'user_prediction_sequence': None, 'description': \"Since late 2022, Nvidia Corporation has experienced nearly 10x growth in market capitalization, driven by its [dominance in the AI chip market](https://finance.yahoo.com/news/nvidias-ai-chip-dominance-continue-210200974.html). Nvidia's GPUs are critical in the development of large language models, and are highly sought after by major tech companies like OpenAI, Microsoft, Amazon, and Alphabet.\\n\\nOn May 22nd, Nvidia released [impressive Q1 financial results](https://nvidianews.nvidia.com/news/nvidia-announces-financial-results-for-first-quarter-fiscal-2025#:~:text=NVIDIA%20(NASDAQ%3A%20NVDA)%20today,262%25%20from%20a%20year%20ago.) and simultaneously announced a 10:1 stock split and increase to its dividend, sending its stock price to new all-time highs.\", 'resolution_criteria': 'This question resolves **Yes** if, on June 28, 2024, the market cap of Nvidia is greater than that of Apple, according to [Companies Market Cap](https://companiesmarketcap.com/), when checked by Metaculus at approximately 4 PM EDT (8 PM UTC).', 'fine_print': '', 'categories': [], 'status': 'A'}\n",
      "\n",
      "\n",
      "23\n",
      "{'active_state': 'CLOSED', 'url': 'https://www.metaculus.com/api2/questions/25141/', 'page_url': '/questions/25141/short-fuse-will-the-proxy-advisor-inst/', 'id': 25141, 'author': 122456, 'author_name': 'nlp-pipeline-service-account', 'author_id': 122456, 'title': \"[Short Fuse] Will the proxy advisor Institutional Shareholder Services (ISS) advise Tesla shareholders to vote against Elon Musk's $57 billion package OR the re-election of Kimbal Musk?\", 'title_short': '[Short Fuse] Will the proxy advisor Inst', 'group_label': '', 'resolution': None, 'resolved_option': None, 'created_time': '2024-06-06T12:48:59.784040Z', 'publish_time': '2024-06-06T01:00:00Z', 'close_time': '2024-06-11T17:00:00Z', 'effected_close_time': None, 'resolve_time': '2024-06-14T11:00:00Z', 'possibilities': {'type': 'binary'}, 'scoring': {}, 'type': 'forecast', 'user_perms': {'PREDICT': True, 'RESOLVE': False, 'COMMENT_READ': True, 'COMMENT_POST': True, 'COMMENT_EDIT': True, 'COMMENT_MOD': False, 'EDIT_DRAFT_CONTENT': False, 'EDIT_PENDING_CONTENT': False, 'EDIT_UPCOMING_CONTENT': False, 'EDIT_LIVE_CONTENT': False, 'EDIT_CATEGORIES': False, 'CHANGE_DRAFT_STATUS': False, 'CHANGE_PENDING_STATUS': False, 'CHANGE_ACTIVE_STATUS': False, 'CROSSPOST': False, 'VIEW_COMMUNITY_PRED': True, 'VIEW_METACULUS_PRED': False, 'VIEW_COMMUNITY_PRED_AFTER_CLOSE': False, 'VIEW_METACULUS_PRED_AFTER_CLOSE': True, 'VIEW_AUTHORS_ANONYMIZED': False}, 'weekly_movement': None, 'weekly_movement_direction': 0, 'cp_reveal_time': '2024-06-11T17:00:00Z', 'edited_time': '2024-06-11T16:03:37.718826Z', 'last_activity_time': '2024-06-11T00:37:11.377442Z', 'activity': 1.262639590561089e-12, 'comment_count': 3, 'votes': 0, 'metaculus_prediction': {'full': None, 'history': []}, 'community_prediction': {'full': {'y': []}, 'history': [], 'unweighted': {'y': []}}, 'number_of_forecasters': 0, 'prediction_count': 0, 'approved_by': 'nlp-pipeline-service-account', 'approved_time': '2024-06-06T12:49:00.815672Z', 'approved_by_id': 122456, 'related_questions': [], 'group': None, 'condition': None, 'sub_questions': [], 'total_sub_question_count': 0, 'options': [], 'has_fan_graph': False, 'image_url': '', 'projects': [{'id': 3294, 'name': 'AI benchmarking warmup', 'url': '/project/ai-benchmarking-warmup/', 'type': 'QS', 'sign_up_fields': [], 'type_str': 'project', 'score_type': 'SPOT_PEER_SCORE', 'config': {'is_fab_project': True}}], 'primary_project': {'id': 3294, 'name': 'AI benchmarking warmup', 'url': '/project/ai-benchmarking-warmup/', 'type': 'QS', 'sign_up_fields': [], 'type_str': 'project', 'score_type': 'SPOT_PEER_SCORE', 'config': {'is_fab_project': True}}, 'medals_end_year': None, 'medals_duration': None, 'unweighted_community_prediction_v2': None, 'recency_weighted_community_prediction_v2': None, 'cp_baseline_score': None, 'cp_peer_score': None, 'summary': '', 'comment_count_snapshot': 3, 'user_vote': 0, 'user_community_vis': 0, 'my_predictions': None, 'divergence': None, 'peer_score': None, 'spot_peer_score': None, 'baseline_score': None, 'user_prediction_sequence': None, 'description': \"Elon Musk is the current CEO of Tesla and owns around 13% of the company. During its founding years in 2003 - 2005, Musk invested heavily into the company, eventually becoming chair of the board of directors and one of the largest shareholders; he subsequently became CEO in October 2008. His success at the company has seen Tesla become the 17th largest company in the world by market cap with its share price soaring since its June 2010 IPO.\\n\\nAs a result of his immense success as CEO, a $56 billion pay package to Musk was approved by Tesla's board of the directors in 2018. However, Musk has yet to receive this package, as per the [FT](https://www.ft.com/content/8d823cef-543a-4d33-afa0-c68f081842d1):\\n\\n>Tesla’s board has been lobbying investors to re-ratify the $56bn award given in 2018, which was struck down by a Delaware judge in January due to concerns over its size and the independence of the board. In response, Musk vowed to leave the state and move Tesla’s incorporation to Texas.\\n\\n>Tesla chair Robyn Denholm has argued that Musk deserves to be paid so much because the company hit ambitious targets for revenue and its stock price. She brushed off criticism she is too close to the CEO as “crap”.\\n\\nAside from the sheer size of the pay package - the largest of its kind - those who oppose it call into question various decisions made by Musk during his tenure as CEO. In particular,  Musk's social media activity has been called into question, and perhaps most notably the:\\n\\n- Purchase - and subsequent rebrand - of Twitter (now X) for $44 billion which has attracted a lot of negative criticism and has also seen Musk spend a disproportionate amount of time at that company instead of Tesla.\\n\\n - Purchase of $1.5 billion of Bitcoin in 2021 and allowing the cryptocurrency to be used by customers for purchasing Tesla automobiles. The company promptly stopped accepting the currency - causing the price to plummet - after which Tesla announced they had sold almost all of their Bitcoin holdings at a loss.\\n\\nDuring significant shareholder votes like this one, influential proxy advisory firms often send out advice to shareholders on what to vote and why. According to [Wikipedia](https://en.wikipedia.org/wiki/Proxy_firm):\\n\\n>A proxy firm provides services to shareholders (in most cases an institutional investor of some type) to vote their shares at shareholder meetings of, usually, listed companies.\\n\\nThe two largest proxy advisory firms are ISS and Glass Lewis. The latter has [advised](https://www.ft.com/content/8d823cef-543a-4d33-afa0-c68f081842d1) shareholders *not* to vote in favour of Musk's package as well as advising shareholders to vote against the re-election of Kimbal Musk - brother of Elon Musk - from the board of directors. The ISS, however, has yet to issue any advice with respect to the June 13 shareholder meeting.\\n\\n---------------------\\n\\nSee related question:\\n\\n[*Will a non-Disney-nominated board member be elected to Disney's board at the April 3, 2024, shareholder meeting?*](https://www.metaculus.com/questions/21972/non-disney-board-member-elected-april-2024/)\", 'resolution_criteria': \"The question will resolve **Yes** if Institutional Shareholder Services (ISS) releases a statement explicitly advising Tesla shareholders to vote *against* Elon Musk's pay package at the 2024 Tesla shareholder meeting OR the re-election of Kimbal Musk to the Tesla board of directors. Otherwise the question will resolve as **No**.\", 'fine_print': '', 'categories': [], 'status': 'A'}\n",
      "\n",
      "\n",
      "24\n",
      "{'active_state': 'CLOSED', 'url': 'https://www.metaculus.com/api2/questions/25135/', 'page_url': '/questions/25135/on-june-28th-2024-will-nvidias-market/', 'id': 25135, 'author': 122456, 'author_name': 'nlp-pipeline-service-account', 'author_id': 122456, 'title': \"On June 28th, 2024, will Nvidia's market capitalization be larger than Apple's?\", 'title_short': \"On June 28th, 2024, will Nvidia's market\", 'group_label': '', 'resolution': None, 'resolved_option': None, 'created_time': '2024-06-06T12:48:59.751615Z', 'publish_time': '2024-06-06T01:00:00Z', 'close_time': '2024-06-11T17:00:00Z', 'effected_close_time': None, 'resolve_time': '2024-06-27T20:00:00Z', 'possibilities': {'type': 'binary'}, 'scoring': {}, 'type': 'forecast', 'user_perms': {'PREDICT': True, 'RESOLVE': False, 'COMMENT_READ': True, 'COMMENT_POST': True, 'COMMENT_EDIT': True, 'COMMENT_MOD': False, 'EDIT_DRAFT_CONTENT': False, 'EDIT_PENDING_CONTENT': False, 'EDIT_UPCOMING_CONTENT': False, 'EDIT_LIVE_CONTENT': False, 'EDIT_CATEGORIES': False, 'CHANGE_DRAFT_STATUS': False, 'CHANGE_PENDING_STATUS': False, 'CHANGE_ACTIVE_STATUS': False, 'CROSSPOST': False, 'VIEW_COMMUNITY_PRED': True, 'VIEW_METACULUS_PRED': False, 'VIEW_COMMUNITY_PRED_AFTER_CLOSE': False, 'VIEW_METACULUS_PRED_AFTER_CLOSE': True, 'VIEW_AUTHORS_ANONYMIZED': False}, 'weekly_movement': None, 'weekly_movement_direction': 0, 'cp_reveal_time': '2024-06-11T17:00:00Z', 'edited_time': '2024-06-20T05:17:18.125616Z', 'last_activity_time': '2024-06-20T05:17:18.112531Z', 'activity': 1.2355700600589357e-12, 'comment_count': 0, 'votes': 1, 'metaculus_prediction': {'full': None, 'history': []}, 'community_prediction': {'full': {'y': []}, 'history': [], 'unweighted': {'y': []}}, 'number_of_forecasters': 0, 'prediction_count': 0, 'approved_by': 'nlp-pipeline-service-account', 'approved_time': '2024-06-06T12:49:00.937021Z', 'approved_by_id': 122456, 'related_questions': [], 'group': None, 'condition': None, 'sub_questions': [], 'total_sub_question_count': 0, 'options': [], 'has_fan_graph': False, 'image_url': '', 'projects': [{'id': 3294, 'name': 'AI benchmarking warmup', 'url': '/project/ai-benchmarking-warmup/', 'type': 'QS', 'sign_up_fields': [], 'type_str': 'project', 'score_type': 'SPOT_PEER_SCORE', 'config': {'is_fab_project': True}}], 'primary_project': {'id': 3294, 'name': 'AI benchmarking warmup', 'url': '/project/ai-benchmarking-warmup/', 'type': 'QS', 'sign_up_fields': [], 'type_str': 'project', 'score_type': 'SPOT_PEER_SCORE', 'config': {'is_fab_project': True}}, 'medals_end_year': None, 'medals_duration': None, 'unweighted_community_prediction_v2': None, 'recency_weighted_community_prediction_v2': None, 'cp_baseline_score': None, 'cp_peer_score': None, 'summary': '', 'comment_count_snapshot': 0, 'user_vote': 0, 'user_community_vis': 0, 'my_predictions': None, 'divergence': None, 'peer_score': None, 'spot_peer_score': None, 'baseline_score': None, 'user_prediction_sequence': None, 'description': \"Since late 2022, Nvidia Corporation has experienced nearly 10x growth in market capitalization, driven by its [dominance in the AI chip market](https://finance.yahoo.com/news/nvidias-ai-chip-dominance-continue-210200974.html). Nvidia's GPUs are critical in the development of large language models, and are highly sought after by major tech companies like OpenAI, Microsoft, Amazon, and Alphabet.\\n\\nOn May 22nd, Nvidia released [impressive Q1 financial results](https://nvidianews.nvidia.com/news/nvidia-announces-financial-results-for-first-quarter-fiscal-2025#:~:text=NVIDIA%20(NASDAQ%3A%20NVDA)%20today,262%25%20from%20a%20year%20ago.) and simultaneously announced a 10:1 stock split and increase to its dividend, sending its stock price to new all-time highs.\", 'resolution_criteria': 'This question resolves **Yes** if, on June 28, 2024, the market cap of Nvidia is greater than that of Apple, according to [Companies Market Cap](https://companiesmarketcap.com/), when checked by Metaculus at approximately 4 PM EDT (8 PM UTC).', 'fine_print': '', 'categories': [], 'status': 'A'}\n",
      "\n",
      "\n",
      "25\n",
      "{'active_state': 'CLOSED', 'url': 'https://www.metaculus.com/api2/questions/25136/', 'page_url': '/questions/25136/will-a-journalist-or-an-opposition-polit/', 'id': 25136, 'author': 122456, 'author_name': 'nlp-pipeline-service-account', 'author_id': 122456, 'title': 'Will a journalist or an opposition politician be charged in connection with the assassination attempt on Slovak PM Robert Fico, before June 15, 2024?', 'title_short': 'Will a journalist or an opposition polit', 'group_label': '', 'resolution': None, 'resolved_option': None, 'created_time': '2024-06-06T12:48:59.753158Z', 'publish_time': '2024-06-06T01:00:00Z', 'close_time': '2024-06-11T17:00:00Z', 'effected_close_time': None, 'resolve_time': '2024-06-15T10:00:00Z', 'possibilities': {'type': 'binary'}, 'scoring': {}, 'type': 'forecast', 'user_perms': {'PREDICT': True, 'RESOLVE': False, 'COMMENT_READ': True, 'COMMENT_POST': True, 'COMMENT_EDIT': True, 'COMMENT_MOD': False, 'EDIT_DRAFT_CONTENT': False, 'EDIT_PENDING_CONTENT': False, 'EDIT_UPCOMING_CONTENT': False, 'EDIT_LIVE_CONTENT': False, 'EDIT_CATEGORIES': False, 'CHANGE_DRAFT_STATUS': False, 'CHANGE_PENDING_STATUS': False, 'CHANGE_ACTIVE_STATUS': False, 'CROSSPOST': False, 'VIEW_COMMUNITY_PRED': True, 'VIEW_METACULUS_PRED': False, 'VIEW_COMMUNITY_PRED_AFTER_CLOSE': False, 'VIEW_METACULUS_PRED_AFTER_CLOSE': True, 'VIEW_AUTHORS_ANONYMIZED': False}, 'weekly_movement': None, 'weekly_movement_direction': 0, 'cp_reveal_time': '2024-06-11T17:00:00Z', 'edited_time': '2024-06-11T16:05:34.414929Z', 'last_activity_time': '2024-06-11T00:39:48.632308Z', 'activity': 1.2344883795003527e-12, 'comment_count': 0, 'votes': 0, 'metaculus_prediction': {'full': None, 'history': []}, 'community_prediction': {'full': {'y': []}, 'history': [], 'unweighted': {'y': []}}, 'number_of_forecasters': 0, 'prediction_count': 0, 'approved_by': 'nlp-pipeline-service-account', 'approved_time': '2024-06-06T12:49:01.007476Z', 'approved_by_id': 122456, 'related_questions': [], 'group': None, 'condition': None, 'sub_questions': [], 'total_sub_question_count': 0, 'options': [], 'has_fan_graph': False, 'image_url': '', 'projects': [{'id': 3294, 'name': 'AI benchmarking warmup', 'url': '/project/ai-benchmarking-warmup/', 'type': 'QS', 'sign_up_fields': [], 'type_str': 'project', 'score_type': 'SPOT_PEER_SCORE', 'config': {'is_fab_project': True}}], 'primary_project': {'id': 3294, 'name': 'AI benchmarking warmup', 'url': '/project/ai-benchmarking-warmup/', 'type': 'QS', 'sign_up_fields': [], 'type_str': 'project', 'score_type': 'SPOT_PEER_SCORE', 'config': {'is_fab_project': True}}, 'medals_end_year': None, 'medals_duration': None, 'unweighted_community_prediction_v2': None, 'recency_weighted_community_prediction_v2': None, 'cp_baseline_score': None, 'cp_peer_score': None, 'summary': '', 'user_vote': 0, 'my_predictions': None, 'divergence': None, 'peer_score': None, 'spot_peer_score': None, 'baseline_score': None, 'user_prediction_sequence': None, 'description': 'On May 15th, Slovak Prime Minister Robert Fico (SMER-SD party) was targeted in an [assassination attempt](https://apnews.com/article/slovakia-prime-minister-shooting-fico-23faba11c0f371ef0f69a34861337ae0) after leaving a governmental meeting in the town of Handlová. The assailant, Juraj Cintula, managed to fire at least five bullets from very close proximity before being subdued. Prime Minister Fico was urgently taken to the hospital; his [condition](https://www.cbsnews.com/miami/news/slovakia-prime-minister-robert-fico-shot/?intcid=CNR-02-0623) remains serious but stable.\\n\\nJust a few hours after the attack, the Deputy Chairman of the Slovak Parliament, Ľuboš Blaho (SMER-SD party), in an emotional speech, blamed the [\"liberal media\"](https://www.irozhlas.cz/zpravy-svet/nejvetsi-radikalove-vladni-koalice-obvinili-z-atentatu-na-fica-media-a-opozici_2405151955_jgr) and the political opposition for inciting the shooter. Concurrently, Andrej Danko, leader of the SNS party, which is a member of the ruling coalition, echoed this sentiment.\\n\\nRobert Kaliňák, the Deputy Prime Minister and Minister of Defence, has been the most prominent figure in the aftermath, with his statements also targeting the media and political opposition.\\n\\nOutgoing Slovak President Zuzana Čaputová and newly elected President Peter Pellegrini have called for societal calm and are orchestrating a [meeting](https://www.ceskenoviny.cz/zpravy/caputova-a-pellegrini-vyzvali-k-opusteni-bludneho-kruhu-nenavisti/2519316) with all major political entities in Slovakia, scheduled for May 21. However, so far, all governmental parties have either not responded or declined the invitation.\\n\\nTo date, apart from the shooter, only one individual has been charged in connection with the assassination attempt, and it was for spreading online hate. Paradoxically, despite the framing by the governmental politicians, the shooter was no fan of the liberal opposition and reportedly also a member of the recently disbanded [\"Slovenskí Branci\"](https://www.euronews.com/2024/05/15/what-is-known-about-suspect-allegedly-involved-in-shooting-of-robert-fico) paramilitary group, which had ties to Russia.', 'resolution_criteria': \"The question will be resolved as **YES** if [credible](https://www.metaculus.com/help/faq/#definitions) Slovak media outlets or international news organizations report that a Slovak journalist or opposition politician has been criminally charged in connection with the assassination attempt.\\n\\nAlternatively, the resolution will also be **YES** if relevant Slovak institutions (e.g., the public prosecutor's office, courts, police, and similar authorities) issue a statement to that effect.\\n\\nOtherwise, the question will be resolved as **NO**.\", 'fine_print': '', 'categories': [], 'status': 'A'}\n",
      "\n",
      "\n",
      "26\n",
      "{'active_state': 'CLOSED', 'url': 'https://www.metaculus.com/api2/questions/25137/', 'page_url': '/questions/25137/will-fidesz-kdnp-maintain-its-eu-plurali/', 'id': 25137, 'author': 122456, 'author_name': 'nlp-pipeline-service-account', 'author_id': 122456, 'title': 'Will Fidesz-KDNP Maintain Its EU Plurality from Hungary in 2024?', 'title_short': 'Will Fidesz-KDNP Maintain Its EU Plurali', 'group_label': '', 'resolution': None, 'resolved_option': None, 'created_time': '2024-06-06T12:48:59.764872Z', 'publish_time': '2024-06-06T01:00:00Z', 'close_time': '2024-06-11T17:00:00Z', 'effected_close_time': None, 'resolve_time': '2024-06-16T04:00:00Z', 'possibilities': {'type': 'binary'}, 'scoring': {}, 'type': 'forecast', 'user_perms': {'PREDICT': True, 'RESOLVE': False, 'COMMENT_READ': True, 'COMMENT_POST': True, 'COMMENT_EDIT': True, 'COMMENT_MOD': False, 'EDIT_DRAFT_CONTENT': False, 'EDIT_PENDING_CONTENT': False, 'EDIT_UPCOMING_CONTENT': False, 'EDIT_LIVE_CONTENT': False, 'EDIT_CATEGORIES': False, 'CHANGE_DRAFT_STATUS': False, 'CHANGE_PENDING_STATUS': False, 'CHANGE_ACTIVE_STATUS': False, 'CROSSPOST': False, 'VIEW_COMMUNITY_PRED': True, 'VIEW_METACULUS_PRED': False, 'VIEW_COMMUNITY_PRED_AFTER_CLOSE': False, 'VIEW_METACULUS_PRED_AFTER_CLOSE': True, 'VIEW_AUTHORS_ANONYMIZED': False}, 'weekly_movement': None, 'weekly_movement_direction': 0, 'cp_reveal_time': '2024-06-11T17:00:00Z', 'edited_time': '2024-06-11T16:08:23.324499Z', 'last_activity_time': '2024-06-11T00:39:01.445857Z', 'activity': 1.2335594035813228e-12, 'comment_count': 0, 'votes': 0, 'metaculus_prediction': {'full': None, 'history': []}, 'community_prediction': {'full': {'y': []}, 'history': [], 'unweighted': {'y': []}}, 'number_of_forecasters': 0, 'prediction_count': 0, 'approved_by': 'nlp-pipeline-service-account', 'approved_time': '2024-06-06T12:49:00.729296Z', 'approved_by_id': 122456, 'related_questions': [], 'group': None, 'condition': None, 'sub_questions': [], 'total_sub_question_count': 0, 'options': [], 'has_fan_graph': False, 'image_url': '', 'projects': [{'id': 3294, 'name': 'AI benchmarking warmup', 'url': '/project/ai-benchmarking-warmup/', 'type': 'QS', 'sign_up_fields': [], 'type_str': 'project', 'score_type': 'SPOT_PEER_SCORE', 'config': {'is_fab_project': True}}], 'primary_project': {'id': 3294, 'name': 'AI benchmarking warmup', 'url': '/project/ai-benchmarking-warmup/', 'type': 'QS', 'sign_up_fields': [], 'type_str': 'project', 'score_type': 'SPOT_PEER_SCORE', 'config': {'is_fab_project': True}}, 'medals_end_year': None, 'medals_duration': None, 'unweighted_community_prediction_v2': None, 'recency_weighted_community_prediction_v2': None, 'cp_baseline_score': None, 'cp_peer_score': None, 'summary': '', 'user_vote': 0, 'my_predictions': None, 'divergence': None, 'peer_score': None, 'spot_peer_score': None, 'baseline_score': None, 'user_prediction_sequence': None, 'description': \"The Fidesz-KDNP alliance has long been a dominant political force in Hungary, championed by Viktor Orbán's Fidesz and the Christian Democratic People's Party (KDNP). Since 2005, they have secured a significant majority of Hungary's seats in the European Parliament, capitalizing on shared conservative and nationalistic ideologies. \\n\\nHowever, the alliance faces [new challenges](https://apnews.com/article/hungary-orban-eu-election-magyar-fidesz-russia-f53cd35e52a9f91c34b00d8dd6f85694) as Péter Magyar, a former insider of the Fidesz party, breaks ranks and forms his own party, Tisztelet és Szabadság (Respect and Freedom). Magyar's emergence comes at a time when Fidesz is grappling with scandals and a loss of public trust, highlighted by significant resignations within its ranks.\\n\\nThe 2024 European Parliament elections are critical for the alliance as they face increasing internal and EU-wide challenges, including economic pressures and debates over the EU's influence on national policies. These elections will test the alliance's ability to maintain its influence amid growing political diversity and opposition within Hungary.\", 'resolution_criteria': 'This question will resolve to \"Yes\" if, following the 2024 European Parliament elections, the Fidesz-KDNP alliance secures more seats than any other single party or coalition, thereby maintaining the highest number of Hungarian seats in the European Parliament, according to credible sources.', 'fine_print': '', 'categories': [], 'status': 'A'}\n",
      "\n",
      "\n",
      "27\n",
      "{'active_state': 'CLOSED', 'url': 'https://www.metaculus.com/api2/questions/25138/', 'page_url': '/questions/25138/short-fuse-will-the-proxy-advisor-inst/', 'id': 25138, 'author': 122456, 'author_name': 'nlp-pipeline-service-account', 'author_id': 122456, 'title': \"[Short Fuse] Will the proxy advisor Institutional Shareholder Services (ISS) advise Tesla shareholders to vote against Elon Musk's $57 billion package OR the re-election of Kimbal Musk?\", 'title_short': '[Short Fuse] Will the proxy advisor Inst', 'group_label': '', 'resolution': None, 'resolved_option': None, 'created_time': '2024-06-06T12:48:59.768232Z', 'publish_time': '2024-06-06T01:00:00Z', 'close_time': '2024-06-11T17:00:00Z', 'effected_close_time': None, 'resolve_time': '2024-06-14T11:00:00Z', 'possibilities': {'type': 'binary'}, 'scoring': {}, 'type': 'forecast', 'user_perms': {'PREDICT': True, 'RESOLVE': False, 'COMMENT_READ': True, 'COMMENT_POST': True, 'COMMENT_EDIT': True, 'COMMENT_MOD': False, 'EDIT_DRAFT_CONTENT': False, 'EDIT_PENDING_CONTENT': False, 'EDIT_UPCOMING_CONTENT': False, 'EDIT_LIVE_CONTENT': False, 'EDIT_CATEGORIES': False, 'CHANGE_DRAFT_STATUS': False, 'CHANGE_PENDING_STATUS': False, 'CHANGE_ACTIVE_STATUS': False, 'CROSSPOST': False, 'VIEW_COMMUNITY_PRED': True, 'VIEW_METACULUS_PRED': False, 'VIEW_COMMUNITY_PRED_AFTER_CLOSE': False, 'VIEW_METACULUS_PRED_AFTER_CLOSE': True, 'VIEW_AUTHORS_ANONYMIZED': False}, 'weekly_movement': None, 'weekly_movement_direction': 0, 'cp_reveal_time': '2024-06-11T17:00:00Z', 'edited_time': '2024-06-11T16:07:22.479993Z', 'last_activity_time': '2024-06-11T00:38:02.884525Z', 'activity': 1.2324074841484414e-12, 'comment_count': 0, 'votes': 0, 'metaculus_prediction': {'full': None, 'history': []}, 'community_prediction': {'full': {'y': []}, 'history': [], 'unweighted': {'y': []}}, 'number_of_forecasters': 0, 'prediction_count': 0, 'approved_by': 'nlp-pipeline-service-account', 'approved_time': '2024-06-06T12:49:00.826538Z', 'approved_by_id': 122456, 'related_questions': [], 'group': None, 'condition': None, 'sub_questions': [], 'total_sub_question_count': 0, 'options': [], 'has_fan_graph': False, 'image_url': '', 'projects': [{'id': 3294, 'name': 'AI benchmarking warmup', 'url': '/project/ai-benchmarking-warmup/', 'type': 'QS', 'sign_up_fields': [], 'type_str': 'project', 'score_type': 'SPOT_PEER_SCORE', 'config': {'is_fab_project': True}}], 'primary_project': {'id': 3294, 'name': 'AI benchmarking warmup', 'url': '/project/ai-benchmarking-warmup/', 'type': 'QS', 'sign_up_fields': [], 'type_str': 'project', 'score_type': 'SPOT_PEER_SCORE', 'config': {'is_fab_project': True}}, 'medals_end_year': None, 'medals_duration': None, 'unweighted_community_prediction_v2': None, 'recency_weighted_community_prediction_v2': None, 'cp_baseline_score': None, 'cp_peer_score': None, 'summary': '', 'comment_count_snapshot': 0, 'user_vote': 0, 'user_community_vis': 0, 'my_predictions': None, 'divergence': None, 'peer_score': None, 'spot_peer_score': None, 'baseline_score': None, 'user_prediction_sequence': None, 'description': \"Elon Musk is the current CEO of Tesla and owns around 13% of the company. During its founding years in 2003 - 2005, Musk invested heavily into the company, eventually becoming chair of the board of directors and one of the largest shareholders; he subsequently became CEO in October 2008. His success at the company has seen Tesla become the 17th largest company in the world by market cap with its share price soaring since its June 2010 IPO.\\n\\nAs a result of his immense success as CEO, a $56 billion pay package to Musk was approved by Tesla's board of the directors in 2018. However, Musk has yet to receive this package, as per the [FT](https://www.ft.com/content/8d823cef-543a-4d33-afa0-c68f081842d1):\\n\\n>Tesla’s board has been lobbying investors to re-ratify the $56bn award given in 2018, which was struck down by a Delaware judge in January due to concerns over its size and the independence of the board. In response, Musk vowed to leave the state and move Tesla’s incorporation to Texas.\\n\\n>Tesla chair Robyn Denholm has argued that Musk deserves to be paid so much because the company hit ambitious targets for revenue and its stock price. She brushed off criticism she is too close to the CEO as “crap”.\\n\\nAside from the sheer size of the pay package - the largest of its kind - those who oppose it call into question various decisions made by Musk during his tenure as CEO. In particular,  Musk's social media activity has been called into question, and perhaps most notably the:\\n\\n- Purchase - and subsequent rebrand - of Twitter (now X) for $44 billion which has attracted a lot of negative criticism and has also seen Musk spend a disproportionate amount of time at that company instead of Tesla.\\n\\n - Purchase of $1.5 billion of Bitcoin in 2021 and allowing the cryptocurrency to be used by customers for purchasing Tesla automobiles. The company promptly stopped accepting the currency - causing the price to plummet - after which Tesla announced they had sold almost all of their Bitcoin holdings at a loss.\\n\\nDuring significant shareholder votes like this one, influential proxy advisory firms often send out advice to shareholders on what to vote and why. According to [Wikipedia](https://en.wikipedia.org/wiki/Proxy_firm):\\n\\n>A proxy firm provides services to shareholders (in most cases an institutional investor of some type) to vote their shares at shareholder meetings of, usually, listed companies.\\n\\nThe two largest proxy advisory firms are ISS and Glass Lewis. The latter has [advised](https://www.ft.com/content/8d823cef-543a-4d33-afa0-c68f081842d1) shareholders *not* to vote in favour of Musk's package as well as advising shareholders to vote against the re-election of Kimbal Musk - brother of Elon Musk - from the board of directors. The ISS, however, has yet to issue any advice with respect to the June 13 shareholder meeting.\\n\\n*Will the proxy advisor Institutional Shareholder Services (ISS) advise Tesla shareholders to vote *against* Elon Musk's $57 billion package OR the re-election of Kimbal Musk?*\\n\\n---------------------\\n\\nSee related question:\\n\\n[*Will a non-Disney-nominated board member be elected to Disney's board at the April 3, 2024, shareholder meeting?*](https://www.metaculus.com/questions/21972/non-disney-board-member-elected-april-2024/)\", 'resolution_criteria': \"The question will resolve **Yes** if Institutional Shareholder Services (ISS) releases a statement explicitly advising Tesla shareholders to vote *against* Elon Musk's pay package at the 2024 Tesla shareholder meeting OR the re-election of the Kimbal Musk to the Tesla board of directors. Otherwise the question will resolve **No**.\", 'fine_print': '', 'categories': [], 'status': 'A'}\n",
      "\n",
      "\n",
      "28\n",
      "{'active_state': 'CLOSED', 'url': 'https://www.metaculus.com/api2/questions/25107/', 'page_url': '/questions/25107/will-ucla-hold-its-in-person-university/', 'id': 25107, 'author': 122456, 'author_name': 'nlp-pipeline-service-account', 'author_id': 122456, 'title': 'Will UCLA hold its in-person, university-wide graduation commencement ceremonies scheduled for June 14, 2024?', 'title_short': 'Will UCLA hold its in-person, university', 'group_label': '', 'resolution': None, 'resolved_option': None, 'created_time': '2024-06-05T13:41:11.133930Z', 'publish_time': '2024-06-05T05:00:00Z', 'close_time': '2024-06-09T23:00:00Z', 'effected_close_time': None, 'resolve_time': '2024-06-15T16:00:00Z', 'possibilities': {'type': 'binary'}, 'scoring': {}, 'type': 'forecast', 'user_perms': {'PREDICT': True, 'RESOLVE': False, 'COMMENT_READ': True, 'COMMENT_POST': True, 'COMMENT_EDIT': True, 'COMMENT_MOD': False, 'EDIT_DRAFT_CONTENT': False, 'EDIT_PENDING_CONTENT': False, 'EDIT_UPCOMING_CONTENT': False, 'EDIT_LIVE_CONTENT': False, 'EDIT_CATEGORIES': False, 'CHANGE_DRAFT_STATUS': False, 'CHANGE_PENDING_STATUS': False, 'CHANGE_ACTIVE_STATUS': False, 'CROSSPOST': False, 'VIEW_COMMUNITY_PRED': True, 'VIEW_METACULUS_PRED': False, 'VIEW_COMMUNITY_PRED_AFTER_CLOSE': False, 'VIEW_METACULUS_PRED_AFTER_CLOSE': True, 'VIEW_AUTHORS_ANONYMIZED': False}, 'weekly_movement': None, 'weekly_movement_direction': 0, 'cp_reveal_time': '2024-06-09T23:00:00Z', 'edited_time': '2024-06-30T07:38:09.395527Z', 'last_activity_time': '2024-06-08T23:05:55.599173Z', 'activity': 8.26402079793365e-13, 'comment_count': 1, 'votes': 0, 'metaculus_prediction': {'full': 0.6232135697521025, 'history': [{'t': 1717871352.634715, 'x': 0.37376476654864843}, {'t': 1717887954.963697, 'x': 0.6228384252240806}, {'t': 1717888081.240938, 'x': 0.6232135697521025}], 'postdiction': 0.6232135697521025}, 'community_prediction': {'full': {'y': [0.0, 0.0, 0.0, 0.0, 0.0, 0.0, 0.0, 0.0, 0.0, 0.0, 0.0, 0.0, 0.0, 0.0, 0.0, 0.0, 0.0, 0.0, 0.0, 0.0, 0.0, 0.0, 0.0, 0.0, 0.0, 0.0, 0.0, 0.0, 0.0, 0.0, 0.0, 0.0, 0.0, 0.0, 0.0, 0.0, 0.0, 0.0, 0.0, 0.0, 0.0, 0.0, 0.0, 0.0, 0.0, 0.0, 0.0, 0.0, 0.0, 0.0, 1.0, 0.0, 0.0, 0.0, 0.0, 0.0, 0.0, 0.0, 0.0, 0.0, 0.0, 0.0, 0.0, 0.0, 0.0, 0.0, 0.0, 0.0, 0.0, 0.0, 0.0, 0.0, 0.0, 0.0, 0.0, 0.0, 0.0, 0.0, 0.0, 0.0, 1.0, 0.0, 0.0, 0.0, 0.0, 0.0, 0.0, 0.0, 0.0, 0.0, 0.0, 0.0, 0.0, 0.0, 0.0, 0.0, 0.0, 0.0, 0.0, 0.0, 0.0], 'q1': 0.5, 'q2': 0.65, 'q3': 0.8}, 'history': [{'t': 1717871352.634715, 'np': 1, 'nu': 1, 'x1': {'q1': 0.5, 'q2': 0.5, 'q3': 0.5}, 'x2': {'avg': 0.5, 'var': 0.0, 'weighted_avg': 0.5}}, {'t': 1717887954.963697, 'np': 2, 'nu': 2, 'x1': {'q1': 0.5, 'q2': 0.65, 'q3': 0.8}, 'x2': {'avg': 0.65, 'var': 0.023, 'weighted_avg': 0.65}}, {'t': 1717888081.240938, 'np': 3, 'nu': 2, 'x1': {'q1': 0.5, 'q2': 0.65, 'q3': 0.8}, 'x2': {'avg': 0.65, 'var': 0.023, 'weighted_avg': 0.65}}], 'unweighted': {'y': [0, 0, 0, 0, 0, 0, 0, 0, 0, 0, 0, 0, 0, 0, 0, 0, 0, 0, 0, 0, 0, 0, 0, 0, 0, 0, 0, 0, 0, 0, 0, 0, 0, 0, 0, 0, 0, 0, 0, 0, 0, 0, 0, 0, 0, 0, 0, 0, 0, 0, 1, 0, 0, 0, 0, 0, 0, 0, 0, 0, 0, 0, 0, 0, 0, 0, 0, 0, 0, 0, 0, 0, 0, 0, 0, 0, 0, 0, 0, 0, 1, 0, 0, 0, 0, 0, 0, 0, 0, 0, 0, 0, 0, 0, 0, 0, 0, 0, 0, 0, 0], 'q1': 0.5, 'q2': 0.65, 'q3': 0.8}}, 'number_of_forecasters': 2, 'prediction_count': 3, 'approved_by': 'nlp-pipeline-service-account', 'approved_time': '2024-06-05T13:41:11.536778Z', 'approved_by_id': 122456, 'related_questions': [], 'group': None, 'condition': None, 'sub_questions': [], 'total_sub_question_count': 0, 'options': [], 'has_fan_graph': False, 'image_url': '', 'projects': [{'id': 3294, 'name': 'AI benchmarking warmup', 'url': '/project/ai-benchmarking-warmup/', 'type': 'QS', 'sign_up_fields': [], 'type_str': 'project', 'score_type': 'SPOT_PEER_SCORE', 'config': {'is_fab_project': True}}], 'primary_project': {'id': 3294, 'name': 'AI benchmarking warmup', 'url': '/project/ai-benchmarking-warmup/', 'type': 'QS', 'sign_up_fields': [], 'type_str': 'project', 'score_type': 'SPOT_PEER_SCORE', 'config': {'is_fab_project': True}}, 'medals_end_year': 2025, 'medals_duration': 1, 'unweighted_community_prediction_v2': None, 'recency_weighted_community_prediction_v2': None, 'cp_baseline_score': None, 'cp_peer_score': None, 'summary': '', 'user_vote': 0, 'my_predictions': None, 'divergence': None, 'peer_score': None, 'spot_peer_score': None, 'baseline_score': None, 'user_prediction_sequence': None, 'description': \"On May 6, 2024, Columbia University [cancelled](https://www.usatoday.com/story/news/nation/2024/05/06/columbia-commencement-ceremony-protest-live-updates/73583447007/) its main commencement ceremony, opting instead to honor its graduates in 19 smaller ceremonies for each of its colleges. The decision was made in response to pro-Palestinian protests that erupted at the university. \\r\\n\\r\\nUCLA has [cancelled in-person classes](https://www.cbsnews.com/losangeles/news/ucla-cancel-in-person-classes-again-after-more-israel-hamas-war-protests/) at its campus, and there has been speculation that it may cancel its main commencement as well. Its fellow southern California school, USC, recently [moved its ceremony](https://www.latimes.com/california/story/2024-05-03/usc-shores-up-campus-limits-access-before-commencement) to the LA Coliseum.\\r\\n\\r\\nSee Also: \\r\\n\\r\\nMSN: [Pro-Palestinian Protests Put College Commencements in Jeopardy](https://www.msn.com/en-us/news/us/pro-palestinian-protests-put-college-commencements-in-jeopardy/ar-BB1lUU4h)\\r\\n\\r\\nNewsweek: [Full List of Colleges Cancelling Graduation Services Amid Campus Protests](https://www.newsweek.com/columbia-cancels-graduation-ceremony-universities-palestine-protests-1897560)\\r\\n\\r\\nUSA Today: [College graduation canceled due to anti-war protests? It's happened before](https://www.usatoday.com/story/news/education/2024/05/07/why-do-colleges-cancel-graduation-a-brief-history/73586349007/)\", 'resolution_criteria': 'This question resolves as **Yes** if the University of California-Los Angeles (UCLA) holds all three of its main in-person college commencement ceremonies for the graduating Class of 2024 [scheduled](https://commencement.ucla.edu/schedule/ucla-commencement-schedule-alphabetical#college) for the following times and locations on June 14, 2024:\\r\\n\\r\\n- 11 AM at the Pauley Pavilion\\r\\n- 3 PM at the Pauley Pavilion\\r\\n- 7 PM at the Pauley Pavilion\\r\\n\\r\\nThe ceremonies must all occur at the specified locations and begin within 1 hour of the scheduled starting time. \\r\\n\\r\\nThis question will resolve as **No** if any ceremony either does not begin within an hour of the scheduled time, is moved to another location, or is held entirely online (i.e., without graduates, faculty, and guests attending in person).', 'fine_print': '', 'categories': [], 'status': 'A'}\n",
      "\n",
      "\n"
     ]
    }
   ],
   "source": [
    "skip = 0\n",
    "\n",
    "print(qs['previous'])\n",
    "print(qs['next'])\n",
    "\n",
    "if skip:\n",
    "    pass\n",
    "else:\n",
    "    for i,q in enumerate(qs['results']):\n",
    "        print(i)\n",
    "        print(q)\n",
    "        print('\\n')\n"
   ]
  },
  {
   "cell_type": "code",
   "execution_count": 194,
   "metadata": {},
   "outputs": [
    {
     "name": "stdout",
     "output_type": "stream",
     "text": [
      "{'id': '61738b93-29fe-40df-94b0-07184d7e9414', 'title': 'Will exactly 2 Starship launches reach low-Earth orbit by Sept 30, 2024?', 'body': \"This question will resolve as the number of SpaceX Starship launches that reach low-Earth orbit, defined as achieving an altitude of at least 160 kilometers (approximately 100 miles) above the Earth's surface, by Sept 30, 2024.\\n\\nThe resolution will be based on official mission reports from SpaceX, and may also consider data or reporting from aerospace monitoring organizations or authorities, as well as other credible sources such as international media outlets.\", 'resolution_date': '2024-07-01T00:00:00Z', 'question_type': 'binary', 'data_source': 'metaculus', 'url': 'https://www.metaculus.com', 'metadata': {'topics': [], 'api_url': 'https://www.metaculus.com/api2/questions/25704/', 'market_prob': None, 'background_info': 'SpaceX\\'s Starship is at the forefront of the next generation of spacecrafts, designed with the ambitious goals of enabling human life on other planets, starting with Mars, and significantly reducing the cost of access to space. The fully reusable transportation system is envisioned to carry both crew and cargo to Earth orbit, the Moon, Mars, and beyond. Since its inception, the Starship program has been marked by rapid development and prototyping.\\n\\nIn 2024, SpaceX has continued its intensive testing and development schedule, aiming to perfect the Starship\\'s capabilities for orbital flight, satellite deployment, and eventual deep space missions. As SpaceX gears up for future crewed missions, including NASA\\'s Artemis program to return humans to the Moon and eventually to Mars, the ability of Starship to reach and operate in low-Earth orbit (LEO) is a critical step. Achieving LEO is essential not only for satellite deployments but also as a proving ground for the technologies and operational procedures that will enable longer-duration spaceflights.\\n\\nOn March 14, 2024, SpaceX\\'s Integrated Test Flight 3 (IFT-3) saw Starship 28 briefly reach low-Earth orbit by achieving an altitude of 234 km before breaking up in the atmosphere upon re-entry.\\n\\nIn the days prior to IFT-3, SpaceX CEO Elon Musk tweeted \"Hopefully, at least 6 more flights this year\".'}, 'resolution': None}\n"
     ]
    }
   ],
   "source": [
    "import asyncio\n",
    "\n",
    "\n",
    "sample_question = qs['results'][1]\n",
    "\n",
    "\n",
    "if 'ipykernel' in sys.modules:\n",
    "    # We're in a Jupyter Notebook\n",
    "    sample_question = await (metaculus_to_jsonl(sample_question))    # Add Jupyter-specific code here\n",
    "\n",
    "else:\n",
    "    # We're not in a Jupyter Notebook\n",
    "    sample_question = asyncio.run(metaculus_to_jsonl(sample_question))    # Add Jupyter-specific code here\n",
    "\n",
    "print(sample_question)\n",
    "sample_question = ForecastingQuestion(**sample_question)\n"
   ]
  },
  {
   "cell_type": "code",
   "execution_count": null,
   "metadata": {},
   "outputs": [],
   "source": [
    "if 'ipykernel' in sys.modules:\n",
    "    # We're in a Jupyter Notebook\n",
    "    final_prob = await (af.call_async(sentence=sample_question))\n",
    "    \n",
    "else:\n",
    "    # We're not in a Jupyter Notebook\n",
    "    final_prob = asyncio.run(af.call_async(sentence=sample_question))\n"
   ]
  },
  {
   "cell_type": "code",
   "execution_count": 140,
   "metadata": {},
   "outputs": [
    {
     "data": {
      "text/plain": [
       "0.75"
      ]
     },
     "execution_count": 140,
     "metadata": {},
     "output_type": "execute_result"
    }
   ],
   "source": [
    "final_prob"
   ]
  },
  {
   "cell_type": "code",
   "execution_count": null,
   "metadata": {},
   "outputs": [],
   "source": []
  },
  {
   "cell_type": "markdown",
   "metadata": {},
   "source": [
    "## Run and call forecaster"
   ]
  },
  {
   "cell_type": "code",
   "execution_count": 137,
   "metadata": {},
   "outputs": [
    {
     "name": "stdout",
     "output_type": "stream",
     "text": [
      "Loading AdvancedForecaster...\n",
      "Overriding retrieval_config: MAX_WORDS_NEWSCATCHER=5\n",
      "Overriding retrieval_config: MAX_WORDS_GNEWS=8\n",
      "Overriding retrieval_config: SEARCH_QUERY_MODEL_NAME=gpt-4o\n",
      "Overriding retrieval_config: SUMMARIZATION_MODEL_NAME=gpt-4o\n",
      "Overriding retrieval_config: RANKING_MODEL_NAME=gpt-4o\n",
      "Overriding reasoning_config: BASE_REASONING_MODEL_NAMES:=['gpt-4o', 'gpt-4o']\n",
      "Overriding reasoning_config: AGGREGATION_MODEL_NAME:=gpt-4o\n",
      "Initialized forecaster with settings:\n"
     ]
    }
   ],
   "source": [
    "\n",
    "import logging\n",
    "\n",
    "logging.basicConfig()\n",
    "logging.getLogger().setLevel(logging.INFO)  # configure root logger\n",
    "\n",
    "# %%\n",
    "from forecasters.advanced_forecaster import AdvancedForecaster\n",
    "\n",
    "af = AdvancedForecaster(\n",
    "    MAX_WORDS_NEWSCATCHER=5,\n",
    "    MAX_WORDS_GNEWS=8,\n",
    "    SEARCH_QUERY_MODEL_NAME=\"gpt-4o\",\n",
    "    SUMMARIZATION_MODEL_NAME=\"gpt-4o\",\n",
    "    BASE_REASONING_MODEL_NAMES=[\"gpt-4o\", \"gpt-4o\"],\n",
    "    RANKING_MODEL_NAME=\"gpt-4o\",\n",
    "    AGGREGATION_MODEL_NAME=\"gpt-4o\",\n",
    ")\n"
   ]
  },
  {
   "cell_type": "code",
   "execution_count": null,
   "metadata": {},
   "outputs": [],
   "source": []
  },
  {
   "cell_type": "code",
   "execution_count": null,
   "metadata": {},
   "outputs": [],
   "source": []
  },
  {
   "cell_type": "markdown",
   "metadata": {
    "id": "9WUvm1tVmMkO"
   },
   "source": [
    "## GPT prediction and submitting a forecast\n",
    "\n",
    "This is an example of how you can use the helper functions from above."
   ]
  },
  {
   "cell_type": "code",
   "execution_count": null,
   "metadata": {
    "colab": {
     "base_uri": "https://localhost:8080/"
    },
    "collapsed": true,
    "id": "KbQ6dmk9gzfk",
    "jupyter": {
     "outputs_hidden": true
    },
    "outputId": "27e4cd80-7664-4105-9e45-43c7df28a361"
   },
   "outputs": [
    {
     "name": "stdout",
     "output_type": "stream",
     "text": [
      "The extracted probability is: 25%\n",
      "GPT predicted:  25 Here's a concise rundown of the most relevant news to help the superforecaster with this question:\n",
      "\n",
      "**Current Situation:**\n",
      "\n",
      "* The 2023-24 respiratory virus season is ongoing in the US, with COVID-19, influenza, and Respiratory Syncytial Virus (RSV) circulating simultaneously.\n",
      "* According to the Centers for Disease Control and Prevention (CDC), the current weekly hospitalization rates for each virus are:\n",
      "\t+ COVID-19: 14.1 per 100,000 (as of February 11, 2023) [1]\n",
      "\t+ Influenza: 23.1 per 100,000 (as of February 11, 2023) [2]\n",
      "\t+ RSV: 2.4 per 100,000 (as of February 4, 2023) [3]\n",
      "* The combined peak for each virus has not yet occurred, as the rates are still increasing or plateauing.\n",
      "\n",
      "**Trends and Projections:**\n",
      "\n",
      "* The CDC's FluView report suggests that influenza activity is expected to continue for several more weeks, with the peak potentially occurring in late February or early March [2].\n",
      "* COVID-19 hospitalization rates have been increasing slowly over the past few weeks, but the rate of growth has slowed down [1].\n",
      "* RSV hospitalization rates have been declining slightly over the past two weeks, but it's unclear if this trend will continue [3].\n",
      "\n",
      "**Resolution Based on Current Information:**\n",
      "\n",
      "* Based on the current trends and projections, it's difficult to determine whether the maximum weekly rate of hospitalizations per 100,000 in the US will occur within four weeks of the combined peak for each of COVID, influenza, and RSV.\n",
      "* The answer to this question would likely be \"Unknown\" or \"Maybe\" at this point, as the peaks for each virus have not yet occurred, and the interactions between them are complex.\n",
      "\n",
      "Please let me know if you'd like me to gather more information or provide further context to help with this question ### Structured Analysis:\n",
      "\n",
      "**1. Overview and Context:**\n",
      "The central question is whether the maximum weekly rate of hospitalizations per 100,000 in the US will occur within four weeks of the combined peak for each of COVID, influenza, and RSV in the 2023-24 season. This involves predicting and understanding peak timelines for three separate viruses and their confluence.\n",
      "\n",
      "**2. Historical Data Assessments:**\n",
      "- **2022-23 Season Patterns:**\n",
      "  - RSV peaked first (week ending November 12, 2022).\n",
      "  - Influenza had its maximum rate during the week ending December 3, 2022.\n",
      "  - COVID peaked later (week ending December 31, 2022).\n",
      "  - Combined hospitalization saw a significant peak on December 3, 2022.\n",
      "\n",
      "**3. Current Season Situation:**\n",
      "- **Hospitalization Rates (as of February 2023):**\n",
      "  - COVID-19: 14.1 per 100,000\n",
      "  - Influenza: 23.1 per 100,000\n",
      "  - RSV: 2.4 per 100,000\n",
      "\n",
      "- **Projected Peak Periods:**\n",
      "  - Influenza: late February to early March 2024.\n",
      "  - COVID-19: slowly increasing with a potential delayed peak.\n",
      "  - RSV: slight decline but peaks are harder to predict.\n",
      "\n",
      "**4. Insights from CDC RESP-NET:**\n",
      "- Technological and monitoring improvements allow more precise predictions and tracking.\n",
      "- The “tripledemic” pattern seen in 2022-23 could be a template for 2023-24.\n",
      "\n",
      "**5. Contributing Factors for Prediction:**\n",
      "- **Synchronicity of Peaks:**\n",
      "  - Viruses can peak at different times causing a staggered but overlapping impact.\n",
      "  - Environmental factors and emerging virus variants can impact the timing of peaks.\n",
      "- **Interaction Dynamics:**\n",
      "  - Interaction among circulating viruses can influence hospital rates: a high rate of one might affect others.\n",
      "  - Increased vaccination rates and public health measures may impact the behavior differently for each virus.\n",
      "\n",
      "**6. For and Against Analysis:**\n",
      "- **For Prediction of Coinciding Peaks:**\n",
      "  - Past seasons show a strong overlap, increasing probability.\n",
      "  - Measures and virus behaviors tend to lead to similar outcomes.\n",
      "- **Against Prediction of Coinciding Peaks:**\n",
      "  - Variability in viral evolution, public health responses, and immunity levels.\n",
      "  - Slightly shifting peak patterns due to unique yearly factors like new variants, changing weather patterns, and public health measures (masking, social distancing).\n",
      "\n",
      "### Final Analysis and Calculation:\n",
      "\n",
      "Combining historical data trends, CDC's projections, and robust comparative analysis of contributing factors, I believe there’s a strong probability the combined peak will align within a four-week period, akin to the pattern from the previous season (2022-23).\n",
      "\n",
      "- **Historical Accuracy (2022-23):** Strong overlap within a 3-week period.\n",
      "- **Current Peaks and Projected Timeline:** Each virus is at or approaching high activity levels.\n",
      "- **Interaction Effect:** Epidemiological response and interactions among viruses usually peak around common response times.\n",
      "\n",
      "### Final Forecast:\n",
      "\n",
      "Taking all analyzed data into account:\n",
      "\n",
      "**Probability: 75%**\n",
      "\n",
      "**Rationale:**\n",
      "This estimate stems from observed historical trends (2022-23 “tripledemic”), supportive evidence from the CDC’s RESP-NET, and consideration of seasonal viral behavior patterns. The 25% uncertainty reflects potential unexpected variations in virus interactions or public health interventions.\n"
     ]
    }
   ],
   "source": [
    "\n",
    "question_id = 25140\n",
    "question_details = get_question_details(question_id)\n",
    "# print(question_details)\n",
    "\n",
    "prediction, perplexity_result, gpt_result = get_gpt_prediction(question_details)\n",
    "print(\"GPT predicted: \", prediction, perplexity_result, gpt_result)\n",
    "\n",
    "\n",
    "if prediction is not None and SUBMIT_PREDICTION:\n",
    "    post_question_prediction(question_id, prediction)\n",
    "    comment = \"PERPLEXITY\\n\\n\" + perplexity_result + \"\\n\\n#########\\n\\n\" + \"GPT\\n\\n\" + gpt_result\n",
    "    post_question_comment(question_id, comment)\n"
   ]
  }
 ],
 "metadata": {
  "colab": {
   "provenance": []
  },
  "kernelspec": {
   "display_name": "Python 3 (ipykernel)",
   "language": "python",
   "name": "python3"
  },
  "language_info": {
   "codemirror_mode": {
    "name": "ipython",
    "version": 3
   },
   "file_extension": ".py",
   "mimetype": "text/x-python",
   "name": "python",
   "nbconvert_exporter": "python",
   "pygments_lexer": "ipython3",
   "version": "3.11.9"
  }
 },
 "nbformat": 4,
 "nbformat_minor": 4
}
