{
 "cells": [
  {
   "cell_type": "code",
   "execution_count": 1,
   "metadata": {},
   "outputs": [],
   "source": [
    "import numpy as np"
   ]
  },
  {
   "cell_type": "code",
   "execution_count": 12,
   "metadata": {},
   "outputs": [],
   "source": [
    "def logodds(p):\n",
    "    return np.log(p / (1 - p))\n",
    "\n",
    "\n",
    "def inv_logodds(l):\n",
    "    return 1 / (1 + np.exp(-l))\n",
    "\n",
    "\n",
    "def implied_logodds(FP, FPaQ, FQgP, weights=None):\n",
    "    if weights is None:\n",
    "        weights = [1 / 2, 1 / 2]\n",
    "    logodds_P = logodds(FP)\n",
    "    logodds_P_ = logodds(FPaQ / FQgP)\n",
    "    return np.average([logodds_P, logodds_P_], weights=weights)\n",
    "\n",
    "\n",
    "def implied_probabilities(FP, FPaQ, FQgP, weights=None):\n",
    "    return inv_logodds(implied_logodds(FP, FPaQ, FQgP, weights))\n",
    "\n",
    "\n",
    "def cons_probs(FP, FPaQ, FQgP):\n",
    "    A = (1 - FP) / (FP * (1 - FQgP))\n",
    "    B = (1 - FQgP) * (1 - FPaQ) / (FQgP * FPaQ)\n",
    "    return (1 + np.sqrt(B / (A + 1))) / (1 + np.sqrt(B * (A + 1)))"
   ]
  },
  {
   "cell_type": "code",
   "execution_count": 27,
   "metadata": {},
   "outputs": [
    {
     "name": "stdout",
     "output_type": "stream",
     "text": [
      "0.7786663006150922\n",
      "0.17493381836940514\n",
      "0.15769478872314685\n"
     ]
    }
   ],
   "source": [
    "x=implied_probabilities(0.9, 0.15, 0.6, weights=[0.715, 0.285])\n",
    "y1=cons_probs(0.15, 0.15, 0.6)\n",
    "y2=cons_probs(0.15, 0.05, 0.2)\n",
    "\n",
    "print(x)\n",
    "print(y1)\n",
    "print(y2)"
   ]
  }
 ],
 "metadata": {
  "kernelspec": {
   "display_name": "Python 3",
   "language": "python",
   "name": "python3"
  },
  "language_info": {
   "codemirror_mode": {
    "name": "ipython",
    "version": 3
   },
   "file_extension": ".py",
   "mimetype": "text/x-python",
   "name": "python",
   "nbconvert_exporter": "python",
   "pygments_lexer": "ipython3",
   "version": "3.11.0"
  }
 },
 "nbformat": 4,
 "nbformat_minor": 2
}
