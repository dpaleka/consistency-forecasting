{
 "cells": [
  {
   "cell_type": "code",
   "execution_count": 1,
   "id": "2d0818d6",
   "metadata": {},
   "outputs": [
    {
     "name": "stderr",
     "output_type": "stream",
     "text": [
      "/opt/homebrew/anaconda3/envs/env_cons_2/lib/python3.11/site-packages/tqdm/auto.py:21: TqdmWarning: IProgress not found. Please update jupyter and ipywidgets. See https://ipywidgets.readthedocs.io/en/stable/user_install.html\n",
      "  from .autonotebook import tqdm as notebook_tqdm\n"
     ]
    }
   ],
   "source": [
    "import sys\n",
    "sys.path.append('/Users/dannyhalawi/Desktop/consistency-forecasting/src/')\n",
    "sys.path.append('/Users/dannyhalawi/Desktop/consistency-forecasting/src/forecasters/llm_forecasting')\n",
    "\n",
    "from common.datatypes import ForecastingQuestion_stripped, ForecastingQuestion\n",
    "import json\n",
    "\n",
    "# llm_forecasting imports\n",
    "from config.constants import PROMPT_DICT\n",
    "import ranking\n",
    "import summarize\n",
    "import ensemble"
   ]
  },
  {
   "cell_type": "markdown",
   "id": "5ef6b36e",
   "metadata": {},
   "source": [
    "### Load Data"
   ]
  },
  {
   "cell_type": "code",
   "execution_count": 2,
   "id": "dc3bbc55",
   "metadata": {},
   "outputs": [],
   "source": [
    "data = []\n",
    "with open(\"../data/fq/real/questions_cleaned_formatted.jsonl\", \"r\") as file:\n",
    "    for line in file:\n",
    "        data.append(json.loads(line))"
   ]
  },
  {
   "cell_type": "code",
   "execution_count": 3,
   "id": "32dd0594",
   "metadata": {},
   "outputs": [],
   "source": [
    "sample_question = data[0]"
   ]
  },
  {
   "cell_type": "code",
   "execution_count": 4,
   "id": "f00a3bca",
   "metadata": {},
   "outputs": [],
   "source": [
    "fq = ForecastingQuestion(**sample_question)"
   ]
  },
  {
   "cell_type": "markdown",
   "id": "3f3f732a",
   "metadata": {},
   "source": [
    "### Retrieval"
   ]
  },
  {
   "cell_type": "code",
   "execution_count": 5,
   "id": "630fe7b4",
   "metadata": {},
   "outputs": [],
   "source": [
    "RETRIEVAL_CONFIG = {\n",
    "    \"NUM_SEARCH_QUERY_KEYWORDS\": 3,\n",
    "    \"MAX_WORDS_NEWSCATCHER\": 5,\n",
    "    \"MAX_WORDS_GNEWS\": 8,\n",
    "    \"SEARCH_QUERY_MODEL_NAME\": \"gpt-4-1106-preview\",\n",
    "    \"SEARCH_QUERY_TEMPERATURE\": 0.0,\n",
    "    \"SEARCH_QUERY_PROMPT_TEMPLATES\": [\n",
    "        PROMPT_DICT[\"search_query\"][\"0\"],\n",
    "        PROMPT_DICT[\"search_query\"][\"1\"],\n",
    "    ],\n",
    "    \"NUM_ARTICLES_PER_QUERY\": 5,\n",
    "    \"SUMMARIZATION_MODEL_NAME\": \"gpt-3.5-turbo-1106\",\n",
    "    \"SUMMARIZATION_TEMPERATURE\": 0.2,\n",
    "    \"SUMMARIZATION_PROMPT_TEMPLATE\": PROMPT_DICT[\"summarization\"][\"9\"],\n",
    "    \"NUM_SUMMARIES_THRESHOLD\": 10,\n",
    "    \"PRE_FILTER_WITH_EMBEDDING\": True,\n",
    "    \"PRE_FILTER_WITH_EMBEDDING_THRESHOLD\": 0.32,\n",
    "    \"RANKING_MODEL_NAME\": \"gpt-3.5-turbo-1106\",\n",
    "    \"RANKING_TEMPERATURE\": 0.0,\n",
    "    \"RANKING_PROMPT_TEMPLATE\": PROMPT_DICT[\"ranking\"][\"0\"],\n",
    "    \"RANKING_RELEVANCE_THRESHOLD\": 4,\n",
    "    \"RANKING_COSINE_SIMILARITY_THRESHOLD\": 0.5,\n",
    "    \"SORT_BY\": \"date\",\n",
    "    \"RANKING_METHOD\": \"llm-rating\",\n",
    "    \"RANKING_METHOD_LLM\": \"title_250_tokens\",\n",
    "    \"NUM_SUMMARIES_THRESHOLD\": 20,\n",
    "    \"EXTRACT_BACKGROUND_URLS\": True,\n",
    "}"
   ]
  },
  {
   "cell_type": "code",
   "execution_count": 6,
   "id": "e3a27162",
   "metadata": {},
   "outputs": [],
   "source": [
    "question = fq.title\n",
    "background_info = fq.metadata[\"background_info\"]\n",
    "resolution_criteria = fq.body\n",
    "retrieval_dates = (\"2024-03-01\", \"2024-05-04\") # artificially set for now"
   ]
  },
  {
   "cell_type": "code",
   "execution_count": 7,
   "id": "6c7aa254",
   "metadata": {},
   "outputs": [
    {
     "name": "stderr",
     "output_type": "stream",
     "text": [
      "INFO:ranking:Finding 3 search query keywords via LLM...\n",
      "INFO:httpx:HTTP Request: POST https://api.openai.com/v1/chat/completions \"HTTP/1.1 200 OK\"\n",
      "INFO:httpx:HTTP Request: POST https://api.openai.com/v1/chat/completions \"HTTP/1.1 200 OK\"\n",
      "INFO:httpx:HTTP Request: POST https://api.openai.com/v1/chat/completions \"HTTP/1.1 200 OK\"\n",
      "INFO:httpx:HTTP Request: POST https://api.openai.com/v1/chat/completions \"HTTP/1.1 200 OK\"\n",
      "INFO:ranking:Search queries for NC: ['SpaceX challenges 2024 launch', 'Will SpaceX land people on Mars before 2030?', 'Elon Musk Mars timeline update', 'SpaceX Mars mission progress', 'SpaceX Interplanetary Transport System tests']\n",
      "INFO:ranking:Search queries for GNews: ['Will SpaceX land people on Mars before 2030?', 'SpaceX Mars mission challenges 2024', 'SpaceX Mars mission progress 2024', 'SpaceX Interplanetary Transport System progress 2024', 'Elon Musk statement Mars 2024', 'Elon Musk SpaceX Mars mission update', 'SpaceX Mars mission challenges advancements']\n",
      "INFO:information_retrieval:Retrieved 5 articles for SpaceX challenges 2024 launch via Newscatcher.\n",
      "INFO:information_retrieval:Retrieved 0 articles for Will SpaceX land people on Mars before 2030? via Newscatcher.\n",
      "INFO:information_retrieval:Retrieved 5 articles for Elon Musk Mars timeline update via Newscatcher.\n",
      "INFO:information_retrieval:Retrieved 5 articles for SpaceX Mars mission progress via Newscatcher.\n",
      "INFO:information_retrieval:Retrieved 5 articles for SpaceX Interplanetary Transport System tests via Newscatcher.\n",
      "INFO:information_retrieval:Retrieved 5 articles for Will SpaceX land people on Mars before 2030? via GNews.\n",
      "INFO:information_retrieval:Retrieved 5 articles for SpaceX Mars mission challenges 2024 via GNews.\n",
      "INFO:information_retrieval:Retrieved 4 articles for SpaceX Mars mission progress 2024 via GNews.\n",
      "INFO:information_retrieval:Retrieved 4 articles for SpaceX Interplanetary Transport System progress 2024 via GNews.\n",
      "INFO:information_retrieval:Retrieved 5 articles for Elon Musk statement Mars 2024 via GNews.\n",
      "INFO:information_retrieval:Retrieved 5 articles for Elon Musk SpaceX Mars mission update via GNews.\n",
      "INFO:information_retrieval:Retrieved 5 articles for SpaceX Mars mission challenges advancements via GNews.\n",
      "INFO:information_retrieval:Retrieved full article text for https://news.google.com/rss/articles/CBMiN2h0dHBzOi8vcGh5cy5vcmcvbmV3cy8yMDI0LTAzLXNwYWNleC1leWVzLXN0YXJzaGlwLmh0bWzSATZodHRwczovL3BoeXMub3JnL25ld3MvMjAyNC0wMy1zcGFjZXgtZXllcy1zdGFyc2hpcC5hbXA?oc=5&hl=en-US&gl=US&ceid=US:en\n",
      "INFO:information_retrieval:Retrieved full article text for https://news.google.com/rss/articles/CBMiWWh0dHBzOi8vc3BhY2VuZXdzLmNvbS9jaGluYS1vbi10cmFjay1mb3ItY3Jld2VkLW1vb24tbGFuZGluZy1ieS0yMDMwLXNwYWNlLW9mZmljaWFsLXNheXMv0gEA?oc=5&hl=en-US&gl=US&ceid=US:en\n",
      "INFO:information_retrieval:Retrieved full article text for https://news.google.com/rss/articles/CBMiQmh0dHBzOi8vaW50ZXJlc3RpbmdlbmdpbmVlcmluZy5jb20vc2NpZW5jZS9odW1hbnMtbWFycy1uYXNhLXNwYWNleNIBAA?oc=5&hl=en-US&gl=US&ceid=US:en\n",
      "INFO:information_retrieval:Retrieved full article text for https://news.google.com/rss/articles/CBMic2h0dHBzOi8vd3d3LmFsamF6ZWVyYS5jb20vbmV3cy8yMDI0LzMvMTQvZGVzcGl0ZS1wcm9ibGVtcy1zcGFjZXgtaGFpbHMtcHJvZ3Jlc3MtYWZ0ZXItdGhpcmQtdGVzdC1vZi1zdGFyc2hpcC1yb2NrZXTSAXdodHRwczovL3d3dy5hbGphemVlcmEuY29tL2FtcC9uZXdzLzIwMjQvMy8xNC9kZXNwaXRlLXByb2JsZW1zLXNwYWNleC1oYWlscy1wcm9ncmVzcy1hZnRlci10aGlyZC10ZXN0LW9mLXN0YXJzaGlwLXJvY2tldA?oc=5&hl=en-US&gl=US&ceid=US:en\n",
      "INFO:information_retrieval:Retrieved full article text for https://news.google.com/rss/articles/CBMiSGh0dHBzOi8vd3d3Lndhc2hpbmd0b25wb3N0LmNvbS90ZWNobm9sb2d5LzIwMjQvMDUvMDIvY2hpbmEtbW9vbi1taXNzaW9uL9IBAA?oc=5&hl=en-US&gl=US&ceid=US:en\n",
      "INFO:information_retrieval:Retrieved full article text for https://news.google.com/rss/articles/CBMiaWh0dHBzOi8vc3BhY2VuZXdzLmNvbS9tc3ItcHJvYmxlbXMtaWxsdXN0cmF0aXZlLW9mLWNoYWxsZW5nZXMtZm9yLW5hc2EtZmxhZ3NoaXAtbWlzc2lvbnMtYXVkaXQtY29uY2x1ZGVzL9IBAA?oc=5&hl=en-US&gl=US&ceid=US:en\n",
      "INFO:information_retrieval:Retrieved full article text for https://news.google.com/rss/articles/CBMiWmh0dHBzOi8vd3d3LmNic25ld3MuY29tL3ZpZGVvL25hc2EtYXJ0ZW1pcy1taXNzaW9uLWNoYWxsZW5nZXMtNjAtbWludXRlcy12aWRlby0yMDI0LTAzLTAzL9IBAA?oc=5&hl=en-US&gl=US&ceid=US:en\n",
      "INFO:information_retrieval:Retrieved full article text for https://news.google.com/rss/articles/CBMiWWh0dHBzOi8vbXluZXdzMTMuY29tL2ZsL29ybGFuZG8vbmV3cy8yMDI0LzAzLzEzL2Rlc3RpbmF0aW9uLW1hcnMtc3R1ZGVudC1kZXNpZ24tY2hhbGxlbmdl0gEA?oc=5&hl=en-US&gl=US&ceid=US:en\n",
      "INFO:information_retrieval:Retrieved full article text for https://news.google.com/rss/articles/CBMiWWh0dHBzOi8vd3d3Lm5hc2EuZ292L2NlbnRlcnMtYW5kLWZhY2lsaXRpZXMvbWFyc2hhbGwvdGhlLW1hcnNoYWxsLXN0YXItZm9yLWFwcmlsLTI0LTIwMjQv0gEA?oc=5&hl=en-US&gl=US&ceid=US:en\n",
      "INFO:information_retrieval:Retrieved full article text for https://news.google.com/rss/articles/CBMiMGh0dHBzOi8vd3d3LnNwYWNlLmNvbS9uYXNhLXBpLWRheS1jaGFsbGVuZ2UtMjAyNNIBAA?oc=5&hl=en-US&gl=US&ceid=US:en\n",
      "INFO:information_retrieval:Retrieved full article text for https://news.google.com/rss/articles/CBMiS2h0dHBzOi8vd3d3LnNwYWNlLmNvbS9zcGFjZXgtc3RhcnNoaXAtNTAwLWZlZXQtdGFsbC1tYXJzLW1pc3Npb25zLWVsb24tbXVza9IBAA?oc=5&hl=en-US&gl=US&ceid=US:en\n",
      "INFO:information_retrieval:Retrieved full article text for https://news.google.com/rss/articles/CBMirAFodHRwczovL3d3dy5uYXNhLmdvdi9kaXJlY3RvcmF0ZXMvZXNkbWQvYXJ0ZW1pcy1jYW1wYWlnbi1kZXZlbG9wbWVudC1kaXZpc2lvbi9odW1hbi1sYW5kaW5nLXN5c3RlbS1wcm9ncmFtL25hc2EtYXJ0ZW1pcy1taXNzaW9uLXByb2dyZXNzZXMtd2l0aC1zcGFjZXgtc3RhcnNoaXAtdGVzdC1mbGlnaHQv0gEA?oc=5&hl=en-US&gl=US&ceid=US:en\n",
      "INFO:information_retrieval:Retrieved full article text for https://news.google.com/rss/articles/CBMiWWh0dHBzOi8vc3BhY2VuZXdzLmNvbS9zcGFjZXgtbWFraW5nLXByb2dyZXNzLW9uLXN0YXJzaGlwLWluLXNwYWNlLXJlZnVlbGluZy10ZWNobm9sb2dpZXMv0gEA?oc=5&hl=en-US&gl=US&ceid=US:en\n",
      "INFO:information_retrieval:Retrieved full article text for https://news.google.com/rss/articles/CBMiRGh0dHBzOi8vd3d3LnNwYWNlLmNvbS9zcGFjZXgtc3RhcnNoaXAtZ28taW50ZXJzdGVsbGFyLWVsb24tbXVzay1zYXlz0gEA?oc=5&hl=en-US&gl=US&ceid=US:en\n",
      "INFO:information_retrieval:Retrieved full article text for https://news.google.com/rss/articles/CBMiQmh0dHBzOi8vd3d3Lmh1bWFubWFycy5uZXQvMjAyNC8wNC9zcGFjZXgtc3RhcnNoaXAtdXBkYXRlLTIwMjQuaHRtbNIBAA?oc=5&hl=en-US&gl=US&ceid=US:en\n",
      "INFO:information_retrieval:Retrieved full article text for https://news.google.com/rss/articles/CBMiWmh0dHBzOi8vd3d3LnRlc2xhLW1hZy5jb20vZW4vc3BhY2V4LWFpbXMtZm9yLXN1Y2Nlc3NmdWwtdGhpcmQtdGVzdC1mbGlnaHQtZGVzcGl0ZS1sYW5kaW5nL9IBAA?oc=5&hl=en-US&gl=US&ceid=US:en\n",
      "INFO:information_retrieval:Retrieved full article text for https://news.google.com/rss/articles/CBMiowFodHRwczovL20uZWNvbm9taWN0aW1lcy5jb20vbmV3cy9pbnRlcm5hdGlvbmFsL3VzL3dpbGwtdGhlLXVzLXRha2UtcGVvcGxlLXRvLXRoZS1tb29uLXdpdGgtbW9vbi10cmFpbi1oZXJlcy1hbGwtYWJvdXQtdGhlLWx1bmFyLXRyYW5zcG9ydC9hcnRpY2xlc2hvdy8xMDg3NTU1NjUuY21z0gGnAWh0dHBzOi8vbS5lY29ub21pY3RpbWVzLmNvbS9uZXdzL2ludGVybmF0aW9uYWwvdXMvd2lsbC10aGUtdXMtdGFrZS1wZW9wbGUtdG8tdGhlLW1vb24td2l0aC1tb29uLXRyYWluLWhlcmVzLWFsbC1hYm91dC10aGUtbHVuYXItdHJhbnNwb3J0L2FtcF9hcnRpY2xlc2hvdy8xMDg3NTU1NjUuY21z?oc=5&hl=en-US&gl=US&ceid=US:en\n",
      "INFO:information_retrieval:Retrieved full article text for https://news.google.com/rss/articles/CBMilQFodHRwczovL3d3dy5mb3JiZXMuY29tL3NpdGVzL3JvYmVydGhhcnQvMjAyNC8wMy8xOC9lbG9uLW11c2stc2F5cy1mdXR1cmUtc3BhY2V4LXN0YXJzaGlwLXdpbGwtdHJhdmVsLXRvLW90aGVyLXN0YXItc3lzdGVtcy1hZnRlci1yb2NrZXRzLWxhdGVzdC10ZXN0L9IBAA?oc=5&hl=en-US&gl=US&ceid=US:en\n",
      "INFO:information_retrieval:Retrieved full article text for https://news.google.com/rss/articles/CBMicmh0dHBzOi8vYXJzdGVjaG5pY2EuY29tL3NwYWNlLzIwMjQvMDQvZWxvbi1tdXNrLWp1c3QtZ2F2ZS1hbm90aGVyLW1hcnMtc3BlZWNoLXRoaXMtdGltZS10aGUtdmlzaW9uLXNlZW1zLXRhbmdpYmxlL9IBAA?oc=5&hl=en-US&gl=US&ceid=US:en\n",
      "INFO:information_retrieval:Retrieved full article text for https://news.google.com/rss/articles/CBMiNWh0dHBzOi8vd3d3LmJiYy5jb20vbmV3cy9zY2llbmNlLWVudmlyb25tZW50LTY4NTQ3NDgy0gE5aHR0cHM6Ly93d3cuYmJjLmNvbS9uZXdzL3NjaWVuY2UtZW52aXJvbm1lbnQtNjg1NDc0ODIuYW1w?oc=5&hl=en-US&gl=US&ceid=US:en\n",
      "INFO:information_retrieval:Retrieved full article text for https://news.google.com/rss/articles/CBMicGh0dHBzOi8vd3d3LmFsamF6ZWVyYS5jb20vbmV3cy8yMDI0LzMvMTUvaXMtc3BhY2V4cy1sYXRlc3Qtc3RhcnNoaXAtbGF1bmNoLWEtZ3JlYXQtc3RyaWRlLWluLXNwYWNlLWtleS10YWtlYXdheXPSAXRodHRwczovL3d3dy5hbGphemVlcmEuY29tL2FtcC9uZXdzLzIwMjQvMy8xNS9pcy1zcGFjZXhzLWxhdGVzdC1zdGFyc2hpcC1sYXVuY2gtYS1ncmVhdC1zdHJpZGUtaW4tc3BhY2Uta2V5LXRha2Vhd2F5cw?oc=5&hl=en-US&gl=US&ceid=US:en\n",
      "INFO:information_retrieval:Retrieved full article text for https://news.google.com/rss/articles/CBMiW2h0dHBzOi8vc3BhY2VuZXdzLmNvbS9tdXNrLW91dGxpbmVzLXBsYW5zLXRvLWluY3JlYXNlLXN0YXJzaGlwLWxhdW5jaC1yYXRlLWFuZC1wZXJmb3JtYW5jZS_SAQA?oc=5&hl=en-US&gl=US&ceid=US:en\n",
      "INFO:information_retrieval:Retrieved full article text for https://news.google.com/rss/articles/CBMiOGh0dHBzOi8vbWFzaGFibGUuY29tL2FydGljbGUvc3BhY2V4LXN0YXJzaGlwLWxhdW5jaC1kYXRl0gEA?oc=5&hl=en-US&gl=US&ceid=US:en\n",
      "INFO:information_retrieval:Retrieved full article text for https://news.google.com/rss/articles/CBMiOmh0dHBzOi8vd3d3Lm5hc2EuZ292L3NwYWNlLXRlY2hub2xvZ3ktbWlzc2lvbi1kaXJlY3RvcmF0ZS_SAQA?oc=5&hl=en-US&gl=US&ceid=US:en\n",
      "INFO:information_retrieval:Retrieved full article text for https://news.google.com/rss/articles/CBMibmh0dHBzOi8vd3d3LnNwYWNlZGFpbHkuY29tL3JlcG9ydHMvU3BhY2VYc19TdGFyc2hpcF9BZHZhbmNpbmdfVG93YXJkX1JldXNhYmlsaXR5X3dpdGhfTGVzc29uc19MZWFybmVkXzk5OS5odG1s0gEA?oc=5&hl=en-US&gl=US&ceid=US:en\n",
      "INFO:information_retrieval:Retrieved full article text for https://news.google.com/rss/articles/CBMiOmh0dHBzOi8vcmV0YWlsd2lyZS5jb20vc3BhY2V4cy1hZmZvcmRhYmxlLWpvdXJuZXktdG8tbWFycy_SAQA?oc=5&hl=en-US&gl=US&ceid=US:en\n",
      "INFO:information_retrieval:Retrieved full article text for https://news.google.com/rss/articles/CBMiWWh0dHBzOi8vd3d3LmNubi5jb20vMjAyNC8wNC8yNS93b3JsZC9ib2Vpbmctc3RhcmxpbmVyLWxhdW5jaC1zcGFjZXgtZGVsYXlzLXNjbi9pbmRleC5odG1s0gFSaHR0cHM6Ly9hbXAuY25uLmNvbS9jbm4vMjAyNC8wNC8yNS93b3JsZC9ib2Vpbmctc3RhcmxpbmVyLWxhdW5jaC1zcGFjZXgtZGVsYXlzLXNjbg?oc=5&hl=en-US&gl=US&ceid=US:en\n",
      "INFO:ranking:Filtering 37 articles with embedding model.\n",
      "INFO:httpx:HTTP Request: POST https://api.openai.com/v1/embeddings \"HTTP/1.1 200 OK\"\n",
      "INFO:httpx:HTTP Request: POST https://api.openai.com/v1/embeddings \"HTTP/1.1 200 OK\"\n",
      "INFO:ranking:Get 37 cosine similarities for 37 articles.\n",
      "INFO:ranking:Using 0.32 as the cosine similarity threshold.\n",
      "INFO:ranking:33 articles survived the embedding filtering.\n",
      "INFO:httpx:HTTP Request: POST https://api.openai.com/v1/chat/completions \"HTTP/1.1 200 OK\"\n",
      "INFO:httpx:HTTP Request: POST https://api.openai.com/v1/chat/completions \"HTTP/1.1 200 OK\"\n",
      "INFO:httpx:HTTP Request: POST https://api.openai.com/v1/chat/completions \"HTTP/1.1 200 OK\"\n",
      "INFO:httpx:HTTP Request: POST https://api.openai.com/v1/chat/completions \"HTTP/1.1 200 OK\"\n",
      "INFO:httpx:HTTP Request: POST https://api.openai.com/v1/chat/completions \"HTTP/1.1 200 OK\"\n",
      "INFO:httpx:HTTP Request: POST https://api.openai.com/v1/chat/completions \"HTTP/1.1 200 OK\"\n",
      "INFO:httpx:HTTP Request: POST https://api.openai.com/v1/chat/completions \"HTTP/1.1 200 OK\"\n",
      "INFO:httpx:HTTP Request: POST https://api.openai.com/v1/chat/completions \"HTTP/1.1 200 OK\"\n",
      "INFO:httpx:HTTP Request: POST https://api.openai.com/v1/chat/completions \"HTTP/1.1 200 OK\"\n",
      "INFO:httpx:HTTP Request: POST https://api.openai.com/v1/chat/completions \"HTTP/1.1 200 OK\"\n",
      "INFO:httpx:HTTP Request: POST https://api.openai.com/v1/chat/completions \"HTTP/1.1 200 OK\"\n",
      "INFO:httpx:HTTP Request: POST https://api.openai.com/v1/chat/completions \"HTTP/1.1 200 OK\"\n",
      "INFO:httpx:HTTP Request: POST https://api.openai.com/v1/chat/completions \"HTTP/1.1 200 OK\"\n",
      "INFO:httpx:HTTP Request: POST https://api.openai.com/v1/chat/completions \"HTTP/1.1 200 OK\"\n",
      "INFO:httpx:HTTP Request: POST https://api.openai.com/v1/chat/completions \"HTTP/1.1 200 OK\"\n",
      "INFO:httpx:HTTP Request: POST https://api.openai.com/v1/chat/completions \"HTTP/1.1 200 OK\"\n",
      "INFO:httpx:HTTP Request: POST https://api.openai.com/v1/chat/completions \"HTTP/1.1 200 OK\"\n",
      "INFO:httpx:HTTP Request: POST https://api.openai.com/v1/chat/completions \"HTTP/1.1 200 OK\"\n",
      "INFO:httpx:HTTP Request: POST https://api.openai.com/v1/chat/completions \"HTTP/1.1 200 OK\"\n",
      "INFO:httpx:HTTP Request: POST https://api.openai.com/v1/chat/completions \"HTTP/1.1 200 OK\"\n",
      "INFO:httpx:HTTP Request: POST https://api.openai.com/v1/chat/completions \"HTTP/1.1 200 OK\"\n",
      "INFO:httpx:HTTP Request: POST https://api.openai.com/v1/chat/completions \"HTTP/1.1 200 OK\"\n",
      "INFO:httpx:HTTP Request: POST https://api.openai.com/v1/chat/completions \"HTTP/1.1 200 OK\"\n",
      "INFO:httpx:HTTP Request: POST https://api.openai.com/v1/chat/completions \"HTTP/1.1 200 OK\"\n",
      "INFO:httpx:HTTP Request: POST https://api.openai.com/v1/chat/completions \"HTTP/1.1 200 OK\"\n",
      "INFO:httpx:HTTP Request: POST https://api.openai.com/v1/chat/completions \"HTTP/1.1 200 OK\"\n",
      "INFO:httpx:HTTP Request: POST https://api.openai.com/v1/chat/completions \"HTTP/1.1 200 OK\"\n",
      "INFO:httpx:HTTP Request: POST https://api.openai.com/v1/chat/completions \"HTTP/1.1 200 OK\"\n",
      "INFO:httpx:HTTP Request: POST https://api.openai.com/v1/chat/completions \"HTTP/1.1 200 OK\"\n",
      "INFO:httpx:HTTP Request: POST https://api.openai.com/v1/chat/completions \"HTTP/1.1 200 OK\"\n",
      "INFO:httpx:HTTP Request: POST https://api.openai.com/v1/chat/completions \"HTTP/1.1 200 OK\"\n",
      "INFO:httpx:HTTP Request: POST https://api.openai.com/v1/chat/completions \"HTTP/1.1 200 OK\"\n",
      "INFO:httpx:HTTP Request: POST https://api.openai.com/v1/chat/completions \"HTTP/1.1 200 OK\"\n",
      "INFO:ranking:Article SpaceX could finally face competition. It may be too late. gets rating: 2.0\n",
      "INFO:ranking:Article SpaceX could finally face competition, but it may be too late gets rating: 2.0\n",
      "INFO:ranking:Article A Quarter Million Tons to Mars: SpaceX's Ambitious Vision gets rating: 5.0\n",
      "INFO:ranking:Article SpaceX Falcon Heavy rocket photobombs the moon in incredible award-winning shot gets rating: 2.0\n",
      "INFO:ranking:Article See a SpaceX rocket photobomb the moon in incredible award-winning shot gets rating: 1.0\n",
      "INFO:ranking:Article Elon Musk Makes Surprise Appearance At Prime Video's SXSW ‘Fallout' Experience gets rating: 2.0\n",
      "INFO:ranking:Article Elon Musk Unleashes Wave of Updates on SpaceX's Starship Project gets rating: 3.0\n",
      "INFO:ranking:Article SpaceX Starship will be 500 feet tall to prepare for Mars missions, Elon Musk says (video) gets rating: 4.0\n",
      "INFO:ranking:Article To the Stars: The Making of a Multiplanetary Species with SpaceX. gets rating: 4.0\n",
      "INFO:ranking:Article Elon Musk speaks about the 'urgent' needed to extend human civilisation beyond Earth to Mars gets rating: 3.0\n",
      "INFO:ranking:Article Blast Off and Splashdown on a Private Space Mission in a SpaceX Crew Dragon Capsule gets rating: 2.0\n",
      "INFO:ranking:Article SpaceX loses Starship on reentry over Indian Ocean gets rating: 2.0\n",
      "INFO:ranking:Article SpaceX eyes March 14 for next Starship test launch gets rating: 5.0\n",
      "INFO:ranking:Article China on track for crewed moon landing by 2030, space official says gets rating: 3.0\n",
      "INFO:ranking:Article Charting the course: NASA's long road to the Red Planet gets rating: 2.0\n",
      "INFO:ranking:Article Despite problems, SpaceX hails progress after third test of Starship rocket gets rating: 2.0\n",
      "INFO:ranking:Article China launches world-first mission to retrieve samples from far side of moon gets rating: 1.0\n",
      "INFO:ranking:Article MSR problems illustrative of challenges for NASA flagship missions, audit concludes gets rating: 2.0\n",
      "INFO:ranking:Article Brevard County students participate in Destination Mars design challenge gets rating: 2.0\n",
      "INFO:ranking:Article Can you solve NASA's Pi Day 2024 challenge? gets rating: 2.0\n",
      "INFO:ranking:Article SpaceX's giant Starship will be 500 feet tall for Mars missions, Elon Musk says (video) gets rating: 4.0\n",
      "INFO:ranking:Article NASA Artemis Mission Progresses with SpaceX Starship Test Flight gets rating: 2.0\n",
      "INFO:ranking:Article SpaceX making progress on Starship in-space refueling technologies gets rating: 5.0\n",
      "INFO:ranking:Article SpaceX's Starship will go interstellar someday, Elon Musk says gets rating: 2.0\n",
      "INFO:ranking:Article SpaceX Starship : Significant Progress Despite a Challenging Landing gets rating: 4.0\n",
      "INFO:ranking:Article Moon Train: Will the US take people to the moon with ‘Moon Train’? Here’s all about the Lunar Transport gets rating: 2.0\n",
      "INFO:ranking:Article Elon Musk Says Future SpaceX Starship ‘Will Travel To Other Star Systems’ After Rocket’s Latest Test gets rating: 4.0\n",
      "INFO:ranking:Article Elon Musk just gave another Mars speech—this time the vision seems tangible gets rating: 2.0\n",
      "INFO:ranking:Article SpaceX launches powerful Starship for third time into space: Key takeaways gets rating: 2.0\n",
      "INFO:ranking:Article Musk outlines plans to increase Starship launch rate and performance gets rating: 4.0\n",
      "INFO:ranking:Article Get ready: SpaceX Starship will try to fly again soon gets rating: 2.0\n",
      "INFO:ranking:Article SpaceX’s ‘Affordable’ Journey to Mars gets rating: 2.0\n",
      "INFO:ranking:Article Boeing’s Starliner set for historic astronaut launch after delays for years gets rating: 1.0\n",
      "INFO:ranking:Finished ranking the articles!\n",
      "INFO:ranking:Summarizing the top 20 articles.\n",
      "INFO:summarize:Async summarizing 9 short articles\n",
      "INFO:httpx:HTTP Request: POST https://api.openai.com/v1/chat/completions \"HTTP/1.1 200 OK\"\n",
      "INFO:httpx:HTTP Request: POST https://api.openai.com/v1/chat/completions \"HTTP/1.1 200 OK\"\n",
      "INFO:httpx:HTTP Request: POST https://api.openai.com/v1/chat/completions \"HTTP/1.1 200 OK\"\n",
      "INFO:httpx:HTTP Request: POST https://api.openai.com/v1/chat/completions \"HTTP/1.1 200 OK\"\n",
      "INFO:httpx:HTTP Request: POST https://api.openai.com/v1/chat/completions \"HTTP/1.1 200 OK\"\n",
      "INFO:httpx:HTTP Request: POST https://api.openai.com/v1/chat/completions \"HTTP/1.1 200 OK\"\n",
      "INFO:httpx:HTTP Request: POST https://api.openai.com/v1/chat/completions \"HTTP/1.1 200 OK\"\n",
      "INFO:httpx:HTTP Request: POST https://api.openai.com/v1/chat/completions \"HTTP/1.1 200 OK\"\n",
      "INFO:httpx:HTTP Request: POST https://api.openai.com/v1/chat/completions \"HTTP/1.1 200 OK\"\n",
      "INFO:ranking:Finished summarizing the 9 articles!\n"
     ]
    }
   ],
   "source": [
    "(\n",
    "    ranked_articles,\n",
    "    all_articles,\n",
    "    search_queries_list_gnews,\n",
    "    search_queries_list_nc,\n",
    ") = await ranking.retrieve_summarize_and_rank_articles(\n",
    "    question,\n",
    "    background_info,\n",
    "    resolution_criteria,\n",
    "    retrieval_dates,\n",
    "    urls=[],\n",
    "    config=RETRIEVAL_CONFIG,\n",
    "    return_intermediates=True,\n",
    ")"
   ]
  },
  {
   "cell_type": "code",
   "execution_count": 8,
   "id": "15ef96b4",
   "metadata": {},
   "outputs": [],
   "source": [
    "all_summaries = summarize.concat_summaries(\n",
    "    ranked_articles[: RETRIEVAL_CONFIG[\"NUM_SUMMARIES_THRESHOLD\"]]\n",
    ")"
   ]
  },
  {
   "cell_type": "code",
   "execution_count": 9,
   "id": "d73dc1a3",
   "metadata": {},
   "outputs": [
    {
     "name": "stdout",
     "output_type": "stream",
     "text": [
      "---\n",
      "ARTICLES\n",
      "[1] SpaceX making progress on Starship in-space refueling technologies (published on 2024-04-27)\n",
      "Summary: NASA says SpaceX is on track to demonstrate in-space refueling of Starship next year, a critical technology for returning humans to the lunar surface using that vehicle. SpaceX achieved one step towards refueling of Starship with a demonstration on the latest Starship test flight March 14. The next major milestone is a demonstration planned for 2025 where two Starships will dock in orbit, with one transferring propellants to the other. Propellant transfer technology is essential to SpaceX’s plans for Starship missions beyond low Earth orbit, including the Human Landing System (HLS) version of Starship that will be used to land astronauts on the moon starting with the Artemis 3 mission, currently scheduled for no earlier than September 2026. Elon Musk, chief executive of SpaceX, posted on social media April 26, responding to another post about Kshatriya’s presentation. “Full & rapid reusability of booster & ship and orbital refilling of ship are the 2 fundamental technologies we aim to solve by the end of next year,” he said.\n",
      "\n",
      "[2] To the Stars: The Making of a Multiplanetary Species with SpaceX. (published on 2024-04-22)\n",
      "Summary: SpaceX is on a mission to make life multiplanetary, with a focus on Mars. Elon Musk outlined the company's commitment to building the necessary technologies for interplanetary exploration, including the Falcon rockets, Dragon spacecraft, Starlink satellites, and the Starship. The Starship, with its promise of rapid reusability, is seen as the beacon of progress towards Mars. SpaceX aims to build the infrastructure for a civilization on Mars, with the goal of sending around a million people and several million tonnes of materials to the red planet. The company's plan to land people on Mars is notable for aggressively compressing the timeline, with a potential manned flight launching in the 2024 window and a landing on Mars in 2025. This ambitious plan could potentially lead to SpaceX landing people on Mars before 2030.\n",
      "\n",
      "[3] SpaceX Starship will be 500 feet tall to prepare for Mars missions, Elon Musk says (video) (published on 2024-04-13)\n",
      "Summary: SpaceX's Starship, the world's largest rocket, will grow to 500 feet, with each launch costing $3 million. Elon Musk aims to send cargo to Mars, with a manned flight potentially launching in 2024 and landing on Mars in 2025. The company plans to build six more spacecraft by the end of 2024 and a new rocket factory by 2025. Musk envisions a settlement on Mars with a million people in 20 years. However, the Federal Aviation Administration must approve each launch, and there is ongoing criticism of the environmental impact near Starbase. Despite aggressive plans, the timeline for landing people on Mars remains uncertain.\n",
      "\n",
      "[4] SpaceX's giant Starship will be 500 feet tall for Mars missions, Elon Musk says (video) (published on 2024-04-13)\n",
      "Summary: SpaceX's Starship,  ...\n"
     ]
    }
   ],
   "source": [
    "print(all_summaries[:3000], \"...\")"
   ]
  },
  {
   "cell_type": "markdown",
   "id": "89e4b793",
   "metadata": {},
   "source": [
    "### Reasoning"
   ]
  },
  {
   "cell_type": "code",
   "execution_count": 10,
   "id": "42e11b9c",
   "metadata": {},
   "outputs": [],
   "source": [
    "REASONING_CONFIG = {\n",
    "    \"BASE_REASONING_MODEL_NAMES\": [\"gpt-4-1106-preview\", \"gpt-4-1106-preview\"],\n",
    "    \"BASE_REASONING_TEMPERATURE\": 1.0,\n",
    "    \"BASE_REASONING_PROMPT_TEMPLATES\": [\n",
    "        [\n",
    "            PROMPT_DICT[\"binary\"][\"scratch_pad\"][\"1\"],\n",
    "            PROMPT_DICT[\"binary\"][\"scratch_pad\"][\"2\"],\n",
    "        ],\n",
    "        [\n",
    "            PROMPT_DICT[\"binary\"][\"scratch_pad\"][\"new_3\"],\n",
    "            PROMPT_DICT[\"binary\"][\"scratch_pad\"][\"new_6\"],\n",
    "        ],\n",
    "    ],\n",
    "    \"ALIGNMENT_MODEL_NAME\": \"gpt-3.5-turbo-1106\",\n",
    "    \"ALIGNMENT_TEMPERATURE\": 0,\n",
    "    \"ALIGNMENT_PROMPT\": PROMPT_DICT[\"alignment\"][\"0\"],\n",
    "    \"AGGREGATION_METHOD\": \"meta\",\n",
    "    \"AGGREGATION_PROMPT_TEMPLATE\": PROMPT_DICT[\"meta_reasoning\"][\"0\"],\n",
    "    \"AGGREGATION_TEMPERATURE\": 0.2,\n",
    "    \"AGGREGATION_MODEL_NAME\": \"gpt-4\",\n",
    "    \"AGGREGATION_WEIGTHTS\": None,\n",
    "}"
   ]
  },
  {
   "cell_type": "code",
   "execution_count": 11,
   "id": "55883aae",
   "metadata": {},
   "outputs": [
    {
     "name": "stderr",
     "output_type": "stream",
     "text": [
      "INFO:httpx:HTTP Request: POST https://api.openai.com/v1/chat/completions \"HTTP/1.1 200 OK\"\n",
      "INFO:httpx:HTTP Request: POST https://api.openai.com/v1/chat/completions \"HTTP/1.1 200 OK\"\n",
      "INFO:model_eval:Finished 2 base reasonings generated by gpt-4-1106-preview\n",
      "INFO:httpx:HTTP Request: POST https://api.openai.com/v1/chat/completions \"HTTP/1.1 200 OK\"\n",
      "INFO:httpx:HTTP Request: POST https://api.openai.com/v1/chat/completions \"HTTP/1.1 200 OK\"\n",
      "INFO:model_eval:Finished 2 base reasonings generated by gpt-4-1106-preview\n",
      "INFO:httpx:HTTP Request: POST https://api.openai.com/v1/chat/completions \"HTTP/1.1 200 OK\"\n"
     ]
    }
   ],
   "source": [
    "today_to_close_date = [retrieval_dates[1], \"N/A\"]\n",
    "ensemble_dict = await ensemble.meta_reason(\n",
    "    question=question,\n",
    "    background_info=background_info,\n",
    "    resolution_criteria=resolution_criteria,\n",
    "    today_to_close_date_range=today_to_close_date,\n",
    "    retrieved_info=all_summaries,\n",
    "    reasoning_prompt_templates=REASONING_CONFIG[\"BASE_REASONING_PROMPT_TEMPLATES\"],\n",
    "    base_model_names=REASONING_CONFIG[\"BASE_REASONING_MODEL_NAMES\"],\n",
    "    base_temperature=REASONING_CONFIG[\"BASE_REASONING_TEMPERATURE\"],\n",
    "    aggregation_method=REASONING_CONFIG[\"AGGREGATION_METHOD\"],\n",
    "    answer_type=\"probability\",\n",
    "    weights=REASONING_CONFIG[\"AGGREGATION_WEIGTHTS\"],\n",
    "    meta_model_name=REASONING_CONFIG[\"AGGREGATION_MODEL_NAME\"],\n",
    "    meta_prompt_template=REASONING_CONFIG[\"AGGREGATION_PROMPT_TEMPLATE\"],\n",
    "    meta_temperature=REASONING_CONFIG[\"AGGREGATION_TEMPERATURE\"],\n",
    ")"
   ]
  },
  {
   "cell_type": "code",
   "execution_count": 16,
   "id": "9c5611e4",
   "metadata": {},
   "outputs": [
    {
     "name": "stdout",
     "output_type": "stream",
     "text": [
      "1. Provide reasons why the answer might be no.\n",
      "- Technical Challenges: The complexity of space exploration and the development of new technologies such as in-space refueling and a spacecraft capable of landing on Mars could lead to unforeseen technical issues and delays.\n",
      "- Regulatory Hurdles: Each launch requires approval from the Federal Aviation Administration, and there are ongoing concerns about the environmental impact of SpaceX's activities. These regulatory hurdles could lead to delays in the timeline.\n",
      "- Safety Concerns: Ensuring the safety of the crew on a mission to Mars is paramount. Any accidents or safety issues during test flights could lead to a reassessment of the risks and potential delays.\n",
      "- Financial Constraints: While SpaceX has been successful in attracting funding, the scale and ambition of the Mars mission could lead to financial constraints or shifts in investment priorities that could disrupt the timeline.\n",
      "\n",
      "2. Provide reasons why the answer might be yes.\n",
      "- Track Record: SpaceX has a proven track record of overcoming technical challenges and achieving ambitious goals, as evidenced by the development of the Falcon rockets, Dragon spacecraft, and Starlink satellites.\n",
      "- Strong Commitment: Elon Musk's strong commitment to making life multiplanetary and his vision of landing humans on Mars could drive the company to overcome obstacles and achieve its goals.\n",
      "- Progress and Achievements: SpaceX is making significant progress in the development of the Starship and plans to demonstrate in-space refueling by 2025. These achievements show that the company is making concrete steps towards its goal.\n",
      "\n",
      "3. Aggregate your considerations.\n",
      "Considering SpaceX's track record, the strong commitment of its leadership, and the progress it has made so far, there is a reasonable chance that the company could achieve a manned landing on Mars before 2030. However, the technical, regulatory, and financial challenges that lie ahead introduce a significant amount of uncertainty into the timeline. While the company's ambition and progress are promising, the complexity and risks associated with a manned mission to Mars cannot be underestimated.\n",
      "\n",
      "4. Output your prediction (a number between 0 and 1) with an asterisk at the beginning and end of the decimal.\n",
      "*0.55*\n"
     ]
    }
   ],
   "source": [
    "print(ensemble_dict[\"meta_reasoning\"])"
   ]
  },
  {
   "cell_type": "markdown",
   "id": "67e80818",
   "metadata": {},
   "source": [
    "### Testing \"Advanced Forecaster\""
   ]
  },
  {
   "cell_type": "code",
   "execution_count": 12,
   "id": "1f5c70a9",
   "metadata": {},
   "outputs": [],
   "source": [
    "from advanced_forecaster import AdvancedForecaster\n",
    "af = AdvancedForecaster()"
   ]
  },
  {
   "cell_type": "code",
   "execution_count": 13,
   "id": "e31f942e",
   "metadata": {},
   "outputs": [
    {
     "name": "stderr",
     "output_type": "stream",
     "text": [
      "INFO:ranking:Finding 3 search query keywords via LLM...\n",
      "INFO:httpx:HTTP Request: POST https://api.openai.com/v1/chat/completions \"HTTP/1.1 200 OK\"\n",
      "INFO:httpx:HTTP Request: POST https://api.openai.com/v1/chat/completions \"HTTP/1.1 200 OK\"\n",
      "INFO:httpx:HTTP Request: POST https://api.openai.com/v1/chat/completions \"HTTP/1.1 200 OK\"\n",
      "INFO:httpx:HTTP Request: POST https://api.openai.com/v1/chat/completions \"HTTP/1.1 200 OK\"\n",
      "INFO:ranking:Search queries for NC: ['SpaceX Mars technical challenges', 'Will SpaceX land people on Mars before 2030?', 'Elon Musk Mars timeline update', 'SpaceX Mars mission progress', 'Elon Musk Mars 2030 update', 'SpaceX challenges setbacks']\n",
      "INFO:ranking:Search queries for GNews: ['Elon Musk update Mars timeline', 'Will SpaceX land people on Mars before 2030?', 'SpaceX Interplanetary Transport System setbacks', 'SpaceX Mars mission progress 2024', 'Elon Musk statement Mars 2024', 'SpaceX Mars mission challenges advancements']\n",
      "INFO:information_retrieval:Retrieved 5 articles for SpaceX Mars technical challenges via Newscatcher.\n",
      "INFO:information_retrieval:Retrieved 0 articles for Will SpaceX land people on Mars before 2030? via Newscatcher.\n",
      "INFO:information_retrieval:Retrieved 5 articles for Elon Musk Mars timeline update via Newscatcher.\n",
      "INFO:information_retrieval:Retrieved 5 articles for SpaceX Mars mission progress via Newscatcher.\n",
      "INFO:information_retrieval:Retrieved 5 articles for Elon Musk Mars 2030 update via Newscatcher.\n",
      "INFO:information_retrieval:Retrieved 5 articles for SpaceX challenges setbacks via Newscatcher.\n",
      "INFO:information_retrieval:Retrieved 5 articles for Elon Musk update Mars timeline via GNews.\n",
      "INFO:information_retrieval:Retrieved 5 articles for Will SpaceX land people on Mars before 2030? via GNews.\n",
      "INFO:information_retrieval:Retrieved 1 articles for SpaceX Interplanetary Transport System setbacks via GNews.\n",
      "INFO:information_retrieval:Retrieved 4 articles for SpaceX Mars mission progress 2024 via GNews.\n",
      "INFO:information_retrieval:Retrieved 5 articles for Elon Musk statement Mars 2024 via GNews.\n",
      "INFO:information_retrieval:Retrieved 5 articles for SpaceX Mars mission challenges advancements via GNews.\n",
      "INFO:information_retrieval:Retrieved full article text for https://news.google.com/rss/articles/CBMiS2h0dHBzOi8vd3d3LnNwYWNlLmNvbS9zcGFjZXgtc3RhcnNoaXAtNTAwLWZlZXQtdGFsbC1tYXJzLW1pc3Npb25zLWVsb24tbXVza9IBAA?oc=5&hl=en-US&gl=US&ceid=US:en\n",
      "INFO:information_retrieval:Retrieved full article text for https://news.google.com/rss/articles/CBMidGh0dHBzOi8vc3BhY2VmbGlnaHRub3cuY29tLzIwMjQvMDQvMTYvbmFzYS1yZXF1ZXN0cy1wcm9wb3NhbHMtdG8tcmVkdWNlLWNvc3QtdGltZWxpbmUtb2YtbWFycy1zYW1wbGUtcmV0dXJuLW1pc3Npb24v0gEA?oc=5&hl=en-US&gl=US&ceid=US:en\n",
      "INFO:information_retrieval:Retrieved full article text for https://news.google.com/rss/articles/CBMiOGh0dHBzOi8vbWFzaGFibGUuY29tL2FydGljbGUvc3BhY2V4LXN0YXJzaGlwLWxhdW5jaC1kYXRl0gEA?oc=5&hl=en-US&gl=US&ceid=US:en\n",
      "INFO:information_retrieval:Retrieved full article text for https://news.google.com/rss/articles/CBMiiAFodHRwczovL3d3dy50ZWNodGltZXMuY29tL2FydGljbGVzLzMwMjU5OS8yMDI0MDMxNC9lbG9uLW11c2stc3RhcnNoaXAtbWFycy1zdGFybGluay1pbnRlcm5ldC1vbmJvYXJkJUUyJTgwJTk0dGhpcmQtZmxpZ2h0LWhpZ2hsaWdodHMuaHRt0gGMAWh0dHBzOi8vd3d3LnRlY2h0aW1lcy5jb20vYW1wL2FydGljbGVzLzMwMjU5OS8yMDI0MDMxNC9lbG9uLW11c2stc3RhcnNoaXAtbWFycy1zdGFybGluay1pbnRlcm5ldC1vbmJvYXJkJUUyJTgwJTk0dGhpcmQtZmxpZ2h0LWhpZ2hsaWdodHMuaHRt?oc=5&hl=en-US&gl=US&ceid=US:en\n",
      "INFO:information_retrieval:Retrieved full article text for https://news.google.com/rss/articles/CBMiP2h0dHBzOi8vZGVhZGxpbmUuY29tLzIwMjQvMDMvZWxvbi1tdXNrLXN4c3ctZmFsbG91dC0xMjM1ODQ5ODIwL9IBQ2h0dHBzOi8vZGVhZGxpbmUuY29tLzIwMjQvMDMvZWxvbi1tdXNrLXN4c3ctZmFsbG91dC0xMjM1ODQ5ODIwL2FtcC8?oc=5&hl=en-US&gl=US&ceid=US:en\n",
      "INFO:information_retrieval:Retrieved full article text for https://news.google.com/rss/articles/CBMiN2h0dHBzOi8vcGh5cy5vcmcvbmV3cy8yMDI0LTAzLXNwYWNleC1leWVzLXN0YXJzaGlwLmh0bWzSATZodHRwczovL3BoeXMub3JnL25ld3MvMjAyNC0wMy1zcGFjZXgtZXllcy1zdGFyc2hpcC5hbXA?oc=5&hl=en-US&gl=US&ceid=US:en\n",
      "INFO:information_retrieval:Retrieved full article text for https://news.google.com/rss/articles/CBMiWWh0dHBzOi8vc3BhY2VuZXdzLmNvbS9jaGluYS1vbi10cmFjay1mb3ItY3Jld2VkLW1vb24tbGFuZGluZy1ieS0yMDMwLXNwYWNlLW9mZmljaWFsLXNheXMv0gEA?oc=5&hl=en-US&gl=US&ceid=US:en\n",
      "INFO:information_retrieval:Retrieved full article text for https://news.google.com/rss/articles/CBMiQmh0dHBzOi8vaW50ZXJlc3RpbmdlbmdpbmVlcmluZy5jb20vc2NpZW5jZS9odW1hbnMtbWFycy1uYXNhLXNwYWNleNIBAA?oc=5&hl=en-US&gl=US&ceid=US:en\n",
      "INFO:information_retrieval:Retrieved full article text for https://news.google.com/rss/articles/CBMic2h0dHBzOi8vd3d3LmFsamF6ZWVyYS5jb20vbmV3cy8yMDI0LzMvMTQvZGVzcGl0ZS1wcm9ibGVtcy1zcGFjZXgtaGFpbHMtcHJvZ3Jlc3MtYWZ0ZXItdGhpcmQtdGVzdC1vZi1zdGFyc2hpcC1yb2NrZXTSAXdodHRwczovL3d3dy5hbGphemVlcmEuY29tL2FtcC9uZXdzLzIwMjQvMy8xNC9kZXNwaXRlLXByb2JsZW1zLXNwYWNleC1oYWlscy1wcm9ncmVzcy1hZnRlci10aGlyZC10ZXN0LW9mLXN0YXJzaGlwLXJvY2tldA?oc=5&hl=en-US&gl=US&ceid=US:en\n",
      "INFO:information_retrieval:Retrieved full article text for https://news.google.com/rss/articles/CBMiSGh0dHBzOi8vd3d3Lndhc2hpbmd0b25wb3N0LmNvbS90ZWNobm9sb2d5LzIwMjQvMDUvMDIvY2hpbmEtbW9vbi1taXNzaW9uL9IBAA?oc=5&hl=en-US&gl=US&ceid=US:en\n",
      "INFO:information_retrieval:Retrieved full article text for https://news.google.com/rss/articles/CBMia2h0dHBzOi8vYnVzaW5lc3NkYXkubmcvbmV3cy9hcnRpY2xlL3doYXQtdG8ta25vdy1hYm91dC10aGUtYmlnZ2VzdC1mbHlpbmctb2JqZWN0LWV2ZXItbWFkZS1zcGFjZXgtc3RhcnNoaXAv0gFvaHR0cHM6Ly9idXNpbmVzc2RheS5uZy9uZXdzL2FydGljbGUvd2hhdC10by1rbm93LWFib3V0LXRoZS1iaWdnZXN0LWZseWluZy1vYmplY3QtZXZlci1tYWRlLXNwYWNleC1zdGFyc2hpcC8_YW1w?oc=5&hl=en-US&gl=US&ceid=US:en\n",
      "INFO:information_retrieval:Retrieved full article text for https://news.google.com/rss/articles/CBMirAFodHRwczovL3d3dy5uYXNhLmdvdi9kaXJlY3RvcmF0ZXMvZXNkbWQvYXJ0ZW1pcy1jYW1wYWlnbi1kZXZlbG9wbWVudC1kaXZpc2lvbi9odW1hbi1sYW5kaW5nLXN5c3RlbS1wcm9ncmFtL25hc2EtYXJ0ZW1pcy1taXNzaW9uLXByb2dyZXNzZXMtd2l0aC1zcGFjZXgtc3RhcnNoaXAtdGVzdC1mbGlnaHQv0gEA?oc=5&hl=en-US&gl=US&ceid=US:en\n",
      "INFO:information_retrieval:Retrieved full article text for https://news.google.com/rss/articles/CBMiWWh0dHBzOi8vc3BhY2VuZXdzLmNvbS9zcGFjZXgtbWFraW5nLXByb2dyZXNzLW9uLXN0YXJzaGlwLWluLXNwYWNlLXJlZnVlbGluZy10ZWNobm9sb2dpZXMv0gEA?oc=5&hl=en-US&gl=US&ceid=US:en\n",
      "INFO:information_retrieval:Retrieved full article text for https://news.google.com/rss/articles/CBMilQFodHRwczovL3d3dy5mb3JiZXMuY29tL3NpdGVzL3JvYmVydGhhcnQvMjAyNC8wMy8xOC9lbG9uLW11c2stc2F5cy1mdXR1cmUtc3BhY2V4LXN0YXJzaGlwLXdpbGwtdHJhdmVsLXRvLW90aGVyLXN0YXItc3lzdGVtcy1hZnRlci1yb2NrZXRzLWxhdGVzdC10ZXN0L9IBAA?oc=5&hl=en-US&gl=US&ceid=US:en\n",
      "INFO:information_retrieval:Retrieved full article text for https://news.google.com/rss/articles/CBMicmh0dHBzOi8vYXJzdGVjaG5pY2EuY29tL3NwYWNlLzIwMjQvMDQvZWxvbi1tdXNrLWp1c3QtZ2F2ZS1hbm90aGVyLW1hcnMtc3BlZWNoLXRoaXMtdGltZS10aGUtdmlzaW9uLXNlZW1zLXRhbmdpYmxlL9IBAA?oc=5&hl=en-US&gl=US&ceid=US:en\n",
      "INFO:information_retrieval:Retrieved full article text for https://news.google.com/rss/articles/CBMiNWh0dHBzOi8vd3d3LmJiYy5jb20vbmV3cy9zY2llbmNlLWVudmlyb25tZW50LTY4NTQ3NDgy0gE5aHR0cHM6Ly93d3cuYmJjLmNvbS9uZXdzL3NjaWVuY2UtZW52aXJvbm1lbnQtNjg1NDc0ODIuYW1w?oc=5&hl=en-US&gl=US&ceid=US:en\n",
      "INFO:information_retrieval:Retrieved full article text for https://news.google.com/rss/articles/CBMiOmh0dHBzOi8vd3d3Lm5hc2EuZ292L3NwYWNlLXRlY2hub2xvZ3ktbWlzc2lvbi1kaXJlY3RvcmF0ZS_SAQA?oc=5&hl=en-US&gl=US&ceid=US:en\n",
      "INFO:information_retrieval:Retrieved full article text for https://news.google.com/rss/articles/CBMibmh0dHBzOi8vd3d3LnNwYWNlZGFpbHkuY29tL3JlcG9ydHMvU3BhY2VYc19TdGFyc2hpcF9BZHZhbmNpbmdfVG93YXJkX1JldXNhYmlsaXR5X3dpdGhfTGVzc29uc19MZWFybmVkXzk5OS5odG1s0gEA?oc=5&hl=en-US&gl=US&ceid=US:en\n",
      "INFO:information_retrieval:Retrieved full article text for https://news.google.com/rss/articles/CBMiOmh0dHBzOi8vcmV0YWlsd2lyZS5jb20vc3BhY2V4cy1hZmZvcmRhYmxlLWpvdXJuZXktdG8tbWFycy_SAQA?oc=5&hl=en-US&gl=US&ceid=US:en\n",
      "INFO:information_retrieval:Retrieved full article text for https://news.google.com/rss/articles/CBMiWWh0dHBzOi8vd3d3LmNubi5jb20vMjAyNC8wNC8yNS93b3JsZC9ib2Vpbmctc3RhcmxpbmVyLWxhdW5jaC1zcGFjZXgtZGVsYXlzLXNjbi9pbmRleC5odG1s0gFSaHR0cHM6Ly9hbXAuY25uLmNvbS9jbm4vMjAyNC8wNC8yNS93b3JsZC9ib2Vpbmctc3RhcmxpbmVyLWxhdW5jaC1zcGFjZXgtZGVsYXlzLXNjbg?oc=5&hl=en-US&gl=US&ceid=US:en\n",
      "INFO:ranking:Filtering 38 articles with embedding model.\n",
      "INFO:httpx:HTTP Request: POST https://api.openai.com/v1/embeddings \"HTTP/1.1 200 OK\"\n",
      "INFO:httpx:HTTP Request: POST https://api.openai.com/v1/embeddings \"HTTP/1.1 200 OK\"\n",
      "INFO:ranking:Get 38 cosine similarities for 38 articles.\n",
      "INFO:ranking:Using 0.32 as the cosine similarity threshold.\n",
      "INFO:ranking:35 articles survived the embedding filtering.\n",
      "INFO:httpx:HTTP Request: POST https://api.openai.com/v1/chat/completions \"HTTP/1.1 200 OK\"\n",
      "INFO:httpx:HTTP Request: POST https://api.openai.com/v1/chat/completions \"HTTP/1.1 200 OK\"\n",
      "INFO:httpx:HTTP Request: POST https://api.openai.com/v1/chat/completions \"HTTP/1.1 200 OK\"\n",
      "INFO:httpx:HTTP Request: POST https://api.openai.com/v1/chat/completions \"HTTP/1.1 200 OK\"\n",
      "INFO:httpx:HTTP Request: POST https://api.openai.com/v1/chat/completions \"HTTP/1.1 200 OK\"\n",
      "INFO:httpx:HTTP Request: POST https://api.openai.com/v1/chat/completions \"HTTP/1.1 200 OK\"\n",
      "INFO:httpx:HTTP Request: POST https://api.openai.com/v1/chat/completions \"HTTP/1.1 200 OK\"\n",
      "INFO:httpx:HTTP Request: POST https://api.openai.com/v1/chat/completions \"HTTP/1.1 200 OK\"\n",
      "INFO:httpx:HTTP Request: POST https://api.openai.com/v1/chat/completions \"HTTP/1.1 200 OK\"\n",
      "INFO:httpx:HTTP Request: POST https://api.openai.com/v1/chat/completions \"HTTP/1.1 200 OK\"\n",
      "INFO:httpx:HTTP Request: POST https://api.openai.com/v1/chat/completions \"HTTP/1.1 200 OK\"\n",
      "INFO:httpx:HTTP Request: POST https://api.openai.com/v1/chat/completions \"HTTP/1.1 200 OK\"\n",
      "INFO:httpx:HTTP Request: POST https://api.openai.com/v1/chat/completions \"HTTP/1.1 200 OK\"\n",
      "INFO:httpx:HTTP Request: POST https://api.openai.com/v1/chat/completions \"HTTP/1.1 200 OK\"\n",
      "INFO:httpx:HTTP Request: POST https://api.openai.com/v1/chat/completions \"HTTP/1.1 200 OK\"\n",
      "INFO:httpx:HTTP Request: POST https://api.openai.com/v1/chat/completions \"HTTP/1.1 200 OK\"\n",
      "INFO:httpx:HTTP Request: POST https://api.openai.com/v1/chat/completions \"HTTP/1.1 200 OK\"\n",
      "INFO:httpx:HTTP Request: POST https://api.openai.com/v1/chat/completions \"HTTP/1.1 200 OK\"\n",
      "INFO:httpx:HTTP Request: POST https://api.openai.com/v1/chat/completions \"HTTP/1.1 200 OK\"\n",
      "INFO:httpx:HTTP Request: POST https://api.openai.com/v1/chat/completions \"HTTP/1.1 200 OK\"\n",
      "INFO:httpx:HTTP Request: POST https://api.openai.com/v1/chat/completions \"HTTP/1.1 200 OK\"\n",
      "INFO:httpx:HTTP Request: POST https://api.openai.com/v1/chat/completions \"HTTP/1.1 200 OK\"\n",
      "INFO:httpx:HTTP Request: POST https://api.openai.com/v1/chat/completions \"HTTP/1.1 200 OK\"\n",
      "INFO:httpx:HTTP Request: POST https://api.openai.com/v1/chat/completions \"HTTP/1.1 200 OK\"\n",
      "INFO:httpx:HTTP Request: POST https://api.openai.com/v1/chat/completions \"HTTP/1.1 200 OK\"\n",
      "INFO:httpx:HTTP Request: POST https://api.openai.com/v1/chat/completions \"HTTP/1.1 200 OK\"\n",
      "INFO:httpx:HTTP Request: POST https://api.openai.com/v1/chat/completions \"HTTP/1.1 200 OK\"\n",
      "INFO:httpx:HTTP Request: POST https://api.openai.com/v1/chat/completions \"HTTP/1.1 200 OK\"\n",
      "INFO:httpx:HTTP Request: POST https://api.openai.com/v1/chat/completions \"HTTP/1.1 200 OK\"\n",
      "INFO:httpx:HTTP Request: POST https://api.openai.com/v1/chat/completions \"HTTP/1.1 200 OK\"\n",
      "INFO:httpx:HTTP Request: POST https://api.openai.com/v1/chat/completions \"HTTP/1.1 200 OK\"\n",
      "INFO:httpx:HTTP Request: POST https://api.openai.com/v1/chat/completions \"HTTP/1.1 200 OK\"\n",
      "INFO:httpx:HTTP Request: POST https://api.openai.com/v1/chat/completions \"HTTP/1.1 200 OK\"\n",
      "INFO:httpx:HTTP Request: POST https://api.openai.com/v1/chat/completions \"HTTP/1.1 200 OK\"\n",
      "INFO:httpx:HTTP Request: POST https://api.openai.com/v1/chat/completions \"HTTP/1.1 200 OK\"\n",
      "INFO:ranking:Article Elon Musk Unveils Ambitious Plans for Starship in Tokyo Presentation gets rating: 4.0\n",
      "INFO:ranking:Article A Quarter Million Tons to Mars: SpaceX's Ambitious Vision gets rating: 5.0\n",
      "INFO:ranking:Article Elon Musk's Breakthrough: Transforming the Landscape of Technology gets rating: 2.0\n",
      "INFO:ranking:Article Elon Musk Doubles Down on Mars Dreams and Details What's Next for SpaceX's Starship gets rating: 4.0\n",
      "INFO:ranking:Article Elon Musk Makes Surprise Appearance At Prime Video's SXSW ‘Fallout' Experience gets rating: 2.0\n",
      "INFO:ranking:Article Elon Musk Unleashes Wave of Updates on SpaceX's Starship Project gets rating: 4.0\n",
      "INFO:ranking:Article SpaceX Starship will be 500 feet tall to prepare for Mars missions, Elon Musk says (video) gets rating: 4.0\n",
      "INFO:ranking:Article To the Stars: The Making of a Multiplanetary Species with SpaceX. gets rating: 4.0\n",
      "INFO:ranking:Article Elon Musk speaks about the 'urgent' needed to extend human civilisation beyond Earth to Mars gets rating: 5.0\n",
      "INFO:ranking:Article Blast Off and Splashdown on a Private Space Mission in a SpaceX Crew Dragon Capsule gets rating: 2.0\n",
      "INFO:ranking:Article Elon Musk Reveals First Neuralink Patient Using 'Telepathy' To Play Chess In A Live Stream gets rating: 1.0\n",
      "INFO:ranking:Article NASA seeks to reign in costs of Mars Sample Return mission gets rating: 2.0\n",
      "INFO:ranking:Article NASA Mars sample return program is expensive and will take too long gets rating: 2.0\n",
      "INFO:ranking:Article Intuitive Machines Wins NASA Award To Develop Moon Buggies gets rating: 2.0\n",
      "INFO:ranking:Article Boeing's Starliner Saga: A Tale of High Hopes Dashed, SpaceX's Triumph, and the Fight for Cosmic Dominance! gets rating: 2.0\n",
      "INFO:ranking:Article SpaceX Accelerates Starship HLS Development Amidst Explosive Testing gets rating: 4.0\n",
      "INFO:ranking:Article SpaceX's Starship Test Flight: A Momentous Journey Marred by Setback gets rating: 2.0\n",
      "INFO:ranking:Article Shocking Revelation from SpaceX CEO Elon Musk: Starship to Achieve Full Reusability in 2024 gets rating: 3.0\n",
      "INFO:ranking:Article SpaceX Launches Third Test Flight Of Starship gets rating: 5.0\n",
      "INFO:ranking:Article SpaceX's giant Starship will be 500 feet tall for Mars missions, Elon Musk says (video) gets rating: 4.0\n",
      "INFO:ranking:Article Get ready: SpaceX Starship will try to fly again soon gets rating: 4.0\n",
      "INFO:ranking:Article Elon Musk: ‘Starship for Mars,’ Starlink Internet Onboard—Third Flight Highlights gets rating: 4.0\n",
      "INFO:ranking:Article Elon Musk Makes Surprise Appearance At Prime Video’s SXSW ‘Fallout’ Experience gets rating: 2.0\n",
      "INFO:ranking:Article SpaceX eyes March 14 for next Starship test launch gets rating: 5.0\n",
      "INFO:ranking:Article China on track for crewed moon landing by 2030, space official says gets rating: 3.0\n",
      "INFO:ranking:Article Charting the course: NASA's long road to the Red Planet gets rating: 2.0\n",
      "INFO:ranking:Article Despite problems, SpaceX hails progress after third test of Starship rocket gets rating: 2.0\n",
      "INFO:ranking:Article China launches world-first mission to retrieve samples from far side of moon gets rating: 1.0\n",
      "INFO:ranking:Article What to know about the biggest flying object ever made gets rating: 5.0\n",
      "INFO:ranking:Article NASA Artemis Mission Progresses with SpaceX Starship Test Flight gets rating: 3.0\n",
      "INFO:ranking:Article SpaceX making progress on Starship in-space refueling technologies gets rating: 5.0\n",
      "INFO:ranking:Article Elon Musk Says Future SpaceX Starship ‘Will Travel To Other Star Systems’ After Rocket’s Latest Test gets rating: 3.0\n",
      "INFO:ranking:Article Elon Musk just gave another Mars speech—this time the vision seems tangible gets rating: 3.0\n",
      "INFO:ranking:Article SpaceX’s ‘Affordable’ Journey to Mars gets rating: 4.0\n",
      "INFO:ranking:Article Boeing’s Starliner set for historic astronaut launch after delays for years gets rating: 1.0\n",
      "INFO:ranking:Finished ranking the articles!\n",
      "INFO:ranking:Summarizing the top 20 articles.\n",
      "INFO:summarize:Async summarizing 16 short articles\n",
      "INFO:httpx:HTTP Request: POST https://api.openai.com/v1/chat/completions \"HTTP/1.1 200 OK\"\n",
      "INFO:httpx:HTTP Request: POST https://api.openai.com/v1/chat/completions \"HTTP/1.1 200 OK\"\n",
      "INFO:httpx:HTTP Request: POST https://api.openai.com/v1/chat/completions \"HTTP/1.1 200 OK\"\n",
      "INFO:httpx:HTTP Request: POST https://api.openai.com/v1/chat/completions \"HTTP/1.1 200 OK\"\n",
      "INFO:httpx:HTTP Request: POST https://api.openai.com/v1/chat/completions \"HTTP/1.1 200 OK\"\n",
      "INFO:httpx:HTTP Request: POST https://api.openai.com/v1/chat/completions \"HTTP/1.1 200 OK\"\n",
      "INFO:httpx:HTTP Request: POST https://api.openai.com/v1/chat/completions \"HTTP/1.1 200 OK\"\n",
      "INFO:httpx:HTTP Request: POST https://api.openai.com/v1/chat/completions \"HTTP/1.1 200 OK\"\n",
      "INFO:httpx:HTTP Request: POST https://api.openai.com/v1/chat/completions \"HTTP/1.1 200 OK\"\n",
      "INFO:httpx:HTTP Request: POST https://api.openai.com/v1/chat/completions \"HTTP/1.1 200 OK\"\n",
      "INFO:httpx:HTTP Request: POST https://api.openai.com/v1/chat/completions \"HTTP/1.1 200 OK\"\n",
      "INFO:httpx:HTTP Request: POST https://api.openai.com/v1/chat/completions \"HTTP/1.1 200 OK\"\n",
      "INFO:httpx:HTTP Request: POST https://api.openai.com/v1/chat/completions \"HTTP/1.1 200 OK\"\n",
      "INFO:httpx:HTTP Request: POST https://api.openai.com/v1/chat/completions \"HTTP/1.1 200 OK\"\n",
      "INFO:httpx:HTTP Request: POST https://api.openai.com/v1/chat/completions \"HTTP/1.1 200 OK\"\n",
      "INFO:httpx:HTTP Request: POST https://api.openai.com/v1/chat/completions \"HTTP/1.1 200 OK\"\n",
      "INFO:ranking:Finished summarizing the 16 articles!\n",
      "INFO:httpx:HTTP Request: POST https://api.openai.com/v1/chat/completions \"HTTP/1.1 200 OK\"\n",
      "INFO:httpx:HTTP Request: POST https://api.openai.com/v1/chat/completions \"HTTP/1.1 200 OK\"\n",
      "INFO:model_eval:Finished 2 base reasonings generated by gpt-4-1106-preview\n",
      "INFO:httpx:HTTP Request: POST https://api.openai.com/v1/chat/completions \"HTTP/1.1 200 OK\"\n",
      "INFO:httpx:HTTP Request: POST https://api.openai.com/v1/chat/completions \"HTTP/1.1 200 OK\"\n",
      "INFO:model_eval:Finished 2 base reasonings generated by gpt-4-1106-preview\n",
      "INFO:httpx:HTTP Request: POST https://api.openai.com/v1/chat/completions \"HTTP/1.1 200 OK\"\n"
     ]
    }
   ],
   "source": [
    "res = await af.call_async(sentence=fq)"
   ]
  },
  {
   "cell_type": "code",
   "execution_count": 14,
   "id": "9e9cb521",
   "metadata": {},
   "outputs": [
    {
     "data": {
      "text/plain": [
       "0.52"
      ]
     },
     "execution_count": 14,
     "metadata": {},
     "output_type": "execute_result"
    }
   ],
   "source": [
    "res"
   ]
  }
 ],
 "metadata": {
  "kernelspec": {
   "display_name": "Python 3 (ipykernel)",
   "language": "python",
   "name": "python3"
  },
  "language_info": {
   "codemirror_mode": {
    "name": "ipython",
    "version": 3
   },
   "file_extension": ".py",
   "mimetype": "text/x-python",
   "name": "python",
   "nbconvert_exporter": "python",
   "pygments_lexer": "ipython3",
   "version": "3.11.9"
  }
 },
 "nbformat": 4,
 "nbformat_minor": 5
}
